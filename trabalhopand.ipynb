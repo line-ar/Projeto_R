{
  "nbformat": 4,
  "nbformat_minor": 0,
  "metadata": {
    "colab": {
      "name": "trabalhopand.ipynb",
      "provenance": [],
      "collapsed_sections": [],
      "include_colab_link": true
    },
    "kernelspec": {
      "name": "python3",
      "display_name": "Python 3"
    },
    "language_info": {
      "name": "python"
    }
  },
  "cells": [
    {
      "cell_type": "markdown",
      "metadata": {
        "id": "view-in-github",
        "colab_type": "text"
      },
      "source": [
        "<a href=\"https://colab.research.google.com/github/line-ar/Projeto_R/blob/main/trabalhopand.ipynb\" target=\"_parent\"><img src=\"https://colab.research.google.com/assets/colab-badge.svg\" alt=\"Open In Colab\"/></a>"
      ]
    },
    {
      "cell_type": "markdown",
      "metadata": {
        "id": "U_UhMkIJ9rC9"
      },
      "source": [
        "# **Análise dos Filmes brasileiros e estrangeiros exibidos de 2009 a 2019.**\n",
        "\n",
        "O projeto teve como objetivo analisar a participação dos filmes nacionais nos cinemas brasileiros e a sua relação com os filmes estrangeiros, bem como o acesso ao cinema pela população."
      ]
    },
    {
      "cell_type": "markdown",
      "metadata": {
        "id": "Q1HGjzVDu6It"
      },
      "source": [
        "**Upgrades**\n",
        "\n",
        "**Importações** \n"
      ]
    },
    {
      "cell_type": "code",
      "metadata": {
        "id": "eSrtufpVqk2G",
        "colab": {
          "base_uri": "https://localhost:8080/"
        },
        "outputId": "9a4bcb8f-6b67-4069-e138-6983774ce5ce"
      },
      "source": [
        "!pip install plotly --upgrade\n",
        "!pip install -U scikit-learn"
      ],
      "execution_count": null,
      "outputs": [
        {
          "output_type": "stream",
          "name": "stdout",
          "text": [
            "Requirement already satisfied: plotly in /usr/local/lib/python3.7/dist-packages (5.3.1)\n",
            "Requirement already satisfied: tenacity>=6.2.0 in /usr/local/lib/python3.7/dist-packages (from plotly) (8.0.1)\n",
            "Requirement already satisfied: six in /usr/local/lib/python3.7/dist-packages (from plotly) (1.15.0)\n",
            "Requirement already satisfied: scikit-learn in /usr/local/lib/python3.7/dist-packages (0.24.2)\n",
            "Requirement already satisfied: numpy>=1.13.3 in /usr/local/lib/python3.7/dist-packages (from scikit-learn) (1.19.5)\n",
            "Requirement already satisfied: scipy>=0.19.1 in /usr/local/lib/python3.7/dist-packages (from scikit-learn) (1.4.1)\n",
            "Requirement already satisfied: threadpoolctl>=2.0.0 in /usr/local/lib/python3.7/dist-packages (from scikit-learn) (2.2.0)\n",
            "Requirement already satisfied: joblib>=0.11 in /usr/local/lib/python3.7/dist-packages (from scikit-learn) (1.0.1)\n"
          ]
        }
      ]
    },
    {
      "cell_type": "code",
      "metadata": {
        "id": "s3ZzEQ2_WA1u"
      },
      "source": [
        "#Criação do caminho para o dataset\n",
        "path = '/content/DATA/Listagem_dos_Filmes_Brasileiros_e_Estrangeiros_Exibidos_2009_a_2019.csv'\n",
        "\n",
        "#Importações\n",
        "import pandas as pd\n",
        "import numpy as np\n",
        "import matplotlib.pyplot as plt\n",
        "import plotly.express as px \n",
        "from sklearn.model_selection import train_test_split\n",
        "from sklearn.linear_model import LinearRegression\n",
        "from sklearn.metrics import mean_absolute_error, mean_squared_error"
      ],
      "execution_count": null,
      "outputs": []
    },
    {
      "cell_type": "markdown",
      "metadata": {
        "id": "Sddo4rRzvGhg"
      },
      "source": [
        "**1 - Leitura e Exibição com Pandas**"
      ]
    },
    {
      "cell_type": "code",
      "metadata": {
        "id": "qC5WhTmTqrW_",
        "colab": {
          "base_uri": "https://localhost:8080/",
          "height": 1000
        },
        "outputId": "94d35bb7-9b5b-474c-91e6-b295691afdfa"
      },
      "source": [
        "data_filme = pd.read_csv(path)\n",
        "data_filme.head(50)"
      ],
      "execution_count": null,
      "outputs": [
        {
          "output_type": "execute_result",
          "data": {
            "text/html": [
              "<div>\n",
              "<style scoped>\n",
              "    .dataframe tbody tr th:only-of-type {\n",
              "        vertical-align: middle;\n",
              "    }\n",
              "\n",
              "    .dataframe tbody tr th {\n",
              "        vertical-align: top;\n",
              "    }\n",
              "\n",
              "    .dataframe thead th {\n",
              "        text-align: right;\n",
              "    }\n",
              "</style>\n",
              "<table border=\"1\" class=\"dataframe\">\n",
              "  <thead>\n",
              "    <tr style=\"text-align: right;\">\n",
              "      <th></th>\n",
              "      <th>Unnamed: 0</th>\n",
              "      <th>Ano de exibição</th>\n",
              "      <th>Título da obra</th>\n",
              "      <th>Gênero</th>\n",
              "      <th>País(es) produtor(es) da obra</th>\n",
              "      <th>Nacionalidade da obra</th>\n",
              "      <th>Empresa distribuidora</th>\n",
              "      <th>Origem da empresa distribuidora</th>\n",
              "      <th>Público no ano de exibição</th>\n",
              "      <th>Renda (R$) no ano de exibição</th>\n",
              "    </tr>\n",
              "  </thead>\n",
              "  <tbody>\n",
              "    <tr>\n",
              "      <th>0</th>\n",
              "      <td>0</td>\n",
              "      <td>2019</td>\n",
              "      <td>120 Batimentos Por Minuto</td>\n",
              "      <td>Ficção</td>\n",
              "      <td>França</td>\n",
              "      <td>Estrangeira</td>\n",
              "      <td>Imovision</td>\n",
              "      <td>Distribuição Nacional</td>\n",
              "      <td>10.0</td>\n",
              "      <td>70.0</td>\n",
              "    </tr>\n",
              "    <tr>\n",
              "      <th>1</th>\n",
              "      <td>1</td>\n",
              "      <td>2019</td>\n",
              "      <td>3 Faces</td>\n",
              "      <td>Ficção</td>\n",
              "      <td>Irã</td>\n",
              "      <td>Estrangeira</td>\n",
              "      <td>Imovision</td>\n",
              "      <td>Distribuição Nacional</td>\n",
              "      <td>6289.0</td>\n",
              "      <td>103805.0</td>\n",
              "    </tr>\n",
              "    <tr>\n",
              "      <th>2</th>\n",
              "      <td>2</td>\n",
              "      <td>2019</td>\n",
              "      <td>45 Dias Sem Você</td>\n",
              "      <td>Ficção</td>\n",
              "      <td>Brasil</td>\n",
              "      <td>Brasileira</td>\n",
              "      <td>O2 Play</td>\n",
              "      <td>Distribuição Nacional</td>\n",
              "      <td>3303.0</td>\n",
              "      <td>31295.0</td>\n",
              "    </tr>\n",
              "    <tr>\n",
              "      <th>3</th>\n",
              "      <td>3</td>\n",
              "      <td>2019</td>\n",
              "      <td>A 100 Passos De Um Sonho</td>\n",
              "      <td>Ficção</td>\n",
              "      <td>Estados Unidos</td>\n",
              "      <td>Estrangeira</td>\n",
              "      <td>Disney</td>\n",
              "      <td>Distribuição Internacional</td>\n",
              "      <td>69.0</td>\n",
              "      <td>4186.0</td>\n",
              "    </tr>\n",
              "    <tr>\n",
              "      <th>4</th>\n",
              "      <td>4</td>\n",
              "      <td>2019</td>\n",
              "      <td>A Abelhinha Maya - O Filme</td>\n",
              "      <td>Animação</td>\n",
              "      <td>Alemanha</td>\n",
              "      <td>Estrangeira</td>\n",
              "      <td>Playarte</td>\n",
              "      <td>Distribuição Nacional</td>\n",
              "      <td>402.0</td>\n",
              "      <td>3531.0</td>\n",
              "    </tr>\n",
              "    <tr>\n",
              "      <th>5</th>\n",
              "      <td>5</td>\n",
              "      <td>2019</td>\n",
              "      <td>A Batalha Das Correntes</td>\n",
              "      <td>Ficção</td>\n",
              "      <td>Estados Unidos</td>\n",
              "      <td>Estrangeira</td>\n",
              "      <td>Diamond Films</td>\n",
              "      <td>Distribuição Nacional</td>\n",
              "      <td>19579.0</td>\n",
              "      <td>425304.0</td>\n",
              "    </tr>\n",
              "    <tr>\n",
              "      <th>6</th>\n",
              "      <td>6</td>\n",
              "      <td>2019</td>\n",
              "      <td>A Bela da Tarde</td>\n",
              "      <td>Ficção</td>\n",
              "      <td>França, Itália</td>\n",
              "      <td>Estrangeira</td>\n",
              "      <td>Zeta Filmes</td>\n",
              "      <td>Distribuição Nacional</td>\n",
              "      <td>14.0</td>\n",
              "      <td>253.0</td>\n",
              "    </tr>\n",
              "    <tr>\n",
              "      <th>7</th>\n",
              "      <td>7</td>\n",
              "      <td>2019</td>\n",
              "      <td>A Cabeça De Gumercindo Saraiva</td>\n",
              "      <td>Ficção</td>\n",
              "      <td>Brasil</td>\n",
              "      <td>Brasileira</td>\n",
              "      <td>Elo Company</td>\n",
              "      <td>Distribuição Nacional</td>\n",
              "      <td>195.0</td>\n",
              "      <td>1830.0</td>\n",
              "    </tr>\n",
              "    <tr>\n",
              "      <th>8</th>\n",
              "      <td>8</td>\n",
              "      <td>2019</td>\n",
              "      <td>A Caminho De Casa</td>\n",
              "      <td>Ficção</td>\n",
              "      <td>Estados Unidos</td>\n",
              "      <td>Estrangeira</td>\n",
              "      <td>Sony</td>\n",
              "      <td>Distribuição Internacional</td>\n",
              "      <td>652641.0</td>\n",
              "      <td>9445705.0</td>\n",
              "    </tr>\n",
              "    <tr>\n",
              "      <th>9</th>\n",
              "      <td>9</td>\n",
              "      <td>2019</td>\n",
              "      <td>A Casa De Veraneio</td>\n",
              "      <td>Ficção</td>\n",
              "      <td>França, Itália</td>\n",
              "      <td>Estrangeira</td>\n",
              "      <td>Imovision</td>\n",
              "      <td>Distribuição Nacional</td>\n",
              "      <td>8001.0</td>\n",
              "      <td>137759.0</td>\n",
              "    </tr>\n",
              "    <tr>\n",
              "      <th>10</th>\n",
              "      <td>10</td>\n",
              "      <td>2019</td>\n",
              "      <td>A Casa Que Jack Construiu</td>\n",
              "      <td>Ficção</td>\n",
              "      <td>Alemanha, Dinamarca, França, Suécia</td>\n",
              "      <td>Estrangeira</td>\n",
              "      <td>Califórnia</td>\n",
              "      <td>Distribuição Nacional</td>\n",
              "      <td>530.0</td>\n",
              "      <td>4466.0</td>\n",
              "    </tr>\n",
              "    <tr>\n",
              "      <th>11</th>\n",
              "      <td>11</td>\n",
              "      <td>2019</td>\n",
              "      <td>A Cidade Dos Piratas</td>\n",
              "      <td>Animação</td>\n",
              "      <td>Brasil</td>\n",
              "      <td>Brasileira</td>\n",
              "      <td>Lança Filmes</td>\n",
              "      <td>Distribuição Nacional</td>\n",
              "      <td>2364.0</td>\n",
              "      <td>32055.0</td>\n",
              "    </tr>\n",
              "    <tr>\n",
              "      <th>12</th>\n",
              "      <td>12</td>\n",
              "      <td>2019</td>\n",
              "      <td>A Cinco Passos De Você</td>\n",
              "      <td>Ficção</td>\n",
              "      <td>Estados Unidos</td>\n",
              "      <td>Estrangeira</td>\n",
              "      <td>Paris</td>\n",
              "      <td>Distribuição Nacional</td>\n",
              "      <td>1346982.0</td>\n",
              "      <td>19364671.0</td>\n",
              "    </tr>\n",
              "    <tr>\n",
              "      <th>13</th>\n",
              "      <td>13</td>\n",
              "      <td>2019</td>\n",
              "      <td>A Costureira De Sonhos</td>\n",
              "      <td>Ficção</td>\n",
              "      <td>França, Índia</td>\n",
              "      <td>Estrangeira</td>\n",
              "      <td>Imovision</td>\n",
              "      <td>Distribuição Nacional</td>\n",
              "      <td>21464.0</td>\n",
              "      <td>360398.0</td>\n",
              "    </tr>\n",
              "    <tr>\n",
              "      <th>14</th>\n",
              "      <td>14</td>\n",
              "      <td>2019</td>\n",
              "      <td>A Câmera De Claire</td>\n",
              "      <td>Ficção</td>\n",
              "      <td>Coréia do Sul, França</td>\n",
              "      <td>Estrangeira</td>\n",
              "      <td>Pandora Filmes</td>\n",
              "      <td>Distribuição Nacional</td>\n",
              "      <td>72.0</td>\n",
              "      <td>456.0</td>\n",
              "    </tr>\n",
              "    <tr>\n",
              "      <th>15</th>\n",
              "      <td>15</td>\n",
              "      <td>2019</td>\n",
              "      <td>A Espiã Vermelha</td>\n",
              "      <td>Ficção</td>\n",
              "      <td>Inglaterra</td>\n",
              "      <td>Estrangeira</td>\n",
              "      <td>Califórnia</td>\n",
              "      <td>Distribuição Nacional</td>\n",
              "      <td>35593.0</td>\n",
              "      <td>676079.0</td>\n",
              "    </tr>\n",
              "    <tr>\n",
              "      <th>16</th>\n",
              "      <td>16</td>\n",
              "      <td>2019</td>\n",
              "      <td>A Esposa</td>\n",
              "      <td>Ficção</td>\n",
              "      <td>Estados Unidos, Reino Unido, Suécia</td>\n",
              "      <td>Estrangeira</td>\n",
              "      <td>Alpha Filmes</td>\n",
              "      <td>Distribuição Nacional</td>\n",
              "      <td>170609.0</td>\n",
              "      <td>3056791.0</td>\n",
              "    </tr>\n",
              "    <tr>\n",
              "      <th>17</th>\n",
              "      <td>17</td>\n",
              "      <td>2019</td>\n",
              "      <td>A Excêntrica Família De Gaspard</td>\n",
              "      <td>Ficção</td>\n",
              "      <td>França</td>\n",
              "      <td>Estrangeira</td>\n",
              "      <td>Bonfilm</td>\n",
              "      <td>Distribuição Nacional</td>\n",
              "      <td>39.0</td>\n",
              "      <td>344.0</td>\n",
              "    </tr>\n",
              "    <tr>\n",
              "      <th>18</th>\n",
              "      <td>18</td>\n",
              "      <td>2019</td>\n",
              "      <td>A Família Addams</td>\n",
              "      <td>Animação</td>\n",
              "      <td>Canadá, Estados Unidos, Inglaterra</td>\n",
              "      <td>Estrangeira</td>\n",
              "      <td>Universal</td>\n",
              "      <td>Distribuição Internacional</td>\n",
              "      <td>1622344.0</td>\n",
              "      <td>24330901.0</td>\n",
              "    </tr>\n",
              "    <tr>\n",
              "      <th>19</th>\n",
              "      <td>19</td>\n",
              "      <td>2019</td>\n",
              "      <td>A Família Submersa</td>\n",
              "      <td>Ficção</td>\n",
              "      <td>Brasil, Argentina</td>\n",
              "      <td>Brasileira</td>\n",
              "      <td>Esfera Produções</td>\n",
              "      <td>Distribuição Nacional</td>\n",
              "      <td>2538.0</td>\n",
              "      <td>38427.0</td>\n",
              "    </tr>\n",
              "    <tr>\n",
              "      <th>20</th>\n",
              "      <td>20</td>\n",
              "      <td>2019</td>\n",
              "      <td>A Favorita</td>\n",
              "      <td>Ficção</td>\n",
              "      <td>Estados Unidos</td>\n",
              "      <td>Estrangeira</td>\n",
              "      <td>Fox</td>\n",
              "      <td>Distribuição Internacional</td>\n",
              "      <td>254709.0</td>\n",
              "      <td>4988357.0</td>\n",
              "    </tr>\n",
              "    <tr>\n",
              "      <th>21</th>\n",
              "      <td>21</td>\n",
              "      <td>2019</td>\n",
              "      <td>A Fera Na Selva</td>\n",
              "      <td>Ficção</td>\n",
              "      <td>Brasil</td>\n",
              "      <td>Brasileira</td>\n",
              "      <td>O2 Play</td>\n",
              "      <td>Distribuição Nacional</td>\n",
              "      <td>3106.0</td>\n",
              "      <td>41232.0</td>\n",
              "    </tr>\n",
              "    <tr>\n",
              "      <th>22</th>\n",
              "      <td>22</td>\n",
              "      <td>2019</td>\n",
              "      <td>A Filosofia na Alcova</td>\n",
              "      <td>Ficção</td>\n",
              "      <td>Brasil</td>\n",
              "      <td>Brasileira</td>\n",
              "      <td>Espaço dos Satyros</td>\n",
              "      <td>Distribuição Nacional</td>\n",
              "      <td>150.0</td>\n",
              "      <td>2493.0</td>\n",
              "    </tr>\n",
              "    <tr>\n",
              "      <th>23</th>\n",
              "      <td>23</td>\n",
              "      <td>2019</td>\n",
              "      <td>A Forma Da Água</td>\n",
              "      <td>Ficção</td>\n",
              "      <td>Estados Unidos</td>\n",
              "      <td>Estrangeira</td>\n",
              "      <td>Disney</td>\n",
              "      <td>Distribuição Internacional</td>\n",
              "      <td>13.0</td>\n",
              "      <td>26.0</td>\n",
              "    </tr>\n",
              "    <tr>\n",
              "      <th>24</th>\n",
              "      <td>24</td>\n",
              "      <td>2019</td>\n",
              "      <td>A Fábrica De Nada</td>\n",
              "      <td>Ficção</td>\n",
              "      <td>Portugal</td>\n",
              "      <td>Estrangeira</td>\n",
              "      <td>Imovision</td>\n",
              "      <td>Distribuição Nacional</td>\n",
              "      <td>6.0</td>\n",
              "      <td>21.0</td>\n",
              "    </tr>\n",
              "    <tr>\n",
              "      <th>25</th>\n",
              "      <td>25</td>\n",
              "      <td>2019</td>\n",
              "      <td>A Garota Na Névoa</td>\n",
              "      <td>Ficção</td>\n",
              "      <td>Itália</td>\n",
              "      <td>Estrangeira</td>\n",
              "      <td>A2 Filmes</td>\n",
              "      <td>Distribuição Nacional</td>\n",
              "      <td>215.0</td>\n",
              "      <td>1924.0</td>\n",
              "    </tr>\n",
              "    <tr>\n",
              "      <th>26</th>\n",
              "      <td>26</td>\n",
              "      <td>2019</td>\n",
              "      <td>A Grande  Dama  Do Cinema</td>\n",
              "      <td>Ficção</td>\n",
              "      <td>Argentina</td>\n",
              "      <td>Estrangeira</td>\n",
              "      <td>Fênix Filmes</td>\n",
              "      <td>Distribuição Nacional</td>\n",
              "      <td>24992.0</td>\n",
              "      <td>426096.0</td>\n",
              "    </tr>\n",
              "    <tr>\n",
              "      <th>27</th>\n",
              "      <td>27</td>\n",
              "      <td>2019</td>\n",
              "      <td>A Grande Mentira</td>\n",
              "      <td>Ficção</td>\n",
              "      <td>Estados Unidos</td>\n",
              "      <td>Estrangeira</td>\n",
              "      <td>Warner</td>\n",
              "      <td>Distribuição Internacional</td>\n",
              "      <td>39508.0</td>\n",
              "      <td>844595.0</td>\n",
              "    </tr>\n",
              "    <tr>\n",
              "      <th>28</th>\n",
              "      <td>28</td>\n",
              "      <td>2019</td>\n",
              "      <td>A História De Um Sonho</td>\n",
              "      <td>Documentário</td>\n",
              "      <td>Brasil</td>\n",
              "      <td>Brasileira</td>\n",
              "      <td>Elo Company</td>\n",
              "      <td>Distribuição Nacional</td>\n",
              "      <td>4910.0</td>\n",
              "      <td>35242.0</td>\n",
              "    </tr>\n",
              "    <tr>\n",
              "      <th>29</th>\n",
              "      <td>29</td>\n",
              "      <td>2019</td>\n",
              "      <td>A Irmandade</td>\n",
              "      <td>Documentário</td>\n",
              "      <td>Brasil</td>\n",
              "      <td>Brasileira</td>\n",
              "      <td>Lume Produções Cinematográficas</td>\n",
              "      <td>Distribuição Nacional</td>\n",
              "      <td>684.0</td>\n",
              "      <td>6611.0</td>\n",
              "    </tr>\n",
              "    <tr>\n",
              "      <th>30</th>\n",
              "      <td>30</td>\n",
              "      <td>2019</td>\n",
              "      <td>A Juíza</td>\n",
              "      <td>Documentário</td>\n",
              "      <td>Estados Unidos</td>\n",
              "      <td>Estrangeira</td>\n",
              "      <td>Flow Filmes</td>\n",
              "      <td>Distribuição Nacional</td>\n",
              "      <td>6287.0</td>\n",
              "      <td>78834.0</td>\n",
              "    </tr>\n",
              "    <tr>\n",
              "      <th>31</th>\n",
              "      <td>31</td>\n",
              "      <td>2019</td>\n",
              "      <td>A Lenda De Golem</td>\n",
              "      <td>Ficção</td>\n",
              "      <td>Israel</td>\n",
              "      <td>Estrangeira</td>\n",
              "      <td>Playarte</td>\n",
              "      <td>Distribuição Nacional</td>\n",
              "      <td>8077.0</td>\n",
              "      <td>121734.0</td>\n",
              "    </tr>\n",
              "    <tr>\n",
              "      <th>32</th>\n",
              "      <td>32</td>\n",
              "      <td>2019</td>\n",
              "      <td>A Luta Do Século</td>\n",
              "      <td>Documentário</td>\n",
              "      <td>Brasil</td>\n",
              "      <td>Brasileira</td>\n",
              "      <td>Vitrine Filmes</td>\n",
              "      <td>Distribuição Nacional</td>\n",
              "      <td>25.0</td>\n",
              "      <td>56.0</td>\n",
              "    </tr>\n",
              "    <tr>\n",
              "      <th>33</th>\n",
              "      <td>33</td>\n",
              "      <td>2019</td>\n",
              "      <td>A Luz No Fim Do Mundo</td>\n",
              "      <td>Ficção</td>\n",
              "      <td>Estados Unidos</td>\n",
              "      <td>Estrangeira</td>\n",
              "      <td>Imagem</td>\n",
              "      <td>Distribuição Nacional</td>\n",
              "      <td>7335.0</td>\n",
              "      <td>154823.0</td>\n",
              "    </tr>\n",
              "    <tr>\n",
              "      <th>34</th>\n",
              "      <td>34</td>\n",
              "      <td>2019</td>\n",
              "      <td>A Maldição Da Chorona</td>\n",
              "      <td>Ficção</td>\n",
              "      <td>Estados Unidos</td>\n",
              "      <td>Estrangeira</td>\n",
              "      <td>Warner</td>\n",
              "      <td>Distribuição Internacional</td>\n",
              "      <td>361053.0</td>\n",
              "      <td>5617449.0</td>\n",
              "    </tr>\n",
              "    <tr>\n",
              "      <th>35</th>\n",
              "      <td>35</td>\n",
              "      <td>2019</td>\n",
              "      <td>A Maldição Da Freira</td>\n",
              "      <td>Ficção</td>\n",
              "      <td>Reino Unido</td>\n",
              "      <td>Estrangeira</td>\n",
              "      <td>Playarte</td>\n",
              "      <td>Distribuição Nacional</td>\n",
              "      <td>148557.0</td>\n",
              "      <td>2285835.0</td>\n",
              "    </tr>\n",
              "    <tr>\n",
              "      <th>36</th>\n",
              "      <td>36</td>\n",
              "      <td>2019</td>\n",
              "      <td>A Maratona De Brittany</td>\n",
              "      <td>Ficção</td>\n",
              "      <td>Estados Unidos</td>\n",
              "      <td>Estrangeira</td>\n",
              "      <td>Diamond Films</td>\n",
              "      <td>Distribuição Nacional</td>\n",
              "      <td>2380.0</td>\n",
              "      <td>47201.0</td>\n",
              "    </tr>\n",
              "    <tr>\n",
              "      <th>37</th>\n",
              "      <td>37</td>\n",
              "      <td>2019</td>\n",
              "      <td>A Menina E O Leão</td>\n",
              "      <td>Ficção</td>\n",
              "      <td>África do Sul, Alemanha, França</td>\n",
              "      <td>Estrangeira</td>\n",
              "      <td>Paris</td>\n",
              "      <td>Distribuição Nacional</td>\n",
              "      <td>34883.0</td>\n",
              "      <td>572953.0</td>\n",
              "    </tr>\n",
              "    <tr>\n",
              "      <th>38</th>\n",
              "      <td>38</td>\n",
              "      <td>2019</td>\n",
              "      <td>A Misteriosa Morte De Pérola</td>\n",
              "      <td>Ficção</td>\n",
              "      <td>Brasil</td>\n",
              "      <td>Brasileira</td>\n",
              "      <td>Embaúba Filmes</td>\n",
              "      <td>Distribuição Nacional</td>\n",
              "      <td>10.0</td>\n",
              "      <td>56.0</td>\n",
              "    </tr>\n",
              "    <tr>\n",
              "      <th>39</th>\n",
              "      <td>39</td>\n",
              "      <td>2019</td>\n",
              "      <td>A Morte Te Dá Parabéns 2</td>\n",
              "      <td>Ficção</td>\n",
              "      <td>Estados Unidos</td>\n",
              "      <td>Estrangeira</td>\n",
              "      <td>Universal</td>\n",
              "      <td>Distribuição Internacional</td>\n",
              "      <td>595463.0</td>\n",
              "      <td>8504116.0</td>\n",
              "    </tr>\n",
              "    <tr>\n",
              "      <th>40</th>\n",
              "      <td>40</td>\n",
              "      <td>2019</td>\n",
              "      <td>A Mula</td>\n",
              "      <td>Ficção</td>\n",
              "      <td>Estados Unidos</td>\n",
              "      <td>Estrangeira</td>\n",
              "      <td>Warner</td>\n",
              "      <td>Distribuição Internacional</td>\n",
              "      <td>177958.0</td>\n",
              "      <td>3957700.0</td>\n",
              "    </tr>\n",
              "    <tr>\n",
              "      <th>41</th>\n",
              "      <td>41</td>\n",
              "      <td>2019</td>\n",
              "      <td>A Mulher Do Meu Marido</td>\n",
              "      <td>Ficção</td>\n",
              "      <td>Argentina, Brasil</td>\n",
              "      <td>Brasileira</td>\n",
              "      <td>Bretz Filmes</td>\n",
              "      <td>Distribuição Nacional</td>\n",
              "      <td>3018.0</td>\n",
              "      <td>50248.0</td>\n",
              "    </tr>\n",
              "    <tr>\n",
              "      <th>42</th>\n",
              "      <td>42</td>\n",
              "      <td>2019</td>\n",
              "      <td>A Música Da Minha Vida</td>\n",
              "      <td>Ficção</td>\n",
              "      <td>Reino Unido</td>\n",
              "      <td>Estrangeira</td>\n",
              "      <td>Warner</td>\n",
              "      <td>Distribuição Internacional</td>\n",
              "      <td>17464.0</td>\n",
              "      <td>380002.0</td>\n",
              "    </tr>\n",
              "    <tr>\n",
              "      <th>43</th>\n",
              "      <td>43</td>\n",
              "      <td>2019</td>\n",
              "      <td>A Música Do Tempo - Do Sonho Do Império Ao Imp...</td>\n",
              "      <td>Documentário</td>\n",
              "      <td>Brasil</td>\n",
              "      <td>Brasileira</td>\n",
              "      <td>Espaço Filmes</td>\n",
              "      <td>Distribuição Nacional</td>\n",
              "      <td>317.0</td>\n",
              "      <td>5222.0</td>\n",
              "    </tr>\n",
              "    <tr>\n",
              "      <th>44</th>\n",
              "      <td>44</td>\n",
              "      <td>2019</td>\n",
              "      <td>A Noite Amarela</td>\n",
              "      <td>Ficção</td>\n",
              "      <td>Brasil</td>\n",
              "      <td>Brasileira</td>\n",
              "      <td>Vitrine Filmes</td>\n",
              "      <td>Distribuição Nacional</td>\n",
              "      <td>1798.0</td>\n",
              "      <td>12920.0</td>\n",
              "    </tr>\n",
              "    <tr>\n",
              "      <th>45</th>\n",
              "      <td>45</td>\n",
              "      <td>2019</td>\n",
              "      <td>A Noite De 12 Anos</td>\n",
              "      <td>Ficção</td>\n",
              "      <td>Argentina, Espanha, Uruguai</td>\n",
              "      <td>Estrangeira</td>\n",
              "      <td>Vitrine Filmes</td>\n",
              "      <td>Distribuição Nacional</td>\n",
              "      <td>1426.0</td>\n",
              "      <td>23535.0</td>\n",
              "    </tr>\n",
              "    <tr>\n",
              "      <th>46</th>\n",
              "      <td>46</td>\n",
              "      <td>2019</td>\n",
              "      <td>A Nossa Espera</td>\n",
              "      <td>Ficção</td>\n",
              "      <td>Bélgica, França</td>\n",
              "      <td>Estrangeira</td>\n",
              "      <td>Vitrine Filmes</td>\n",
              "      <td>Distribuição Nacional</td>\n",
              "      <td>10020.0</td>\n",
              "      <td>155360.0</td>\n",
              "    </tr>\n",
              "    <tr>\n",
              "      <th>47</th>\n",
              "      <td>47</td>\n",
              "      <td>2019</td>\n",
              "      <td>A Número Um</td>\n",
              "      <td>Ficção</td>\n",
              "      <td>França</td>\n",
              "      <td>Estrangeira</td>\n",
              "      <td>Imovision</td>\n",
              "      <td>Distribuição Nacional</td>\n",
              "      <td>6.0</td>\n",
              "      <td>54.0</td>\n",
              "    </tr>\n",
              "    <tr>\n",
              "      <th>48</th>\n",
              "      <td>48</td>\n",
              "      <td>2019</td>\n",
              "      <td>A Odisseia Dos Tontos</td>\n",
              "      <td>Ficção</td>\n",
              "      <td>Argentina, Espanha</td>\n",
              "      <td>Estrangeira</td>\n",
              "      <td>Warner</td>\n",
              "      <td>Distribuição Internacional</td>\n",
              "      <td>124934.0</td>\n",
              "      <td>2420806.0</td>\n",
              "    </tr>\n",
              "    <tr>\n",
              "      <th>49</th>\n",
              "      <td>49</td>\n",
              "      <td>2019</td>\n",
              "      <td>A Outra Mulher</td>\n",
              "      <td>Ficção</td>\n",
              "      <td>França</td>\n",
              "      <td>Estrangeira</td>\n",
              "      <td>Imovision</td>\n",
              "      <td>Distribuição Nacional</td>\n",
              "      <td>9.0</td>\n",
              "      <td>63.0</td>\n",
              "    </tr>\n",
              "  </tbody>\n",
              "</table>\n",
              "</div>"
            ],
            "text/plain": [
              "    Unnamed: 0  ...  Renda (R$) no ano de exibição\n",
              "0            0  ...                           70.0\n",
              "1            1  ...                       103805.0\n",
              "2            2  ...                        31295.0\n",
              "3            3  ...                         4186.0\n",
              "4            4  ...                         3531.0\n",
              "5            5  ...                       425304.0\n",
              "6            6  ...                          253.0\n",
              "7            7  ...                         1830.0\n",
              "8            8  ...                      9445705.0\n",
              "9            9  ...                       137759.0\n",
              "10          10  ...                         4466.0\n",
              "11          11  ...                        32055.0\n",
              "12          12  ...                     19364671.0\n",
              "13          13  ...                       360398.0\n",
              "14          14  ...                          456.0\n",
              "15          15  ...                       676079.0\n",
              "16          16  ...                      3056791.0\n",
              "17          17  ...                          344.0\n",
              "18          18  ...                     24330901.0\n",
              "19          19  ...                        38427.0\n",
              "20          20  ...                      4988357.0\n",
              "21          21  ...                        41232.0\n",
              "22          22  ...                         2493.0\n",
              "23          23  ...                           26.0\n",
              "24          24  ...                           21.0\n",
              "25          25  ...                         1924.0\n",
              "26          26  ...                       426096.0\n",
              "27          27  ...                       844595.0\n",
              "28          28  ...                        35242.0\n",
              "29          29  ...                         6611.0\n",
              "30          30  ...                        78834.0\n",
              "31          31  ...                       121734.0\n",
              "32          32  ...                           56.0\n",
              "33          33  ...                       154823.0\n",
              "34          34  ...                      5617449.0\n",
              "35          35  ...                      2285835.0\n",
              "36          36  ...                        47201.0\n",
              "37          37  ...                       572953.0\n",
              "38          38  ...                           56.0\n",
              "39          39  ...                      8504116.0\n",
              "40          40  ...                      3957700.0\n",
              "41          41  ...                        50248.0\n",
              "42          42  ...                       380002.0\n",
              "43          43  ...                         5222.0\n",
              "44          44  ...                        12920.0\n",
              "45          45  ...                        23535.0\n",
              "46          46  ...                       155360.0\n",
              "47          47  ...                           54.0\n",
              "48          48  ...                      2420806.0\n",
              "49          49  ...                           63.0\n",
              "\n",
              "[50 rows x 10 columns]"
            ]
          },
          "metadata": {},
          "execution_count": 40
        }
      ]
    },
    {
      "cell_type": "code",
      "metadata": {
        "colab": {
          "base_uri": "https://localhost:8080/",
          "height": 297
        },
        "id": "lryTAC5C0NVn",
        "outputId": "11cce034-74c4-4d6c-ac8b-a71c6e9064ad"
      },
      "source": [
        "data_filme.describe()"
      ],
      "execution_count": null,
      "outputs": [
        {
          "output_type": "execute_result",
          "data": {
            "text/html": [
              "<div>\n",
              "<style scoped>\n",
              "    .dataframe tbody tr th:only-of-type {\n",
              "        vertical-align: middle;\n",
              "    }\n",
              "\n",
              "    .dataframe tbody tr th {\n",
              "        vertical-align: top;\n",
              "    }\n",
              "\n",
              "    .dataframe thead th {\n",
              "        text-align: right;\n",
              "    }\n",
              "</style>\n",
              "<table border=\"1\" class=\"dataframe\">\n",
              "  <thead>\n",
              "    <tr style=\"text-align: right;\">\n",
              "      <th></th>\n",
              "      <th>Unnamed: 0</th>\n",
              "      <th>Ano de exibição</th>\n",
              "      <th>Público no ano de exibição</th>\n",
              "      <th>Renda (R$) no ano de exibição</th>\n",
              "    </tr>\n",
              "  </thead>\n",
              "  <tbody>\n",
              "    <tr>\n",
              "      <th>count</th>\n",
              "      <td>7052.000000</td>\n",
              "      <td>7052.000000</td>\n",
              "      <td>7.052000e+03</td>\n",
              "      <td>7.052000e+03</td>\n",
              "    </tr>\n",
              "    <tr>\n",
              "      <th>mean</th>\n",
              "      <td>3536.842881</td>\n",
              "      <td>2014.344867</td>\n",
              "      <td>2.438021e+05</td>\n",
              "      <td>3.105320e+06</td>\n",
              "    </tr>\n",
              "    <tr>\n",
              "      <th>std</th>\n",
              "      <td>2042.750038</td>\n",
              "      <td>3.104598</td>\n",
              "      <td>9.412036e+05</td>\n",
              "      <td>1.282943e+07</td>\n",
              "    </tr>\n",
              "    <tr>\n",
              "      <th>min</th>\n",
              "      <td>0.000000</td>\n",
              "      <td>2009.000000</td>\n",
              "      <td>0.000000e+00</td>\n",
              "      <td>0.000000e+00</td>\n",
              "    </tr>\n",
              "    <tr>\n",
              "      <th>25%</th>\n",
              "      <td>1768.750000</td>\n",
              "      <td>2012.000000</td>\n",
              "      <td>3.470000e+02</td>\n",
              "      <td>3.021625e+03</td>\n",
              "    </tr>\n",
              "    <tr>\n",
              "      <th>50%</th>\n",
              "      <td>3531.500000</td>\n",
              "      <td>2015.000000</td>\n",
              "      <td>3.947500e+03</td>\n",
              "      <td>4.297715e+04</td>\n",
              "    </tr>\n",
              "    <tr>\n",
              "      <th>75%</th>\n",
              "      <td>5308.250000</td>\n",
              "      <td>2017.000000</td>\n",
              "      <td>4.491825e+04</td>\n",
              "      <td>5.779531e+05</td>\n",
              "    </tr>\n",
              "    <tr>\n",
              "      <th>max</th>\n",
              "      <td>7080.000000</td>\n",
              "      <td>2019.000000</td>\n",
              "      <td>1.965647e+07</td>\n",
              "      <td>3.386249e+08</td>\n",
              "    </tr>\n",
              "  </tbody>\n",
              "</table>\n",
              "</div>"
            ],
            "text/plain": [
              "        Unnamed: 0  ...  Renda (R$) no ano de exibição\n",
              "count  7052.000000  ...                   7.052000e+03\n",
              "mean   3536.842881  ...                   3.105320e+06\n",
              "std    2042.750038  ...                   1.282943e+07\n",
              "min       0.000000  ...                   0.000000e+00\n",
              "25%    1768.750000  ...                   3.021625e+03\n",
              "50%    3531.500000  ...                   4.297715e+04\n",
              "75%    5308.250000  ...                   5.779531e+05\n",
              "max    7080.000000  ...                   3.386249e+08\n",
              "\n",
              "[8 rows x 4 columns]"
            ]
          },
          "metadata": {},
          "execution_count": 41
        }
      ]
    },
    {
      "cell_type": "code",
      "metadata": {
        "colab": {
          "base_uri": "https://localhost:8080/"
        },
        "id": "6gOhyh7DFOl4",
        "outputId": "7c42a3b6-c2f2-4fad-878d-f67626a2809b"
      },
      "source": [
        "print(data_filme.info())"
      ],
      "execution_count": null,
      "outputs": [
        {
          "output_type": "stream",
          "name": "stdout",
          "text": [
            "<class 'pandas.core.frame.DataFrame'>\n",
            "RangeIndex: 7052 entries, 0 to 7051\n",
            "Data columns (total 10 columns):\n",
            " #   Column                           Non-Null Count  Dtype  \n",
            "---  ------                           --------------  -----  \n",
            " 0   Unnamed: 0                       7052 non-null   int64  \n",
            " 1   Ano de exibição                  7052 non-null   int64  \n",
            " 2   Título da obra                   7052 non-null   object \n",
            " 3   Gênero                           7052 non-null   object \n",
            " 4   País(es) produtor(es) da obra    7052 non-null   object \n",
            " 5   Nacionalidade da obra            7052 non-null   object \n",
            " 6   Empresa distribuidora            7052 non-null   object \n",
            " 7   Origem da empresa distribuidora  7052 non-null   object \n",
            " 8   Público no ano de exibição       7052 non-null   float64\n",
            " 9   Renda (R$) no ano de exibição    7052 non-null   float64\n",
            "dtypes: float64(2), int64(2), object(6)\n",
            "memory usage: 551.1+ KB\n",
            "None\n"
          ]
        }
      ]
    },
    {
      "cell_type": "code",
      "metadata": {
        "colab": {
          "base_uri": "https://localhost:8080/"
        },
        "id": "gRKoBKkKk3uE",
        "outputId": "c80184a5-8e9d-48c0-b7c1-8f1c5e5f4332"
      },
      "source": [
        "print(data_filme.nunique())\n",
        "print(data_filme.head())"
      ],
      "execution_count": null,
      "outputs": [
        {
          "output_type": "stream",
          "name": "stdout",
          "text": [
            "Unnamed: 0                         7052\n",
            "Ano de exibição                      11\n",
            "Título da obra                     4960\n",
            "Gênero                                4\n",
            "País(es) produtor(es) da obra       466\n",
            "Nacionalidade da obra                 2\n",
            "Empresa distribuidora               362\n",
            "Origem da empresa distribuidora       3\n",
            "Público no ano de exibição         5074\n",
            "Renda (R$) no ano de exibição      6544\n",
            "dtype: int64\n",
            "   Unnamed: 0  ...  Renda (R$) no ano de exibição\n",
            "0           0  ...                           70.0\n",
            "1           1  ...                       103805.0\n",
            "2           2  ...                        31295.0\n",
            "3           3  ...                         4186.0\n",
            "4           4  ...                         3531.0\n",
            "\n",
            "[5 rows x 10 columns]\n"
          ]
        }
      ]
    },
    {
      "cell_type": "code",
      "metadata": {
        "colab": {
          "base_uri": "https://localhost:8080/"
        },
        "id": "V7DEYxUrF5H4",
        "outputId": "9c0b94b9-77c8-4b8d-eaa1-cd3fb0ac6b21"
      },
      "source": [
        "print(f\"De {data_filme['Título da obra'].nunique()} obras, houve uma renda total de {data_filme['Renda (R$) no ano de exibição'].sum()} e uma exibição de {data_filme['Público no ano de exibição'].sum()}\")\n",
        "generos = data_filme['Gênero'].drop_duplicates()\n",
        "print(f\"Gêneros: {generos[0]}, {generos[4]}, {generos[28]} e {generos[1512]}\")\n",
        "\n"
      ],
      "execution_count": null,
      "outputs": [
        {
          "output_type": "stream",
          "name": "stdout",
          "text": [
            "De 4960 obras, houve uma renda total de 21898719589.8 e uma exibição de 1719292644.0\n",
            "Gêneros: Ficção, Animação, Documentário e Videomusical\n"
          ]
        }
      ]
    },
    {
      "cell_type": "markdown",
      "metadata": {
        "id": "0c-55I1CvRTT"
      },
      "source": [
        "**2 - Tratamento dos dados**"
      ]
    },
    {
      "cell_type": "code",
      "metadata": {
        "id": "ljUAOn2ildhi"
      },
      "source": [
        "data_filme.drop('Unnamed: 0', axis=1, inplace=True)"
      ],
      "execution_count": null,
      "outputs": []
    },
    {
      "cell_type": "code",
      "metadata": {
        "colab": {
          "base_uri": "https://localhost:8080/"
        },
        "id": "Ma8QC834s8x4",
        "outputId": "cd85b4c2-4dd1-4382-fa01-391166d9117d"
      },
      "source": [
        "data_filme.info()"
      ],
      "execution_count": null,
      "outputs": [
        {
          "output_type": "stream",
          "name": "stdout",
          "text": [
            "<class 'pandas.core.frame.DataFrame'>\n",
            "RangeIndex: 7052 entries, 0 to 7051\n",
            "Data columns (total 9 columns):\n",
            " #   Column                           Non-Null Count  Dtype  \n",
            "---  ------                           --------------  -----  \n",
            " 0   Ano de exibição                  7052 non-null   int64  \n",
            " 1   Título da obra                   7052 non-null   object \n",
            " 2   Gênero                           7052 non-null   object \n",
            " 3   País(es) produtor(es) da obra    7052 non-null   object \n",
            " 4   Nacionalidade da obra            7052 non-null   object \n",
            " 5   Empresa distribuidora            7052 non-null   object \n",
            " 6   Origem da empresa distribuidora  7052 non-null   object \n",
            " 7   Público no ano de exibição       7052 non-null   float64\n",
            " 8   Renda (R$) no ano de exibição    7052 non-null   float64\n",
            "dtypes: float64(2), int64(1), object(6)\n",
            "memory usage: 496.0+ KB\n"
          ]
        }
      ]
    },
    {
      "cell_type": "code",
      "metadata": {
        "id": "NHJFmcyYar2i"
      },
      "source": [
        "# Após observar a coluna \"Público no ano de exibição\" vemos que ela está como Float então fazemos a mudança na tipagem para inteiro.\n",
        "data_filme['Público no ano de exibição'] = data_filme['Público no ano de exibição'].astype(int)\n"
      ],
      "execution_count": null,
      "outputs": []
    },
    {
      "cell_type": "markdown",
      "metadata": {
        "id": "31gHFMCKvb9p"
      },
      "source": [
        "**3 - Agrupamento de informações.**"
      ]
    },
    {
      "cell_type": "markdown",
      "metadata": {
        "id": "OcCejoqio2Lb"
      },
      "source": [
        "Mediana do público de exibição e renda."
      ]
    },
    {
      "cell_type": "code",
      "metadata": {
        "colab": {
          "base_uri": "https://localhost:8080/",
          "height": 1000
        },
        "id": "qYGo2tpymJe1",
        "outputId": "3dcb7e9d-c824-49e9-dca7-63968a95dfba"
      },
      "source": [
        "data_filme.groupby(['Nacionalidade da obra', 'Ano de exibição', 'Gênero']).median().head(60)\n"
      ],
      "execution_count": null,
      "outputs": [
        {
          "output_type": "execute_result",
          "data": {
            "text/html": [
              "<div>\n",
              "<style scoped>\n",
              "    .dataframe tbody tr th:only-of-type {\n",
              "        vertical-align: middle;\n",
              "    }\n",
              "\n",
              "    .dataframe tbody tr th {\n",
              "        vertical-align: top;\n",
              "    }\n",
              "\n",
              "    .dataframe thead th {\n",
              "        text-align: right;\n",
              "    }\n",
              "</style>\n",
              "<table border=\"1\" class=\"dataframe\">\n",
              "  <thead>\n",
              "    <tr style=\"text-align: right;\">\n",
              "      <th></th>\n",
              "      <th></th>\n",
              "      <th></th>\n",
              "      <th>Público no ano de exibição</th>\n",
              "      <th>Renda (R$) no ano de exibição</th>\n",
              "    </tr>\n",
              "    <tr>\n",
              "      <th>Nacionalidade da obra</th>\n",
              "      <th>Ano de exibição</th>\n",
              "      <th>Gênero</th>\n",
              "      <th></th>\n",
              "      <th></th>\n",
              "    </tr>\n",
              "  </thead>\n",
              "  <tbody>\n",
              "    <tr>\n",
              "      <th rowspan=\"34\" valign=\"top\">Brasileira</th>\n",
              "      <th rowspan=\"3\" valign=\"top\">2009</th>\n",
              "      <th>Animação</th>\n",
              "      <td>9880.5</td>\n",
              "      <td>29643.000</td>\n",
              "    </tr>\n",
              "    <tr>\n",
              "      <th>Documentário</th>\n",
              "      <td>909.0</td>\n",
              "      <td>4986.000</td>\n",
              "    </tr>\n",
              "    <tr>\n",
              "      <th>Ficção</th>\n",
              "      <td>1060.0</td>\n",
              "      <td>4334.500</td>\n",
              "    </tr>\n",
              "    <tr>\n",
              "      <th rowspan=\"3\" valign=\"top\">2010</th>\n",
              "      <th>Animação</th>\n",
              "      <td>4834.0</td>\n",
              "      <td>14803.000</td>\n",
              "    </tr>\n",
              "    <tr>\n",
              "      <th>Documentário</th>\n",
              "      <td>907.5</td>\n",
              "      <td>8016.500</td>\n",
              "    </tr>\n",
              "    <tr>\n",
              "      <th>Ficção</th>\n",
              "      <td>2500.0</td>\n",
              "      <td>12227.750</td>\n",
              "    </tr>\n",
              "    <tr>\n",
              "      <th rowspan=\"4\" valign=\"top\">2011</th>\n",
              "      <th>Animação</th>\n",
              "      <td>909.0</td>\n",
              "      <td>3135.170</td>\n",
              "    </tr>\n",
              "    <tr>\n",
              "      <th>Documentário</th>\n",
              "      <td>813.0</td>\n",
              "      <td>4397.500</td>\n",
              "    </tr>\n",
              "    <tr>\n",
              "      <th>Ficção</th>\n",
              "      <td>3337.0</td>\n",
              "      <td>22966.375</td>\n",
              "    </tr>\n",
              "    <tr>\n",
              "      <th>Videomusical</th>\n",
              "      <td>21842.0</td>\n",
              "      <td>291939.000</td>\n",
              "    </tr>\n",
              "    <tr>\n",
              "      <th rowspan=\"3\" valign=\"top\">2012</th>\n",
              "      <th>Animação</th>\n",
              "      <td>280.0</td>\n",
              "      <td>2211.000</td>\n",
              "    </tr>\n",
              "    <tr>\n",
              "      <th>Documentário</th>\n",
              "      <td>485.5</td>\n",
              "      <td>4124.135</td>\n",
              "    </tr>\n",
              "    <tr>\n",
              "      <th>Ficção</th>\n",
              "      <td>2405.0</td>\n",
              "      <td>17101.300</td>\n",
              "    </tr>\n",
              "    <tr>\n",
              "      <th rowspan=\"3\" valign=\"top\">2013</th>\n",
              "      <th>Animação</th>\n",
              "      <td>8600.0</td>\n",
              "      <td>62408.520</td>\n",
              "    </tr>\n",
              "    <tr>\n",
              "      <th>Documentário</th>\n",
              "      <td>797.0</td>\n",
              "      <td>7791.500</td>\n",
              "    </tr>\n",
              "    <tr>\n",
              "      <th>Ficção</th>\n",
              "      <td>2459.0</td>\n",
              "      <td>22519.740</td>\n",
              "    </tr>\n",
              "    <tr>\n",
              "      <th rowspan=\"3\" valign=\"top\">2014</th>\n",
              "      <th>Animação</th>\n",
              "      <td>10865.0</td>\n",
              "      <td>142564.190</td>\n",
              "    </tr>\n",
              "    <tr>\n",
              "      <th>Documentário</th>\n",
              "      <td>956.0</td>\n",
              "      <td>7224.990</td>\n",
              "    </tr>\n",
              "    <tr>\n",
              "      <th>Ficção</th>\n",
              "      <td>2266.0</td>\n",
              "      <td>23211.820</td>\n",
              "    </tr>\n",
              "    <tr>\n",
              "      <th rowspan=\"3\" valign=\"top\">2015</th>\n",
              "      <th>Animação</th>\n",
              "      <td>1607.0</td>\n",
              "      <td>11602.070</td>\n",
              "    </tr>\n",
              "    <tr>\n",
              "      <th>Documentário</th>\n",
              "      <td>606.0</td>\n",
              "      <td>8333.000</td>\n",
              "    </tr>\n",
              "    <tr>\n",
              "      <th>Ficção</th>\n",
              "      <td>1347.0</td>\n",
              "      <td>13035.680</td>\n",
              "    </tr>\n",
              "    <tr>\n",
              "      <th rowspan=\"3\" valign=\"top\">2016</th>\n",
              "      <th>Animação</th>\n",
              "      <td>24832.0</td>\n",
              "      <td>293092.420</td>\n",
              "    </tr>\n",
              "    <tr>\n",
              "      <th>Documentário</th>\n",
              "      <td>280.5</td>\n",
              "      <td>2775.820</td>\n",
              "    </tr>\n",
              "    <tr>\n",
              "      <th>Ficção</th>\n",
              "      <td>1916.5</td>\n",
              "      <td>23433.520</td>\n",
              "    </tr>\n",
              "    <tr>\n",
              "      <th rowspan=\"3\" valign=\"top\">2017</th>\n",
              "      <th>Animação</th>\n",
              "      <td>2380.0</td>\n",
              "      <td>33137.070</td>\n",
              "    </tr>\n",
              "    <tr>\n",
              "      <th>Documentário</th>\n",
              "      <td>286.0</td>\n",
              "      <td>3370.000</td>\n",
              "    </tr>\n",
              "    <tr>\n",
              "      <th>Ficção</th>\n",
              "      <td>2180.0</td>\n",
              "      <td>23140.460</td>\n",
              "    </tr>\n",
              "    <tr>\n",
              "      <th rowspan=\"3\" valign=\"top\">2018</th>\n",
              "      <th>Animação</th>\n",
              "      <td>110.5</td>\n",
              "      <td>631.500</td>\n",
              "    </tr>\n",
              "    <tr>\n",
              "      <th>Documentário</th>\n",
              "      <td>607.0</td>\n",
              "      <td>7191.000</td>\n",
              "    </tr>\n",
              "    <tr>\n",
              "      <th>Ficção</th>\n",
              "      <td>2606.5</td>\n",
              "      <td>31340.500</td>\n",
              "    </tr>\n",
              "    <tr>\n",
              "      <th rowspan=\"3\" valign=\"top\">2019</th>\n",
              "      <th>Animação</th>\n",
              "      <td>8771.5</td>\n",
              "      <td>99590.500</td>\n",
              "    </tr>\n",
              "    <tr>\n",
              "      <th>Documentário</th>\n",
              "      <td>413.0</td>\n",
              "      <td>5414.500</td>\n",
              "    </tr>\n",
              "    <tr>\n",
              "      <th>Ficção</th>\n",
              "      <td>1046.5</td>\n",
              "      <td>12363.500</td>\n",
              "    </tr>\n",
              "    <tr>\n",
              "      <th rowspan=\"26\" valign=\"top\">Estrangeira</th>\n",
              "      <th rowspan=\"3\" valign=\"top\">2009</th>\n",
              "      <th>Animação</th>\n",
              "      <td>77000.0</td>\n",
              "      <td>632490.150</td>\n",
              "    </tr>\n",
              "    <tr>\n",
              "      <th>Documentário</th>\n",
              "      <td>2518.5</td>\n",
              "      <td>16605.410</td>\n",
              "    </tr>\n",
              "    <tr>\n",
              "      <th>Ficção</th>\n",
              "      <td>9358.0</td>\n",
              "      <td>86642.000</td>\n",
              "    </tr>\n",
              "    <tr>\n",
              "      <th rowspan=\"4\" valign=\"top\">2010</th>\n",
              "      <th>Animação</th>\n",
              "      <td>32043.0</td>\n",
              "      <td>155927.610</td>\n",
              "    </tr>\n",
              "    <tr>\n",
              "      <th>Documentário</th>\n",
              "      <td>1118.0</td>\n",
              "      <td>6538.750</td>\n",
              "    </tr>\n",
              "    <tr>\n",
              "      <th>Ficção</th>\n",
              "      <td>20230.0</td>\n",
              "      <td>182925.650</td>\n",
              "    </tr>\n",
              "    <tr>\n",
              "      <th>Videomusical</th>\n",
              "      <td>4068.0</td>\n",
              "      <td>122212.800</td>\n",
              "    </tr>\n",
              "    <tr>\n",
              "      <th rowspan=\"3\" valign=\"top\">2011</th>\n",
              "      <th>Animação</th>\n",
              "      <td>315844.0</td>\n",
              "      <td>3194856.130</td>\n",
              "    </tr>\n",
              "    <tr>\n",
              "      <th>Documentário</th>\n",
              "      <td>3749.0</td>\n",
              "      <td>31150.000</td>\n",
              "    </tr>\n",
              "    <tr>\n",
              "      <th>Ficção</th>\n",
              "      <td>14321.0</td>\n",
              "      <td>141357.750</td>\n",
              "    </tr>\n",
              "    <tr>\n",
              "      <th rowspan=\"3\" valign=\"top\">2012</th>\n",
              "      <th>Animação</th>\n",
              "      <td>157968.0</td>\n",
              "      <td>2079682.000</td>\n",
              "    </tr>\n",
              "    <tr>\n",
              "      <th>Documentário</th>\n",
              "      <td>1068.0</td>\n",
              "      <td>13477.000</td>\n",
              "    </tr>\n",
              "    <tr>\n",
              "      <th>Ficção</th>\n",
              "      <td>15959.0</td>\n",
              "      <td>178797.520</td>\n",
              "    </tr>\n",
              "    <tr>\n",
              "      <th rowspan=\"4\" valign=\"top\">2013</th>\n",
              "      <th>Animação</th>\n",
              "      <td>104043.0</td>\n",
              "      <td>887652.000</td>\n",
              "    </tr>\n",
              "    <tr>\n",
              "      <th>Documentário</th>\n",
              "      <td>737.0</td>\n",
              "      <td>9966.750</td>\n",
              "    </tr>\n",
              "    <tr>\n",
              "      <th>Ficção</th>\n",
              "      <td>13938.5</td>\n",
              "      <td>179556.830</td>\n",
              "    </tr>\n",
              "    <tr>\n",
              "      <th>Videomusical</th>\n",
              "      <td>18025.0</td>\n",
              "      <td>280103.270</td>\n",
              "    </tr>\n",
              "    <tr>\n",
              "      <th rowspan=\"4\" valign=\"top\">2014</th>\n",
              "      <th>Animação</th>\n",
              "      <td>6255.0</td>\n",
              "      <td>36980.490</td>\n",
              "    </tr>\n",
              "    <tr>\n",
              "      <th>Documentário</th>\n",
              "      <td>729.0</td>\n",
              "      <td>10407.450</td>\n",
              "    </tr>\n",
              "    <tr>\n",
              "      <th>Ficção</th>\n",
              "      <td>6373.0</td>\n",
              "      <td>73934.370</td>\n",
              "    </tr>\n",
              "    <tr>\n",
              "      <th>Videomusical</th>\n",
              "      <td>915.0</td>\n",
              "      <td>25260.000</td>\n",
              "    </tr>\n",
              "    <tr>\n",
              "      <th rowspan=\"4\" valign=\"top\">2015</th>\n",
              "      <th>Animação</th>\n",
              "      <td>2565.0</td>\n",
              "      <td>20885.740</td>\n",
              "    </tr>\n",
              "    <tr>\n",
              "      <th>Documentário</th>\n",
              "      <td>4266.0</td>\n",
              "      <td>65289.980</td>\n",
              "    </tr>\n",
              "    <tr>\n",
              "      <th>Ficção</th>\n",
              "      <td>5636.5</td>\n",
              "      <td>69599.950</td>\n",
              "    </tr>\n",
              "    <tr>\n",
              "      <th>Videomusical</th>\n",
              "      <td>1013.5</td>\n",
              "      <td>30805.250</td>\n",
              "    </tr>\n",
              "    <tr>\n",
              "      <th>2016</th>\n",
              "      <th>Animação</th>\n",
              "      <td>5519.0</td>\n",
              "      <td>50812.400</td>\n",
              "    </tr>\n",
              "  </tbody>\n",
              "</table>\n",
              "</div>"
            ],
            "text/plain": [
              "                                                    Público no ano de exibição  Renda (R$) no ano de exibição\n",
              "Nacionalidade da obra Ano de exibição Gênero                                                                 \n",
              "Brasileira            2009            Animação                          9880.5                      29643.000\n",
              "                                      Documentário                       909.0                       4986.000\n",
              "                                      Ficção                            1060.0                       4334.500\n",
              "                      2010            Animação                          4834.0                      14803.000\n",
              "                                      Documentário                       907.5                       8016.500\n",
              "                                      Ficção                            2500.0                      12227.750\n",
              "                      2011            Animação                           909.0                       3135.170\n",
              "                                      Documentário                       813.0                       4397.500\n",
              "                                      Ficção                            3337.0                      22966.375\n",
              "                                      Videomusical                     21842.0                     291939.000\n",
              "                      2012            Animação                           280.0                       2211.000\n",
              "                                      Documentário                       485.5                       4124.135\n",
              "                                      Ficção                            2405.0                      17101.300\n",
              "                      2013            Animação                          8600.0                      62408.520\n",
              "                                      Documentário                       797.0                       7791.500\n",
              "                                      Ficção                            2459.0                      22519.740\n",
              "                      2014            Animação                         10865.0                     142564.190\n",
              "                                      Documentário                       956.0                       7224.990\n",
              "                                      Ficção                            2266.0                      23211.820\n",
              "                      2015            Animação                          1607.0                      11602.070\n",
              "                                      Documentário                       606.0                       8333.000\n",
              "                                      Ficção                            1347.0                      13035.680\n",
              "                      2016            Animação                         24832.0                     293092.420\n",
              "                                      Documentário                       280.5                       2775.820\n",
              "                                      Ficção                            1916.5                      23433.520\n",
              "                      2017            Animação                          2380.0                      33137.070\n",
              "                                      Documentário                       286.0                       3370.000\n",
              "                                      Ficção                            2180.0                      23140.460\n",
              "                      2018            Animação                           110.5                        631.500\n",
              "                                      Documentário                       607.0                       7191.000\n",
              "                                      Ficção                            2606.5                      31340.500\n",
              "                      2019            Animação                          8771.5                      99590.500\n",
              "                                      Documentário                       413.0                       5414.500\n",
              "                                      Ficção                            1046.5                      12363.500\n",
              "Estrangeira           2009            Animação                         77000.0                     632490.150\n",
              "                                      Documentário                      2518.5                      16605.410\n",
              "                                      Ficção                            9358.0                      86642.000\n",
              "                      2010            Animação                         32043.0                     155927.610\n",
              "                                      Documentário                      1118.0                       6538.750\n",
              "                                      Ficção                           20230.0                     182925.650\n",
              "                                      Videomusical                      4068.0                     122212.800\n",
              "                      2011            Animação                        315844.0                    3194856.130\n",
              "                                      Documentário                      3749.0                      31150.000\n",
              "                                      Ficção                           14321.0                     141357.750\n",
              "                      2012            Animação                        157968.0                    2079682.000\n",
              "                                      Documentário                      1068.0                      13477.000\n",
              "                                      Ficção                           15959.0                     178797.520\n",
              "                      2013            Animação                        104043.0                     887652.000\n",
              "                                      Documentário                       737.0                       9966.750\n",
              "                                      Ficção                           13938.5                     179556.830\n",
              "                                      Videomusical                     18025.0                     280103.270\n",
              "                      2014            Animação                          6255.0                      36980.490\n",
              "                                      Documentário                       729.0                      10407.450\n",
              "                                      Ficção                            6373.0                      73934.370\n",
              "                                      Videomusical                       915.0                      25260.000\n",
              "                      2015            Animação                          2565.0                      20885.740\n",
              "                                      Documentário                      4266.0                      65289.980\n",
              "                                      Ficção                            5636.5                      69599.950\n",
              "                                      Videomusical                      1013.5                      30805.250\n",
              "                      2016            Animação                          5519.0                      50812.400"
            ]
          },
          "metadata": {},
          "execution_count": 48
        }
      ]
    },
    {
      "cell_type": "markdown",
      "metadata": {
        "id": "tXX_bXrYsI6k"
      },
      "source": [
        "Contagem de lançamentos por nacionalidade com a média do público de exibição e renda anual."
      ]
    },
    {
      "cell_type": "code",
      "metadata": {
        "colab": {
          "base_uri": "https://localhost:8080/",
          "height": 142
        },
        "id": "XYjZxSvZfiWx",
        "outputId": "304ffd8f-3699-4903-8ff3-9a4a214e3a43"
      },
      "source": [
        "data_filme.groupby('Nacionalidade da obra').agg({\n",
        "    'Nacionalidade da obra':'count',\n",
        "    'Público no ano de exibição':'mean',\n",
        "    'Renda (R$) no ano de exibição': 'mean'\n",
        "\n",
        " }\n",
        ")"
      ],
      "execution_count": null,
      "outputs": [
        {
          "output_type": "execute_result",
          "data": {
            "text/html": [
              "<div>\n",
              "<style scoped>\n",
              "    .dataframe tbody tr th:only-of-type {\n",
              "        vertical-align: middle;\n",
              "    }\n",
              "\n",
              "    .dataframe tbody tr th {\n",
              "        vertical-align: top;\n",
              "    }\n",
              "\n",
              "    .dataframe thead th {\n",
              "        text-align: right;\n",
              "    }\n",
              "</style>\n",
              "<table border=\"1\" class=\"dataframe\">\n",
              "  <thead>\n",
              "    <tr style=\"text-align: right;\">\n",
              "      <th></th>\n",
              "      <th>Nacionalidade da obra</th>\n",
              "      <th>Público no ano de exibição</th>\n",
              "      <th>Renda (R$) no ano de exibição</th>\n",
              "    </tr>\n",
              "    <tr>\n",
              "      <th>Nacionalidade da obra</th>\n",
              "      <th></th>\n",
              "      <th></th>\n",
              "      <th></th>\n",
              "    </tr>\n",
              "  </thead>\n",
              "  <tbody>\n",
              "    <tr>\n",
              "      <th>Brasileira</th>\n",
              "      <td>2106</td>\n",
              "      <td>114015.219373</td>\n",
              "      <td>1.277719e+06</td>\n",
              "    </tr>\n",
              "    <tr>\n",
              "      <th>Estrangeira</th>\n",
              "      <td>4946</td>\n",
              "      <td>299065.222806</td>\n",
              "      <td>3.883511e+06</td>\n",
              "    </tr>\n",
              "  </tbody>\n",
              "</table>\n",
              "</div>"
            ],
            "text/plain": [
              "                       Nacionalidade da obra  ...  Renda (R$) no ano de exibição\n",
              "Nacionalidade da obra                         ...                               \n",
              "Brasileira                              2106  ...                   1.277719e+06\n",
              "Estrangeira                             4946  ...                   3.883511e+06\n",
              "\n",
              "[2 rows x 3 columns]"
            ]
          },
          "metadata": {},
          "execution_count": 49
        }
      ]
    },
    {
      "cell_type": "markdown",
      "metadata": {
        "id": "dLyG_b5EvrFq"
      },
      "source": [
        "**4 - Gráfico de maiores lançamentos por gênero.**"
      ]
    },
    {
      "cell_type": "code",
      "metadata": {
        "colab": {
          "base_uri": "https://localhost:8080/",
          "height": 265
        },
        "id": "t3cKbgN0YZMS",
        "outputId": "b7305c5c-259e-41a1-ab48-627660b5e577"
      },
      "source": [
        "plt.hist(x = data_filme['Gênero']);\n"
      ],
      "execution_count": null,
      "outputs": [
        {
          "output_type": "display_data",
          "data": {
            "image/png": "[encoded data removed]",
            "text/plain": [
              "<Figure size 432x288 with 1 Axes>"
            ]
          },
          "metadata": {
            "needs_background": "light"
          }
        }
      ]
    },
    {
      "cell_type": "markdown",
      "metadata": {
        "id": "cpCh9DNcQN53"
      },
      "source": [
        "**Gráfico de comparação de visualizações entre nacionalidade.**"
      ]
    },
    {
      "cell_type": "code",
      "metadata": {
        "colab": {
          "base_uri": "https://localhost:8080/",
          "height": 542
        },
        "id": "UJYfU2lcYhIh",
        "outputId": "fb55298a-b926-4fe4-bb88-82ae12ee965f"
      },
      "source": [
        "fig = px.pie(data_filme, values='Público no ano de exibição', names='Nacionalidade da obra', color_discrete_sequence=px.colors.sequential.RdBu)\n",
        "fig.show()"
      ],
      "execution_count": null,
      "outputs": [
        {
          "output_type": "display_data",
          "data": {
            "text/html": [
              "<html>\n",
              "<head><meta charset=\"utf-8\" /></head>\n",
              "<body>\n",
              "    <div>            <script src=\"https://cdnjs.cloudflare.com/ajax/libs/mathjax/2.7.5/MathJax.js?config=TeX-AMS-MML_SVG\"></script><script type=\"text/javascript\">if (window.MathJax) {MathJax.Hub.Config({SVG: {font: \"STIX-Web\"}});}</script>                <script type=\"text/javascript\">window.PlotlyConfig = {MathJaxConfig: 'local'};</script>\n",
              "        <script src=\"https://cdn.plot.ly/plotly-2.4.2.min.js\"></script>                <div id=\"5c77e81a-a32a-4566-bec6-19a40f7fe028\" class=\"plotly-graph-div\" style=\"height:525px; width:100%;\"></div>            <script type=\"text/javascript\">                                    window.PLOTLYENV=window.PLOTLYENV || {};                                    if (document.getElementById(\"5c77e81a-a32a-4566-bec6-19a40f7fe028\")) {                    Plotly.newPlot(                        \"5c77e81a-a32a-4566-bec6-19a40f7fe028\",                        [{\"domain\":{\"x\":[0.0,1.0],\"y\":[0.0,1.0]},\"hovertemplate\":\"Nacionalidade da obra=%{label}<br>P\\u00fablico no ano de exibi\\u00e7\\u00e3o=%{value}<extra></extra>\",\"labels\":[\"Estrangeira\",\"Estrangeira\",\"Brasileira\",\"Estrangeira\",\"Estrangeira\",\"Estrangeira\",\"Estrangeira\",\"Brasileira\",\"Estrangeira\",\"Estrangeira\",\"Estrangeira\",\"Brasileira\",\"Estrangeira\",\"Estrangeira\",\"Estrangeira\",\"Estrangeira\",\"Estrangeira\",\"Estrangeira\",\"Estrangeira\",\"Brasileira\",\"Estrangeira\",\"Brasileira\",\"Brasileira\",\"Estrangeira\",\"Estrangeira\",\"Estrangeira\",\"Estrangeira\",\"Estrangeira\",\"Brasileira\",\"Brasileira\",\"Estrangeira\",\"Estrangeira\",\"Brasileira\",\"Estrangeira\",\"Estrangeira\",\"Estrangeira\",\"Estrangeira\",\"Estrangeira\",\"Brasileira\",\"Estrangeira\",\"Estrangeira\",\"Brasileira\",\"Estrangeira\",\"Brasileira\",\"Brasileira\",\"Estrangeira\",\"Estrangeira\",\"Estrangeira\",\"Estrangeira\",\"Estrangeira\",\"Brasileira\",\"Brasileira\",\"Estrangeira\",\"Estrangeira\",\"Estrangeira\",\"Brasileira\",\"Estrangeira\",\"Estrangeira\",\"Brasileira\",\"Estrangeira\",\"Estrangeira\",\"Brasileira\",\"Brasileira\",\"Estrangeira\",\"Brasileira\",\"Estrangeira\",\"Estrangeira\",\"Brasileira\",\"Brasileira\",\"Estrangeira\",\"Brasileira\",\"Estrangeira\",\"Brasileira\",\"Estrangeira\",\"Estrangeira\",\"Brasileira\",\"Estrangeira\",\"Estrangeira\",\"Estrangeira\",\"Estrangeira\",\"Estrangeira\",\"Estrangeira\",\"Brasileira\",\"Brasileira\",\"Brasileira\",\"Estrangeira\",\"Brasileira\",\"Estrangeira\",\"Brasileira\",\"Estrangeira\",\"Brasileira\",\"Brasileira\",\"Brasileira\",\"Estrangeira\",\"Estrangeira\",\"Estrangeira\",\"Estrangeira\",\"Estrangeira\",\"Brasileira\",\"Estrangeira\",\"Estrangeira\",\"Estrangeira\",\"Estrangeira\",\"Estrangeira\",\"Estrangeira\",\"Brasileira\",\"Brasileira\",\"Estrangeira\",\"Brasileira\",\"Estrangeira\",\"Brasileira\",\"Brasileira\",\"Estrangeira\",\"Estrangeira\",\"Brasileira\",\"Estrangeira\",\"Estrangeira\",\"Estrangeira\",\"Estrangeira\",\"Estrangeira\",\"Estrangeira\",\"Estrangeira\",\"Brasileira\",\"Estrangeira\",\"Estrangeira\",\"Brasileira\",\"Brasileira\",\"Brasileira\",\"Brasileira\",\"Brasileira\",\"Brasileira\",\"Brasileira\",\"Brasileira\",\"Brasileira\",\"Brasileira\",\"Estrangeira\",\"Estrangeira\",\"Estrangeira\",\"Brasileira\",\"Estrangeira\",\"Estrangeira\",\"Estrangeira\",\"Estrangeira\",\"Brasileira\",\"Estrangeira\",\"Estrangeira\",\"Estrangeira\",\"Estrangeira\",\"Estrangeira\",\"Estrangeira\",\"Brasileira\",\"Brasileira\",\"Estrangeira\",\"Brasileira\",\"Estrangeira\",\"Brasileira\",\"Brasileira\",\"Estrangeira\",\"Estrangeira\",\"Estrangeira\",\"Estrangeira\",\"Brasileira\",\"Estrangeira\",\"Brasileira\",\"Brasileira\",\"Brasileira\",\"Estrangeira\",\"Estrangeira\",\"Brasileira\",\"Brasileira\",\"Brasileira\",\"Estrangeira\",\"Estrangeira\",\"Estrangeira\",\"Estrangeira\",\"Estrangeira\",\"Estrangeira\",\"Estrangeira\",\"Estrangeira\",\"Estrangeira\",\"Estrangeira\",\"Estrangeira\",\"Brasileira\",\"Brasileira\",\"Estrangeira\",\"Estrangeira\",\"Estrangeira\",\"Brasileira\",\"Estrangeira\",\"Brasileira\",\"Brasileira\",\"Estrangeira\",\"Estrangeira\",\"Estrangeira\",\"Estrangeira\",\"Brasileira\",\"Estrangeira\",\"Brasileira\",\"Brasileira\",\"Estrangeira\",\"Brasileira\",\"Brasileira\",\"Brasileira\",\"Brasileira\",\"Brasileira\",\"Brasileira\",\"Brasileira\",\"Brasileira\",\"Brasileira\",\"Estrangeira\",\"Estrangeira\",\"Brasileira\",\"Estrangeira\",\"Estrangeira\",\"Estrangeira\",\"Estrangeira\",\"Estrangeira\",\"Estrangeira\",\"Estrangeira\",\"Estrangeira\",\"Brasileira\",\"Brasileira\",\"Brasileira\",\"Brasileira\",\"Estrangeira\",\"Estrangeira\",\"Estrangeira\",\"Estrangeira\",\"Estrangeira\",\"Estrangeira\",\"Estrangeira\",\"Estrangeira\",\"Estrangeira\",\"Estrangeira\",\"Brasileira\",\"Estrangeira\",\"Estrangeira\",\"Estrangeira\",\"Brasileira\",\"Estrangeira\",\"Estrangeira\",\"Estrangeira\",\"Brasileira\",\"Estrangeira\",\"Estrangeira\",\"Brasileira\",\"Brasileira\",\"Brasileira\",\"Estrangeira\",\"Estrangeira\",\"Brasileira\",\"Estrangeira\",\"Estrangeira\",\"Brasileira\",\"Brasileira\",\"Brasileira\",\"Estrangeira\",\"Brasileira\",\"Brasileira\",\"Estrangeira\",\"Estrangeira\",\"Estrangeira\",\"Estrangeira\",\"Brasileira\",\"Estrangeira\",\"Brasileira\",\"Brasileira\",\"Estrangeira\",\"Estrangeira\",\"Estrangeira\",\"Estrangeira\",\"Brasileira\",\"Estrangeira\",\"Estrangeira\",\"Estrangeira\",\"Estrangeira\",\"Brasileira\",\"Brasileira\",\"Estrangeira\",\"Brasileira\",\"Estrangeira\",\"Estrangeira\",\"Brasileira\",\"Brasileira\",\"Brasileira\",\"Estrangeira\",\"Estrangeira\",\"Estrangeira\",\"Estrangeira\",\"Brasileira\",\"Estrangeira\",\"Estrangeira\",\"Brasileira\",\"Estrangeira\",\"Estrangeira\",\"Brasileira\",\"Brasileira\",\"Estrangeira\",\"Estrangeira\",\"Brasileira\",\"Brasileira\",\"Estrangeira\",\"Estrangeira\",\"Estrangeira\",\"Estrangeira\",\"Estrangeira\",\"Brasileira\",\"Estrangeira\",\"Brasileira\",\"Brasileira\",\"Estrangeira\",\"Brasileira\",\"Estrangeira\",\"Estrangeira\",\"Estrangeira\",\"Estrangeira\",\"Estrangeira\",\"Brasileira\",\"Estrangeira\",\"Brasileira\",\"Estrangeira\",\"Estrangeira\",\"Brasileira\",\"Brasileira\",\"Brasileira\",\"Brasileira\",\"Brasileira\",\"Estrangeira\",\"Brasileira\",\"Estrangeira\",\"Estrangeira\",\"Estrangeira\",\"Estrangeira\",\"Brasileira\",\"Brasileira\",\"Estrangeira\",\"Brasileira\",\"Estrangeira\",\"Estrangeira\",\"Estrangeira\",\"Estrangeira\",\"Brasileira\",\"Estrangeira\",\"Estrangeira\",\"Estrangeira\",\"Estrangeira\",\"Brasileira\",\"Estrangeira\",\"Brasileira\",\"Estrangeira\",\"Brasileira\",\"Brasileira\",\"Brasileira\",\"Estrangeira\",\"Estrangeira\",\"Estrangeira\",\"Estrangeira\",\"Estrangeira\",\"Estrangeira\",\"Brasileira\",\"Estrangeira\",\"Estrangeira\",\"Estrangeira\",\"Estrangeira\",\"Brasileira\",\"Brasileira\",\"Estrangeira\",\"Brasileira\",\"Estrangeira\",\"Estrangeira\",\"Estrangeira\",\"Brasileira\",\"Estrangeira\",\"Brasileira\",\"Estrangeira\",\"Estrangeira\",\"Estrangeira\",\"Brasileira\",\"Brasileira\",\"Brasileira\",\"Estrangeira\",\"Brasileira\",\"Estrangeira\",\"Estrangeira\",\"Estrangeira\",\"Brasileira\",\"Brasileira\",\"Brasileira\",\"Estrangeira\",\"Estrangeira\",\"Estrangeira\",\"Estrangeira\",\"Brasileira\",\"Estrangeira\",\"Brasileira\",\"Brasileira\",\"Estrangeira\",\"Brasileira\",\"Estrangeira\",\"Brasileira\",\"Brasileira\",\"Estrangeira\",\"Estrangeira\",\"Estrangeira\",\"Brasileira\",\"Brasileira\",\"Brasileira\",\"Estrangeira\",\"Estrangeira\",\"Estrangeira\",\"Brasileira\",\"Estrangeira\",\"Estrangeira\",\"Brasileira\",\"Brasileira\",\"Brasileira\",\"Estrangeira\",\"Brasileira\",\"Estrangeira\",\"Brasileira\",\"Estrangeira\",\"Estrangeira\",\"Brasileira\",\"Estrangeira\",\"Brasileira\",\"Brasileira\",\"Estrangeira\",\"Brasileira\",\"Estrangeira\",\"Estrangeira\",\"Estrangeira\",\"Brasileira\",\"Brasileira\",\"Estrangeira\",\"Estrangeira\",\"Brasileira\",\"Brasileira\",\"Estrangeira\",\"Estrangeira\",\"Estrangeira\",\"Estrangeira\",\"Brasileira\",\"Estrangeira\",\"Brasileira\",\"Estrangeira\",\"Estrangeira\",\"Estrangeira\",\"Estrangeira\",\"Estrangeira\",\"Estrangeira\",\"Estrangeira\",\"Brasileira\",\"Brasileira\",\"Brasileira\",\"Estrangeira\",\"Estrangeira\",\"Estrangeira\",\"Estrangeira\",\"Estrangeira\",\"Estrangeira\",\"Brasileira\",\"Estrangeira\",\"Estrangeira\",\"Estrangeira\",\"Estrangeira\",\"Estrangeira\",\"Estrangeira\",\"Estrangeira\",\"Estrangeira\",\"Estrangeira\",\"Estrangeira\",\"Estrangeira\",\"Estrangeira\",\"Brasileira\",\"Estrangeira\",\"Estrangeira\",\"Brasileira\",\"Estrangeira\",\"Estrangeira\",\"Estrangeira\",\"Estrangeira\",\"Brasileira\",\"Estrangeira\",\"Estrangeira\",\"Estrangeira\",\"Brasileira\",\"Estrangeira\",\"Estrangeira\",\"Brasileira\",\"Brasileira\",\"Estrangeira\",\"Estrangeira\",\"Estrangeira\",\"Estrangeira\",\"Brasileira\",\"Estrangeira\",\"Brasileira\",\"Estrangeira\",\"Estrangeira\",\"Brasileira\",\"Estrangeira\",\"Brasileira\",\"Brasileira\",\"Brasileira\",\"Estrangeira\",\"Estrangeira\",\"Estrangeira\",\"Estrangeira\",\"Brasileira\",\"Estrangeira\",\"Brasileira\",\"Brasileira\",\"Estrangeira\",\"Brasileira\",\"Estrangeira\",\"Brasileira\",\"Estrangeira\",\"Estrangeira\",\"Estrangeira\",\"Brasileira\",\"Brasileira\",\"Brasileira\",\"Estrangeira\",\"Estrangeira\",\"Estrangeira\",\"Estrangeira\",\"Estrangeira\",\"Estrangeira\",\"Estrangeira\",\"Estrangeira\",\"Estrangeira\",\"Estrangeira\",\"Estrangeira\",\"Estrangeira\",\"Estrangeira\",\"Estrangeira\",\"Estrangeira\",\"Estrangeira\",\"Estrangeira\",\"Brasileira\",\"Estrangeira\",\"Brasileira\",\"Estrangeira\",\"Estrangeira\",\"Estrangeira\",\"Estrangeira\",\"Estrangeira\",\"Brasileira\",\"Estrangeira\",\"Brasileira\",\"Brasileira\",\"Brasileira\",\"Estrangeira\",\"Estrangeira\",\"Brasileira\",\"Estrangeira\",\"Estrangeira\",\"Brasileira\",\"Brasileira\",\"Estrangeira\",\"Estrangeira\",\"Brasileira\",\"Estrangeira\",\"Brasileira\",\"Estrangeira\",\"Estrangeira\",\"Estrangeira\",\"Estrangeira\",\"Brasileira\",\"Estrangeira\",\"Estrangeira\",\"Brasileira\",\"Brasileira\",\"Estrangeira\",\"Brasileira\",\"Brasileira\",\"Estrangeira\",\"Brasileira\",\"Estrangeira\",\"Estrangeira\",\"Estrangeira\",\"Brasileira\",\"Brasileira\",\"Estrangeira\",\"Estrangeira\",\"Estrangeira\",\"Estrangeira\",\"Brasileira\",\"Brasileira\",\"Estrangeira\",\"Estrangeira\",\"Brasileira\",\"Brasileira\",\"Brasileira\",\"Brasileira\",\"Brasileira\",\"Estrangeira\",\"Brasileira\",\"Estrangeira\",\"Estrangeira\",\"Estrangeira\",\"Estrangeira\",\"Brasileira\",\"Brasileira\",\"Brasileira\",\"Estrangeira\",\"Estrangeira\",\"Estrangeira\",\"Brasileira\",\"Brasileira\",\"Estrangeira\",\"Estrangeira\",\"Brasileira\",\"Estrangeira\",\"Brasileira\",\"Estrangeira\",\"Brasileira\",\"Brasileira\",\"Brasileira\",\"Estrangeira\",\"Brasileira\",\"Estrangeira\",\"Estrangeira\",\"Estrangeira\",\"Estrangeira\",\"Estrangeira\",\"Estrangeira\",\"Estrangeira\",\"Brasileira\",\"Estrangeira\",\"Estrangeira\",\"Estrangeira\",\"Estrangeira\",\"Estrangeira\",\"Estrangeira\",\"Brasileira\",\"Estrangeira\",\"Brasileira\",\"Estrangeira\",\"Estrangeira\",\"Brasileira\",\"Brasileira\",\"Brasileira\",\"Estrangeira\",\"Brasileira\",\"Estrangeira\",\"Estrangeira\",\"Estrangeira\",\"Brasileira\",\"Brasileira\",\"Estrangeira\",\"Estrangeira\",\"Estrangeira\",\"Estrangeira\",\"Estrangeira\",\"Estrangeira\",\"Estrangeira\",\"Estrangeira\",\"Estrangeira\",\"Estrangeira\",\"Estrangeira\",\"Estrangeira\",\"Estrangeira\",\"Estrangeira\",\"Estrangeira\",\"Estrangeira\",\"Estrangeira\",\"Estrangeira\",\"Estrangeira\",\"Estrangeira\",\"Estrangeira\",\"Estrangeira\",\"Brasileira\",\"Brasileira\",\"Brasileira\",\"Estrangeira\",\"Estrangeira\",\"Brasileira\",\"Estrangeira\",\"Estrangeira\",\"Estrangeira\",\"Estrangeira\",\"Estrangeira\",\"Estrangeira\",\"Estrangeira\",\"Estrangeira\",\"Estrangeira\",\"Estrangeira\",\"Estrangeira\",\"Estrangeira\",\"Estrangeira\",\"Estrangeira\",\"Estrangeira\",\"Brasileira\",\"Estrangeira\",\"Estrangeira\",\"Brasileira\",\"Brasileira\",\"Brasileira\",\"Estrangeira\",\"Brasileira\",\"Estrangeira\",\"Estrangeira\",\"Estrangeira\",\"Brasileira\",\"Estrangeira\",\"Estrangeira\",\"Brasileira\",\"Estrangeira\",\"Estrangeira\",\"Estrangeira\",\"Estrangeira\",\"Brasileira\",\"Estrangeira\",\"Brasileira\",\"Estrangeira\",\"Estrangeira\",\"Brasileira\",\"Estrangeira\",\"Estrangeira\",\"Brasileira\",\"Estrangeira\",\"Estrangeira\",\"Estrangeira\",\"Brasileira\",\"Estrangeira\",\"Estrangeira\",\"Estrangeira\",\"Estrangeira\",\"Estrangeira\",\"Estrangeira\",\"Estrangeira\",\"Estrangeira\",\"Estrangeira\",\"Estrangeira\",\"Estrangeira\",\"Estrangeira\",\"Estrangeira\",\"Brasileira\",\"Estrangeira\",\"Brasileira\",\"Estrangeira\",\"Brasileira\",\"Estrangeira\",\"Estrangeira\",\"Estrangeira\",\"Estrangeira\",\"Brasileira\",\"Brasileira\",\"Estrangeira\",\"Brasileira\",\"Brasileira\",\"Brasileira\",\"Estrangeira\",\"Estrangeira\",\"Estrangeira\",\"Estrangeira\",\"Estrangeira\",\"Estrangeira\",\"Brasileira\",\"Brasileira\",\"Brasileira\",\"Estrangeira\",\"Estrangeira\",\"Brasileira\",\"Brasileira\",\"Estrangeira\",\"Estrangeira\",\"Brasileira\",\"Brasileira\",\"Estrangeira\",\"Estrangeira\",\"Estrangeira\",\"Brasileira\",\"Brasileira\",\"Brasileira\",\"Estrangeira\",\"Brasileira\",\"Brasileira\",\"Estrangeira\",\"Brasileira\",\"Brasileira\",\"Estrangeira\",\"Estrangeira\",\"Brasileira\",\"Estrangeira\",\"Estrangeira\",\"Estrangeira\",\"Brasileira\",\"Brasileira\",\"Estrangeira\",\"Brasileira\",\"Estrangeira\",\"Estrangeira\",\"Estrangeira\",\"Estrangeira\",\"Estrangeira\",\"Brasileira\",\"Brasileira\",\"Estrangeira\",\"Estrangeira\",\"Brasileira\",\"Brasileira\",\"Brasileira\",\"Estrangeira\",\"Estrangeira\",\"Estrangeira\",\"Brasileira\",\"Estrangeira\",\"Brasileira\",\"Estrangeira\",\"Estrangeira\",\"Estrangeira\",\"Brasileira\",\"Brasileira\",\"Brasileira\",\"Estrangeira\",\"Estrangeira\",\"Estrangeira\",\"Brasileira\",\"Estrangeira\",\"Estrangeira\",\"Estrangeira\",\"Brasileira\",\"Brasileira\",\"Brasileira\",\"Brasileira\",\"Estrangeira\",\"Estrangeira\",\"Estrangeira\",\"Brasileira\",\"Brasileira\",\"Brasileira\",\"Estrangeira\",\"Brasileira\",\"Estrangeira\",\"Estrangeira\",\"Estrangeira\",\"Estrangeira\",\"Estrangeira\",\"Estrangeira\",\"Estrangeira\",\"Estrangeira\",\"Estrangeira\",\"Estrangeira\",\"Estrangeira\",\"Estrangeira\",\"Brasileira\",\"Brasileira\",\"Brasileira\",\"Brasileira\",\"Brasileira\",\"Brasileira\",\"Estrangeira\",\"Brasileira\",\"Brasileira\",\"Brasileira\",\"Brasileira\",\"Brasileira\",\"Estrangeira\",\"Brasileira\",\"Brasileira\",\"Estrangeira\",\"Estrangeira\",\"Estrangeira\",\"Estrangeira\",\"Brasileira\",\"Brasileira\",\"Estrangeira\",\"Estrangeira\",\"Brasileira\",\"Estrangeira\",\"Brasileira\",\"Estrangeira\",\"Estrangeira\",\"Estrangeira\",\"Estrangeira\",\"Estrangeira\",\"Estrangeira\",\"Estrangeira\",\"Estrangeira\",\"Brasileira\",\"Estrangeira\",\"Estrangeira\",\"Estrangeira\",\"Estrangeira\",\"Estrangeira\",\"Estrangeira\",\"Brasileira\",\"Estrangeira\",\"Estrangeira\",\"Brasileira\",\"Estrangeira\",\"Brasileira\",\"Brasileira\",\"Brasileira\",\"Estrangeira\",\"Brasileira\",\"Estrangeira\",\"Estrangeira\",\"Estrangeira\",\"Estrangeira\",\"Estrangeira\",\"Estrangeira\",\"Brasileira\",\"Brasileira\",\"Estrangeira\",\"Estrangeira\",\"Estrangeira\",\"Estrangeira\",\"Brasileira\",\"Estrangeira\",\"Estrangeira\",\"Brasileira\",\"Estrangeira\",\"Estrangeira\",\"Estrangeira\",\"Brasileira\",\"Estrangeira\",\"Estrangeira\",\"Estrangeira\",\"Brasileira\",\"Estrangeira\",\"Estrangeira\",\"Brasileira\",\"Estrangeira\",\"Brasileira\",\"Brasileira\",\"Brasileira\",\"Estrangeira\",\"Estrangeira\",\"Estrangeira\",\"Estrangeira\",\"Estrangeira\",\"Estrangeira\",\"Estrangeira\",\"Brasileira\",\"Estrangeira\",\"Brasileira\",\"Estrangeira\",\"Estrangeira\",\"Brasileira\",\"Brasileira\",\"Estrangeira\",\"Brasileira\",\"Brasileira\",\"Brasileira\",\"Brasileira\",\"Estrangeira\",\"Estrangeira\",\"Estrangeira\",\"Estrangeira\",\"Brasileira\",\"Brasileira\",\"Estrangeira\",\"Brasileira\",\"Estrangeira\",\"Estrangeira\",\"Brasileira\",\"Estrangeira\",\"Estrangeira\",\"Estrangeira\",\"Brasileira\",\"Brasileira\",\"Estrangeira\",\"Estrangeira\",\"Estrangeira\",\"Estrangeira\",\"Estrangeira\",\"Brasileira\",\"Estrangeira\",\"Brasileira\",\"Estrangeira\",\"Brasileira\",\"Brasileira\",\"Estrangeira\",\"Brasileira\",\"Estrangeira\",\"Estrangeira\",\"Estrangeira\",\"Estrangeira\",\"Estrangeira\",\"Brasileira\",\"Estrangeira\",\"Estrangeira\",\"Brasileira\",\"Estrangeira\",\"Brasileira\",\"Brasileira\",\"Brasileira\",\"Brasileira\",\"Brasileira\",\"Estrangeira\",\"Estrangeira\",\"Estrangeira\",\"Estrangeira\",\"Brasileira\",\"Estrangeira\",\"Estrangeira\",\"Estrangeira\",\"Estrangeira\",\"Estrangeira\",\"Estrangeira\",\"Estrangeira\",\"Estrangeira\",\"Estrangeira\",\"Estrangeira\",\"Brasileira\",\"Brasileira\",\"Estrangeira\",\"Estrangeira\",\"Estrangeira\",\"Estrangeira\",\"Estrangeira\",\"Brasileira\",\"Brasileira\",\"Estrangeira\",\"Estrangeira\",\"Brasileira\",\"Estrangeira\",\"Estrangeira\",\"Estrangeira\",\"Estrangeira\",\"Estrangeira\",\"Brasileira\",\"Estrangeira\",\"Estrangeira\",\"Estrangeira\",\"Brasileira\",\"Brasileira\",\"Brasileira\",\"Brasileira\",\"Estrangeira\",\"Estrangeira\",\"Brasileira\",\"Estrangeira\",\"Brasileira\",\"Estrangeira\",\"Estrangeira\",\"Estrangeira\",\"Estrangeira\",\"Estrangeira\",\"Estrangeira\",\"Brasileira\",\"Brasileira\",\"Estrangeira\",\"Estrangeira\",\"Estrangeira\",\"Estrangeira\",\"Brasileira\",\"Estrangeira\",\"Estrangeira\",\"Estrangeira\",\"Estrangeira\",\"Estrangeira\",\"Brasileira\",\"Brasileira\",\"Estrangeira\",\"Estrangeira\",\"Brasileira\",\"Estrangeira\",\"Estrangeira\",\"Brasileira\",\"Estrangeira\",\"Brasileira\",\"Estrangeira\",\"Estrangeira\",\"Brasileira\",\"Estrangeira\",\"Estrangeira\",\"Estrangeira\",\"Estrangeira\",\"Estrangeira\",\"Brasileira\",\"Estrangeira\",\"Brasileira\",\"Brasileira\",\"Brasileira\",\"Estrangeira\",\"Estrangeira\",\"Estrangeira\",\"Estrangeira\",\"Brasileira\",\"Estrangeira\",\"Brasileira\",\"Estrangeira\",\"Estrangeira\",\"Brasileira\",\"Brasileira\",\"Estrangeira\",\"Estrangeira\",\"Estrangeira\",\"Brasileira\",\"Brasileira\",\"Brasileira\",\"Estrangeira\",\"Estrangeira\",\"Brasileira\",\"Brasileira\",\"Brasileira\",\"Brasileira\",\"Brasileira\",\"Estrangeira\",\"Estrangeira\",\"Estrangeira\",\"Brasileira\",\"Brasileira\",\"Estrangeira\",\"Estrangeira\",\"Brasileira\",\"Estrangeira\",\"Brasileira\",\"Brasileira\",\"Estrangeira\",\"Estrangeira\",\"Brasileira\",\"Estrangeira\",\"Estrangeira\",\"Brasileira\",\"Estrangeira\",\"Estrangeira\",\"Brasileira\",\"Estrangeira\",\"Estrangeira\",\"Brasileira\",\"Estrangeira\",\"Estrangeira\",\"Brasileira\",\"Estrangeira\",\"Brasileira\",\"Estrangeira\",\"Brasileira\",\"Estrangeira\",\"Estrangeira\",\"Estrangeira\",\"Estrangeira\",\"Estrangeira\",\"Brasileira\",\"Brasileira\",\"Brasileira\",\"Estrangeira\",\"Brasileira\",\"Estrangeira\",\"Brasileira\",\"Estrangeira\",\"Estrangeira\",\"Estrangeira\",\"Estrangeira\",\"Estrangeira\",\"Estrangeira\",\"Estrangeira\",\"Estrangeira\",\"Estrangeira\",\"Brasileira\",\"Estrangeira\",\"Estrangeira\",\"Estrangeira\",\"Estrangeira\",\"Estrangeira\",\"Estrangeira\",\"Estrangeira\",\"Estrangeira\",\"Estrangeira\",\"Brasileira\",\"Brasileira\",\"Estrangeira\",\"Estrangeira\",\"Estrangeira\",\"Brasileira\",\"Brasileira\",\"Brasileira\",\"Estrangeira\",\"Estrangeira\",\"Estrangeira\",\"Estrangeira\",\"Estrangeira\",\"Brasileira\",\"Estrangeira\",\"Estrangeira\",\"Brasileira\",\"Estrangeira\",\"Brasileira\",\"Brasileira\",\"Estrangeira\",\"Estrangeira\",\"Estrangeira\",\"Estrangeira\",\"Estrangeira\",\"Estrangeira\",\"Brasileira\",\"Estrangeira\",\"Estrangeira\",\"Brasileira\",\"Estrangeira\",\"Brasileira\",\"Estrangeira\",\"Brasileira\",\"Estrangeira\",\"Estrangeira\",\"Estrangeira\",\"Brasileira\",\"Estrangeira\",\"Brasileira\",\"Estrangeira\",\"Brasileira\",\"Estrangeira\",\"Estrangeira\",\"Estrangeira\",\"Brasileira\",\"Estrangeira\",\"Brasileira\",\"Brasileira\",\"Estrangeira\",\"Brasileira\",\"Brasileira\",\"Estrangeira\",\"Estrangeira\",\"Brasileira\",\"Brasileira\",\"Brasileira\",\"Brasileira\",\"Estrangeira\",\"Estrangeira\",\"Estrangeira\",\"Brasileira\",\"Estrangeira\",\"Estrangeira\",\"Estrangeira\",\"Estrangeira\",\"Estrangeira\",\"Brasileira\",\"Brasileira\",\"Estrangeira\",\"Estrangeira\",\"Estrangeira\",\"Estrangeira\",\"Estrangeira\",\"Estrangeira\",\"Estrangeira\",\"Brasileira\",\"Estrangeira\",\"Brasileira\",\"Brasileira\",\"Brasileira\",\"Estrangeira\",\"Brasileira\",\"Brasileira\",\"Estrangeira\",\"Estrangeira\",\"Estrangeira\",\"Estrangeira\",\"Brasileira\",\"Brasileira\",\"Brasileira\",\"Estrangeira\",\"Estrangeira\",\"Estrangeira\",\"Brasileira\",\"Estrangeira\",\"Estrangeira\",\"Brasileira\",\"Brasileira\",\"Estrangeira\",\"Brasileira\",\"Brasileira\",\"Estrangeira\",\"Estrangeira\",\"Estrangeira\",\"Estrangeira\",\"Brasileira\",\"Brasileira\",\"Brasileira\",\"Estrangeira\",\"Estrangeira\",\"Estrangeira\",\"Brasileira\",\"Estrangeira\",\"Brasileira\",\"Estrangeira\",\"Estrangeira\",\"Estrangeira\",\"Brasileira\",\"Estrangeira\",\"Estrangeira\",\"Estrangeira\",\"Estrangeira\",\"Estrangeira\",\"Estrangeira\",\"Brasileira\",\"Brasileira\",\"Estrangeira\",\"Estrangeira\",\"Brasileira\",\"Estrangeira\",\"Brasileira\",\"Estrangeira\",\"Estrangeira\",\"Estrangeira\",\"Brasileira\",\"Estrangeira\",\"Brasileira\",\"Estrangeira\",\"Estrangeira\",\"Estrangeira\",\"Estrangeira\",\"Estrangeira\",\"Brasileira\",\"Estrangeira\",\"Brasileira\",\"Brasileira\",\"Brasileira\",\"Brasileira\",\"Estrangeira\",\"Estrangeira\",\"Brasileira\",\"Estrangeira\",\"Estrangeira\",\"Brasileira\",\"Estrangeira\",\"Estrangeira\",\"Estrangeira\",\"Estrangeira\",\"Estrangeira\",\"Estrangeira\",\"Brasileira\",\"Estrangeira\",\"Brasileira\",\"Brasileira\",\"Estrangeira\",\"Brasileira\",\"Brasileira\",\"Estrangeira\",\"Brasileira\",\"Brasileira\",\"Estrangeira\",\"Estrangeira\",\"Brasileira\",\"Estrangeira\",\"Estrangeira\",\"Estrangeira\",\"Estrangeira\",\"Estrangeira\",\"Estrangeira\",\"Estrangeira\",\"Estrangeira\",\"Estrangeira\",\"Brasileira\",\"Estrangeira\",\"Estrangeira\",\"Brasileira\",\"Estrangeira\",\"Estrangeira\",\"Estrangeira\",\"Estrangeira\",\"Estrangeira\",\"Brasileira\",\"Estrangeira\",\"Brasileira\",\"Estrangeira\",\"Brasileira\",\"Estrangeira\",\"Estrangeira\",\"Brasileira\",\"Estrangeira\",\"Brasileira\",\"Estrangeira\",\"Estrangeira\",\"Estrangeira\",\"Estrangeira\",\"Estrangeira\",\"Estrangeira\",\"Brasileira\",\"Estrangeira\",\"Estrangeira\",\"Estrangeira\",\"Estrangeira\",\"Estrangeira\",\"Estrangeira\",\"Estrangeira\",\"Brasileira\",\"Brasileira\",\"Estrangeira\",\"Estrangeira\",\"Estrangeira\",\"Estrangeira\",\"Brasileira\",\"Estrangeira\",\"Estrangeira\",\"Estrangeira\",\"Estrangeira\",\"Estrangeira\",\"Estrangeira\",\"Estrangeira\",\"Estrangeira\",\"Estrangeira\",\"Estrangeira\",\"Estrangeira\",\"Estrangeira\",\"Estrangeira\",\"Brasileira\",\"Brasileira\",\"Brasileira\",\"Estrangeira\",\"Estrangeira\",\"Estrangeira\",\"Estrangeira\",\"Estrangeira\",\"Estrangeira\",\"Brasileira\",\"Estrangeira\",\"Brasileira\",\"Brasileira\",\"Brasileira\",\"Estrangeira\",\"Estrangeira\",\"Estrangeira\",\"Brasileira\",\"Brasileira\",\"Estrangeira\",\"Estrangeira\",\"Estrangeira\",\"Estrangeira\",\"Estrangeira\",\"Estrangeira\",\"Brasileira\",\"Brasileira\",\"Estrangeira\",\"Estrangeira\",\"Brasileira\",\"Estrangeira\",\"Estrangeira\",\"Estrangeira\",\"Estrangeira\",\"Estrangeira\",\"Estrangeira\",\"Estrangeira\",\"Estrangeira\",\"Estrangeira\",\"Estrangeira\",\"Brasileira\",\"Estrangeira\",\"Brasileira\",\"Estrangeira\",\"Estrangeira\",\"Estrangeira\",\"Estrangeira\",\"Estrangeira\",\"Estrangeira\",\"Estrangeira\",\"Estrangeira\",\"Estrangeira\",\"Estrangeira\",\"Estrangeira\",\"Estrangeira\",\"Estrangeira\",\"Estrangeira\",\"Brasileira\",\"Estrangeira\",\"Estrangeira\",\"Estrangeira\",\"Estrangeira\",\"Brasileira\",\"Estrangeira\",\"Estrangeira\",\"Estrangeira\",\"Estrangeira\",\"Estrangeira\",\"Estrangeira\",\"Brasileira\",\"Estrangeira\",\"Estrangeira\",\"Estrangeira\",\"Estrangeira\",\"Brasileira\",\"Estrangeira\",\"Estrangeira\",\"Estrangeira\",\"Estrangeira\",\"Brasileira\",\"Estrangeira\",\"Estrangeira\",\"Estrangeira\",\"Estrangeira\",\"Brasileira\",\"Brasileira\",\"Estrangeira\",\"Estrangeira\",\"Estrangeira\",\"Estrangeira\",\"Estrangeira\",\"Estrangeira\",\"Brasileira\",\"Estrangeira\",\"Brasileira\",\"Estrangeira\",\"Brasileira\",\"Estrangeira\",\"Estrangeira\",\"Estrangeira\",\"Estrangeira\",\"Estrangeira\",\"Brasileira\",\"Estrangeira\",\"Estrangeira\",\"Estrangeira\",\"Estrangeira\",\"Estrangeira\",\"Estrangeira\",\"Estrangeira\",\"Estrangeira\",\"Brasileira\",\"Brasileira\",\"Estrangeira\",\"Estrangeira\",\"Estrangeira\",\"Estrangeira\",\"Estrangeira\",\"Estrangeira\",\"Estrangeira\",\"Brasileira\",\"Estrangeira\",\"Estrangeira\",\"Brasileira\",\"Estrangeira\",\"Estrangeira\",\"Estrangeira\",\"Brasileira\",\"Estrangeira\",\"Estrangeira\",\"Estrangeira\",\"Brasileira\",\"Estrangeira\",\"Estrangeira\",\"Estrangeira\",\"Brasileira\",\"Estrangeira\",\"Brasileira\",\"Brasileira\",\"Estrangeira\",\"Estrangeira\",\"Brasileira\",\"Brasileira\",\"Brasileira\",\"Brasileira\",\"Brasileira\",\"Estrangeira\",\"Estrangeira\",\"Brasileira\",\"Estrangeira\",\"Estrangeira\",\"Estrangeira\",\"Estrangeira\",\"Brasileira\",\"Estrangeira\",\"Estrangeira\",\"Estrangeira\",\"Estrangeira\",\"Brasileira\",\"Brasileira\",\"Estrangeira\",\"Brasileira\",\"Brasileira\",\"Brasileira\",\"Estrangeira\",\"Brasileira\",\"Estrangeira\",\"Estrangeira\",\"Estrangeira\",\"Estrangeira\",\"Estrangeira\",\"Brasileira\",\"Brasileira\",\"Brasileira\",\"Brasileira\",\"Estrangeira\",\"Estrangeira\",\"Brasileira\",\"Brasileira\",\"Brasileira\",\"Estrangeira\",\"Brasileira\",\"Estrangeira\",\"Brasileira\",\"Estrangeira\",\"Estrangeira\",\"Brasileira\",\"Brasileira\",\"Brasileira\",\"Estrangeira\",\"Brasileira\",\"Brasileira\",\"Brasileira\",\"Estrangeira\",\"Estrangeira\",\"Estrangeira\",\"Brasileira\",\"Brasileira\",\"Estrangeira\",\"Estrangeira\",\"Brasileira\",\"Brasileira\",\"Estrangeira\",\"Estrangeira\",\"Estrangeira\",\"Estrangeira\",\"Estrangeira\",\"Brasileira\",\"Brasileira\",\"Estrangeira\",\"Brasileira\",\"Brasileira\",\"Estrangeira\",\"Brasileira\",\"Estrangeira\",\"Brasileira\",\"Estrangeira\",\"Brasileira\",\"Brasileira\",\"Estrangeira\",\"Brasileira\",\"Brasileira\",\"Estrangeira\",\"Estrangeira\",\"Estrangeira\",\"Estrangeira\",\"Estrangeira\",\"Brasileira\",\"Brasileira\",\"Estrangeira\",\"Brasileira\",\"Brasileira\",\"Estrangeira\",\"Estrangeira\",\"Brasileira\",\"Estrangeira\",\"Estrangeira\",\"Estrangeira\",\"Estrangeira\",\"Estrangeira\",\"Brasileira\",\"Brasileira\",\"Estrangeira\",\"Estrangeira\",\"Brasileira\",\"Brasileira\",\"Estrangeira\",\"Estrangeira\",\"Estrangeira\",\"Estrangeira\",\"Brasileira\",\"Brasileira\",\"Brasileira\",\"Brasileira\",\"Estrangeira\",\"Estrangeira\",\"Brasileira\",\"Estrangeira\",\"Estrangeira\",\"Brasileira\",\"Estrangeira\",\"Estrangeira\",\"Estrangeira\",\"Brasileira\",\"Estrangeira\",\"Estrangeira\",\"Brasileira\",\"Brasileira\",\"Estrangeira\",\"Estrangeira\",\"Brasileira\",\"Estrangeira\",\"Estrangeira\",\"Brasileira\",\"Estrangeira\",\"Estrangeira\",\"Estrangeira\",\"Estrangeira\",\"Estrangeira\",\"Brasileira\",\"Brasileira\",\"Estrangeira\",\"Brasileira\",\"Estrangeira\",\"Estrangeira\",\"Brasileira\",\"Brasileira\",\"Estrangeira\",\"Estrangeira\",\"Brasileira\",\"Estrangeira\",\"Brasileira\",\"Estrangeira\",\"Estrangeira\",\"Brasileira\",\"Brasileira\",\"Estrangeira\",\"Brasileira\",\"Estrangeira\",\"Estrangeira\",\"Estrangeira\",\"Estrangeira\",\"Estrangeira\",\"Estrangeira\",\"Estrangeira\",\"Estrangeira\",\"Estrangeira\",\"Estrangeira\",\"Brasileira\",\"Estrangeira\",\"Brasileira\",\"Brasileira\",\"Brasileira\",\"Estrangeira\",\"Estrangeira\",\"Brasileira\",\"Estrangeira\",\"Estrangeira\",\"Estrangeira\",\"Estrangeira\",\"Estrangeira\",\"Estrangeira\",\"Brasileira\",\"Brasileira\",\"Estrangeira\",\"Estrangeira\",\"Estrangeira\",\"Brasileira\",\"Estrangeira\",\"Estrangeira\",\"Brasileira\",\"Estrangeira\",\"Estrangeira\",\"Estrangeira\",\"Estrangeira\",\"Estrangeira\",\"Estrangeira\",\"Estrangeira\",\"Estrangeira\",\"Brasileira\",\"Estrangeira\",\"Brasileira\",\"Estrangeira\",\"Brasileira\",\"Estrangeira\",\"Estrangeira\",\"Estrangeira\",\"Brasileira\",\"Estrangeira\",\"Estrangeira\",\"Estrangeira\",\"Estrangeira\",\"Estrangeira\",\"Estrangeira\",\"Estrangeira\",\"Brasileira\",\"Brasileira\",\"Estrangeira\",\"Estrangeira\",\"Brasileira\",\"Brasileira\",\"Estrangeira\",\"Brasileira\",\"Brasileira\",\"Estrangeira\",\"Estrangeira\",\"Estrangeira\",\"Brasileira\",\"Brasileira\",\"Estrangeira\",\"Brasileira\",\"Brasileira\",\"Estrangeira\",\"Brasileira\",\"Estrangeira\",\"Brasileira\",\"Estrangeira\",\"Estrangeira\",\"Estrangeira\",\"Brasileira\",\"Estrangeira\",\"Brasileira\",\"Estrangeira\",\"Brasileira\",\"Estrangeira\",\"Brasileira\",\"Estrangeira\",\"Estrangeira\",\"Estrangeira\",\"Estrangeira\",\"Estrangeira\",\"Estrangeira\",\"Estrangeira\",\"Estrangeira\",\"Brasileira\",\"Estrangeira\",\"Brasileira\",\"Brasileira\",\"Estrangeira\",\"Estrangeira\",\"Estrangeira\",\"Estrangeira\",\"Estrangeira\",\"Estrangeira\",\"Brasileira\",\"Estrangeira\",\"Estrangeira\",\"Estrangeira\",\"Estrangeira\",\"Estrangeira\",\"Estrangeira\",\"Estrangeira\",\"Brasileira\",\"Estrangeira\",\"Estrangeira\",\"Estrangeira\",\"Estrangeira\",\"Estrangeira\",\"Brasileira\",\"Brasileira\",\"Brasileira\",\"Brasileira\",\"Brasileira\",\"Estrangeira\",\"Estrangeira\",\"Estrangeira\",\"Estrangeira\",\"Brasileira\",\"Estrangeira\",\"Brasileira\",\"Brasileira\",\"Brasileira\",\"Brasileira\",\"Estrangeira\",\"Estrangeira\",\"Brasileira\",\"Estrangeira\",\"Estrangeira\",\"Estrangeira\",\"Estrangeira\",\"Estrangeira\",\"Estrangeira\",\"Estrangeira\",\"Estrangeira\",\"Brasileira\",\"Estrangeira\",\"Brasileira\",\"Estrangeira\",\"Estrangeira\",\"Estrangeira\",\"Estrangeira\",\"Estrangeira\",\"Estrangeira\",\"Estrangeira\",\"Estrangeira\",\"Estrangeira\",\"Estrangeira\",\"Estrangeira\",\"Brasileira\",\"Brasileira\",\"Estrangeira\",\"Estrangeira\",\"Estrangeira\",\"Estrangeira\",\"Estrangeira\",\"Estrangeira\",\"Estrangeira\",\"Brasileira\",\"Estrangeira\",\"Brasileira\",\"Estrangeira\",\"Estrangeira\",\"Estrangeira\",\"Estrangeira\",\"Estrangeira\",\"Estrangeira\",\"Estrangeira\",\"Brasileira\",\"Estrangeira\",\"Estrangeira\",\"Brasileira\",\"Estrangeira\",\"Estrangeira\",\"Brasileira\",\"Estrangeira\",\"Estrangeira\",\"Estrangeira\",\"Estrangeira\",\"Brasileira\",\"Estrangeira\",\"Estrangeira\",\"Estrangeira\",\"Estrangeira\",\"Estrangeira\",\"Estrangeira\",\"Brasileira\",\"Brasileira\",\"Estrangeira\",\"Estrangeira\",\"Estrangeira\",\"Estrangeira\",\"Brasileira\",\"Estrangeira\",\"Brasileira\",\"Brasileira\",\"Brasileira\",\"Brasileira\",\"Estrangeira\",\"Estrangeira\",\"Estrangeira\",\"Estrangeira\",\"Estrangeira\",\"Estrangeira\",\"Estrangeira\",\"Estrangeira\",\"Brasileira\",\"Brasileira\",\"Brasileira\",\"Brasileira\",\"Estrangeira\",\"Brasileira\",\"Estrangeira\",\"Estrangeira\",\"Estrangeira\",\"Estrangeira\",\"Brasileira\",\"Brasileira\",\"Brasileira\",\"Estrangeira\",\"Estrangeira\",\"Estrangeira\",\"Estrangeira\",\"Estrangeira\",\"Estrangeira\",\"Estrangeira\",\"Estrangeira\",\"Brasileira\",\"Estrangeira\",\"Brasileira\",\"Estrangeira\",\"Estrangeira\",\"Brasileira\",\"Estrangeira\",\"Estrangeira\",\"Estrangeira\",\"Estrangeira\",\"Estrangeira\",\"Estrangeira\",\"Brasileira\",\"Estrangeira\",\"Estrangeira\",\"Estrangeira\",\"Brasileira\",\"Estrangeira\",\"Brasileira\",\"Brasileira\",\"Estrangeira\",\"Brasileira\",\"Estrangeira\",\"Estrangeira\",\"Estrangeira\",\"Estrangeira\",\"Estrangeira\",\"Brasileira\",\"Estrangeira\",\"Brasileira\",\"Brasileira\",\"Estrangeira\",\"Estrangeira\",\"Brasileira\",\"Brasileira\",\"Estrangeira\",\"Estrangeira\",\"Estrangeira\",\"Estrangeira\",\"Estrangeira\",\"Brasileira\",\"Estrangeira\",\"Estrangeira\",\"Estrangeira\",\"Estrangeira\",\"Estrangeira\",\"Estrangeira\",\"Brasileira\",\"Brasileira\",\"Estrangeira\",\"Estrangeira\",\"Brasileira\",\"Estrangeira\",\"Brasileira\",\"Estrangeira\",\"Estrangeira\",\"Estrangeira\",\"Estrangeira\",\"Brasileira\",\"Brasileira\",\"Brasileira\",\"Estrangeira\",\"Estrangeira\",\"Estrangeira\",\"Estrangeira\",\"Estrangeira\",\"Brasileira\",\"Estrangeira\",\"Estrangeira\",\"Estrangeira\",\"Estrangeira\",\"Estrangeira\",\"Estrangeira\",\"Brasileira\",\"Estrangeira\",\"Brasileira\",\"Estrangeira\",\"Estrangeira\",\"Estrangeira\",\"Estrangeira\",\"Brasileira\",\"Estrangeira\",\"Estrangeira\",\"Estrangeira\",\"Estrangeira\",\"Estrangeira\",\"Estrangeira\",\"Estrangeira\",\"Estrangeira\",\"Estrangeira\",\"Brasileira\",\"Brasileira\",\"Brasileira\",\"Brasileira\",\"Brasileira\",\"Estrangeira\",\"Brasileira\",\"Estrangeira\",\"Estrangeira\",\"Brasileira\",\"Estrangeira\",\"Estrangeira\",\"Estrangeira\",\"Brasileira\",\"Brasileira\",\"Estrangeira\",\"Brasileira\",\"Estrangeira\",\"Estrangeira\",\"Estrangeira\",\"Estrangeira\",\"Brasileira\",\"Estrangeira\",\"Brasileira\",\"Estrangeira\",\"Estrangeira\",\"Estrangeira\",\"Estrangeira\",\"Estrangeira\",\"Estrangeira\",\"Estrangeira\",\"Estrangeira\",\"Brasileira\",\"Estrangeira\",\"Estrangeira\",\"Estrangeira\",\"Brasileira\",\"Estrangeira\",\"Brasileira\",\"Estrangeira\",\"Estrangeira\",\"Estrangeira\",\"Estrangeira\",\"Estrangeira\",\"Estrangeira\",\"Estrangeira\",\"Brasileira\",\"Brasileira\",\"Estrangeira\",\"Brasileira\",\"Estrangeira\",\"Estrangeira\",\"Brasileira\",\"Brasileira\",\"Estrangeira\",\"Brasileira\",\"Estrangeira\",\"Estrangeira\",\"Estrangeira\",\"Brasileira\",\"Brasileira\",\"Estrangeira\",\"Estrangeira\",\"Estrangeira\",\"Estrangeira\",\"Estrangeira\",\"Estrangeira\",\"Brasileira\",\"Estrangeira\",\"Estrangeira\",\"Brasileira\",\"Estrangeira\",\"Brasileira\",\"Estrangeira\",\"Estrangeira\",\"Estrangeira\",\"Estrangeira\",\"Estrangeira\",\"Brasileira\",\"Estrangeira\",\"Brasileira\",\"Estrangeira\",\"Estrangeira\",\"Estrangeira\",\"Estrangeira\",\"Estrangeira\",\"Estrangeira\",\"Estrangeira\",\"Brasileira\",\"Estrangeira\",\"Estrangeira\",\"Estrangeira\",\"Estrangeira\",\"Estrangeira\",\"Estrangeira\",\"Brasileira\",\"Brasileira\",\"Estrangeira\",\"Estrangeira\",\"Estrangeira\",\"Estrangeira\",\"Estrangeira\",\"Estrangeira\",\"Estrangeira\",\"Estrangeira\",\"Estrangeira\",\"Estrangeira\",\"Estrangeira\",\"Estrangeira\",\"Estrangeira\",\"Brasileira\",\"Brasileira\",\"Brasileira\",\"Estrangeira\",\"Estrangeira\",\"Estrangeira\",\"Estrangeira\",\"Estrangeira\",\"Brasileira\",\"Estrangeira\",\"Estrangeira\",\"Estrangeira\",\"Estrangeira\",\"Estrangeira\",\"Estrangeira\",\"Estrangeira\",\"Estrangeira\",\"Estrangeira\",\"Estrangeira\",\"Estrangeira\",\"Estrangeira\",\"Estrangeira\",\"Estrangeira\",\"Estrangeira\",\"Estrangeira\",\"Estrangeira\",\"Estrangeira\",\"Estrangeira\",\"Estrangeira\",\"Estrangeira\",\"Brasileira\",\"Estrangeira\",\"Estrangeira\",\"Estrangeira\",\"Brasileira\",\"Estrangeira\",\"Estrangeira\",\"Estrangeira\",\"Estrangeira\",\"Estrangeira\",\"Brasileira\",\"Estrangeira\",\"Estrangeira\",\"Estrangeira\",\"Estrangeira\",\"Brasileira\",\"Estrangeira\",\"Brasileira\",\"Brasileira\",\"Estrangeira\",\"Estrangeira\",\"Estrangeira\",\"Estrangeira\",\"Estrangeira\",\"Estrangeira\",\"Estrangeira\",\"Estrangeira\",\"Estrangeira\",\"Estrangeira\",\"Brasileira\",\"Estrangeira\",\"Brasileira\",\"Brasileira\",\"Estrangeira\",\"Estrangeira\",\"Estrangeira\",\"Estrangeira\",\"Estrangeira\",\"Estrangeira\",\"Estrangeira\",\"Estrangeira\",\"Estrangeira\",\"Estrangeira\",\"Estrangeira\",\"Estrangeira\",\"Estrangeira\",\"Estrangeira\",\"Estrangeira\",\"Brasileira\",\"Brasileira\",\"Brasileira\",\"Brasileira\",\"Brasileira\",\"Estrangeira\",\"Estrangeira\",\"Estrangeira\",\"Estrangeira\",\"Estrangeira\",\"Estrangeira\",\"Estrangeira\",\"Estrangeira\",\"Estrangeira\",\"Estrangeira\",\"Estrangeira\",\"Estrangeira\",\"Estrangeira\",\"Estrangeira\",\"Estrangeira\",\"Estrangeira\",\"Estrangeira\",\"Estrangeira\",\"Brasileira\",\"Estrangeira\",\"Estrangeira\",\"Estrangeira\",\"Brasileira\",\"Estrangeira\",\"Brasileira\",\"Brasileira\",\"Estrangeira\",\"Estrangeira\",\"Estrangeira\",\"Estrangeira\",\"Estrangeira\",\"Brasileira\",\"Estrangeira\",\"Estrangeira\",\"Brasileira\",\"Estrangeira\",\"Estrangeira\",\"Estrangeira\",\"Brasileira\",\"Brasileira\",\"Brasileira\",\"Brasileira\",\"Estrangeira\",\"Estrangeira\",\"Estrangeira\",\"Estrangeira\",\"Brasileira\",\"Estrangeira\",\"Brasileira\",\"Brasileira\",\"Brasileira\",\"Estrangeira\",\"Brasileira\",\"Estrangeira\",\"Estrangeira\",\"Estrangeira\",\"Estrangeira\",\"Brasileira\",\"Brasileira\",\"Brasileira\",\"Estrangeira\",\"Estrangeira\",\"Estrangeira\",\"Brasileira\",\"Estrangeira\",\"Estrangeira\",\"Estrangeira\",\"Estrangeira\",\"Estrangeira\",\"Brasileira\",\"Brasileira\",\"Brasileira\",\"Estrangeira\",\"Brasileira\",\"Estrangeira\",\"Estrangeira\",\"Brasileira\",\"Estrangeira\",\"Estrangeira\",\"Estrangeira\",\"Estrangeira\",\"Estrangeira\",\"Estrangeira\",\"Estrangeira\",\"Estrangeira\",\"Estrangeira\",\"Brasileira\",\"Estrangeira\",\"Estrangeira\",\"Estrangeira\",\"Estrangeira\",\"Brasileira\",\"Brasileira\",\"Estrangeira\",\"Brasileira\",\"Brasileira\",\"Estrangeira\",\"Estrangeira\",\"Brasileira\",\"Estrangeira\",\"Estrangeira\",\"Estrangeira\",\"Brasileira\",\"Estrangeira\",\"Estrangeira\",\"Brasileira\",\"Estrangeira\",\"Estrangeira\",\"Estrangeira\",\"Brasileira\",\"Estrangeira\",\"Estrangeira\",\"Estrangeira\",\"Estrangeira\",\"Estrangeira\",\"Brasileira\",\"Brasileira\",\"Estrangeira\",\"Estrangeira\",\"Estrangeira\",\"Estrangeira\",\"Estrangeira\",\"Estrangeira\",\"Estrangeira\",\"Brasileira\",\"Estrangeira\",\"Brasileira\",\"Brasileira\",\"Brasileira\",\"Estrangeira\",\"Estrangeira\",\"Brasileira\",\"Brasileira\",\"Estrangeira\",\"Brasileira\",\"Brasileira\",\"Estrangeira\",\"Brasileira\",\"Brasileira\",\"Estrangeira\",\"Estrangeira\",\"Estrangeira\",\"Brasileira\",\"Estrangeira\",\"Estrangeira\",\"Estrangeira\",\"Brasileira\",\"Estrangeira\",\"Brasileira\",\"Brasileira\",\"Estrangeira\",\"Estrangeira\",\"Brasileira\",\"Brasileira\",\"Estrangeira\",\"Estrangeira\",\"Estrangeira\",\"Brasileira\",\"Estrangeira\",\"Estrangeira\",\"Estrangeira\",\"Estrangeira\",\"Brasileira\",\"Estrangeira\",\"Estrangeira\",\"Estrangeira\",\"Estrangeira\",\"Estrangeira\",\"Estrangeira\",\"Brasileira\",\"Brasileira\",\"Estrangeira\",\"Estrangeira\",\"Estrangeira\",\"Brasileira\",\"Brasileira\",\"Brasileira\",\"Estrangeira\",\"Estrangeira\",\"Estrangeira\",\"Estrangeira\",\"Estrangeira\",\"Estrangeira\",\"Estrangeira\",\"Estrangeira\",\"Brasileira\",\"Brasileira\",\"Estrangeira\",\"Estrangeira\",\"Brasileira\",\"Brasileira\",\"Estrangeira\",\"Brasileira\",\"Brasileira\",\"Brasileira\",\"Estrangeira\",\"Estrangeira\",\"Estrangeira\",\"Estrangeira\",\"Estrangeira\",\"Brasileira\",\"Estrangeira\",\"Estrangeira\",\"Estrangeira\",\"Estrangeira\",\"Estrangeira\",\"Brasileira\",\"Estrangeira\",\"Estrangeira\",\"Estrangeira\",\"Estrangeira\",\"Estrangeira\",\"Estrangeira\",\"Estrangeira\",\"Estrangeira\",\"Brasileira\",\"Estrangeira\",\"Brasileira\",\"Estrangeira\",\"Estrangeira\",\"Estrangeira\",\"Estrangeira\",\"Estrangeira\",\"Estrangeira\",\"Estrangeira\",\"Brasileira\",\"Estrangeira\",\"Estrangeira\",\"Estrangeira\",\"Estrangeira\",\"Estrangeira\",\"Estrangeira\",\"Estrangeira\",\"Estrangeira\",\"Estrangeira\",\"Estrangeira\",\"Estrangeira\",\"Estrangeira\",\"Estrangeira\",\"Estrangeira\",\"Estrangeira\",\"Estrangeira\",\"Estrangeira\",\"Estrangeira\",\"Estrangeira\",\"Estrangeira\",\"Brasileira\",\"Estrangeira\",\"Estrangeira\",\"Estrangeira\",\"Estrangeira\",\"Brasileira\",\"Estrangeira\",\"Estrangeira\",\"Brasileira\",\"Estrangeira\",\"Estrangeira\",\"Estrangeira\",\"Estrangeira\",\"Estrangeira\",\"Brasileira\",\"Brasileira\",\"Estrangeira\",\"Estrangeira\",\"Brasileira\",\"Estrangeira\",\"Estrangeira\",\"Brasileira\",\"Estrangeira\",\"Estrangeira\",\"Brasileira\",\"Estrangeira\",\"Estrangeira\",\"Brasileira\",\"Estrangeira\",\"Brasileira\",\"Estrangeira\",\"Estrangeira\",\"Estrangeira\",\"Estrangeira\",\"Estrangeira\",\"Estrangeira\",\"Brasileira\",\"Brasileira\",\"Estrangeira\",\"Estrangeira\",\"Estrangeira\",\"Estrangeira\",\"Estrangeira\",\"Estrangeira\",\"Estrangeira\",\"Estrangeira\",\"Brasileira\",\"Estrangeira\",\"Estrangeira\",\"Brasileira\",\"Brasileira\",\"Brasileira\",\"Brasileira\",\"Brasileira\",\"Estrangeira\",\"Brasileira\",\"Estrangeira\",\"Estrangeira\",\"Estrangeira\",\"Brasileira\",\"Estrangeira\",\"Estrangeira\",\"Estrangeira\",\"Brasileira\",\"Brasileira\",\"Estrangeira\",\"Brasileira\",\"Estrangeira\",\"Estrangeira\",\"Estrangeira\",\"Estrangeira\",\"Brasileira\",\"Estrangeira\",\"Estrangeira\",\"Estrangeira\",\"Estrangeira\",\"Estrangeira\",\"Estrangeira\",\"Brasileira\",\"Estrangeira\",\"Estrangeira\",\"Estrangeira\",\"Estrangeira\",\"Brasileira\",\"Estrangeira\",\"Estrangeira\",\"Brasileira\",\"Estrangeira\",\"Brasileira\",\"Brasileira\",\"Estrangeira\",\"Brasileira\",\"Estrangeira\",\"Estrangeira\",\"Estrangeira\",\"Estrangeira\",\"Brasileira\",\"Estrangeira\",\"Estrangeira\",\"Estrangeira\",\"Estrangeira\",\"Estrangeira\",\"Estrangeira\",\"Estrangeira\",\"Brasileira\",\"Estrangeira\",\"Estrangeira\",\"Estrangeira\",\"Brasileira\",\"Estrangeira\",\"Estrangeira\",\"Estrangeira\",\"Brasileira\",\"Estrangeira\",\"Brasileira\",\"Brasileira\",\"Estrangeira\",\"Estrangeira\",\"Brasileira\",\"Estrangeira\",\"Estrangeira\",\"Brasileira\",\"Estrangeira\",\"Estrangeira\",\"Estrangeira\",\"Estrangeira\",\"Estrangeira\",\"Estrangeira\",\"Estrangeira\",\"Estrangeira\",\"Estrangeira\",\"Brasileira\",\"Estrangeira\",\"Brasileira\",\"Estrangeira\",\"Estrangeira\",\"Estrangeira\",\"Estrangeira\",\"Brasileira\",\"Estrangeira\",\"Estrangeira\",\"Estrangeira\",\"Estrangeira\",\"Estrangeira\",\"Estrangeira\",\"Estrangeira\",\"Estrangeira\",\"Estrangeira\",\"Estrangeira\",\"Estrangeira\",\"Estrangeira\",\"Estrangeira\",\"Brasileira\",\"Estrangeira\",\"Brasileira\",\"Brasileira\",\"Brasileira\",\"Estrangeira\",\"Brasileira\",\"Estrangeira\",\"Estrangeira\",\"Estrangeira\",\"Brasileira\",\"Estrangeira\",\"Estrangeira\",\"Brasileira\",\"Estrangeira\",\"Estrangeira\",\"Estrangeira\",\"Brasileira\",\"Brasileira\",\"Estrangeira\",\"Estrangeira\",\"Brasileira\",\"Brasileira\",\"Estrangeira\",\"Estrangeira\",\"Brasileira\",\"Estrangeira\",\"Estrangeira\",\"Brasileira\",\"Brasileira\",\"Estrangeira\",\"Estrangeira\",\"Estrangeira\",\"Estrangeira\",\"Estrangeira\",\"Estrangeira\",\"Brasileira\",\"Estrangeira\",\"Brasileira\",\"Estrangeira\",\"Brasileira\",\"Brasileira\",\"Brasileira\",\"Brasileira\",\"Estrangeira\",\"Brasileira\",\"Estrangeira\",\"Estrangeira\",\"Estrangeira\",\"Estrangeira\",\"Brasileira\",\"Estrangeira\",\"Brasileira\",\"Estrangeira\",\"Estrangeira\",\"Brasileira\",\"Estrangeira\",\"Estrangeira\",\"Estrangeira\",\"Brasileira\",\"Brasileira\",\"Estrangeira\",\"Estrangeira\",\"Estrangeira\",\"Estrangeira\",\"Estrangeira\",\"Brasileira\",\"Estrangeira\",\"Estrangeira\",\"Estrangeira\",\"Estrangeira\",\"Brasileira\",\"Estrangeira\",\"Estrangeira\",\"Brasileira\",\"Estrangeira\",\"Brasileira\",\"Brasileira\",\"Brasileira\",\"Brasileira\",\"Estrangeira\",\"Estrangeira\",\"Estrangeira\",\"Estrangeira\",\"Brasileira\",\"Estrangeira\",\"Estrangeira\",\"Estrangeira\",\"Brasileira\",\"Estrangeira\",\"Estrangeira\",\"Estrangeira\",\"Brasileira\",\"Estrangeira\",\"Brasileira\",\"Estrangeira\",\"Brasileira\",\"Estrangeira\",\"Brasileira\",\"Estrangeira\",\"Estrangeira\",\"Estrangeira\",\"Brasileira\",\"Estrangeira\",\"Brasileira\",\"Estrangeira\",\"Estrangeira\",\"Estrangeira\",\"Estrangeira\",\"Brasileira\",\"Estrangeira\",\"Estrangeira\",\"Estrangeira\",\"Brasileira\",\"Estrangeira\",\"Brasileira\",\"Estrangeira\",\"Estrangeira\",\"Estrangeira\",\"Brasileira\",\"Estrangeira\",\"Estrangeira\",\"Estrangeira\",\"Estrangeira\",\"Estrangeira\",\"Estrangeira\",\"Brasileira\",\"Estrangeira\",\"Estrangeira\",\"Estrangeira\",\"Brasileira\",\"Brasileira\",\"Brasileira\",\"Estrangeira\",\"Estrangeira\",\"Estrangeira\",\"Estrangeira\",\"Estrangeira\",\"Estrangeira\",\"Estrangeira\",\"Brasileira\",\"Estrangeira\",\"Estrangeira\",\"Brasileira\",\"Brasileira\",\"Brasileira\",\"Brasileira\",\"Estrangeira\",\"Brasileira\",\"Brasileira\",\"Estrangeira\",\"Estrangeira\",\"Estrangeira\",\"Estrangeira\",\"Estrangeira\",\"Estrangeira\",\"Brasileira\",\"Estrangeira\",\"Brasileira\",\"Estrangeira\",\"Brasileira\",\"Estrangeira\",\"Estrangeira\",\"Brasileira\",\"Estrangeira\",\"Estrangeira\",\"Estrangeira\",\"Estrangeira\",\"Estrangeira\",\"Brasileira\",\"Estrangeira\",\"Estrangeira\",\"Brasileira\",\"Estrangeira\",\"Brasileira\",\"Estrangeira\",\"Estrangeira\",\"Estrangeira\",\"Estrangeira\",\"Estrangeira\",\"Estrangeira\",\"Estrangeira\",\"Estrangeira\",\"Estrangeira\",\"Estrangeira\",\"Estrangeira\",\"Estrangeira\",\"Brasileira\",\"Brasileira\",\"Estrangeira\",\"Brasileira\",\"Estrangeira\",\"Estrangeira\",\"Estrangeira\",\"Brasileira\",\"Brasileira\",\"Estrangeira\",\"Brasileira\",\"Estrangeira\",\"Brasileira\",\"Estrangeira\",\"Brasileira\",\"Estrangeira\",\"Estrangeira\",\"Estrangeira\",\"Estrangeira\",\"Brasileira\",\"Estrangeira\",\"Estrangeira\",\"Estrangeira\",\"Estrangeira\",\"Estrangeira\",\"Estrangeira\",\"Estrangeira\",\"Estrangeira\",\"Estrangeira\",\"Estrangeira\",\"Brasileira\",\"Estrangeira\",\"Estrangeira\",\"Estrangeira\",\"Estrangeira\",\"Brasileira\",\"Brasileira\",\"Estrangeira\",\"Brasileira\",\"Estrangeira\",\"Estrangeira\",\"Brasileira\",\"Estrangeira\",\"Brasileira\",\"Estrangeira\",\"Estrangeira\",\"Estrangeira\",\"Brasileira\",\"Estrangeira\",\"Brasileira\",\"Estrangeira\",\"Brasileira\",\"Estrangeira\",\"Estrangeira\",\"Estrangeira\",\"Estrangeira\",\"Estrangeira\",\"Estrangeira\",\"Estrangeira\",\"Brasileira\",\"Estrangeira\",\"Estrangeira\",\"Estrangeira\",\"Estrangeira\",\"Estrangeira\",\"Estrangeira\",\"Estrangeira\",\"Brasileira\",\"Estrangeira\",\"Estrangeira\",\"Estrangeira\",\"Estrangeira\",\"Estrangeira\",\"Estrangeira\",\"Estrangeira\",\"Estrangeira\",\"Estrangeira\",\"Estrangeira\",\"Estrangeira\",\"Estrangeira\",\"Estrangeira\",\"Brasileira\",\"Estrangeira\",\"Estrangeira\",\"Brasileira\",\"Estrangeira\",\"Estrangeira\",\"Estrangeira\",\"Brasileira\",\"Brasileira\",\"Estrangeira\",\"Estrangeira\",\"Estrangeira\",\"Estrangeira\",\"Estrangeira\",\"Estrangeira\",\"Brasileira\",\"Brasileira\",\"Estrangeira\",\"Brasileira\",\"Estrangeira\",\"Estrangeira\",\"Brasileira\",\"Estrangeira\",\"Estrangeira\",\"Estrangeira\",\"Estrangeira\",\"Estrangeira\",\"Estrangeira\",\"Estrangeira\",\"Brasileira\",\"Brasileira\",\"Estrangeira\",\"Brasileira\",\"Estrangeira\",\"Estrangeira\",\"Estrangeira\",\"Brasileira\",\"Estrangeira\",\"Estrangeira\",\"Estrangeira\",\"Estrangeira\",\"Estrangeira\",\"Estrangeira\",\"Estrangeira\",\"Brasileira\",\"Estrangeira\",\"Brasileira\",\"Estrangeira\",\"Estrangeira\",\"Estrangeira\",\"Estrangeira\",\"Estrangeira\",\"Estrangeira\",\"Estrangeira\",\"Estrangeira\",\"Estrangeira\",\"Brasileira\",\"Estrangeira\",\"Estrangeira\",\"Estrangeira\",\"Brasileira\",\"Brasileira\",\"Estrangeira\",\"Estrangeira\",\"Estrangeira\",\"Estrangeira\",\"Estrangeira\",\"Brasileira\",\"Estrangeira\",\"Estrangeira\",\"Estrangeira\",\"Brasileira\",\"Estrangeira\",\"Estrangeira\",\"Estrangeira\",\"Estrangeira\",\"Estrangeira\",\"Brasileira\",\"Brasileira\",\"Brasileira\",\"Estrangeira\",\"Estrangeira\",\"Brasileira\",\"Estrangeira\",\"Estrangeira\",\"Estrangeira\",\"Brasileira\",\"Estrangeira\",\"Estrangeira\",\"Estrangeira\",\"Estrangeira\",\"Estrangeira\",\"Estrangeira\",\"Estrangeira\",\"Brasileira\",\"Brasileira\",\"Estrangeira\",\"Estrangeira\",\"Brasileira\",\"Brasileira\",\"Brasileira\",\"Brasileira\",\"Brasileira\",\"Estrangeira\",\"Estrangeira\",\"Estrangeira\",\"Estrangeira\",\"Brasileira\",\"Estrangeira\",\"Estrangeira\",\"Estrangeira\",\"Estrangeira\",\"Estrangeira\",\"Estrangeira\",\"Brasileira\",\"Estrangeira\",\"Brasileira\",\"Estrangeira\",\"Estrangeira\",\"Estrangeira\",\"Brasileira\",\"Estrangeira\",\"Brasileira\",\"Estrangeira\",\"Estrangeira\",\"Estrangeira\",\"Estrangeira\",\"Estrangeira\",\"Estrangeira\",\"Estrangeira\",\"Brasileira\",\"Estrangeira\",\"Estrangeira\",\"Brasileira\",\"Estrangeira\",\"Estrangeira\",\"Estrangeira\",\"Brasileira\",\"Brasileira\",\"Estrangeira\",\"Estrangeira\",\"Estrangeira\",\"Estrangeira\",\"Brasileira\",\"Estrangeira\",\"Brasileira\",\"Estrangeira\",\"Brasileira\",\"Estrangeira\",\"Estrangeira\",\"Estrangeira\",\"Brasileira\",\"Estrangeira\",\"Estrangeira\",\"Brasileira\",\"Brasileira\",\"Estrangeira\",\"Brasileira\",\"Brasileira\",\"Brasileira\",\"Estrangeira\",\"Estrangeira\",\"Estrangeira\",\"Brasileira\",\"Brasileira\",\"Brasileira\",\"Brasileira\",\"Estrangeira\",\"Estrangeira\",\"Brasileira\",\"Brasileira\",\"Estrangeira\",\"Brasileira\",\"Estrangeira\",\"Estrangeira\",\"Estrangeira\",\"Estrangeira\",\"Estrangeira\",\"Estrangeira\",\"Estrangeira\",\"Estrangeira\",\"Brasileira\",\"Estrangeira\",\"Estrangeira\",\"Estrangeira\",\"Estrangeira\",\"Estrangeira\",\"Brasileira\",\"Estrangeira\",\"Estrangeira\",\"Brasileira\",\"Estrangeira\",\"Estrangeira\",\"Brasileira\",\"Estrangeira\",\"Brasileira\",\"Brasileira\",\"Estrangeira\",\"Estrangeira\",\"Estrangeira\",\"Estrangeira\",\"Estrangeira\",\"Brasileira\",\"Brasileira\",\"Estrangeira\",\"Estrangeira\",\"Estrangeira\",\"Estrangeira\",\"Estrangeira\",\"Estrangeira\",\"Brasileira\",\"Estrangeira\",\"Brasileira\",\"Estrangeira\",\"Estrangeira\",\"Estrangeira\",\"Estrangeira\",\"Brasileira\",\"Brasileira\",\"Estrangeira\",\"Brasileira\",\"Estrangeira\",\"Estrangeira\",\"Estrangeira\",\"Estrangeira\",\"Estrangeira\",\"Estrangeira\",\"Estrangeira\",\"Brasileira\",\"Estrangeira\",\"Estrangeira\",\"Brasileira\",\"Brasileira\",\"Estrangeira\",\"Brasileira\",\"Estrangeira\",\"Estrangeira\",\"Estrangeira\",\"Estrangeira\",\"Brasileira\",\"Brasileira\",\"Brasileira\",\"Estrangeira\",\"Estrangeira\",\"Brasileira\",\"Brasileira\",\"Estrangeira\",\"Brasileira\",\"Estrangeira\",\"Brasileira\",\"Brasileira\",\"Estrangeira\",\"Estrangeira\",\"Estrangeira\",\"Estrangeira\",\"Estrangeira\",\"Estrangeira\",\"Brasileira\",\"Brasileira\",\"Estrangeira\",\"Estrangeira\",\"Estrangeira\",\"Brasileira\",\"Estrangeira\",\"Estrangeira\",\"Estrangeira\",\"Estrangeira\",\"Estrangeira\",\"Estrangeira\",\"Estrangeira\",\"Estrangeira\",\"Estrangeira\",\"Estrangeira\",\"Estrangeira\",\"Estrangeira\",\"Estrangeira\",\"Estrangeira\",\"Estrangeira\",\"Estrangeira\",\"Estrangeira\",\"Estrangeira\",\"Estrangeira\",\"Estrangeira\",\"Brasileira\",\"Estrangeira\",\"Estrangeira\",\"Estrangeira\",\"Estrangeira\",\"Estrangeira\",\"Estrangeira\",\"Brasileira\",\"Brasileira\",\"Estrangeira\",\"Estrangeira\",\"Estrangeira\",\"Estrangeira\",\"Brasileira\",\"Estrangeira\",\"Brasileira\",\"Brasileira\",\"Estrangeira\",\"Brasileira\",\"Brasileira\",\"Estrangeira\",\"Estrangeira\",\"Estrangeira\",\"Estrangeira\",\"Estrangeira\",\"Estrangeira\",\"Brasileira\",\"Estrangeira\",\"Brasileira\",\"Estrangeira\",\"Estrangeira\",\"Brasileira\",\"Brasileira\",\"Estrangeira\",\"Brasileira\",\"Estrangeira\",\"Brasileira\",\"Estrangeira\",\"Brasileira\",\"Brasileira\",\"Brasileira\",\"Estrangeira\",\"Estrangeira\",\"Estrangeira\",\"Brasileira\",\"Estrangeira\",\"Estrangeira\",\"Brasileira\",\"Estrangeira\",\"Estrangeira\",\"Estrangeira\",\"Estrangeira\",\"Estrangeira\",\"Brasileira\",\"Estrangeira\",\"Estrangeira\",\"Estrangeira\",\"Estrangeira\",\"Estrangeira\",\"Estrangeira\",\"Estrangeira\",\"Brasileira\",\"Estrangeira\",\"Estrangeira\",\"Estrangeira\",\"Brasileira\",\"Estrangeira\",\"Estrangeira\",\"Estrangeira\",\"Brasileira\",\"Estrangeira\",\"Estrangeira\",\"Estrangeira\",\"Brasileira\",\"Estrangeira\",\"Brasileira\",\"Estrangeira\",\"Estrangeira\",\"Estrangeira\",\"Estrangeira\",\"Estrangeira\",\"Estrangeira\",\"Estrangeira\",\"Brasileira\",\"Estrangeira\",\"Estrangeira\",\"Estrangeira\",\"Estrangeira\",\"Estrangeira\",\"Estrangeira\",\"Estrangeira\",\"Estrangeira\",\"Estrangeira\",\"Estrangeira\",\"Estrangeira\",\"Estrangeira\",\"Estrangeira\",\"Brasileira\",\"Brasileira\",\"Brasileira\",\"Brasileira\",\"Estrangeira\",\"Estrangeira\",\"Brasileira\",\"Brasileira\",\"Estrangeira\",\"Brasileira\",\"Estrangeira\",\"Estrangeira\",\"Estrangeira\",\"Estrangeira\",\"Estrangeira\",\"Estrangeira\",\"Estrangeira\",\"Estrangeira\",\"Estrangeira\",\"Estrangeira\",\"Estrangeira\",\"Estrangeira\",\"Estrangeira\",\"Estrangeira\",\"Brasileira\",\"Estrangeira\",\"Brasileira\",\"Estrangeira\",\"Brasileira\",\"Estrangeira\",\"Estrangeira\",\"Brasileira\",\"Estrangeira\",\"Estrangeira\",\"Brasileira\",\"Estrangeira\",\"Brasileira\",\"Estrangeira\",\"Estrangeira\",\"Estrangeira\",\"Estrangeira\",\"Estrangeira\",\"Estrangeira\",\"Estrangeira\",\"Estrangeira\",\"Estrangeira\",\"Estrangeira\",\"Estrangeira\",\"Estrangeira\",\"Estrangeira\",\"Estrangeira\",\"Brasileira\",\"Estrangeira\",\"Estrangeira\",\"Brasileira\",\"Estrangeira\",\"Brasileira\",\"Brasileira\",\"Estrangeira\",\"Estrangeira\",\"Estrangeira\",\"Estrangeira\",\"Estrangeira\",\"Estrangeira\",\"Estrangeira\",\"Estrangeira\",\"Estrangeira\",\"Estrangeira\",\"Estrangeira\",\"Estrangeira\",\"Estrangeira\",\"Brasileira\",\"Estrangeira\",\"Estrangeira\",\"Brasileira\",\"Estrangeira\",\"Estrangeira\",\"Estrangeira\",\"Estrangeira\",\"Estrangeira\",\"Brasileira\",\"Brasileira\",\"Estrangeira\",\"Estrangeira\",\"Estrangeira\",\"Brasileira\",\"Estrangeira\",\"Brasileira\",\"Estrangeira\",\"Estrangeira\",\"Brasileira\",\"Estrangeira\",\"Estrangeira\",\"Estrangeira\",\"Estrangeira\",\"Estrangeira\",\"Estrangeira\",\"Estrangeira\",\"Brasileira\",\"Estrangeira\",\"Brasileira\",\"Brasileira\",\"Estrangeira\",\"Brasileira\",\"Estrangeira\",\"Estrangeira\",\"Estrangeira\",\"Estrangeira\",\"Estrangeira\",\"Estrangeira\",\"Estrangeira\",\"Estrangeira\",\"Estrangeira\",\"Estrangeira\",\"Estrangeira\",\"Estrangeira\",\"Estrangeira\",\"Estrangeira\",\"Estrangeira\",\"Estrangeira\",\"Estrangeira\",\"Brasileira\",\"Estrangeira\",\"Estrangeira\",\"Estrangeira\",\"Brasileira\",\"Brasileira\",\"Estrangeira\",\"Estrangeira\",\"Estrangeira\",\"Brasileira\",\"Brasileira\",\"Brasileira\",\"Estrangeira\",\"Estrangeira\",\"Estrangeira\",\"Estrangeira\",\"Estrangeira\",\"Brasileira\",\"Brasileira\",\"Estrangeira\",\"Brasileira\",\"Brasileira\",\"Estrangeira\",\"Estrangeira\",\"Brasileira\",\"Estrangeira\",\"Estrangeira\",\"Brasileira\",\"Brasileira\",\"Brasileira\",\"Estrangeira\",\"Brasileira\",\"Estrangeira\",\"Estrangeira\",\"Brasileira\",\"Estrangeira\",\"Brasileira\",\"Estrangeira\",\"Estrangeira\",\"Estrangeira\",\"Brasileira\",\"Estrangeira\",\"Estrangeira\",\"Estrangeira\",\"Estrangeira\",\"Estrangeira\",\"Brasileira\",\"Estrangeira\",\"Brasileira\",\"Brasileira\",\"Estrangeira\",\"Brasileira\",\"Brasileira\",\"Estrangeira\",\"Estrangeira\",\"Estrangeira\",\"Estrangeira\",\"Estrangeira\",\"Estrangeira\",\"Estrangeira\",\"Estrangeira\",\"Estrangeira\",\"Estrangeira\",\"Estrangeira\",\"Brasileira\",\"Brasileira\",\"Brasileira\",\"Estrangeira\",\"Estrangeira\",\"Estrangeira\",\"Estrangeira\",\"Brasileira\",\"Estrangeira\",\"Brasileira\",\"Brasileira\",\"Estrangeira\",\"Brasileira\",\"Estrangeira\",\"Estrangeira\",\"Estrangeira\",\"Brasileira\",\"Estrangeira\",\"Brasileira\",\"Estrangeira\",\"Estrangeira\",\"Estrangeira\",\"Estrangeira\",\"Estrangeira\",\"Estrangeira\",\"Brasileira\",\"Brasileira\",\"Estrangeira\",\"Estrangeira\",\"Estrangeira\",\"Brasileira\",\"Brasileira\",\"Estrangeira\",\"Estrangeira\",\"Estrangeira\",\"Estrangeira\",\"Estrangeira\",\"Estrangeira\",\"Brasileira\",\"Estrangeira\",\"Estrangeira\",\"Estrangeira\",\"Estrangeira\",\"Estrangeira\",\"Estrangeira\",\"Estrangeira\",\"Estrangeira\",\"Brasileira\",\"Estrangeira\",\"Estrangeira\",\"Brasileira\",\"Estrangeira\",\"Estrangeira\",\"Estrangeira\",\"Estrangeira\",\"Brasileira\",\"Estrangeira\",\"Estrangeira\",\"Estrangeira\",\"Brasileira\",\"Brasileira\",\"Estrangeira\",\"Brasileira\",\"Brasileira\",\"Estrangeira\",\"Estrangeira\",\"Estrangeira\",\"Estrangeira\",\"Estrangeira\",\"Estrangeira\",\"Brasileira\",\"Estrangeira\",\"Estrangeira\",\"Estrangeira\",\"Estrangeira\",\"Estrangeira\",\"Estrangeira\",\"Estrangeira\",\"Estrangeira\",\"Estrangeira\",\"Estrangeira\",\"Estrangeira\",\"Estrangeira\",\"Brasileira\",\"Brasileira\",\"Estrangeira\",\"Estrangeira\",\"Estrangeira\",\"Estrangeira\",\"Estrangeira\",\"Estrangeira\",\"Estrangeira\",\"Estrangeira\",\"Estrangeira\",\"Brasileira\",\"Brasileira\",\"Estrangeira\",\"Brasileira\",\"Estrangeira\",\"Brasileira\",\"Estrangeira\",\"Estrangeira\",\"Brasileira\",\"Estrangeira\",\"Estrangeira\",\"Estrangeira\",\"Brasileira\",\"Estrangeira\",\"Estrangeira\",\"Estrangeira\",\"Estrangeira\",\"Estrangeira\",\"Brasileira\",\"Estrangeira\",\"Estrangeira\",\"Estrangeira\",\"Estrangeira\",\"Estrangeira\",\"Brasileira\",\"Estrangeira\",\"Estrangeira\",\"Estrangeira\",\"Estrangeira\",\"Estrangeira\",\"Estrangeira\",\"Brasileira\",\"Brasileira\",\"Brasileira\",\"Estrangeira\",\"Estrangeira\",\"Estrangeira\",\"Estrangeira\",\"Estrangeira\",\"Brasileira\",\"Brasileira\",\"Brasileira\",\"Estrangeira\",\"Estrangeira\",\"Estrangeira\",\"Estrangeira\",\"Estrangeira\",\"Estrangeira\",\"Estrangeira\",\"Estrangeira\",\"Brasileira\",\"Estrangeira\",\"Estrangeira\",\"Estrangeira\",\"Estrangeira\",\"Estrangeira\",\"Estrangeira\",\"Estrangeira\",\"Estrangeira\",\"Estrangeira\",\"Brasileira\",\"Estrangeira\",\"Estrangeira\",\"Estrangeira\",\"Estrangeira\",\"Estrangeira\",\"Estrangeira\",\"Estrangeira\",\"Estrangeira\",\"Estrangeira\",\"Estrangeira\",\"Estrangeira\",\"Estrangeira\",\"Brasileira\",\"Brasileira\",\"Brasileira\",\"Estrangeira\",\"Estrangeira\",\"Brasileira\",\"Brasileira\",\"Estrangeira\",\"Estrangeira\",\"Estrangeira\",\"Estrangeira\",\"Brasileira\",\"Estrangeira\",\"Estrangeira\",\"Estrangeira\",\"Estrangeira\",\"Estrangeira\",\"Estrangeira\",\"Estrangeira\",\"Brasileira\",\"Estrangeira\",\"Estrangeira\",\"Estrangeira\",\"Estrangeira\",\"Estrangeira\",\"Brasileira\",\"Estrangeira\",\"Estrangeira\",\"Brasileira\",\"Brasileira\",\"Estrangeira\",\"Brasileira\",\"Estrangeira\",\"Brasileira\",\"Estrangeira\",\"Estrangeira\",\"Brasileira\",\"Estrangeira\",\"Estrangeira\",\"Estrangeira\",\"Estrangeira\",\"Estrangeira\",\"Estrangeira\",\"Estrangeira\",\"Brasileira\",\"Brasileira\",\"Estrangeira\",\"Estrangeira\",\"Brasileira\",\"Estrangeira\",\"Estrangeira\",\"Brasileira\",\"Estrangeira\",\"Estrangeira\",\"Estrangeira\",\"Estrangeira\",\"Estrangeira\",\"Estrangeira\",\"Estrangeira\",\"Brasileira\",\"Estrangeira\",\"Estrangeira\",\"Estrangeira\",\"Estrangeira\",\"Brasileira\",\"Estrangeira\",\"Estrangeira\",\"Estrangeira\",\"Estrangeira\",\"Estrangeira\",\"Brasileira\",\"Estrangeira\",\"Brasileira\",\"Brasileira\",\"Estrangeira\",\"Estrangeira\",\"Estrangeira\",\"Estrangeira\",\"Estrangeira\",\"Estrangeira\",\"Estrangeira\",\"Estrangeira\",\"Estrangeira\",\"Brasileira\",\"Brasileira\",\"Brasileira\",\"Estrangeira\",\"Brasileira\",\"Estrangeira\",\"Brasileira\",\"Estrangeira\",\"Estrangeira\",\"Estrangeira\",\"Brasileira\",\"Estrangeira\",\"Estrangeira\",\"Estrangeira\",\"Estrangeira\",\"Brasileira\",\"Estrangeira\",\"Estrangeira\",\"Estrangeira\",\"Brasileira\",\"Estrangeira\",\"Brasileira\",\"Estrangeira\",\"Brasileira\",\"Estrangeira\",\"Estrangeira\",\"Estrangeira\",\"Estrangeira\",\"Estrangeira\",\"Brasileira\",\"Brasileira\",\"Estrangeira\",\"Estrangeira\",\"Estrangeira\",\"Estrangeira\",\"Estrangeira\",\"Estrangeira\",\"Brasileira\",\"Estrangeira\",\"Estrangeira\",\"Estrangeira\",\"Estrangeira\",\"Brasileira\",\"Estrangeira\",\"Estrangeira\",\"Estrangeira\",\"Brasileira\",\"Estrangeira\",\"Estrangeira\",\"Estrangeira\",\"Estrangeira\",\"Brasileira\",\"Estrangeira\",\"Estrangeira\",\"Brasileira\",\"Estrangeira\",\"Estrangeira\",\"Estrangeira\",\"Estrangeira\",\"Brasileira\",\"Brasileira\",\"Estrangeira\",\"Brasileira\",\"Estrangeira\",\"Estrangeira\",\"Estrangeira\",\"Estrangeira\",\"Estrangeira\",\"Estrangeira\",\"Estrangeira\",\"Estrangeira\",\"Estrangeira\",\"Estrangeira\",\"Brasileira\",\"Estrangeira\",\"Estrangeira\",\"Estrangeira\",\"Brasileira\",\"Estrangeira\",\"Estrangeira\",\"Estrangeira\",\"Estrangeira\",\"Estrangeira\",\"Estrangeira\",\"Estrangeira\",\"Brasileira\",\"Brasileira\",\"Estrangeira\",\"Estrangeira\",\"Estrangeira\",\"Estrangeira\",\"Estrangeira\",\"Estrangeira\",\"Estrangeira\",\"Brasileira\",\"Brasileira\",\"Estrangeira\",\"Estrangeira\",\"Estrangeira\",\"Estrangeira\",\"Estrangeira\",\"Estrangeira\",\"Brasileira\",\"Brasileira\",\"Brasileira\",\"Brasileira\",\"Brasileira\",\"Estrangeira\",\"Estrangeira\",\"Estrangeira\",\"Estrangeira\",\"Brasileira\",\"Brasileira\",\"Estrangeira\",\"Brasileira\",\"Estrangeira\",\"Brasileira\",\"Brasileira\",\"Brasileira\",\"Brasileira\",\"Estrangeira\",\"Brasileira\",\"Estrangeira\",\"Brasileira\",\"Estrangeira\",\"Estrangeira\",\"Brasileira\",\"Estrangeira\",\"Estrangeira\",\"Estrangeira\",\"Estrangeira\",\"Brasileira\",\"Brasileira\",\"Estrangeira\",\"Estrangeira\",\"Estrangeira\",\"Estrangeira\",\"Estrangeira\",\"Estrangeira\",\"Brasileira\",\"Brasileira\",\"Brasileira\",\"Estrangeira\",\"Estrangeira\",\"Brasileira\",\"Estrangeira\",\"Estrangeira\",\"Brasileira\",\"Brasileira\",\"Estrangeira\",\"Estrangeira\",\"Brasileira\",\"Brasileira\",\"Estrangeira\",\"Estrangeira\",\"Estrangeira\",\"Brasileira\",\"Brasileira\",\"Estrangeira\",\"Estrangeira\",\"Brasileira\",\"Estrangeira\",\"Brasileira\",\"Brasileira\",\"Estrangeira\",\"Brasileira\",\"Estrangeira\",\"Estrangeira\",\"Estrangeira\",\"Estrangeira\",\"Brasileira\",\"Estrangeira\",\"Estrangeira\",\"Estrangeira\",\"Estrangeira\",\"Estrangeira\",\"Brasileira\",\"Estrangeira\",\"Brasileira\",\"Estrangeira\",\"Estrangeira\",\"Estrangeira\",\"Estrangeira\",\"Estrangeira\",\"Estrangeira\",\"Estrangeira\",\"Brasileira\",\"Estrangeira\",\"Estrangeira\",\"Estrangeira\",\"Brasileira\",\"Estrangeira\",\"Estrangeira\",\"Estrangeira\",\"Brasileira\",\"Brasileira\",\"Estrangeira\",\"Estrangeira\",\"Estrangeira\",\"Estrangeira\",\"Estrangeira\",\"Estrangeira\",\"Estrangeira\",\"Estrangeira\",\"Estrangeira\",\"Estrangeira\",\"Estrangeira\",\"Estrangeira\",\"Estrangeira\",\"Estrangeira\",\"Estrangeira\",\"Estrangeira\",\"Estrangeira\",\"Estrangeira\",\"Estrangeira\",\"Estrangeira\",\"Estrangeira\",\"Estrangeira\",\"Estrangeira\",\"Brasileira\",\"Estrangeira\",\"Estrangeira\",\"Estrangeira\",\"Estrangeira\",\"Brasileira\",\"Estrangeira\",\"Estrangeira\",\"Estrangeira\",\"Brasileira\",\"Estrangeira\",\"Estrangeira\",\"Estrangeira\",\"Estrangeira\",\"Estrangeira\",\"Estrangeira\",\"Estrangeira\",\"Estrangeira\",\"Brasileira\",\"Estrangeira\",\"Brasileira\",\"Brasileira\",\"Estrangeira\",\"Brasileira\",\"Estrangeira\",\"Estrangeira\",\"Brasileira\",\"Brasileira\",\"Estrangeira\",\"Estrangeira\",\"Brasileira\",\"Estrangeira\",\"Estrangeira\",\"Estrangeira\",\"Brasileira\",\"Brasileira\",\"Estrangeira\",\"Estrangeira\",\"Estrangeira\",\"Estrangeira\",\"Estrangeira\",\"Estrangeira\",\"Estrangeira\",\"Brasileira\",\"Estrangeira\",\"Estrangeira\",\"Estrangeira\",\"Estrangeira\",\"Brasileira\",\"Brasileira\",\"Brasileira\",\"Estrangeira\",\"Estrangeira\",\"Estrangeira\",\"Brasileira\",\"Estrangeira\",\"Estrangeira\",\"Estrangeira\",\"Estrangeira\",\"Estrangeira\",\"Estrangeira\",\"Estrangeira\",\"Estrangeira\",\"Brasileira\",\"Brasileira\",\"Estrangeira\",\"Estrangeira\",\"Estrangeira\",\"Estrangeira\",\"Estrangeira\",\"Brasileira\",\"Estrangeira\",\"Estrangeira\",\"Estrangeira\",\"Brasileira\",\"Brasileira\",\"Brasileira\",\"Brasileira\",\"Estrangeira\",\"Estrangeira\",\"Estrangeira\",\"Brasileira\",\"Brasileira\",\"Estrangeira\",\"Estrangeira\",\"Estrangeira\",\"Brasileira\",\"Brasileira\",\"Estrangeira\",\"Estrangeira\",\"Estrangeira\",\"Brasileira\",\"Brasileira\",\"Estrangeira\",\"Brasileira\",\"Brasileira\",\"Brasileira\",\"Brasileira\",\"Estrangeira\",\"Estrangeira\",\"Estrangeira\",\"Estrangeira\",\"Estrangeira\",\"Estrangeira\",\"Estrangeira\",\"Estrangeira\",\"Brasileira\",\"Brasileira\",\"Estrangeira\",\"Estrangeira\",\"Estrangeira\",\"Brasileira\",\"Estrangeira\",\"Brasileira\",\"Estrangeira\",\"Estrangeira\",\"Estrangeira\",\"Estrangeira\",\"Brasileira\",\"Estrangeira\",\"Brasileira\",\"Estrangeira\",\"Estrangeira\",\"Estrangeira\",\"Estrangeira\",\"Brasileira\",\"Estrangeira\",\"Estrangeira\",\"Estrangeira\",\"Estrangeira\",\"Estrangeira\",\"Estrangeira\",\"Brasileira\",\"Estrangeira\",\"Estrangeira\",\"Estrangeira\",\"Estrangeira\",\"Estrangeira\",\"Estrangeira\",\"Estrangeira\",\"Brasileira\",\"Estrangeira\",\"Estrangeira\",\"Estrangeira\",\"Estrangeira\",\"Estrangeira\",\"Brasileira\",\"Estrangeira\",\"Estrangeira\",\"Estrangeira\",\"Estrangeira\",\"Estrangeira\",\"Estrangeira\",\"Estrangeira\",\"Brasileira\",\"Estrangeira\",\"Estrangeira\",\"Estrangeira\",\"Estrangeira\",\"Brasileira\",\"Brasileira\",\"Estrangeira\",\"Brasileira\",\"Estrangeira\",\"Estrangeira\",\"Estrangeira\",\"Estrangeira\",\"Estrangeira\",\"Estrangeira\",\"Estrangeira\",\"Estrangeira\",\"Estrangeira\",\"Estrangeira\",\"Estrangeira\",\"Estrangeira\",\"Estrangeira\",\"Estrangeira\",\"Estrangeira\",\"Brasileira\",\"Brasileira\",\"Brasileira\",\"Estrangeira\",\"Estrangeira\",\"Estrangeira\",\"Brasileira\",\"Brasileira\",\"Estrangeira\",\"Brasileira\",\"Estrangeira\",\"Estrangeira\",\"Estrangeira\",\"Estrangeira\",\"Estrangeira\",\"Brasileira\",\"Estrangeira\",\"Estrangeira\",\"Brasileira\",\"Estrangeira\",\"Estrangeira\",\"Brasileira\",\"Estrangeira\",\"Estrangeira\",\"Brasileira\",\"Estrangeira\",\"Estrangeira\",\"Estrangeira\",\"Brasileira\",\"Estrangeira\",\"Estrangeira\",\"Brasileira\",\"Estrangeira\",\"Estrangeira\",\"Estrangeira\",\"Estrangeira\",\"Estrangeira\",\"Estrangeira\",\"Estrangeira\",\"Brasileira\",\"Estrangeira\",\"Estrangeira\",\"Estrangeira\",\"Estrangeira\",\"Brasileira\",\"Brasileira\",\"Estrangeira\",\"Brasileira\",\"Estrangeira\",\"Estrangeira\",\"Estrangeira\",\"Estrangeira\",\"Estrangeira\",\"Estrangeira\",\"Estrangeira\",\"Estrangeira\",\"Brasileira\",\"Estrangeira\",\"Brasileira\",\"Brasileira\",\"Estrangeira\",\"Estrangeira\",\"Estrangeira\",\"Estrangeira\",\"Estrangeira\",\"Estrangeira\",\"Brasileira\",\"Estrangeira\",\"Estrangeira\",\"Estrangeira\",\"Brasileira\",\"Estrangeira\",\"Estrangeira\",\"Estrangeira\",\"Estrangeira\",\"Estrangeira\",\"Estrangeira\",\"Estrangeira\",\"Brasileira\",\"Estrangeira\",\"Brasileira\",\"Estrangeira\",\"Brasileira\",\"Brasileira\",\"Brasileira\",\"Brasileira\",\"Estrangeira\",\"Estrangeira\",\"Estrangeira\",\"Estrangeira\",\"Brasileira\",\"Estrangeira\",\"Estrangeira\",\"Brasileira\",\"Estrangeira\",\"Estrangeira\",\"Estrangeira\",\"Estrangeira\",\"Estrangeira\",\"Estrangeira\",\"Brasileira\",\"Brasileira\",\"Estrangeira\",\"Brasileira\",\"Estrangeira\",\"Brasileira\",\"Estrangeira\",\"Estrangeira\",\"Brasileira\",\"Estrangeira\",\"Estrangeira\",\"Estrangeira\",\"Estrangeira\",\"Estrangeira\",\"Brasileira\",\"Estrangeira\",\"Estrangeira\",\"Brasileira\",\"Brasileira\",\"Estrangeira\",\"Brasileira\",\"Estrangeira\",\"Estrangeira\",\"Estrangeira\",\"Brasileira\",\"Brasileira\",\"Estrangeira\",\"Brasileira\",\"Estrangeira\",\"Estrangeira\",\"Brasileira\",\"Estrangeira\",\"Brasileira\",\"Estrangeira\",\"Estrangeira\",\"Estrangeira\",\"Estrangeira\",\"Estrangeira\",\"Brasileira\",\"Brasileira\",\"Estrangeira\",\"Estrangeira\",\"Estrangeira\",\"Estrangeira\",\"Estrangeira\",\"Estrangeira\",\"Estrangeira\",\"Brasileira\",\"Estrangeira\",\"Estrangeira\",\"Estrangeira\",\"Brasileira\",\"Estrangeira\",\"Brasileira\",\"Estrangeira\",\"Estrangeira\",\"Estrangeira\",\"Estrangeira\",\"Estrangeira\",\"Estrangeira\",\"Estrangeira\",\"Estrangeira\",\"Estrangeira\",\"Estrangeira\",\"Estrangeira\",\"Estrangeira\",\"Estrangeira\",\"Estrangeira\",\"Estrangeira\",\"Estrangeira\",\"Estrangeira\",\"Estrangeira\",\"Estrangeira\",\"Estrangeira\",\"Estrangeira\",\"Estrangeira\",\"Estrangeira\",\"Brasileira\",\"Estrangeira\",\"Estrangeira\",\"Estrangeira\",\"Estrangeira\",\"Estrangeira\",\"Estrangeira\",\"Estrangeira\",\"Estrangeira\",\"Estrangeira\",\"Estrangeira\",\"Estrangeira\",\"Estrangeira\",\"Brasileira\",\"Estrangeira\",\"Estrangeira\",\"Estrangeira\",\"Estrangeira\",\"Estrangeira\",\"Estrangeira\",\"Estrangeira\",\"Estrangeira\",\"Brasileira\",\"Brasileira\",\"Estrangeira\",\"Brasileira\",\"Estrangeira\",\"Estrangeira\",\"Brasileira\",\"Estrangeira\",\"Estrangeira\",\"Estrangeira\",\"Estrangeira\",\"Estrangeira\",\"Estrangeira\",\"Estrangeira\",\"Estrangeira\",\"Estrangeira\",\"Estrangeira\",\"Estrangeira\",\"Estrangeira\",\"Estrangeira\",\"Estrangeira\",\"Estrangeira\",\"Estrangeira\",\"Estrangeira\",\"Estrangeira\",\"Brasileira\",\"Estrangeira\",\"Estrangeira\",\"Estrangeira\",\"Estrangeira\",\"Estrangeira\",\"Estrangeira\",\"Brasileira\",\"Brasileira\",\"Estrangeira\",\"Brasileira\",\"Estrangeira\",\"Estrangeira\",\"Brasileira\",\"Estrangeira\",\"Estrangeira\",\"Brasileira\",\"Estrangeira\",\"Brasileira\",\"Brasileira\",\"Estrangeira\",\"Estrangeira\",\"Estrangeira\",\"Estrangeira\",\"Estrangeira\",\"Estrangeira\",\"Estrangeira\",\"Estrangeira\",\"Estrangeira\",\"Estrangeira\",\"Brasileira\",\"Estrangeira\",\"Estrangeira\",\"Estrangeira\",\"Estrangeira\",\"Estrangeira\",\"Estrangeira\",\"Estrangeira\",\"Brasileira\",\"Brasileira\",\"Estrangeira\",\"Estrangeira\",\"Brasileira\",\"Estrangeira\",\"Estrangeira\",\"Estrangeira\",\"Estrangeira\",\"Estrangeira\",\"Estrangeira\",\"Estrangeira\",\"Estrangeira\",\"Estrangeira\",\"Estrangeira\",\"Estrangeira\",\"Brasileira\",\"Estrangeira\",\"Estrangeira\",\"Estrangeira\",\"Estrangeira\",\"Estrangeira\",\"Estrangeira\",\"Estrangeira\",\"Estrangeira\",\"Brasileira\",\"Estrangeira\",\"Estrangeira\",\"Estrangeira\",\"Estrangeira\",\"Estrangeira\",\"Estrangeira\",\"Estrangeira\",\"Estrangeira\",\"Estrangeira\",\"Estrangeira\",\"Estrangeira\",\"Estrangeira\",\"Estrangeira\",\"Brasileira\",\"Estrangeira\",\"Estrangeira\",\"Estrangeira\",\"Estrangeira\",\"Estrangeira\",\"Estrangeira\",\"Estrangeira\",\"Estrangeira\",\"Brasileira\",\"Brasileira\",\"Estrangeira\",\"Brasileira\",\"Estrangeira\",\"Estrangeira\",\"Estrangeira\",\"Estrangeira\",\"Estrangeira\",\"Estrangeira\",\"Brasileira\",\"Estrangeira\",\"Estrangeira\",\"Estrangeira\",\"Brasileira\",\"Estrangeira\",\"Estrangeira\",\"Estrangeira\",\"Estrangeira\",\"Estrangeira\",\"Estrangeira\",\"Estrangeira\",\"Brasileira\",\"Brasileira\",\"Estrangeira\",\"Estrangeira\",\"Estrangeira\",\"Estrangeira\",\"Estrangeira\",\"Estrangeira\",\"Estrangeira\",\"Estrangeira\",\"Estrangeira\",\"Estrangeira\",\"Estrangeira\",\"Brasileira\",\"Brasileira\",\"Brasileira\",\"Estrangeira\",\"Estrangeira\",\"Brasileira\",\"Estrangeira\",\"Brasileira\",\"Brasileira\",\"Estrangeira\",\"Estrangeira\",\"Estrangeira\",\"Estrangeira\",\"Brasileira\",\"Brasileira\",\"Estrangeira\",\"Brasileira\",\"Estrangeira\",\"Estrangeira\",\"Estrangeira\",\"Brasileira\",\"Estrangeira\",\"Brasileira\",\"Estrangeira\",\"Brasileira\",\"Estrangeira\",\"Brasileira\",\"Estrangeira\",\"Brasileira\",\"Estrangeira\",\"Estrangeira\",\"Estrangeira\",\"Brasileira\",\"Estrangeira\",\"Estrangeira\",\"Brasileira\",\"Brasileira\",\"Brasileira\",\"Brasileira\",\"Estrangeira\",\"Brasileira\",\"Brasileira\",\"Brasileira\",\"Estrangeira\",\"Estrangeira\",\"Estrangeira\",\"Estrangeira\",\"Brasileira\",\"Estrangeira\",\"Estrangeira\",\"Estrangeira\",\"Estrangeira\",\"Estrangeira\",\"Estrangeira\",\"Estrangeira\",\"Estrangeira\",\"Estrangeira\",\"Estrangeira\",\"Brasileira\",\"Estrangeira\",\"Brasileira\",\"Brasileira\",\"Brasileira\",\"Estrangeira\",\"Brasileira\",\"Estrangeira\",\"Estrangeira\",\"Brasileira\",\"Estrangeira\",\"Estrangeira\",\"Brasileira\",\"Estrangeira\",\"Estrangeira\",\"Brasileira\",\"Estrangeira\",\"Estrangeira\",\"Estrangeira\",\"Estrangeira\",\"Estrangeira\",\"Estrangeira\",\"Brasileira\",\"Estrangeira\",\"Brasileira\",\"Estrangeira\",\"Brasileira\",\"Estrangeira\",\"Brasileira\",\"Brasileira\",\"Estrangeira\",\"Estrangeira\",\"Estrangeira\",\"Brasileira\",\"Estrangeira\",\"Brasileira\",\"Estrangeira\",\"Estrangeira\",\"Estrangeira\",\"Estrangeira\",\"Brasileira\",\"Estrangeira\",\"Brasileira\",\"Estrangeira\",\"Estrangeira\",\"Brasileira\",\"Estrangeira\",\"Brasileira\",\"Estrangeira\",\"Brasileira\",\"Estrangeira\",\"Brasileira\",\"Estrangeira\",\"Estrangeira\",\"Brasileira\",\"Estrangeira\",\"Estrangeira\",\"Estrangeira\",\"Estrangeira\",\"Brasileira\",\"Brasileira\",\"Brasileira\",\"Estrangeira\",\"Estrangeira\",\"Brasileira\",\"Estrangeira\",\"Estrangeira\",\"Estrangeira\",\"Estrangeira\",\"Brasileira\",\"Estrangeira\",\"Brasileira\",\"Estrangeira\",\"Brasileira\",\"Estrangeira\",\"Estrangeira\",\"Estrangeira\",\"Estrangeira\",\"Estrangeira\",\"Estrangeira\",\"Estrangeira\",\"Estrangeira\",\"Estrangeira\",\"Estrangeira\",\"Brasileira\",\"Estrangeira\",\"Estrangeira\",\"Estrangeira\",\"Estrangeira\",\"Estrangeira\",\"Estrangeira\",\"Estrangeira\",\"Estrangeira\",\"Brasileira\",\"Estrangeira\",\"Estrangeira\",\"Estrangeira\",\"Brasileira\",\"Estrangeira\",\"Estrangeira\",\"Estrangeira\",\"Estrangeira\",\"Brasileira\",\"Estrangeira\",\"Estrangeira\",\"Estrangeira\",\"Estrangeira\",\"Brasileira\",\"Estrangeira\",\"Estrangeira\",\"Estrangeira\",\"Estrangeira\",\"Brasileira\",\"Estrangeira\",\"Estrangeira\",\"Estrangeira\",\"Estrangeira\",\"Estrangeira\",\"Estrangeira\",\"Estrangeira\",\"Estrangeira\",\"Brasileira\",\"Estrangeira\",\"Brasileira\",\"Brasileira\",\"Brasileira\",\"Brasileira\",\"Estrangeira\",\"Brasileira\",\"Estrangeira\",\"Brasileira\",\"Estrangeira\",\"Estrangeira\",\"Brasileira\",\"Brasileira\",\"Estrangeira\",\"Estrangeira\",\"Brasileira\",\"Estrangeira\",\"Brasileira\",\"Estrangeira\",\"Estrangeira\",\"Estrangeira\",\"Brasileira\",\"Estrangeira\",\"Brasileira\",\"Brasileira\",\"Estrangeira\",\"Brasileira\",\"Brasileira\",\"Estrangeira\",\"Brasileira\",\"Estrangeira\",\"Estrangeira\",\"Brasileira\",\"Brasileira\",\"Estrangeira\",\"Brasileira\",\"Brasileira\",\"Estrangeira\",\"Estrangeira\",\"Estrangeira\",\"Estrangeira\",\"Estrangeira\",\"Brasileira\",\"Estrangeira\",\"Brasileira\",\"Estrangeira\",\"Estrangeira\",\"Brasileira\",\"Estrangeira\",\"Brasileira\",\"Estrangeira\",\"Brasileira\",\"Estrangeira\",\"Estrangeira\",\"Brasileira\",\"Estrangeira\",\"Estrangeira\",\"Estrangeira\",\"Estrangeira\",\"Estrangeira\",\"Brasileira\",\"Estrangeira\",\"Estrangeira\",\"Estrangeira\",\"Estrangeira\",\"Estrangeira\",\"Brasileira\",\"Estrangeira\",\"Estrangeira\",\"Brasileira\",\"Estrangeira\",\"Estrangeira\",\"Brasileira\",\"Estrangeira\",\"Estrangeira\",\"Estrangeira\",\"Estrangeira\",\"Estrangeira\",\"Estrangeira\",\"Estrangeira\",\"Estrangeira\",\"Brasileira\",\"Brasileira\",\"Estrangeira\",\"Brasileira\",\"Estrangeira\",\"Brasileira\",\"Estrangeira\",\"Estrangeira\",\"Estrangeira\",\"Brasileira\",\"Estrangeira\",\"Brasileira\",\"Estrangeira\",\"Brasileira\",\"Estrangeira\",\"Estrangeira\",\"Estrangeira\",\"Estrangeira\",\"Estrangeira\",\"Estrangeira\",\"Estrangeira\",\"Estrangeira\",\"Brasileira\",\"Brasileira\",\"Brasileira\",\"Estrangeira\",\"Estrangeira\",\"Estrangeira\",\"Estrangeira\",\"Estrangeira\",\"Estrangeira\",\"Estrangeira\",\"Estrangeira\",\"Estrangeira\",\"Estrangeira\",\"Brasileira\",\"Estrangeira\",\"Estrangeira\",\"Estrangeira\",\"Estrangeira\",\"Estrangeira\",\"Estrangeira\",\"Estrangeira\",\"Brasileira\",\"Estrangeira\",\"Estrangeira\",\"Estrangeira\",\"Estrangeira\",\"Brasileira\",\"Brasileira\",\"Estrangeira\",\"Estrangeira\",\"Brasileira\",\"Estrangeira\",\"Estrangeira\",\"Estrangeira\",\"Estrangeira\",\"Brasileira\",\"Brasileira\",\"Estrangeira\",\"Brasileira\",\"Estrangeira\",\"Brasileira\",\"Estrangeira\",\"Brasileira\",\"Estrangeira\",\"Estrangeira\",\"Estrangeira\",\"Estrangeira\",\"Brasileira\",\"Brasileira\",\"Estrangeira\",\"Estrangeira\",\"Estrangeira\",\"Estrangeira\",\"Brasileira\",\"Estrangeira\",\"Brasileira\",\"Estrangeira\",\"Estrangeira\",\"Estrangeira\",\"Estrangeira\",\"Estrangeira\",\"Brasileira\",\"Brasileira\",\"Estrangeira\",\"Estrangeira\",\"Estrangeira\",\"Brasileira\",\"Brasileira\",\"Estrangeira\",\"Brasileira\",\"Brasileira\",\"Estrangeira\",\"Estrangeira\",\"Estrangeira\",\"Estrangeira\",\"Estrangeira\",\"Estrangeira\",\"Brasileira\",\"Brasileira\",\"Estrangeira\",\"Estrangeira\",\"Estrangeira\",\"Brasileira\",\"Brasileira\",\"Estrangeira\",\"Estrangeira\",\"Brasileira\",\"Estrangeira\",\"Brasileira\",\"Estrangeira\",\"Brasileira\",\"Brasileira\",\"Brasileira\",\"Brasileira\",\"Brasileira\",\"Brasileira\",\"Brasileira\",\"Estrangeira\",\"Estrangeira\",\"Brasileira\",\"Estrangeira\",\"Estrangeira\",\"Estrangeira\",\"Estrangeira\",\"Estrangeira\",\"Estrangeira\",\"Estrangeira\",\"Estrangeira\",\"Estrangeira\",\"Estrangeira\",\"Brasileira\",\"Brasileira\",\"Estrangeira\",\"Brasileira\",\"Estrangeira\",\"Estrangeira\",\"Estrangeira\",\"Estrangeira\",\"Estrangeira\",\"Estrangeira\",\"Estrangeira\",\"Estrangeira\",\"Estrangeira\",\"Estrangeira\",\"Estrangeira\",\"Estrangeira\",\"Estrangeira\",\"Estrangeira\",\"Estrangeira\",\"Estrangeira\",\"Estrangeira\",\"Estrangeira\",\"Estrangeira\",\"Estrangeira\",\"Estrangeira\",\"Estrangeira\",\"Estrangeira\",\"Estrangeira\",\"Estrangeira\",\"Brasileira\",\"Estrangeira\",\"Estrangeira\",\"Estrangeira\",\"Estrangeira\",\"Estrangeira\",\"Brasileira\",\"Estrangeira\",\"Brasileira\",\"Estrangeira\",\"Estrangeira\",\"Brasileira\",\"Estrangeira\",\"Estrangeira\",\"Estrangeira\",\"Brasileira\",\"Estrangeira\",\"Brasileira\",\"Estrangeira\",\"Estrangeira\",\"Estrangeira\",\"Brasileira\",\"Brasileira\",\"Estrangeira\",\"Estrangeira\",\"Estrangeira\",\"Estrangeira\",\"Estrangeira\",\"Estrangeira\",\"Estrangeira\",\"Estrangeira\",\"Estrangeira\",\"Estrangeira\",\"Brasileira\",\"Brasileira\",\"Estrangeira\",\"Brasileira\",\"Brasileira\",\"Estrangeira\",\"Estrangeira\",\"Estrangeira\",\"Estrangeira\",\"Estrangeira\",\"Estrangeira\",\"Estrangeira\",\"Estrangeira\",\"Estrangeira\",\"Estrangeira\",\"Estrangeira\",\"Estrangeira\",\"Estrangeira\",\"Estrangeira\",\"Estrangeira\",\"Estrangeira\",\"Estrangeira\",\"Estrangeira\",\"Estrangeira\",\"Estrangeira\",\"Estrangeira\",\"Estrangeira\",\"Estrangeira\",\"Estrangeira\",\"Estrangeira\",\"Estrangeira\",\"Brasileira\",\"Brasileira\",\"Estrangeira\",\"Brasileira\",\"Estrangeira\",\"Estrangeira\",\"Estrangeira\",\"Estrangeira\",\"Estrangeira\",\"Estrangeira\",\"Estrangeira\",\"Estrangeira\",\"Estrangeira\",\"Estrangeira\",\"Estrangeira\",\"Estrangeira\",\"Estrangeira\",\"Estrangeira\",\"Estrangeira\",\"Estrangeira\",\"Estrangeira\",\"Estrangeira\",\"Estrangeira\",\"Estrangeira\",\"Estrangeira\",\"Estrangeira\",\"Estrangeira\",\"Estrangeira\",\"Estrangeira\",\"Estrangeira\",\"Estrangeira\",\"Brasileira\",\"Estrangeira\",\"Brasileira\",\"Estrangeira\",\"Estrangeira\",\"Estrangeira\",\"Estrangeira\",\"Estrangeira\",\"Estrangeira\",\"Estrangeira\",\"Estrangeira\",\"Brasileira\",\"Estrangeira\",\"Estrangeira\",\"Estrangeira\",\"Estrangeira\",\"Estrangeira\",\"Brasileira\",\"Estrangeira\",\"Estrangeira\",\"Estrangeira\",\"Estrangeira\",\"Brasileira\",\"Estrangeira\",\"Brasileira\",\"Estrangeira\",\"Estrangeira\",\"Estrangeira\",\"Brasileira\",\"Estrangeira\",\"Estrangeira\",\"Estrangeira\",\"Estrangeira\",\"Estrangeira\",\"Estrangeira\",\"Estrangeira\",\"Estrangeira\",\"Estrangeira\",\"Estrangeira\",\"Brasileira\",\"Estrangeira\",\"Estrangeira\",\"Estrangeira\",\"Estrangeira\",\"Brasileira\",\"Brasileira\",\"Estrangeira\",\"Estrangeira\",\"Estrangeira\",\"Estrangeira\",\"Estrangeira\",\"Estrangeira\",\"Estrangeira\",\"Estrangeira\",\"Brasileira\",\"Brasileira\",\"Estrangeira\",\"Estrangeira\",\"Estrangeira\",\"Brasileira\",\"Brasileira\",\"Brasileira\",\"Estrangeira\",\"Estrangeira\",\"Brasileira\",\"Estrangeira\",\"Estrangeira\",\"Estrangeira\",\"Brasileira\",\"Brasileira\",\"Estrangeira\",\"Estrangeira\",\"Estrangeira\",\"Brasileira\",\"Estrangeira\",\"Estrangeira\",\"Brasileira\",\"Brasileira\",\"Estrangeira\",\"Estrangeira\",\"Estrangeira\",\"Brasileira\",\"Brasileira\",\"Brasileira\",\"Estrangeira\",\"Brasileira\",\"Brasileira\",\"Estrangeira\",\"Brasileira\",\"Estrangeira\",\"Brasileira\",\"Brasileira\",\"Estrangeira\",\"Estrangeira\",\"Estrangeira\",\"Estrangeira\",\"Brasileira\",\"Brasileira\",\"Brasileira\",\"Estrangeira\",\"Estrangeira\",\"Estrangeira\",\"Brasileira\",\"Brasileira\",\"Brasileira\",\"Estrangeira\",\"Estrangeira\",\"Brasileira\",\"Estrangeira\",\"Brasileira\",\"Brasileira\",\"Estrangeira\",\"Estrangeira\",\"Estrangeira\",\"Brasileira\",\"Estrangeira\",\"Estrangeira\",\"Estrangeira\",\"Brasileira\",\"Estrangeira\",\"Estrangeira\",\"Brasileira\",\"Estrangeira\",\"Brasileira\",\"Estrangeira\",\"Brasileira\",\"Brasileira\",\"Brasileira\",\"Estrangeira\",\"Brasileira\",\"Brasileira\",\"Brasileira\",\"Brasileira\",\"Brasileira\",\"Estrangeira\",\"Estrangeira\",\"Estrangeira\",\"Brasileira\",\"Estrangeira\",\"Brasileira\",\"Estrangeira\",\"Estrangeira\",\"Estrangeira\",\"Estrangeira\",\"Estrangeira\",\"Brasileira\",\"Estrangeira\",\"Brasileira\",\"Estrangeira\",\"Estrangeira\",\"Brasileira\",\"Brasileira\",\"Estrangeira\",\"Estrangeira\",\"Estrangeira\",\"Estrangeira\",\"Estrangeira\",\"Estrangeira\",\"Estrangeira\",\"Estrangeira\",\"Estrangeira\",\"Brasileira\",\"Estrangeira\",\"Estrangeira\",\"Estrangeira\",\"Brasileira\",\"Estrangeira\",\"Estrangeira\",\"Estrangeira\",\"Estrangeira\",\"Brasileira\",\"Estrangeira\",\"Brasileira\",\"Estrangeira\",\"Brasileira\",\"Estrangeira\",\"Estrangeira\",\"Estrangeira\",\"Estrangeira\",\"Estrangeira\",\"Brasileira\",\"Estrangeira\",\"Estrangeira\",\"Estrangeira\",\"Estrangeira\",\"Estrangeira\",\"Estrangeira\",\"Estrangeira\",\"Estrangeira\",\"Estrangeira\",\"Estrangeira\",\"Brasileira\",\"Estrangeira\",\"Estrangeira\",\"Brasileira\",\"Estrangeira\",\"Estrangeira\",\"Estrangeira\",\"Brasileira\",\"Estrangeira\",\"Estrangeira\",\"Estrangeira\",\"Estrangeira\",\"Estrangeira\",\"Estrangeira\",\"Estrangeira\",\"Brasileira\",\"Estrangeira\",\"Brasileira\",\"Estrangeira\",\"Estrangeira\",\"Estrangeira\",\"Estrangeira\",\"Brasileira\",\"Brasileira\",\"Brasileira\",\"Estrangeira\",\"Estrangeira\",\"Estrangeira\",\"Estrangeira\",\"Estrangeira\",\"Estrangeira\",\"Estrangeira\",\"Estrangeira\",\"Estrangeira\",\"Brasileira\",\"Brasileira\",\"Brasileira\",\"Estrangeira\",\"Brasileira\",\"Brasileira\",\"Estrangeira\",\"Estrangeira\",\"Brasileira\",\"Estrangeira\",\"Estrangeira\",\"Brasileira\",\"Estrangeira\",\"Estrangeira\",\"Estrangeira\",\"Estrangeira\",\"Brasileira\",\"Estrangeira\",\"Brasileira\",\"Estrangeira\",\"Estrangeira\",\"Estrangeira\",\"Brasileira\",\"Estrangeira\",\"Estrangeira\",\"Estrangeira\",\"Estrangeira\",\"Estrangeira\",\"Estrangeira\",\"Estrangeira\",\"Estrangeira\",\"Brasileira\",\"Estrangeira\",\"Estrangeira\",\"Estrangeira\",\"Estrangeira\",\"Brasileira\",\"Estrangeira\",\"Estrangeira\",\"Estrangeira\",\"Estrangeira\",\"Brasileira\",\"Estrangeira\",\"Brasileira\",\"Estrangeira\",\"Estrangeira\",\"Estrangeira\",\"Estrangeira\",\"Estrangeira\",\"Estrangeira\",\"Estrangeira\",\"Brasileira\",\"Estrangeira\",\"Estrangeira\",\"Estrangeira\",\"Estrangeira\",\"Estrangeira\",\"Estrangeira\",\"Estrangeira\",\"Estrangeira\",\"Brasileira\",\"Estrangeira\",\"Estrangeira\",\"Estrangeira\",\"Estrangeira\",\"Estrangeira\",\"Estrangeira\",\"Estrangeira\",\"Brasileira\",\"Estrangeira\",\"Brasileira\",\"Estrangeira\",\"Estrangeira\",\"Estrangeira\",\"Estrangeira\",\"Estrangeira\",\"Estrangeira\",\"Estrangeira\",\"Estrangeira\",\"Estrangeira\",\"Brasileira\",\"Estrangeira\",\"Brasileira\",\"Estrangeira\",\"Estrangeira\",\"Estrangeira\",\"Estrangeira\",\"Estrangeira\",\"Estrangeira\",\"Estrangeira\",\"Brasileira\",\"Estrangeira\",\"Brasileira\",\"Estrangeira\",\"Brasileira\",\"Brasileira\",\"Estrangeira\",\"Estrangeira\",\"Estrangeira\",\"Estrangeira\",\"Estrangeira\",\"Estrangeira\",\"Estrangeira\",\"Estrangeira\",\"Estrangeira\",\"Estrangeira\",\"Estrangeira\",\"Estrangeira\",\"Estrangeira\",\"Estrangeira\",\"Estrangeira\",\"Estrangeira\",\"Estrangeira\",\"Estrangeira\",\"Estrangeira\",\"Brasileira\",\"Estrangeira\",\"Estrangeira\",\"Estrangeira\",\"Estrangeira\",\"Estrangeira\",\"Estrangeira\",\"Brasileira\",\"Brasileira\",\"Brasileira\",\"Estrangeira\",\"Estrangeira\",\"Brasileira\",\"Brasileira\",\"Estrangeira\",\"Estrangeira\",\"Estrangeira\",\"Brasileira\",\"Brasileira\",\"Estrangeira\",\"Brasileira\",\"Estrangeira\",\"Estrangeira\",\"Estrangeira\",\"Estrangeira\",\"Brasileira\",\"Brasileira\",\"Estrangeira\",\"Estrangeira\",\"Estrangeira\",\"Estrangeira\",\"Estrangeira\",\"Estrangeira\",\"Estrangeira\",\"Estrangeira\",\"Brasileira\",\"Estrangeira\",\"Estrangeira\",\"Brasileira\",\"Estrangeira\",\"Estrangeira\",\"Estrangeira\",\"Estrangeira\",\"Estrangeira\",\"Brasileira\",\"Brasileira\",\"Estrangeira\",\"Brasileira\",\"Estrangeira\",\"Estrangeira\",\"Estrangeira\",\"Estrangeira\",\"Estrangeira\",\"Brasileira\",\"Brasileira\",\"Brasileira\",\"Estrangeira\",\"Brasileira\",\"Estrangeira\",\"Estrangeira\",\"Estrangeira\",\"Estrangeira\",\"Estrangeira\",\"Estrangeira\",\"Estrangeira\",\"Estrangeira\",\"Brasileira\",\"Estrangeira\",\"Estrangeira\",\"Estrangeira\",\"Estrangeira\",\"Estrangeira\",\"Estrangeira\",\"Brasileira\",\"Estrangeira\",\"Estrangeira\",\"Estrangeira\",\"Estrangeira\",\"Estrangeira\",\"Brasileira\",\"Brasileira\",\"Brasileira\",\"Estrangeira\",\"Estrangeira\",\"Estrangeira\",\"Estrangeira\",\"Estrangeira\",\"Brasileira\",\"Brasileira\",\"Estrangeira\",\"Estrangeira\",\"Brasileira\",\"Estrangeira\",\"Estrangeira\",\"Estrangeira\",\"Estrangeira\",\"Brasileira\",\"Estrangeira\",\"Estrangeira\",\"Brasileira\",\"Estrangeira\",\"Brasileira\",\"Brasileira\",\"Estrangeira\",\"Estrangeira\",\"Estrangeira\",\"Brasileira\",\"Estrangeira\",\"Brasileira\",\"Brasileira\",\"Brasileira\",\"Estrangeira\",\"Brasileira\",\"Brasileira\",\"Estrangeira\",\"Brasileira\",\"Brasileira\",\"Estrangeira\",\"Brasileira\",\"Estrangeira\",\"Estrangeira\",\"Estrangeira\",\"Estrangeira\",\"Brasileira\",\"Estrangeira\",\"Brasileira\",\"Estrangeira\",\"Brasileira\",\"Estrangeira\",\"Brasileira\",\"Estrangeira\",\"Estrangeira\",\"Brasileira\",\"Estrangeira\",\"Estrangeira\",\"Estrangeira\",\"Estrangeira\",\"Estrangeira\",\"Estrangeira\",\"Estrangeira\",\"Brasileira\",\"Estrangeira\",\"Estrangeira\",\"Estrangeira\",\"Estrangeira\",\"Estrangeira\",\"Estrangeira\",\"Estrangeira\",\"Estrangeira\",\"Brasileira\",\"Estrangeira\",\"Brasileira\",\"Estrangeira\",\"Estrangeira\",\"Estrangeira\",\"Estrangeira\",\"Estrangeira\",\"Estrangeira\",\"Estrangeira\",\"Estrangeira\",\"Estrangeira\",\"Estrangeira\",\"Estrangeira\",\"Estrangeira\",\"Brasileira\",\"Estrangeira\",\"Estrangeira\",\"Estrangeira\",\"Brasileira\",\"Estrangeira\",\"Brasileira\",\"Estrangeira\",\"Estrangeira\",\"Estrangeira\",\"Brasileira\",\"Estrangeira\",\"Estrangeira\",\"Brasileira\",\"Estrangeira\",\"Estrangeira\",\"Estrangeira\",\"Brasileira\",\"Estrangeira\",\"Brasileira\",\"Brasileira\",\"Estrangeira\",\"Estrangeira\",\"Estrangeira\",\"Brasileira\",\"Estrangeira\",\"Brasileira\",\"Estrangeira\",\"Brasileira\",\"Brasileira\",\"Estrangeira\",\"Estrangeira\",\"Estrangeira\",\"Estrangeira\",\"Brasileira\",\"Estrangeira\",\"Estrangeira\",\"Estrangeira\",\"Estrangeira\",\"Estrangeira\",\"Estrangeira\",\"Estrangeira\",\"Estrangeira\",\"Brasileira\",\"Estrangeira\",\"Brasileira\",\"Estrangeira\",\"Estrangeira\",\"Brasileira\",\"Estrangeira\",\"Estrangeira\",\"Brasileira\",\"Estrangeira\",\"Brasileira\",\"Estrangeira\",\"Brasileira\",\"Brasileira\",\"Brasileira\",\"Brasileira\",\"Brasileira\",\"Estrangeira\",\"Brasileira\",\"Estrangeira\",\"Estrangeira\",\"Brasileira\",\"Estrangeira\",\"Estrangeira\",\"Brasileira\",\"Estrangeira\",\"Estrangeira\",\"Estrangeira\",\"Brasileira\",\"Brasileira\",\"Estrangeira\",\"Brasileira\",\"Estrangeira\",\"Estrangeira\",\"Estrangeira\",\"Estrangeira\",\"Estrangeira\",\"Estrangeira\",\"Brasileira\",\"Estrangeira\",\"Estrangeira\",\"Estrangeira\",\"Estrangeira\",\"Estrangeira\",\"Estrangeira\",\"Estrangeira\",\"Estrangeira\",\"Estrangeira\",\"Estrangeira\",\"Estrangeira\",\"Brasileira\",\"Brasileira\",\"Brasileira\",\"Estrangeira\",\"Estrangeira\",\"Brasileira\",\"Estrangeira\",\"Estrangeira\",\"Brasileira\",\"Brasileira\",\"Brasileira\",\"Estrangeira\",\"Estrangeira\",\"Estrangeira\",\"Brasileira\",\"Brasileira\",\"Estrangeira\",\"Brasileira\",\"Estrangeira\",\"Estrangeira\",\"Estrangeira\",\"Estrangeira\",\"Brasileira\",\"Brasileira\",\"Brasileira\",\"Estrangeira\",\"Estrangeira\",\"Brasileira\",\"Brasileira\",\"Estrangeira\",\"Brasileira\",\"Brasileira\",\"Estrangeira\",\"Brasileira\",\"Brasileira\",\"Estrangeira\",\"Estrangeira\",\"Brasileira\",\"Estrangeira\",\"Estrangeira\",\"Estrangeira\",\"Estrangeira\",\"Estrangeira\",\"Estrangeira\",\"Brasileira\",\"Estrangeira\",\"Estrangeira\",\"Brasileira\",\"Brasileira\",\"Brasileira\",\"Estrangeira\",\"Brasileira\",\"Brasileira\",\"Brasileira\",\"Estrangeira\",\"Estrangeira\",\"Estrangeira\",\"Brasileira\",\"Brasileira\",\"Estrangeira\",\"Brasileira\",\"Estrangeira\",\"Brasileira\",\"Estrangeira\",\"Brasileira\",\"Estrangeira\",\"Estrangeira\",\"Estrangeira\",\"Estrangeira\",\"Estrangeira\",\"Estrangeira\",\"Estrangeira\",\"Estrangeira\",\"Estrangeira\",\"Estrangeira\",\"Estrangeira\",\"Estrangeira\",\"Estrangeira\",\"Estrangeira\",\"Estrangeira\",\"Estrangeira\",\"Estrangeira\",\"Estrangeira\",\"Estrangeira\",\"Estrangeira\",\"Estrangeira\",\"Estrangeira\",\"Estrangeira\",\"Estrangeira\",\"Estrangeira\",\"Estrangeira\",\"Estrangeira\",\"Brasileira\",\"Estrangeira\",\"Estrangeira\",\"Estrangeira\",\"Estrangeira\",\"Estrangeira\",\"Estrangeira\",\"Estrangeira\",\"Estrangeira\",\"Estrangeira\",\"Estrangeira\",\"Estrangeira\",\"Estrangeira\",\"Brasileira\",\"Estrangeira\",\"Estrangeira\",\"Brasileira\",\"Estrangeira\",\"Estrangeira\",\"Estrangeira\",\"Brasileira\",\"Brasileira\",\"Estrangeira\",\"Estrangeira\",\"Brasileira\",\"Estrangeira\",\"Estrangeira\",\"Estrangeira\",\"Estrangeira\",\"Estrangeira\",\"Estrangeira\",\"Estrangeira\",\"Estrangeira\",\"Estrangeira\",\"Brasileira\",\"Brasileira\",\"Estrangeira\",\"Estrangeira\",\"Brasileira\",\"Estrangeira\",\"Estrangeira\",\"Brasileira\",\"Estrangeira\",\"Estrangeira\",\"Brasileira\",\"Estrangeira\",\"Estrangeira\",\"Brasileira\",\"Brasileira\",\"Estrangeira\",\"Estrangeira\",\"Estrangeira\",\"Brasileira\",\"Estrangeira\",\"Estrangeira\",\"Estrangeira\",\"Estrangeira\",\"Estrangeira\",\"Estrangeira\",\"Estrangeira\",\"Brasileira\",\"Brasileira\",\"Brasileira\",\"Estrangeira\",\"Estrangeira\",\"Estrangeira\",\"Estrangeira\",\"Estrangeira\",\"Brasileira\",\"Estrangeira\",\"Brasileira\",\"Brasileira\",\"Estrangeira\",\"Estrangeira\",\"Estrangeira\",\"Brasileira\",\"Brasileira\",\"Brasileira\",\"Brasileira\",\"Brasileira\",\"Estrangeira\",\"Estrangeira\",\"Estrangeira\",\"Brasileira\",\"Brasileira\",\"Brasileira\",\"Estrangeira\",\"Estrangeira\",\"Estrangeira\",\"Estrangeira\",\"Brasileira\",\"Estrangeira\",\"Estrangeira\",\"Brasileira\",\"Brasileira\",\"Estrangeira\",\"Estrangeira\",\"Estrangeira\",\"Estrangeira\",\"Brasileira\",\"Estrangeira\",\"Estrangeira\",\"Brasileira\",\"Estrangeira\",\"Estrangeira\",\"Brasileira\",\"Estrangeira\",\"Estrangeira\",\"Brasileira\",\"Estrangeira\",\"Estrangeira\",\"Estrangeira\",\"Estrangeira\",\"Brasileira\",\"Estrangeira\",\"Estrangeira\",\"Estrangeira\",\"Brasileira\",\"Brasileira\",\"Estrangeira\",\"Estrangeira\",\"Estrangeira\",\"Estrangeira\",\"Estrangeira\",\"Brasileira\",\"Estrangeira\",\"Estrangeira\",\"Estrangeira\",\"Estrangeira\",\"Estrangeira\",\"Estrangeira\",\"Estrangeira\",\"Estrangeira\",\"Estrangeira\",\"Estrangeira\",\"Estrangeira\",\"Brasileira\",\"Estrangeira\",\"Estrangeira\",\"Brasileira\",\"Estrangeira\",\"Estrangeira\",\"Estrangeira\",\"Estrangeira\",\"Estrangeira\",\"Brasileira\",\"Estrangeira\",\"Brasileira\",\"Estrangeira\",\"Estrangeira\",\"Brasileira\",\"Estrangeira\",\"Estrangeira\",\"Estrangeira\",\"Estrangeira\",\"Brasileira\",\"Brasileira\",\"Estrangeira\",\"Estrangeira\",\"Estrangeira\",\"Estrangeira\",\"Brasileira\",\"Estrangeira\",\"Estrangeira\",\"Estrangeira\",\"Brasileira\",\"Brasileira\",\"Estrangeira\",\"Brasileira\",\"Estrangeira\",\"Brasileira\",\"Estrangeira\",\"Estrangeira\",\"Estrangeira\",\"Estrangeira\",\"Estrangeira\",\"Estrangeira\",\"Estrangeira\",\"Estrangeira\",\"Estrangeira\",\"Estrangeira\",\"Brasileira\",\"Estrangeira\",\"Estrangeira\",\"Estrangeira\",\"Brasileira\",\"Estrangeira\",\"Estrangeira\",\"Estrangeira\",\"Estrangeira\",\"Brasileira\",\"Estrangeira\",\"Estrangeira\",\"Estrangeira\",\"Brasileira\",\"Estrangeira\",\"Brasileira\",\"Brasileira\",\"Estrangeira\",\"Brasileira\",\"Estrangeira\",\"Estrangeira\",\"Estrangeira\",\"Estrangeira\",\"Brasileira\",\"Estrangeira\",\"Brasileira\",\"Estrangeira\",\"Estrangeira\",\"Estrangeira\",\"Estrangeira\",\"Estrangeira\",\"Brasileira\",\"Brasileira\",\"Estrangeira\",\"Estrangeira\",\"Estrangeira\",\"Brasileira\",\"Estrangeira\",\"Estrangeira\",\"Estrangeira\",\"Estrangeira\",\"Estrangeira\",\"Estrangeira\",\"Estrangeira\",\"Estrangeira\",\"Estrangeira\",\"Estrangeira\",\"Estrangeira\",\"Estrangeira\",\"Brasileira\",\"Estrangeira\",\"Brasileira\",\"Estrangeira\",\"Estrangeira\",\"Estrangeira\",\"Brasileira\",\"Estrangeira\",\"Brasileira\",\"Estrangeira\",\"Estrangeira\",\"Estrangeira\",\"Estrangeira\",\"Estrangeira\",\"Brasileira\",\"Estrangeira\",\"Brasileira\",\"Estrangeira\",\"Estrangeira\",\"Estrangeira\",\"Estrangeira\",\"Estrangeira\",\"Brasileira\",\"Estrangeira\",\"Estrangeira\",\"Estrangeira\",\"Brasileira\",\"Estrangeira\",\"Brasileira\",\"Estrangeira\",\"Brasileira\",\"Brasileira\",\"Estrangeira\",\"Estrangeira\",\"Estrangeira\",\"Brasileira\",\"Brasileira\",\"Estrangeira\",\"Estrangeira\",\"Estrangeira\",\"Estrangeira\",\"Estrangeira\",\"Brasileira\",\"Estrangeira\",\"Estrangeira\",\"Estrangeira\",\"Estrangeira\",\"Estrangeira\",\"Estrangeira\",\"Brasileira\",\"Estrangeira\",\"Estrangeira\",\"Estrangeira\",\"Estrangeira\",\"Estrangeira\",\"Estrangeira\",\"Estrangeira\",\"Estrangeira\",\"Estrangeira\",\"Estrangeira\",\"Brasileira\",\"Brasileira\",\"Estrangeira\",\"Estrangeira\",\"Estrangeira\",\"Estrangeira\",\"Brasileira\",\"Estrangeira\",\"Brasileira\",\"Brasileira\",\"Estrangeira\",\"Estrangeira\",\"Estrangeira\",\"Estrangeira\",\"Estrangeira\",\"Estrangeira\",\"Estrangeira\",\"Brasileira\",\"Estrangeira\",\"Estrangeira\",\"Brasileira\",\"Estrangeira\",\"Estrangeira\",\"Estrangeira\",\"Estrangeira\",\"Estrangeira\",\"Estrangeira\",\"Estrangeira\",\"Brasileira\",\"Estrangeira\",\"Brasileira\",\"Estrangeira\",\"Estrangeira\",\"Brasileira\",\"Estrangeira\",\"Estrangeira\",\"Estrangeira\",\"Brasileira\",\"Estrangeira\",\"Estrangeira\",\"Estrangeira\",\"Estrangeira\",\"Brasileira\",\"Brasileira\",\"Estrangeira\",\"Estrangeira\",\"Brasileira\",\"Estrangeira\",\"Brasileira\",\"Estrangeira\",\"Estrangeira\",\"Estrangeira\",\"Estrangeira\",\"Estrangeira\",\"Brasileira\",\"Brasileira\",\"Estrangeira\",\"Estrangeira\",\"Estrangeira\",\"Estrangeira\",\"Estrangeira\",\"Estrangeira\",\"Estrangeira\",\"Estrangeira\",\"Estrangeira\",\"Estrangeira\",\"Brasileira\",\"Estrangeira\",\"Estrangeira\",\"Estrangeira\",\"Estrangeira\",\"Brasileira\",\"Estrangeira\",\"Estrangeira\",\"Estrangeira\",\"Estrangeira\",\"Estrangeira\",\"Estrangeira\",\"Estrangeira\",\"Estrangeira\",\"Estrangeira\",\"Brasileira\",\"Estrangeira\",\"Estrangeira\",\"Estrangeira\",\"Estrangeira\",\"Estrangeira\",\"Estrangeira\",\"Estrangeira\",\"Estrangeira\",\"Brasileira\",\"Estrangeira\",\"Estrangeira\",\"Brasileira\",\"Estrangeira\",\"Estrangeira\",\"Estrangeira\",\"Estrangeira\",\"Estrangeira\",\"Brasileira\",\"Estrangeira\",\"Estrangeira\",\"Brasileira\",\"Brasileira\",\"Estrangeira\",\"Estrangeira\",\"Estrangeira\",\"Estrangeira\",\"Brasileira\",\"Estrangeira\",\"Brasileira\",\"Estrangeira\",\"Estrangeira\",\"Estrangeira\",\"Estrangeira\",\"Estrangeira\",\"Estrangeira\",\"Estrangeira\",\"Estrangeira\",\"Estrangeira\",\"Estrangeira\",\"Brasileira\",\"Estrangeira\",\"Estrangeira\",\"Estrangeira\",\"Estrangeira\",\"Estrangeira\",\"Estrangeira\",\"Brasileira\",\"Estrangeira\",\"Brasileira\",\"Brasileira\",\"Estrangeira\",\"Estrangeira\",\"Brasileira\",\"Brasileira\",\"Estrangeira\",\"Brasileira\",\"Estrangeira\",\"Brasileira\",\"Estrangeira\",\"Estrangeira\",\"Estrangeira\",\"Estrangeira\",\"Brasileira\",\"Estrangeira\",\"Estrangeira\",\"Estrangeira\",\"Estrangeira\",\"Brasileira\",\"Estrangeira\",\"Estrangeira\",\"Estrangeira\",\"Estrangeira\",\"Brasileira\",\"Brasileira\",\"Brasileira\",\"Brasileira\",\"Brasileira\",\"Brasileira\",\"Brasileira\",\"Estrangeira\",\"Estrangeira\",\"Estrangeira\",\"Estrangeira\",\"Estrangeira\",\"Brasileira\",\"Estrangeira\",\"Estrangeira\",\"Estrangeira\",\"Estrangeira\",\"Estrangeira\",\"Estrangeira\",\"Estrangeira\",\"Estrangeira\",\"Estrangeira\",\"Estrangeira\",\"Brasileira\",\"Brasileira\",\"Estrangeira\",\"Estrangeira\",\"Brasileira\",\"Estrangeira\",\"Estrangeira\",\"Estrangeira\",\"Estrangeira\",\"Estrangeira\",\"Estrangeira\",\"Brasileira\",\"Estrangeira\",\"Estrangeira\",\"Brasileira\",\"Brasileira\",\"Brasileira\",\"Estrangeira\",\"Estrangeira\",\"Estrangeira\",\"Brasileira\",\"Estrangeira\",\"Brasileira\",\"Estrangeira\",\"Brasileira\",\"Brasileira\",\"Estrangeira\",\"Brasileira\",\"Brasileira\",\"Estrangeira\",\"Estrangeira\",\"Estrangeira\",\"Estrangeira\",\"Brasileira\",\"Estrangeira\",\"Estrangeira\",\"Estrangeira\",\"Estrangeira\",\"Estrangeira\",\"Brasileira\",\"Estrangeira\",\"Estrangeira\",\"Estrangeira\",\"Brasileira\",\"Brasileira\",\"Brasileira\",\"Estrangeira\",\"Brasileira\",\"Estrangeira\",\"Brasileira\",\"Estrangeira\",\"Estrangeira\",\"Brasileira\",\"Estrangeira\",\"Estrangeira\",\"Brasileira\",\"Estrangeira\",\"Estrangeira\",\"Estrangeira\",\"Estrangeira\",\"Estrangeira\",\"Brasileira\",\"Estrangeira\",\"Estrangeira\",\"Estrangeira\",\"Estrangeira\",\"Brasileira\",\"Brasileira\",\"Brasileira\",\"Estrangeira\",\"Estrangeira\",\"Estrangeira\",\"Estrangeira\",\"Estrangeira\",\"Estrangeira\",\"Estrangeira\",\"Brasileira\",\"Estrangeira\",\"Estrangeira\",\"Estrangeira\",\"Estrangeira\",\"Brasileira\",\"Brasileira\",\"Estrangeira\",\"Estrangeira\",\"Brasileira\",\"Estrangeira\",\"Estrangeira\",\"Brasileira\",\"Estrangeira\",\"Estrangeira\",\"Estrangeira\",\"Estrangeira\",\"Estrangeira\",\"Estrangeira\",\"Estrangeira\",\"Estrangeira\",\"Brasileira\",\"Estrangeira\",\"Brasileira\",\"Estrangeira\",\"Brasileira\",\"Estrangeira\",\"Estrangeira\",\"Estrangeira\",\"Brasileira\",\"Estrangeira\",\"Estrangeira\",\"Estrangeira\",\"Estrangeira\",\"Estrangeira\",\"Estrangeira\",\"Brasileira\",\"Estrangeira\",\"Estrangeira\",\"Estrangeira\",\"Estrangeira\",\"Brasileira\",\"Estrangeira\",\"Estrangeira\",\"Brasileira\",\"Estrangeira\",\"Estrangeira\",\"Brasileira\",\"Estrangeira\",\"Estrangeira\",\"Estrangeira\",\"Brasileira\",\"Estrangeira\",\"Brasileira\",\"Estrangeira\",\"Brasileira\",\"Estrangeira\",\"Estrangeira\",\"Estrangeira\",\"Brasileira\",\"Estrangeira\",\"Estrangeira\",\"Brasileira\",\"Brasileira\",\"Estrangeira\",\"Estrangeira\",\"Brasileira\",\"Estrangeira\",\"Brasileira\",\"Estrangeira\",\"Estrangeira\",\"Estrangeira\",\"Brasileira\",\"Estrangeira\",\"Estrangeira\",\"Brasileira\",\"Estrangeira\",\"Estrangeira\",\"Estrangeira\",\"Estrangeira\",\"Estrangeira\",\"Estrangeira\",\"Brasileira\",\"Estrangeira\",\"Estrangeira\",\"Estrangeira\",\"Brasileira\",\"Brasileira\",\"Estrangeira\",\"Brasileira\",\"Estrangeira\",\"Brasileira\",\"Estrangeira\",\"Estrangeira\",\"Estrangeira\",\"Estrangeira\",\"Brasileira\",\"Estrangeira\",\"Brasileira\",\"Estrangeira\",\"Estrangeira\",\"Estrangeira\",\"Estrangeira\",\"Estrangeira\",\"Estrangeira\",\"Estrangeira\",\"Estrangeira\",\"Estrangeira\",\"Estrangeira\",\"Estrangeira\",\"Estrangeira\",\"Estrangeira\",\"Brasileira\",\"Estrangeira\",\"Estrangeira\",\"Estrangeira\",\"Estrangeira\",\"Estrangeira\",\"Estrangeira\",\"Estrangeira\",\"Brasileira\",\"Brasileira\",\"Estrangeira\",\"Estrangeira\",\"Estrangeira\",\"Estrangeira\",\"Brasileira\",\"Estrangeira\",\"Estrangeira\",\"Brasileira\",\"Estrangeira\",\"Estrangeira\",\"Estrangeira\",\"Brasileira\",\"Brasileira\",\"Estrangeira\",\"Estrangeira\",\"Estrangeira\",\"Estrangeira\",\"Estrangeira\",\"Estrangeira\",\"Brasileira\",\"Estrangeira\",\"Estrangeira\",\"Estrangeira\",\"Estrangeira\",\"Estrangeira\",\"Estrangeira\",\"Estrangeira\",\"Estrangeira\",\"Estrangeira\",\"Estrangeira\",\"Brasileira\",\"Estrangeira\",\"Estrangeira\",\"Estrangeira\",\"Estrangeira\",\"Brasileira\",\"Estrangeira\",\"Estrangeira\",\"Estrangeira\",\"Estrangeira\",\"Brasileira\",\"Estrangeira\",\"Estrangeira\",\"Estrangeira\",\"Brasileira\",\"Estrangeira\",\"Estrangeira\",\"Estrangeira\",\"Brasileira\",\"Estrangeira\",\"Brasileira\",\"Estrangeira\",\"Estrangeira\",\"Estrangeira\",\"Estrangeira\",\"Brasileira\",\"Brasileira\",\"Estrangeira\",\"Brasileira\",\"Brasileira\",\"Estrangeira\",\"Estrangeira\",\"Brasileira\",\"Estrangeira\",\"Estrangeira\",\"Estrangeira\",\"Estrangeira\",\"Estrangeira\",\"Estrangeira\",\"Estrangeira\",\"Estrangeira\",\"Brasileira\",\"Estrangeira\",\"Estrangeira\",\"Brasileira\",\"Brasileira\",\"Estrangeira\",\"Brasileira\",\"Estrangeira\",\"Estrangeira\",\"Estrangeira\",\"Estrangeira\",\"Brasileira\",\"Estrangeira\",\"Brasileira\",\"Brasileira\",\"Estrangeira\",\"Brasileira\",\"Estrangeira\",\"Brasileira\",\"Estrangeira\",\"Brasileira\",\"Estrangeira\",\"Estrangeira\",\"Estrangeira\",\"Brasileira\",\"Estrangeira\",\"Estrangeira\",\"Brasileira\",\"Estrangeira\",\"Estrangeira\",\"Estrangeira\",\"Estrangeira\",\"Estrangeira\",\"Brasileira\",\"Estrangeira\",\"Estrangeira\",\"Estrangeira\",\"Estrangeira\",\"Estrangeira\",\"Estrangeira\",\"Estrangeira\",\"Estrangeira\",\"Estrangeira\",\"Brasileira\",\"Estrangeira\",\"Estrangeira\",\"Estrangeira\",\"Estrangeira\",\"Estrangeira\",\"Estrangeira\",\"Brasileira\",\"Estrangeira\",\"Estrangeira\",\"Estrangeira\",\"Brasileira\",\"Estrangeira\",\"Brasileira\",\"Estrangeira\",\"Estrangeira\",\"Brasileira\",\"Estrangeira\",\"Estrangeira\",\"Estrangeira\",\"Brasileira\",\"Brasileira\",\"Estrangeira\",\"Estrangeira\",\"Estrangeira\",\"Estrangeira\",\"Estrangeira\",\"Estrangeira\",\"Estrangeira\",\"Estrangeira\",\"Estrangeira\",\"Estrangeira\",\"Estrangeira\",\"Estrangeira\",\"Brasileira\",\"Brasileira\",\"Estrangeira\",\"Estrangeira\",\"Estrangeira\",\"Estrangeira\",\"Brasileira\",\"Estrangeira\",\"Estrangeira\",\"Brasileira\",\"Brasileira\",\"Estrangeira\",\"Brasileira\",\"Estrangeira\",\"Estrangeira\",\"Brasileira\",\"Estrangeira\",\"Estrangeira\",\"Estrangeira\",\"Estrangeira\",\"Estrangeira\",\"Estrangeira\",\"Brasileira\",\"Brasileira\",\"Estrangeira\",\"Estrangeira\",\"Estrangeira\",\"Estrangeira\",\"Estrangeira\",\"Brasileira\",\"Estrangeira\",\"Estrangeira\",\"Brasileira\",\"Estrangeira\",\"Estrangeira\",\"Estrangeira\",\"Estrangeira\",\"Estrangeira\",\"Brasileira\",\"Brasileira\",\"Estrangeira\",\"Estrangeira\",\"Brasileira\",\"Estrangeira\",\"Estrangeira\",\"Brasileira\",\"Brasileira\",\"Brasileira\",\"Estrangeira\",\"Brasileira\",\"Estrangeira\",\"Brasileira\",\"Estrangeira\",\"Estrangeira\",\"Estrangeira\",\"Estrangeira\",\"Estrangeira\",\"Estrangeira\",\"Estrangeira\",\"Estrangeira\",\"Estrangeira\",\"Estrangeira\",\"Estrangeira\",\"Estrangeira\",\"Estrangeira\",\"Brasileira\",\"Estrangeira\",\"Brasileira\",\"Estrangeira\",\"Estrangeira\",\"Estrangeira\",\"Estrangeira\",\"Estrangeira\",\"Estrangeira\",\"Estrangeira\",\"Estrangeira\",\"Brasileira\",\"Brasileira\",\"Estrangeira\",\"Estrangeira\",\"Estrangeira\",\"Estrangeira\",\"Estrangeira\",\"Estrangeira\",\"Estrangeira\",\"Brasileira\",\"Estrangeira\",\"Estrangeira\",\"Estrangeira\",\"Estrangeira\",\"Brasileira\",\"Brasileira\",\"Estrangeira\",\"Estrangeira\",\"Estrangeira\",\"Brasileira\",\"Estrangeira\",\"Estrangeira\",\"Estrangeira\",\"Estrangeira\",\"Brasileira\",\"Estrangeira\",\"Estrangeira\",\"Estrangeira\",\"Estrangeira\",\"Estrangeira\",\"Brasileira\",\"Estrangeira\",\"Estrangeira\",\"Estrangeira\",\"Estrangeira\",\"Estrangeira\",\"Estrangeira\",\"Estrangeira\",\"Estrangeira\",\"Estrangeira\",\"Brasileira\",\"Estrangeira\",\"Brasileira\",\"Estrangeira\",\"Estrangeira\",\"Brasileira\",\"Estrangeira\",\"Estrangeira\",\"Brasileira\",\"Estrangeira\",\"Brasileira\",\"Brasileira\",\"Brasileira\",\"Estrangeira\",\"Estrangeira\",\"Estrangeira\",\"Brasileira\",\"Brasileira\",\"Estrangeira\",\"Brasileira\",\"Estrangeira\",\"Estrangeira\",\"Brasileira\",\"Estrangeira\",\"Estrangeira\",\"Brasileira\",\"Brasileira\",\"Estrangeira\",\"Estrangeira\",\"Estrangeira\",\"Estrangeira\",\"Estrangeira\",\"Estrangeira\",\"Estrangeira\",\"Brasileira\",\"Estrangeira\",\"Estrangeira\",\"Brasileira\",\"Brasileira\",\"Estrangeira\",\"Estrangeira\",\"Estrangeira\",\"Brasileira\",\"Brasileira\",\"Brasileira\",\"Brasileira\",\"Brasileira\",\"Estrangeira\",\"Brasileira\",\"Estrangeira\",\"Estrangeira\",\"Estrangeira\",\"Estrangeira\",\"Brasileira\",\"Estrangeira\",\"Estrangeira\",\"Estrangeira\",\"Brasileira\",\"Estrangeira\",\"Estrangeira\",\"Estrangeira\",\"Estrangeira\",\"Brasileira\",\"Brasileira\",\"Brasileira\",\"Estrangeira\",\"Estrangeira\",\"Estrangeira\",\"Estrangeira\",\"Estrangeira\",\"Estrangeira\",\"Estrangeira\",\"Estrangeira\",\"Estrangeira\",\"Estrangeira\",\"Estrangeira\",\"Brasileira\",\"Estrangeira\",\"Estrangeira\",\"Estrangeira\",\"Estrangeira\",\"Brasileira\",\"Estrangeira\",\"Brasileira\",\"Estrangeira\",\"Brasileira\",\"Estrangeira\",\"Brasileira\",\"Estrangeira\",\"Estrangeira\",\"Estrangeira\",\"Brasileira\",\"Estrangeira\",\"Estrangeira\",\"Estrangeira\",\"Estrangeira\",\"Brasileira\",\"Brasileira\",\"Estrangeira\",\"Estrangeira\",\"Estrangeira\",\"Brasileira\",\"Brasileira\",\"Estrangeira\",\"Estrangeira\",\"Brasileira\",\"Brasileira\",\"Brasileira\",\"Brasileira\",\"Estrangeira\",\"Brasileira\",\"Estrangeira\",\"Estrangeira\",\"Estrangeira\",\"Estrangeira\",\"Brasileira\",\"Brasileira\",\"Estrangeira\",\"Estrangeira\",\"Estrangeira\",\"Estrangeira\",\"Estrangeira\",\"Estrangeira\",\"Estrangeira\",\"Estrangeira\",\"Estrangeira\",\"Brasileira\",\"Estrangeira\",\"Estrangeira\",\"Estrangeira\",\"Brasileira\",\"Brasileira\",\"Brasileira\",\"Brasileira\",\"Brasileira\",\"Estrangeira\",\"Estrangeira\",\"Estrangeira\",\"Estrangeira\",\"Brasileira\",\"Estrangeira\",\"Brasileira\",\"Estrangeira\",\"Estrangeira\",\"Estrangeira\",\"Estrangeira\",\"Brasileira\",\"Estrangeira\",\"Brasileira\",\"Estrangeira\",\"Estrangeira\",\"Estrangeira\",\"Estrangeira\",\"Estrangeira\",\"Estrangeira\",\"Brasileira\",\"Estrangeira\",\"Estrangeira\",\"Estrangeira\",\"Estrangeira\",\"Estrangeira\",\"Brasileira\",\"Estrangeira\",\"Estrangeira\",\"Estrangeira\",\"Estrangeira\",\"Estrangeira\",\"Estrangeira\",\"Estrangeira\",\"Brasileira\",\"Estrangeira\",\"Estrangeira\",\"Brasileira\",\"Estrangeira\",\"Estrangeira\",\"Estrangeira\",\"Estrangeira\",\"Estrangeira\",\"Estrangeira\",\"Estrangeira\",\"Estrangeira\",\"Brasileira\",\"Estrangeira\",\"Brasileira\",\"Estrangeira\",\"Estrangeira\",\"Estrangeira\",\"Estrangeira\",\"Estrangeira\",\"Brasileira\",\"Brasileira\",\"Estrangeira\",\"Estrangeira\",\"Brasileira\",\"Estrangeira\",\"Estrangeira\",\"Estrangeira\",\"Brasileira\",\"Estrangeira\",\"Estrangeira\",\"Estrangeira\",\"Estrangeira\",\"Estrangeira\",\"Brasileira\",\"Brasileira\",\"Estrangeira\",\"Brasileira\",\"Estrangeira\",\"Estrangeira\",\"Estrangeira\",\"Estrangeira\",\"Estrangeira\",\"Estrangeira\",\"Estrangeira\",\"Brasileira\",\"Estrangeira\",\"Estrangeira\",\"Estrangeira\",\"Brasileira\",\"Estrangeira\",\"Estrangeira\",\"Estrangeira\",\"Estrangeira\",\"Estrangeira\",\"Estrangeira\",\"Brasileira\",\"Brasileira\",\"Brasileira\",\"Estrangeira\",\"Brasileira\",\"Brasileira\",\"Estrangeira\",\"Estrangeira\",\"Estrangeira\",\"Estrangeira\",\"Estrangeira\",\"Estrangeira\",\"Brasileira\",\"Estrangeira\",\"Estrangeira\",\"Brasileira\",\"Brasileira\",\"Brasileira\",\"Estrangeira\",\"Estrangeira\",\"Estrangeira\",\"Brasileira\",\"Estrangeira\",\"Estrangeira\",\"Estrangeira\",\"Brasileira\",\"Estrangeira\",\"Estrangeira\",\"Brasileira\",\"Brasileira\",\"Estrangeira\",\"Estrangeira\",\"Estrangeira\",\"Brasileira\",\"Estrangeira\",\"Brasileira\",\"Estrangeira\",\"Estrangeira\",\"Estrangeira\",\"Brasileira\",\"Estrangeira\",\"Brasileira\",\"Estrangeira\",\"Brasileira\",\"Estrangeira\",\"Brasileira\",\"Estrangeira\",\"Estrangeira\",\"Estrangeira\",\"Brasileira\",\"Estrangeira\",\"Estrangeira\",\"Estrangeira\",\"Estrangeira\",\"Brasileira\",\"Estrangeira\",\"Estrangeira\",\"Brasileira\",\"Estrangeira\",\"Brasileira\",\"Estrangeira\",\"Estrangeira\",\"Estrangeira\",\"Brasileira\",\"Estrangeira\",\"Brasileira\",\"Brasileira\",\"Estrangeira\",\"Estrangeira\",\"Estrangeira\",\"Estrangeira\",\"Brasileira\",\"Estrangeira\",\"Brasileira\",\"Estrangeira\",\"Estrangeira\",\"Brasileira\",\"Estrangeira\",\"Estrangeira\",\"Estrangeira\",\"Estrangeira\",\"Estrangeira\",\"Estrangeira\",\"Estrangeira\",\"Brasileira\",\"Brasileira\",\"Estrangeira\",\"Estrangeira\",\"Brasileira\",\"Estrangeira\",\"Brasileira\",\"Estrangeira\",\"Estrangeira\",\"Brasileira\",\"Estrangeira\",\"Estrangeira\",\"Brasileira\",\"Brasileira\",\"Brasileira\",\"Brasileira\",\"Estrangeira\",\"Estrangeira\",\"Brasileira\",\"Brasileira\",\"Estrangeira\",\"Estrangeira\",\"Estrangeira\",\"Estrangeira\",\"Estrangeira\",\"Brasileira\",\"Brasileira\",\"Brasileira\",\"Estrangeira\",\"Estrangeira\",\"Estrangeira\",\"Estrangeira\",\"Estrangeira\",\"Estrangeira\",\"Estrangeira\",\"Estrangeira\",\"Estrangeira\",\"Brasileira\",\"Estrangeira\",\"Brasileira\",\"Brasileira\",\"Estrangeira\",\"Estrangeira\",\"Estrangeira\",\"Estrangeira\",\"Brasileira\",\"Estrangeira\",\"Estrangeira\",\"Estrangeira\",\"Estrangeira\",\"Estrangeira\",\"Estrangeira\",\"Brasileira\",\"Estrangeira\",\"Estrangeira\",\"Estrangeira\",\"Estrangeira\",\"Estrangeira\",\"Estrangeira\",\"Estrangeira\",\"Estrangeira\",\"Brasileira\",\"Brasileira\",\"Estrangeira\",\"Estrangeira\",\"Brasileira\",\"Estrangeira\",\"Estrangeira\",\"Brasileira\",\"Brasileira\",\"Estrangeira\",\"Brasileira\",\"Estrangeira\",\"Brasileira\",\"Estrangeira\",\"Estrangeira\",\"Estrangeira\",\"Estrangeira\",\"Estrangeira\",\"Brasileira\",\"Estrangeira\",\"Estrangeira\",\"Estrangeira\",\"Estrangeira\",\"Estrangeira\",\"Brasileira\",\"Estrangeira\",\"Estrangeira\",\"Estrangeira\",\"Estrangeira\",\"Estrangeira\",\"Estrangeira\",\"Estrangeira\",\"Estrangeira\",\"Brasileira\",\"Estrangeira\",\"Brasileira\",\"Estrangeira\",\"Estrangeira\",\"Brasileira\",\"Estrangeira\",\"Estrangeira\",\"Estrangeira\",\"Estrangeira\",\"Estrangeira\",\"Brasileira\",\"Estrangeira\",\"Estrangeira\",\"Brasileira\",\"Estrangeira\",\"Estrangeira\",\"Estrangeira\",\"Estrangeira\",\"Estrangeira\",\"Estrangeira\",\"Estrangeira\",\"Estrangeira\",\"Estrangeira\",\"Estrangeira\",\"Estrangeira\",\"Estrangeira\",\"Estrangeira\",\"Estrangeira\",\"Brasileira\",\"Estrangeira\",\"Brasileira\",\"Estrangeira\",\"Estrangeira\",\"Brasileira\",\"Estrangeira\",\"Estrangeira\",\"Estrangeira\",\"Estrangeira\",\"Estrangeira\",\"Estrangeira\",\"Estrangeira\",\"Estrangeira\",\"Estrangeira\",\"Estrangeira\",\"Brasileira\",\"Brasileira\",\"Estrangeira\",\"Estrangeira\",\"Brasileira\",\"Estrangeira\",\"Estrangeira\",\"Estrangeira\",\"Estrangeira\",\"Estrangeira\",\"Estrangeira\",\"Estrangeira\",\"Brasileira\",\"Estrangeira\",\"Estrangeira\",\"Estrangeira\",\"Estrangeira\",\"Brasileira\",\"Estrangeira\",\"Estrangeira\",\"Estrangeira\",\"Brasileira\",\"Brasileira\",\"Brasileira\",\"Brasileira\",\"Brasileira\",\"Brasileira\",\"Brasileira\"],\"legendgroup\":\"\",\"name\":\"\",\"showlegend\":true,\"type\":\"pie\",\"values\":[10,6289,3303,69,402,19579,14,195,652641,8001,530,2364,1346982,21464,72,35593,170609,39,1622344,2538,254709,3106,150,13,6,215,24992,39508,4910,684,6287,8077,25,7335,361053,148557,2380,34883,10,595463,177958,3018,17464,317,1798,1426,10020,6,124934,9,571,507,9298,322,10961,1455,22732,1078,704,64,235011,527,2908,58901,472,73,2028,117222,263,4705,45,23355,851,66775,1026553,130,29,360557,16212,12802,263616,4788803,2143,6387,358,1028151,3143,13131,23,1717,1483,3843,728,79,19084,8116,294,18505,73,891264,1071,100442,1782048,3854,4,484,742,2919358,158,64,31,26,6089,216825,15,1447,27,453400,13493,90457,271,1937,382,60226,1512,4145,786,735191,152,5864,1217,355,896,6591,253,6491,174442,29347,309,77584,310681,270135,10270,19,895771,10,2332,28825,56099,24033,92,55,8991777,193356,50,3898,22,129350,44063,70,550885,263,19150,164,82715,3815,2183,117,476714,169970,438,10244,12853,273,3940204,509,2178,4132,9746101,675952,231238,22378,86,143,35358,12334,35467,14,3244,1113,1838298,499,111,42,36710,584,1965,16500,442552,216,1630,157,1456,430704,1,35730,1952,1907,52,5277,17767,2666,219945,594019,301443,107645,1293065,81549,297,1849624,491,244984,866,2675,3012,774,8807,785,52,25535,16598,470691,5697,127,52,737582,10076,528354,2834,1284,8148,253,10561,24433,3996,2860,1512,126718,120,2018,261,4849,8748,281,72,18198,2456,16,345,1417,120,9695,289247,559,871,1715,47,30889,531661,7011,620789,7927,105,16,263,48652,3049,117058,172859,364,166,185207,780,70,1411,6555353,2057620,244,574,1211,78873,3291,273,4,6758,873,3765,75867,7901,157,4123,485206,3152655,1258,40,2548,13,1003691,44,966,26284,237,94,268,17,167212,3408,749256,348,2068,12,3,897,15993,32,1994,359,84,36,19735,10968,1947,4843,10049,14,488,1018,34,35384,4873,746264,2333,187777,5786301,190,66,1420,3986,40922,166,11,600,199,18260,3366,4442,153979,9800,198956,2529,244,121,1663,834,415,1429,7850,50,982092,66073,136422,1189,18,110857,490,1947,7597,2877,821,2419335,16888,4309790,297,172,129,2959,26574,12471,357,146,50,535,2388,331309,35,6189465,28396,530,14,14,430,64285,662,189,667,268,115,13037,14523,509920,5,125,22,1654,58666,30,31212,5,9505,3100,40,12876,333,80,1949,31,28778,1392,2213,327,1024351,1335,9,2250,168,2128,360,2466,69105,4568,7697,1038,22828,11561,108975,8815,4574,230528,12749,7613,12903,349,1516,166,13030,9,776716,19621,6578,277,219,40,191,419,9912,51,16242804,93991,1885,27322,109308,56,12,27,5850,13790,261,143,181,1521,39659,537,120,2634,3963,476,40014,51,514,2112,2327,49490,436,3067,81,230,1756,146,658,1305768,363,133,11,290,1746,669,267,182297,44,38,221,2287,483759,13,241,4221,1423,819,68,130,8,48,1734,1923826,211686,268,251,9334,126,1136105,3425,230120,31,821564,2630,7377,4029,116,6041,9,15,26,15276,15966,5970,7970,28148,2675,176846,400,4875,740,3013,5841,63,2760,733230,1055,469143,10,5558,3519,18960,811,1843,14406,229,107,48,479,2926706,65629,46,177,3284,26212,77,3079,2129669,76,164,188,32,1719931,43895,7965,4128,7459,6,130,75,17,33,22,19,16,95834,7439,7,168,40,9926,1740,15179,54,105095,6703,397,75,6424,252,7955544,914,14597,54,138,1782,2125813,1475,98098,674,5026,13161,92943,110,30206,71,141920,204,1305,2094,117,325,15,398,8697,402456,165,122105,514041,1075,67,464,53,803483,9247,2743585,50,479,6164,9819,219486,15666,26,1365681,871,19656467,195265,9604,1447,77,13296,8,6196,3528,24,4399733,90,3330607,2327,624607,2110,50,8,388,287152,21,49147,30930,16685,35623,16976,129932,235,30288,92344,38,100041,15666,7259,1541,166,68,4959,226346,24296,11786,23,53,13719,1355,32,3433,2476,19,47225,117,1718,863371,5293026,1732,3929,9,75815,671,87722,38135,2569,732481,16226,147,2,13193,37,2716,5113,77878,1415,198467,6145,5810,6253,3279,43625,3775,150746,3859,10480,2497,3651,1178,50,108,140,77,17070,83520,1413,2932,2069,3791,51,1641,22073,4540,3159,330,25,508192,5576,28530,2,143,158,2841,686,11284,52098,2456,72919,211,3550891,10085,1251,40,16232,1937,27870,37,5584309,131,30,947992,8237,11749,107,31358,1026,11394,102,62,22617,149020,1820,85129,6306,175,2940,6344,80,36726,5,39284,6138,11263,1017,224,11,0,117,546117,83,78,3749,103,7,708341,218013,85,444,5097,437566,1051,10523,1037,1572,2071,153,1692,1660,359,689,36195,2671,884,292386,10250,7710,130,88173,4331153,37716,1903,0,62,320226,49603,3130,5,345,12,167,5181,5910,2538,3498,0,30688,16,12571,113,607,2601,100159,57526,738,947,478114,10234,19985,55,847022,180,3665,53,203,7206,20267,328085,1244,4601084,4720,55014,268,178,132403,29,70944,884775,25,272797,2200,253,170,8,3131,164072,162,2122,187739,5370,8292,34,35042,3,1238,1128,11412,249,3593,1188,27731,67,2364,3951,314,239360,2947,23360,8263,192128,13,15210,70879,311,8381,133,332,183,208,11157,9596,152,253348,109,52413,1949,307908,9133,2499804,51,39,2028293,51505,125,27808,540,1837,1582,50,112174,220193,853,37679,8,75,23974,338533,24,12388,584,131,199,224,1122367,703668,12101,2493,19,2116,253611,3936,113,125,113,593,3892,3257029,78,23575,5375364,345,1420,2,23588,2701,129939,4017,122,1067,0,23,1157305,3332,16,122707,157,2862,1012555,9602,1,4515253,6180,5258742,2506,3639,103442,66,36251,40,105,2155,154448,12246,50,295,33,235,864,44685,3908,2191,1814,15051,0,41403,801037,242,900,117,1950,101,14985,201281,22,13566,873,1444963,778,172365,52716,3421,1882462,77,275,176557,119554,166,6677,52,155502,1233,1412,7114,105,475,9541,192578,36,41,2053,8063,925411,3493,1467,899,2550784,375,1939,41,183,147,494,10493,11975,6,268,92607,2582,1408,83,12265,2836,117,12184373,1398971,3467,198,3206,222792,9108,161,340,14,292740,28,28086,8517,117,126,10052,7902,31,28,984,580568,1207,191621,50,2845,6558,6,5121,408928,4869,276658,84880,13,596,68,3515,226,30,6044,51120,1505786,139041,11289,123,982,48107,202,31558,366,374926,2234,43,205,45766,1712,49505,35,520,40793,1465,649,199397,329794,1900,70,227,804644,299501,65918,843955,343770,76,12161,9033,852823,111,226512,114,6234,1434,278127,18099,13587,9077,794,5613,50,825,6410,3450295,4491,397,10749,1285839,59,1116,421,3854,3796,85,197331,340989,134,2,394,7,55630,181614,8812,2604658,198,789,9809291,4300,7125,223209,65,5526,274325,570,0,7438252,53155,10,1970,1670,21554,5893,18,1076,767307,937373,25,22144,5121,161,116568,2480,723,908,1282,41358,3690,1237,10370,309,13348,8208,233,290,25858,11499,1500086,674,4188,2350612,65,1646,2297,1337049,7850,15,50672,413,40,193,3,79,322,899166,54,93995,1419,1872,238,130,124,30269,489,2286,782,14759,12482,4688,13075,1789,13599,136779,489323,47201,0,2384,748,467611,1068464,32945,1299,12126,381,354621,3005,19833,3423,3939,228,3309,38,7,1687,37296,1077,24602,409,47,2739,14881,1107,471063,44489,650,476,6550,4162,27649,32,2305,573,114908,131414,2846,895812,82,9320,788,42,2404,112750,330,24656,1752,388425,30562,1187570,17966,221,58,35439,5737,16,6332,19811,102,40337,1507525,140860,38,20782,41907,30,153549,3394,3566,472,12216,644115,11187,16,7047,63,49,6165,1715,758,4187,310,4605459,496726,217,3334,220,1046,23,222765,1669,14501280,4322,1257,1301,18078,42,1968612,28367,2563,13384,7906,8855,100,1406,4475,714,7,262,620,771,30662,249452,29,65,214035,549229,3011,8308489,5117598,25241,9078,41,45875,39560,106245,186,417,14538,481199,3458,6793,823,461,2,10783,6745,17016,557,5403,1717008,16301,797,8466,108,42574,49,51,744,40,41967,5200,1007676,798,3052636,315730,52,44374,12,26223,52136,24,2864,1621,898802,4299,13842,51,1951,13932,726736,4626,1753,1838,1067,8687,40,3552,276,388644,60,664264,211,6694,12529,241170,25378,173302,87,14838,92873,1176,65,9296,65849,4333,3186,707,2957275,28,1665,189949,37710,3617,978,118,1605,10879,4017,181884,1461,312220,565500,2380,937,12962,14191,42,332,217,26,42,40,43,1018120,2058767,5224,13082,23,1735,271731,374459,14,32053,1504,2233,532,725,2604,498,648229,746,53,508380,91,5454,306126,34,249309,904780,2375,49,43,14501,45300,7494,845,57,699,112624,290,14426,72,342,104,8,31,96,56069,347,56,2524401,3364,46,29,32,63,336,65,16408,155063,35662,1082,142,193,4628437,4207,5063,1339,4016,8509,78448,602,3351,206893,506412,24633,202,3542,28,912,84,1431,8769,20015,382294,1019,3870,10,3532,7812,356,1222718,2237,3510,21643,46581,390,36,312,436368,1,1362,4963,131258,10076,40,174,33416,487457,76969,283,33,10414,29925,111,3204,142059,3,46640,244,83,292504,789883,239058,5398,22,884,235,10,775,4,23675,610,14495,2207,5602,8740,119109,582057,1683814,3964,58453,202,100,49,30161,18,224,6248,4436,62,3718,290,8,347,398251,559431,29474,62,472,105843,2388,6470,6280,4183535,7914,8575,883251,674,553421,3337,16,64383,120,2007,1011581,20340,10646,60,1638,41314,10148,569,17874,5374,169485,85063,1157,4207641,760,1468,26,26,6265,34806,84,14041,242,77,6686736,624,3841,94,22,7350,152,45,5237,7,25720,380166,236,634,4906,121450,9488,75,4414235,1921,85655,57,56,2180,19635,635145,446,552133,2524,2745,41,87517,4405,465225,17939,1016303,16,1902480,351,1398364,5219,28641,2049,23,43,1336388,335204,8442364,314242,209164,6400985,17443,9017,78,253,193,2473,145,7463,4133,784,76,115,215,114382,26,105201,15337,189,55,2074,913,3,32028,6396,6462,48,51289,1496,6461,408,164,2256,8989024,742137,405,5213465,2185,70119,2931,5147838,94923,340868,340507,521,7,67,1327,6396,6079,13195,7011338,5008,18,134406,185,519678,5811,33365,4328,39,3686,2159,1389,17580,14621,88155,36,976,195992,7295,229,15958,1,95,213,2589,55083,146,57,21,2827,7909,97,2154,114,76,45527,168344,627,25997,1535871,38,82130,23,760,469262,488,86,64504,2059,43875,38939,84,100570,6918,4017,7445,46,213,295753,20621,27,30,6284,191,2813,4618,275,19801,14840,5291,176,827,21793,5016,115,1786,4453,15170,319,810,17166,3228749,22,11726,81,110380,331,87070,21239,368161,2359,299,123738,61105,11,106,2759,659,59,160,31558,2643,40,594,709,12964,22,16908,77,2993,496,58127,43788,38,1362132,401960,4693,95129,1464327,161,446461,52676,7115,8,17,11,22,6296,119297,2625,1244060,48652,9031,451,2498,160,2794,7735,40,801,40,100,48811,38920,14788,1617414,3659613,4603,2694893,12716,43813,1360480,8602,1471,259,1240526,64,246,4284,3321,55,117,139,512313,89,959,259,897,46968,11615,952586,1431,1417,1214555,193,2031,107366,4097,63168,14915,252349,434,160,401,8423,345,33,283,2511,18619,3901,1749,70623,286,178,52,716894,778,1162,4657,9008,13142,6032,3155131,11288,15,26517,37839,158,49801,1649,12938,14,1373,908175,26,38697,13050,1712,6256,874,6359663,110,43539,9925,241184,706,10754,296,93,21574,14,7873,2858033,4590,4008,94,123824,530,424,134,4132,13401,19821,34731,83641,37,26889,559584,2055,94158,148635,27117,10676,33906,2844,10492,566,162,488270,3261,9420,8505215,7773,47324,8831,18,106701,310730,73,263,83,1605,93,271,160,1298025,37,162,36886,1506,22,234,618,40,571,17015,2113,38954,72230,14798,185,5944,1430,5649,8,3177,159,1729177,3498,14538,8394,59,2929,690836,31,556701,20134,18650,6978,38,63,1956,1641,127,8265,5260450,69074,31,361,47,1695,83,4335,387241,16896,685138,512151,682,9801,24682,60684,2288390,6273,10,5141,7319,116,54903,91775,248,207,162,339,12,9364,4149,8029,3676,1569,688,1507,8874,42967,73,2,2016949,789,1228,25,2134,18759,33013,208,86,1959,2812,74108,444534,390,10,46652,370,2226094,1096822,171,111,9730,31552,76,12975,18189,235,7570,222,2333,1833728,4335211,699,41937,329,1132529,635,23136,26445,19,355085,61,209473,7330,10,895,767,197,61,482,13407,59268,1356422,341917,11967,1280,777,14,6655,63,1577999,214,1316,82829,6777,71,1242,703,977,2226,1340,357,940,2723,2572,681,8565380,24934,837,4715,168,5589,2238,8389,532,1309875,15,11528,6,6363,306,18971,3210,34643,340932,1531,9541,229,58,5519,96,62,2432,698,90581,804023,56,341509,1874,169,275,6,4854,31898,2373,378,9617572,45213,143569,2525328,1592,2,103,6956,370117,66,420416,1310640,1331579,4130,2876,432,4811,28679,39960,884,21325,909,6816,813257,30,4272555,176089,481,150,2865,67469,51475,286,1492,171,740667,3197,61,2663,55478,1206,25,22176,7324,32763,772,6044324,23968,53801,2681,2564,1601,14075,38,11548,153234,337380,1246718,279,26812,3201,540,1357,217,7165,520,102340,723,1912,4797512,192,147,1658,66,536187,41103,6566,226978,171,1071,109698,64,135041,1507,329,51,24,18,20147,5892,7827788,3925,3834,2671,46,3187,9301,191,1208,368,234930,32,138036,95,15493,520,135194,5072,1193,44504,1592,27789,70,4864,12396,392,24832,70,6,82,478,17,241,122,169,1590,617090,54,393,754,2079,124,18,62435,46538,10716,62,708,392,11,119,392,93456,287652,2635,7958,229,1482,4907,1829856,15829,2193152,336,543034,120970,303374,563,3594171,3919,14376,29,76,687952,408,4188,25057,648312,51,365439,24637,112,1421,16,3046,328003,199484,271,580,11,174,141139,1757761,62284,5472,8840,114,22998,4905,7427,17464,20487,99,3078,381,2759,12173,4353,849,337,8940,565916,2297,734,194,668,7659,836,114,34979,15,1705,43560,346602,9825,95,51769,7102,57543,1197,24044,295835,515,25100,138,2127,456,9535,189728,240,4020898,100,60,561,148,226,38,2670252,225,29,6306,3902,69753,264,5228,19670,533,10681,33276,7387,18029,1997,1660,46916,36862,397297,127,145,10789,153995,149,15414,16461,157896,238,11550,45,15,53607,207,172,26509,170,11405,14748,57,1341,9194,814,125,28464,4457,4531,209,234,313400,3597713,640571,3717,11856,1954,1646209,970,105,44,1320,15363,35194,758131,11603,43,1055,34,37135,13983,82634,53098,21794,459,3961,553,390,36,58,85,770587,23479,2315,41256,20,497,2181772,8915,176083,26163,24737,728,1058,328,5531,20275,7331,7279,12916,3692,629,3911,343,266916,108763,10988,10783,85,2645471,1041,30209,48,610730,373,11130,2499,593,114620,116,2997,247,14082,12769,641684,165,6,4429,521,146,238,13561,126841,217,2355,1975,578,1141,964,122,69,32433,14356,46,1775,1611,105985,11305479,873,312,561784,592,5197,567,36,156,182,452275,889,627732,14542,5336,875,7132,844,13042,3146,60,65,63617,15324,132,1013,484,8105,279,126252,187015,1849,80781,695,4415952,53,77,243,59,1477,8247,47,454569,241,85,66251,8189410,2457,12147,823195,236,1101,5955,55,210426,166,546,2535,230,4805,2189,3147,500,378,1772,222875,377670,299,280,1217,4137,2607958,10526,2321,8992,324289,130,1240,5968,517,6608,78,8087,57,74,618236,14,200,82,3765,2236,1984930,2278477,107679,39237,57,60,424520,4000,833246,1167530,80212,1625,12,34,330379,21603,3368,5080,161,84051,8041,473,1297,888,7456,82,1844,26421,82757,55,827,91,1249,3023,2894,39,16132,1884196,142523,41673,1952009,502,848,2764,10373,755,3120,1121570,86,194,6098,5286,6738,1846,6888,2323,4,391146,12005,67328,4184,665999,594,1070434,811,19,4341,103351,3228,111,729977,3344,204,22,219,468,477,1274,2472,5857,36555,1342,37326,4015,5963,63,240232,92,24590,7,169,741,1386959,47,2914,5,312,4373939,1875,7,34715,14139,2824226,196,188,393105,7851,1722029,829,180,7577,969,2099237,6766,28,4090,1384,23779,33970,1141,1630,5145,121,236,44,5393,105,111,302468,265082,437,70,88,80,87490,1372,3939,569119,116670,756,123023,107590,415127,41,34358,386,73579,7633,54,8581,418,286661,733,255,1329,604,13061,2499,2604,133,429,185706,1645,2689,8786,887,332,5577,354679,100,1472,28643,3951,6,31085,1019,97758,89,1952,131,1295,2819817,763660,2113,140063,1001,462,1674,209271,612,45665,43,27274,348,303,216914,4396,115,1751,2318296,503,650,21,10877,45630,76,3274,522,5430,1729,20565,3108,719,1748,85447,1009,14606,464,2105,49,153,1769,1944,1607,43420,10100,43210,143,10175,1421,3577,365,64740,189,1387433,722,491,568,21,1347,3478,1757668,3816,42,1706,39730,166,2713,100,850,1919,2684,1268,7199,48800,294,6129,11038,26751,133,4680,545297,3727,2137,1349,423988,781,9389,6231,119,73,1327,3719487,18,75,59,78619,12512,19034,2311,1480960,1783816,33118,2735,11967,282,534,388533,2273,9882,29,202508,359,2248,3391,2536036,38073,1823,829,1999,7352,100,7125,348980,62250,97697,2,2749,1602111,4199697,1393,100,6685086,948,387,9349,89,3695,4251,79,394531,2049,523,8,437532,75470,182,18179,454,226,318,75133,161,1523,691,18301,3548,1,5699,6805,29139,54078,77,16220,21768,3049,11537,10330,389,777,3780325,164589,8755,380,55475,103,405,3352,31,44,337655,2015,2386,2149,6688,17066,5800,5849,2291,587,51,88,512,36,118,1925,23438,71859,1874,5103,131220,438782,550,70,295,27,750,352,427,3205,445,42,4148,128,423857,243809,76665,2475674,499,1064,157,5689,38,4408,158,147,13719,45693,108,27,3566,370,179,13072,25853,498362,300,1422,1609,22675,858,1284,613,1288436,47,522232,91809,1511,78307,238,906,273,307,6366,200,97,31,7680,4322,1649,11,310340,236,1658,194598,2927606,14182,36763,20,3272784,446,88889,40,197,5696,3517,150,58,770,34503,139,242045,4418,2364,713,6386,103,149377,6689,9808,108517,54,55,4393303,43436,27,2614,32,388,40,6356559,27764,211,893501,2738,57,12494,24749,7623,40,124,41192,1712,948542,268,90073,252,10332,264,3726547,40137,20251,7680,39400,539,529,2233234,107,302,202347,6831,12725,348,2346,40267,4297,35,629,2547,317,1986250,962,243,31,58176,116,5112,2639935,300,19961,22661,15505,1688,4825,594,50427,8912094,74745,13500,713,2711422,17836,8190,441,1966,152,33450,2836,2127,2576,2350,5213,2284,17592,4281,11688,1016137,229,24213,275966,2977,621,2227,10040,166,28055,164705,750,64851,386183,19431,188,2722,10016,866,49,2130,239,635,291,4598,10817,6164,3177,19702,87932,8172,30618,250,13411,4228,1233711,30141,8767,23597,14337,4710,166,3121,66487,114,228,590,19,129226,77108,1401,30290,500,101,511785,71,23464,3956,997,83550,545643,653,16905,449,90,1011,70,317,15,167,954,67662,543,257,920,59,2035935,1916,191,89021,5703,226,23682,70,3106,399132,189,138154,395,4297,3769,1574,42,499919,7595,301,80335,777,48,13201,638,13652,2657447,12107,1440,10026,4276,161,211333,32428,13,1596817,1792,348322,1479,2721,61569,347,77,671,1241637,814,8,155,1325,1715,2319,138,156989,12725,3133464,99,22,10123,4308,260,128851,3119,11,4519,43,2072,3797,8656,1245,400893,845,142,2769,6377,60,206,11965,3459,350362,101,861,16627,1800722,1461,11115,1872703,634,2355234,407,1235047,34566,423549,200,350,2873,28411,2619,9560,356,807827,42,6008,1771774,384735,613,493022,108787,1446,819,14327,1714,10559,11208,131,932,157873,446515,5482,5807,118665,868,950,76618,19566,3567,12,762,1318,21717,1637032,9476,869,131491,1292,10044,124,10,1646,102,8544,11145,33422,20109,12185,222,19868,15982,1510,113999,50502,489722,1162544,96,91945,33068,624245,42,37,39548,19458,130,137,195,163,5558321,189,22341,84302,439410,102,7967,524,341,1981,743118,19141,318,67950,244,2220028,5519,138,67437,1121,35,9,875,25273,351,64,610854,2565,308,676655,1947,3459,135,2802,2517,148,36,234,1313,316468,43,5525,1328,602,24968,627,10755,43678,2216,169,321,95,135,55,146,50913,1104,11619,8712,14827,7982,96570,598084,1476,3449,146,1057,339,119586,8150,126,2707296,32912,1093,410,296,1748,3307837,193449,385,133,9857946,1530,54,91,678287,2251,10129071,596,2777,19338,225,169,17951,306730,46634,43,20009,14,118255,8309,8294,169,27275,2612034,606,2983,173,14498,501962,1236,98259,88,9,182,20770,2839023,3077,11216,57266,2498,20,355,513381,8519,351,697,25,1300,33,6165705,39,362,563,48961,16550,942,2743,84,1320,93,548,234,31577,147384,4947,2896,26550,115,106,1390,6405,2702,538091,299484,41892,341,1376548,921,9927,319650,4774,4849,6158,7517,74,678,26247,255,86,120,300,278843,160,312,130,232,110570,24508,955841,265387,568,292,20,3669,128,228589,15283,36636,78667,220,266,2116,2870,12228,3092,3437,85,465905,3716207,7347,21845,2266,36,58,36873,3188,12,351583,1193599,17,20089,14307,12094,22,3366763,1034040,13594,28818,10865,2930693,195,2756,1111,624828,50622,955,798,875,19,279,4622,16240,1681,34164,20,45096,144563,8633,2111,5542,2561,86307,206,42,77,4911,662,614094,2342,4621101,35567,26892,3581,2322,83413,510541,729,366407,519277,112050,2549,3553,200,827,170,86,127460,4326,826,4610275,42811,798222,391,646224,96,25936,12,20,54,2745,63825,2382,486,1152,1139,7967,139500,313643,3042283,202,1274,27,200,291227,238,52,1205442,162,9274,181,10249,313,2707988,374,169913,38212,329,5410,27153,69,7563,200,49,130,120116,70751,3255,54400,4374,200,217,1514,564,6373,3597,20,167,52484,30,29,6548,1052762,807,10399,153,120,5666,13,2686,2547,108,6437,456,65,308,19,1037248,3931888,7456,52,141404,166,532949,3180,508901,2039,28643,1314631,2653,6875,81529,11429,2864628,1873,69,438,31,360,19,97,54,72,30,31,139,2352,653138,355,204436,279,77109,189,867,4078,2452143,7859,2320,5619,620,120,3931,296574,7059,28,23561,9344,2079,1182233,200739,81367,2733,880,20527,2120,1301,521,4755582,19238,6,1078,8151,222,179745,3706,1979624,541,83077,45084,2073,236077,527,479,17,1503,2227,208,25999,1505,56,38,3350,3014,243,905096,1459,3978,1332,1379,46,1784275,20729,32,381782,240026,2356,5755409,1284,12761,192,1564569,674,847,35,1974,39,200,120528,4652,7995,2976,1178,2293,44745,1313,37527,860,10747,13055,4292,793,1429862,512308,200,740,64,253762,281780,3330,29273,592431,262906,100039,772526,460167,35,100,76055,4887284,28823,94145,3963,105,53717,9771,632010,974,2237537,347,91611,6405,15395,3732,6202,12,17623,573704,27726,151639,4100615,10613,21,260,104069,95600,3811,40,98884,335085,118,8845,312823,3102309,466394,2735,11376,34915,37641,73,3691,55969,425887,17,26261,1069524,161,118073,40380,33978,22794,8680,13309,4754,107,18439,104,14955,18895,3426,14252,5694,706374,37,94812,242343,731,386,1110,4539,1719,674,604,520,642,80,10939,2563,258,31453,14929,7,5237,8998,1120786,329047,175,536918,76,5166,6064,308449,650700,6097,158,2746,1040,6121,30595,1793239,2108500,61425,4214,256,90,3939,390150,258,20552,3426,21,6208,301,18,930,5,14367,19768,26,207214,27,4103679,1769,779766,200,5873,19,133022,170,9539,155,11832,17804,283,7689,3549,11083,278,200,134,563260,34361,40325,20160,1599,305793,91,592,84,5212811,970,98990,3970,966,2816772,28951,115,668,1776579,30598,2420,23,4482,577153,150,129,903041,18015,7212,2192,701,79,47678,1249,342572,284,291,407,86010,71,37,19547,1071,2336,4056,366,1699,1689,1253,593,372,566,69,917,51807,1827,7783,651,14892,901617,14209,9843,656,128,10173,11803,1676,776824,6255,429787,1670,5977,202,29712,1783,625,300356,4587292,633395,259247,27602,21549,113,14119,39,43092,68971,718,1895,60851,28422,6551,2699,220,52195,8177,851,6012,2637,51587,7652,63076,1553,1035971,1687,3667,4810,9571,455,9342,4063,11318,4079,14239,190,33,7400,11617,2462,153,11726,4081,14603,4408,1926,1877,35,6579,538,7799,1258666,1980,20147,200,11969,10031,4157,106,23863,476610,28945,4491,46933,726,58030,185,4923664,44156,43,240174,4923,2746,1372,1539624,50819,2469,554,23262,24294,2430,1606,881,1646,916,10653,2285,96,12057,352914,58661,1379,7295,6297,87,9,28211,181,1007,49955,158197,20194,7231,525,46,99473,160989,24966,337,205909,482104,8831,6204,355605,316,365,69005,105997,24861,87,319,40,78,8770,142763,25,18540,24968,836123,3989,269,503118,23030,3836,101,1712,1847,18456,2819,24166,134,27,1781,77120,803146,4419,95,13320,10596,89261,67,38993,223831,13762,1146,55359,21870,91487,6307,307,9115,3,942,158855,5061,110211,6112,208632,123889,2318,1202734,601615,733824,799,98,931,3274,31585,8819,1294,12007,4042,1047498,28903,1204441,51,68416,36873,11006,64,541,2573,100954,338577,4032,12,13997,940046,13649,8600,29,518,497,18766,13792,20,577592,129,16908,576286,152596,27428,187072,2691,527,101358,7792,87,485259,572,98,66126,163624,2030,147930,20863,18749,4220,3887,631,1591,2356,533,701,496,1652949,750,826,13330,1165714,22109,3787852,268,6110,56397,1293122,7514,34294,3334365,854947,64121,6872,926,1143266,634,3222,444,195772,8097,377922,1538081,218,6175,15710,617,13004,4953,57773,713,1742617,88,79776,358052,32,1293,3752,4369,2746,1906,5939,7956,677,737,17170,511323,1469743,620,335,1871,22409,2939,3239,1102,186073,2591,70,681,275484,87979,686,2397,325,64012,5277,267,310216,149,173,1441120,1577212,8021,188436,28,2459,1103412,2587204,5681,5887,133617,150,200,769,42,62,67016,7525,4238,7633472,12,5,8003,371,924582,27,92808,42423,6514,14085,522444,1617133,2143,940169,479425,248830,3533536,9684,28223,3716154,2296,4224,6602,11961,36820,13212,747,2647,81,5079,10091,851,951,793939,131423,30781,1334,4685,740,500,18218,11817,199,199,634,183,677129,362,4751,553,1134563,69,55,18025,248,6989217,497544,3137795,68981,40,165,4600145,6199,125502,156,104043,2038,1461,5714,521,2402,445,207,669,3652,13929,391,60886,220,281,7178,1490,11478,189204,71464,121,191,718668,1676,27522,4326,174335,876634,1320102,246379,44,99,25085,14484,4824,4859,554,106,19490,1999,313055,20,2551127,464966,4896,2756522,14363,38,16548,256258,3708,1338791,38,67,22193,4616,17426,142249,74640,907,67383,2210,80,1699,71,1158,80062,1975,20120,150,141758,29017,212021,94280,14931,711435,7563,19110,551991,452276,6321,295326,1047781,24840,457523,1431,103,132509,127131,35621,2785598,79115,900121,1232,650555,794495,18,320123,21188,2946527,453512,37,158,1914246,4928,844,112922,1660,52928,95803,3,2585,4359,10865,258,95,2147926,4502,192,2487,15,1280,1808,14833,150,35633,153,4414,12413,113385,216065,867,2112,11535,479529,1368310,32939,1486,41,37,357220,69,458153,621,200681,971,120,1818,4307,280445,2557,54,3214071,360808,775,12547,11808,107,87259,60301,490,405609,797,45429,133,88664,524,80,3400,205,4550,367370,1971,5415,1715763,62,428,2842,705,20233,353690,4,2358,30428,128737,8141,80956,4823275,28094,340526,552,90,510,564998,540,1991,45181,220,1330632,1170,1429,6,2652,61,1051620,2479103,2834,71182,11088,80,3261,9379,1472,9974,23,32706,556,120318,5972,12824,4214,714444,27543,30456,166796,927,40619,9078,3290880,2729340,614,2479,4521808,7,152303,59,4501,9225,328,424455,1262,7,3955379,2209,351,200,5654,83732,19722,159657,646759,2550883,384,158642,4943,9110,36,56622,145004,4690,46,20630,6603,29537,140450,695,53788,2715,4074,1188,670107,68288,85829,423307,8728719,23771,21989,11006,24879,21101,13552,230676,68,1048419,174,598,252255,77,74901,108213,5147,2067221,42735,161460,36619,2793,138471,9453533,201611,172827,86410,16905,89449,4648,28289,3741,574,175,78,6721,178161,1017,546,1002726,5002,5958,47694,4581140,721,15904,1324,1537946,4010,451,2966,4986,1168,756,27177,96,1503,66741,933,196626,746474,1856,41638,90,33510,291899,447,12285,937980,1024662,1778,1547241,8742,4674,102187,53910,48036,41031,5345,2389,61,62463,229,681,883,1196236,20178,10802,3413468,5,1408,620,5146519,837283,3321,21112,6431,27476,257664,11947,1541,2518398,118,133,7916,316,617,938166,597,2128174,11436,2608,2536,7590,611,272482,6286,5,256713,1168,1884,2770,313007,128214,11273,472,909,970,784,279,42297,45366,19674,59363,701,1058421,3264,67,302314,86912,283,548,4329,203055,3232,74257,40,336460,53,93903,124062,370624,26788,61,2578599,103524,46559,25374,95,6060,87,94,226,18958,279,16387,1936376,322,1417,22,9,45,204,121,48,46689,104,62,1355,34841,13467,27674,587101,198,156,18774,55142,1585,258601,581,2480920,280,674304,859,5118,1457988,1183,1013544,101542,4739,246,11408,134,8747,6446,91798,99,18734,134780,8740,10866,2649531,572,2522216,4493,1068,816,1277544,26244,8058,1068763,88,236,128250,1242,1917085,1033305,15959,80,10570,1687,150755,4223,3143,3397,60,8900,571,138,434,49035,439902,9489,47,32422,5269118,106585,239,87,65626,2184,3162,5439,14441,262,1902,2142,1546,68,107,9305,681044,10251,7020,10464,914740,700,47160,25,2744,60,321,3944,670,288838,7036,14117,53,6142,2633,78,85,397,864,340594,2603,252044,760,54493,3835,621432,206991,5145603,139510,8578,129111,17,27171,14084,13058,108,1345,2364614,129743,94993,4009,412027,792,393408,15,460,837008,145,239371,3563,22105,2397189,93,3387,183347,21203,72,29809,967,28073,451672,15233,3477,250,40,25,4712,1149566,363,41998,53,1385,3546,6455,313,7698,37864,592235,1064,30741,107372,3166183,15538,6991,2228318,7118,480,495,366,248922,38,2456,654403,228295,2210,312752,402852,6368,7149,14,322825,99893,472500,199622,97862,207529,8122,710,512011,44857,253,157968,62839,168,67058,82231,1101176,727,311322,18,6071,53,2010,133420,151,82,24,7611,170471,521,179,192,128396,17434,1575438,298,54,585,78798,1387,38010,9910,24068,45155,499,691,101,862,37210,53,1281,100941,99273,2456934,190,8,2698,13609,65373,940393,4461,163776,334,2274,39,1784311,162,10911371,450350,226,679103,28993,523577,134,52,13801,70775,292796,12462,56655,2027,14,5,162838,21208,118,33551,27944,590803,836,141,202578,1093,208538,169,9535,2395,375,6769,4559,424,3458783,66,4343,874296,73,36447,980,154888,6870,10710,39805,7661,215,627,377887,665,290270,159109,11964,72,38739,622148,194046,1053,2137,1165,131,34,4783,266605,3108,5584,29732,400,56,275085,16611,36752,34467,3703,275,7509,95695,200,230,351,424204,18989,43,201515,14605,71208,111,2713,38,50991,9334,67956,2,686,126,417376,205350,103,7020756,481,103,1500,3440,170,4284,3632,93,172,90,14321,329560,26235,16096,22805,7822,3637,91,9,344,606110,15213,583149,19233,1353469,291732,315392,3659,49702,183,18983,6035,280948,462,5429,14,66,70962,256171,226,134725,13695,796834,3469,53,3426,517330,1567,1191,943,1330938,1966736,71317,83827,162,5318,1101483,164411,20081,6199,936,3372,74857,6169,11056,1282,725895,97731,6105,11687,141600,367659,25,32260,41,37119,2176999,73927,474,36112,225,168071,2841148,3408901,1904,4488,1498453,2906,232,65,7658,2959460,16511,1455823,193,4129,49085,71,10064,347,135903,449429,723209,15175,169,174765,21938,475820,16440,16200,1980,251,280,508852,478,316,1146,120954,2844,1620,3058730,11,60055,8690,9821,357,299248,331423,470620,95,16182,161595,3618,8557,44,28735,1081,682,232,23653,661,80,238,10356,3358,1617,40893,118,4062,166,3940518,7007,944449,30496,853,2113681,22032,33165,824,1038,11163,11,17339,188,2291,298186,606326,2907,112054,3313,1063,3861,19849,2839,42,15142,7622,13521,340192,38131,3297,3818061,949,163,1728680,106,35862,1127519,90,257,3846,194,1568,734959,432,416,462,180555,5577298,434,424,437,2059,435,63327,792,341194,231,10796,1172,962114,513925,56180,32,25552,129,769357,48601,136,150,182,998,15589,918,92966,2022,10595,159,842,447957,28,3033896,129,1427285,396906,42826,304,52334,10860,2029,32193,7367,265,239,481,711,2126,5179,791,19083,20344,17249,220480,237,4089,21883,28,69288,2617,327321,1164261,150126,703,2,39734,921,24326,70047,131571,1615337,208,457,142065,173,106457,4262,177,2897,297,11307,26380,8088,405460,50,13376,9,7540,141213,179787,108750,461,437,40588,17079,103,72,2048,2756,20344,3471,59391,3248,12577,1104322,200,96,94,320489,79159,13687,909,1218,3951,148,36882,1211083,68,47,7134,2415,5166,30209,14135,25665,324624,16,1221597,8795,2484531,79757,423913,38972,726,531,304367,438978,57264,720890,1846,91,7450,1112,1794210,173878,1146347,21035,99,1686,6413,181680,149,483458,22368,194031,106,366650,4,464,428,230159,21591,1686,2066408,469,5096750,1349998,1312,14500,2323,2941,634,635824,21842,1528,102,87,226808,1396,481,104,20,4445040,19408,193,1965,108689,877483,152,75,720598,78211,13787,1370,15,852856,135295,1194628,10214,14,24971,437731,86,1021074,4529,9688,51559,1330,349700,4128,11760,323,3800,6458,6065178,4303,34301,18363,452565,15,798,15,24661,670102,14525,4785,2841000,5132,296397,1175963,11,3749,1520,648,569655,745,17181,6066,172067,828,291,32,8769,4261,198829,8189,450824,2411,2070,205,180341,24357,806,2581538,20489,70673,18,112,120,870,1472,6687,17648,1303,2020,3134578,7128,465864,6,123248,1752,138302,11636,32172,8777,4268,230578,110082,1991,8461,9096,1649,511,61673,903,224,49499,6970,2285,36362,41452,1088,140476,63345,54,110,20086,3612670,3769,103,3079,593855,927,32011,38,602224,6873,108228,274477,2692328,60,1450055,212937,161,482,16852,223425,633,928,23,170,127416,25992,155744,180485,457,453,132,5737,106659,26343,334,19901,1600,62058,387,471,88210,877,3659,336080,46324,575,86,97576,1049006,26498,55,431,8,1779720,3159,30,314472,3461,702699,119878,10469,6179590,217972,44375,1144,1046,5006,4813,143,4500,6453,12,937,22924,74051,16814,15338,431,19796,1353,3708,4344557,24,16686,1056,5080809,572,593,10850,48700,44863,829184,286017,11537,1727,26868,1188,5781,59,172374,23182,1712,227,562,7431,1926136,296739,53318,899,131870,78149,787020,138617,135270,270,6172959,60749,679,24720,76,26234,12761,2,270,1661,517,11278,2710,26,22603,49,12806,84205,33,16,11145,16,101896,55,200,3770,7801,344521,2303,205927,282,627092,29924,24,41639,3413166,433,3453,848,88,1,7,35837,55801,353109,1848473,564960,32475,595,2044487,6608,208200,5127,64065,841,21241,8898,3432,2081,447822,6041,120060,85,252,4094,24051,96104,59187,517,50,21146,394,17179,2115,875,43,35672,258715,23687,60451,886,492,889,1036,38706,47413,2470,459681,1683065,35714,1512,75,43230,65225,125,34341,423206,98006,12727,466,375,113420,51,512,6181,45,38585,300,335,2502709,3,359151,116,4834,1524940,681,4961,24,18,379,158161,26488,66537,4401163,296,299023,10153,54408,22223,61,5,860,863445,893212,2395,20065,357980,7,66932,1588,842,593234,3852,29033,46191,475608,286,2104835,60,53176,46,5,428999,7334,11287,597,278380,848494,2812,1496,11690,36386,3036,294,255182,32285,7188,7460,1634469,2425161,618,1348,6836,68172,149247,1205,7724,12878,1343433,197753,2394,2822,96043,140,37945,2500,1190,1328,1559,4060304,56170,357,11557,929,234380,47536,4273,2528,1014740,8,953345,2002,245,12,6191,12074,196,511,5,537,119720,6358,4509,1197161,4748,452734,34,24862,5631,196274,8527,1805,293,961,3227105,19247,1916,891788,856171,4996,247,19089,73,20560,29625,630,6921,148041,109,115208,39,31353,16015,7090,782,328128,2777,4882,63566,229,16,402742,1568702,8774,15499,2500,85785,6589,54,8997,7747,7991,43103,8198,1066176,55787,474469,861,4257,113,42958,442635,3995,4038,76,73,11824,24525,530,54,2005439,146620,32043,660838,464,37036,2129,183470,406029,785259,18048,2346,1989213,39,47985,34642,2610,97,48588,46,272945,77177,125,710288,24149,1430628,2891,1543953,565,71,1433573,1075,32,10157,400,117,3058,148,37410,466339,11491,212758,3236,13,559993,2472825,7368374,1,844439,197243,35212,986,133365,28562,34247,383,874,737,547,132484,5919,20,669,4060,3429,1692,100,875,24126,4068,8903,1437,11,3235,879,162034,4352090,96973,252,900234,11023475,265044,8664,268,9362,102,21310,21318,4703,51558,1809,8601,1221,9474,327363,586187,2041,7,24146,529601,14013,82258,714193,4038,348,8929,9572,16,44233,10,26623,3469,20230,384,85288,4589,234,223884,178,10,9,136455,387320,33,7,1056966,85928,89062,12865,83226,15015,1981,8672,2313,75,5056558,1718,13255,335,518,219914,121648,33,1876,16926,449,24,1,3685,6091,804,182,9279602,3546,650,136,15743,185391,79,3406,14843,8708,2177,318,19549,2080,239,18,281068,182,23545,2353136,501,512,47756,685,586245,86040,71915,84,172,694188,20905,1460499,138,1605,9036,37975,272932,15972,1474299,93,229,14367,10307,184058,775,3488,184543,19497,2107,1120,6693,22677,1311,21883,219519,42923,75162,25958,129253,257,138,766,842,909,81,34,380302,222,3059245,286,72277,159,24693,12117,10768,176,1464,384212,2604,48,310,6822,125,1008639,70,5611,312944,2938669,64017,1839,9,85235,873767,221,17643,9358,30983,20150,481381,42827,25,4,1087623,14502,89,141,1338,3789,150,226628,97542,99,150,27672,481,5,3922,1974,54159,23748,88,2632,273,14870,232,67,1092,359,160588,25871,215,4305,2978,22564,6,5738,530,61,126252,1264,701,35,15855,116,110,2045,674,32,304478,184443,19494,108,941,1157,803285,36,392561,2002,33255,32294,422,158923,60598,135,4434,67,2,329512,251429,721,514912,1866353,13977,69413,1711,98,3927,57243,482895,576,152205,164467,140196,834552,5574,1403,28,243,53,35629,262,259248,15872,12242,341,4191,624,127178,496,8178,433,711,16285,533,256,260,185663,113905,3554,377765,365,14255,171690,207,622,39152,6529,1659,7505,53929,5199,46,21603,232098,268,886773,125586,1060,23965,2596,61294,378,772320,139723,4698,91158,3758,9241,15184,732,33719,8130,348840,2881,17,173418,8118,632018,4530291,27112,30,39947,35480,16366,4931,1995,49903,6516,538,55890,28,3561,14,14800,572428,172736,3466,17,13864,292471,120272,170,264062,387379,3796,105544,171643,12429,94,50330,12085,736,27275,970,1292,255,259,992,5020,7149,207,152,2290,7451,15588,64,5686210,1047,1696,1625864,773,1428,1414,227564,108,1223913,271,125093,1199,184,4781,10407,800,76,108,104,143,490,911,18,712518,1508,5649,212719,405762,155,1418995,918,7993,113,125,188,1031,221,5407,97,241,36526,4119,225,443250,19,442,34849,206078,1571,10,140,265,11,62921,713,30,76120,2548,2873,151731,249227,140,2083246,77732,1458321,529,8757,57,1385608,9810,907,178,67811,361030,16796,7337,29379,406619,111787,666625,33751,6026,448,404,27,6577,196,215,22,706,2231,860582,50,4165,142,46477,35,649,26070,116,1340,282,185,1144728,21192,5026,249,2750,54665,581,446866,553,2202640,2699,25,525,74876,206277,32464,1613,220,59145,7568,125,120241,2650,8968,65,152073,160984,288,29,904,85,526420,2217,39348,3196,943863,67,41,446,71,2143,1902,8405,111691,702,652,64539,1334,1379657,5,230,26503,959,108933,23187,5884,13184,137,11803,15,77000,21854,316077,44,1764821,5786844,12681,14084,248,267744,19,760304,44548,267339,2342,1376092,71055,59647,106,23516,1734,579,591,218,100,396586,15013,350853,182,257960,72,2547,282709,91732,23807,613,3238,35812,83853,17,102321,159870,15211,4114,160,609,117937,2149681,21,70,1421492,97311,5035,556,64481,1033,21638,9258,1005573,27692,6784,510608,625,160,16560,786,8521,97,1257,9316,687,2602771,267916,2941,2047897,26973,42,54,2308197,24,103905,41562,2037,84725,35314,299,269,5465,429,846,6885,282,12741,3591,286,539796,3199434,250109,8914,1671,546,94588,33291,2107]}],                        {\"legend\":{\"tracegroupgap\":0},\"margin\":{\"t\":60},\"piecolorway\":[\"rgb(103,0,31)\",\"rgb(178,24,43)\",\"rgb(214,96,77)\",\"rgb(244,165,130)\",\"rgb(253,219,199)\",\"rgb(247,247,247)\",\"rgb(209,229,240)\",\"rgb(146,197,222)\",\"rgb(67,147,195)\",\"rgb(33,102,172)\",\"rgb(5,48,97)\"],\"template\":{\"data\":{\"bar\":[{\"error_x\":{\"color\":\"#2a3f5f\"},\"error_y\":{\"color\":\"#2a3f5f\"},\"marker\":{\"line\":{\"color\":\"#E5ECF6\",\"width\":0.5},\"pattern\":{\"fillmode\":\"overlay\",\"size\":10,\"solidity\":0.2}},\"type\":\"bar\"}],\"barpolar\":[{\"marker\":{\"line\":{\"color\":\"#E5ECF6\",\"width\":0.5},\"pattern\":{\"fillmode\":\"overlay\",\"size\":10,\"solidity\":0.2}},\"type\":\"barpolar\"}],\"carpet\":[{\"aaxis\":{\"endlinecolor\":\"#2a3f5f\",\"gridcolor\":\"white\",\"linecolor\":\"white\",\"minorgridcolor\":\"white\",\"startlinecolor\":\"#2a3f5f\"},\"baxis\":{\"endlinecolor\":\"#2a3f5f\",\"gridcolor\":\"white\",\"linecolor\":\"white\",\"minorgridcolor\":\"white\",\"startlinecolor\":\"#2a3f5f\"},\"type\":\"carpet\"}],\"choropleth\":[{\"colorbar\":{\"outlinewidth\":0,\"ticks\":\"\"},\"type\":\"choropleth\"}],\"contour\":[{\"colorbar\":{\"outlinewidth\":0,\"ticks\":\"\"},\"colorscale\":[[0.0,\"#0d0887\"],[0.1111111111111111,\"#46039f\"],[0.2222222222222222,\"#7201a8\"],[0.3333333333333333,\"#9c179e\"],[0.4444444444444444,\"#bd3786\"],[0.5555555555555556,\"#d8576b\"],[0.6666666666666666,\"#ed7953\"],[0.7777777777777778,\"#fb9f3a\"],[0.8888888888888888,\"#fdca26\"],[1.0,\"#f0f921\"]],\"type\":\"contour\"}],\"contourcarpet\":[{\"colorbar\":{\"outlinewidth\":0,\"ticks\":\"\"},\"type\":\"contourcarpet\"}],\"heatmap\":[{\"colorbar\":{\"outlinewidth\":0,\"ticks\":\"\"},\"colorscale\":[[0.0,\"#0d0887\"],[0.1111111111111111,\"#46039f\"],[0.2222222222222222,\"#7201a8\"],[0.3333333333333333,\"#9c179e\"],[0.4444444444444444,\"#bd3786\"],[0.5555555555555556,\"#d8576b\"],[0.6666666666666666,\"#ed7953\"],[0.7777777777777778,\"#fb9f3a\"],[0.8888888888888888,\"#fdca26\"],[1.0,\"#f0f921\"]],\"type\":\"heatmap\"}],\"heatmapgl\":[{\"colorbar\":{\"outlinewidth\":0,\"ticks\":\"\"},\"colorscale\":[[0.0,\"#0d0887\"],[0.1111111111111111,\"#46039f\"],[0.2222222222222222,\"#7201a8\"],[0.3333333333333333,\"#9c179e\"],[0.4444444444444444,\"#bd3786\"],[0.5555555555555556,\"#d8576b\"],[0.6666666666666666,\"#ed7953\"],[0.7777777777777778,\"#fb9f3a\"],[0.8888888888888888,\"#fdca26\"],[1.0,\"#f0f921\"]],\"type\":\"heatmapgl\"}],\"histogram\":[{\"marker\":{\"pattern\":{\"fillmode\":\"overlay\",\"size\":10,\"solidity\":0.2}},\"type\":\"histogram\"}],\"histogram2d\":[{\"colorbar\":{\"outlinewidth\":0,\"ticks\":\"\"},\"colorscale\":[[0.0,\"#0d0887\"],[0.1111111111111111,\"#46039f\"],[0.2222222222222222,\"#7201a8\"],[0.3333333333333333,\"#9c179e\"],[0.4444444444444444,\"#bd3786\"],[0.5555555555555556,\"#d8576b\"],[0.6666666666666666,\"#ed7953\"],[0.7777777777777778,\"#fb9f3a\"],[0.8888888888888888,\"#fdca26\"],[1.0,\"#f0f921\"]],\"type\":\"histogram2d\"}],\"histogram2dcontour\":[{\"colorbar\":{\"outlinewidth\":0,\"ticks\":\"\"},\"colorscale\":[[0.0,\"#0d0887\"],[0.1111111111111111,\"#46039f\"],[0.2222222222222222,\"#7201a8\"],[0.3333333333333333,\"#9c179e\"],[0.4444444444444444,\"#bd3786\"],[0.5555555555555556,\"#d8576b\"],[0.6666666666666666,\"#ed7953\"],[0.7777777777777778,\"#fb9f3a\"],[0.8888888888888888,\"#fdca26\"],[1.0,\"#f0f921\"]],\"type\":\"histogram2dcontour\"}],\"mesh3d\":[{\"colorbar\":{\"outlinewidth\":0,\"ticks\":\"\"},\"type\":\"mesh3d\"}],\"parcoords\":[{\"line\":{\"colorbar\":{\"outlinewidth\":0,\"ticks\":\"\"}},\"type\":\"parcoords\"}],\"pie\":[{\"automargin\":true,\"type\":\"pie\"}],\"scatter\":[{\"marker\":{\"colorbar\":{\"outlinewidth\":0,\"ticks\":\"\"}},\"type\":\"scatter\"}],\"scatter3d\":[{\"line\":{\"colorbar\":{\"outlinewidth\":0,\"ticks\":\"\"}},\"marker\":{\"colorbar\":{\"outlinewidth\":0,\"ticks\":\"\"}},\"type\":\"scatter3d\"}],\"scattercarpet\":[{\"marker\":{\"colorbar\":{\"outlinewidth\":0,\"ticks\":\"\"}},\"type\":\"scattercarpet\"}],\"scattergeo\":[{\"marker\":{\"colorbar\":{\"outlinewidth\":0,\"ticks\":\"\"}},\"type\":\"scattergeo\"}],\"scattergl\":[{\"marker\":{\"colorbar\":{\"outlinewidth\":0,\"ticks\":\"\"}},\"type\":\"scattergl\"}],\"scattermapbox\":[{\"marker\":{\"colorbar\":{\"outlinewidth\":0,\"ticks\":\"\"}},\"type\":\"scattermapbox\"}],\"scatterpolar\":[{\"marker\":{\"colorbar\":{\"outlinewidth\":0,\"ticks\":\"\"}},\"type\":\"scatterpolar\"}],\"scatterpolargl\":[{\"marker\":{\"colorbar\":{\"outlinewidth\":0,\"ticks\":\"\"}},\"type\":\"scatterpolargl\"}],\"scatterternary\":[{\"marker\":{\"colorbar\":{\"outlinewidth\":0,\"ticks\":\"\"}},\"type\":\"scatterternary\"}],\"surface\":[{\"colorbar\":{\"outlinewidth\":0,\"ticks\":\"\"},\"colorscale\":[[0.0,\"#0d0887\"],[0.1111111111111111,\"#46039f\"],[0.2222222222222222,\"#7201a8\"],[0.3333333333333333,\"#9c179e\"],[0.4444444444444444,\"#bd3786\"],[0.5555555555555556,\"#d8576b\"],[0.6666666666666666,\"#ed7953\"],[0.7777777777777778,\"#fb9f3a\"],[0.8888888888888888,\"#fdca26\"],[1.0,\"#f0f921\"]],\"type\":\"surface\"}],\"table\":[{\"cells\":{\"fill\":{\"color\":\"#EBF0F8\"},\"line\":{\"color\":\"white\"}},\"header\":{\"fill\":{\"color\":\"#C8D4E3\"},\"line\":{\"color\":\"white\"}},\"type\":\"table\"}]},\"layout\":{\"annotationdefaults\":{\"arrowcolor\":\"#2a3f5f\",\"arrowhead\":0,\"arrowwidth\":1},\"autotypenumbers\":\"strict\",\"coloraxis\":{\"colorbar\":{\"outlinewidth\":0,\"ticks\":\"\"}},\"colorscale\":{\"diverging\":[[0,\"#8e0152\"],[0.1,\"#c51b7d\"],[0.2,\"#de77ae\"],[0.3,\"#f1b6da\"],[0.4,\"#fde0ef\"],[0.5,\"#f7f7f7\"],[0.6,\"#e6f5d0\"],[0.7,\"#b8e186\"],[0.8,\"#7fbc41\"],[0.9,\"#4d9221\"],[1,\"#276419\"]],\"sequential\":[[0.0,\"#0d0887\"],[0.1111111111111111,\"#46039f\"],[0.2222222222222222,\"#7201a8\"],[0.3333333333333333,\"#9c179e\"],[0.4444444444444444,\"#bd3786\"],[0.5555555555555556,\"#d8576b\"],[0.6666666666666666,\"#ed7953\"],[0.7777777777777778,\"#fb9f3a\"],[0.8888888888888888,\"#fdca26\"],[1.0,\"#f0f921\"]],\"sequentialminus\":[[0.0,\"#0d0887\"],[0.1111111111111111,\"#46039f\"],[0.2222222222222222,\"#7201a8\"],[0.3333333333333333,\"#9c179e\"],[0.4444444444444444,\"#bd3786\"],[0.5555555555555556,\"#d8576b\"],[0.6666666666666666,\"#ed7953\"],[0.7777777777777778,\"#fb9f3a\"],[0.8888888888888888,\"#fdca26\"],[1.0,\"#f0f921\"]]},\"colorway\":[\"#636efa\",\"#EF553B\",\"#00cc96\",\"#ab63fa\",\"#FFA15A\",\"#19d3f3\",\"#FF6692\",\"#B6E880\",\"#FF97FF\",\"#FECB52\"],\"font\":{\"color\":\"#2a3f5f\"},\"geo\":{\"bgcolor\":\"white\",\"lakecolor\":\"white\",\"landcolor\":\"#E5ECF6\",\"showlakes\":true,\"showland\":true,\"subunitcolor\":\"white\"},\"hoverlabel\":{\"align\":\"left\"},\"hovermode\":\"closest\",\"mapbox\":{\"style\":\"light\"},\"paper_bgcolor\":\"white\",\"plot_bgcolor\":\"#E5ECF6\",\"polar\":{\"angularaxis\":{\"gridcolor\":\"white\",\"linecolor\":\"white\",\"ticks\":\"\"},\"bgcolor\":\"#E5ECF6\",\"radialaxis\":{\"gridcolor\":\"white\",\"linecolor\":\"white\",\"ticks\":\"\"}},\"scene\":{\"xaxis\":{\"backgroundcolor\":\"#E5ECF6\",\"gridcolor\":\"white\",\"gridwidth\":2,\"linecolor\":\"white\",\"showbackground\":true,\"ticks\":\"\",\"zerolinecolor\":\"white\"},\"yaxis\":{\"backgroundcolor\":\"#E5ECF6\",\"gridcolor\":\"white\",\"gridwidth\":2,\"linecolor\":\"white\",\"showbackground\":true,\"ticks\":\"\",\"zerolinecolor\":\"white\"},\"zaxis\":{\"backgroundcolor\":\"#E5ECF6\",\"gridcolor\":\"white\",\"gridwidth\":2,\"linecolor\":\"white\",\"showbackground\":true,\"ticks\":\"\",\"zerolinecolor\":\"white\"}},\"shapedefaults\":{\"line\":{\"color\":\"#2a3f5f\"}},\"ternary\":{\"aaxis\":{\"gridcolor\":\"white\",\"linecolor\":\"white\",\"ticks\":\"\"},\"baxis\":{\"gridcolor\":\"white\",\"linecolor\":\"white\",\"ticks\":\"\"},\"bgcolor\":\"#E5ECF6\",\"caxis\":{\"gridcolor\":\"white\",\"linecolor\":\"white\",\"ticks\":\"\"}},\"title\":{\"x\":0.05},\"xaxis\":{\"automargin\":true,\"gridcolor\":\"white\",\"linecolor\":\"white\",\"ticks\":\"\",\"title\":{\"standoff\":15},\"zerolinecolor\":\"white\",\"zerolinewidth\":2},\"yaxis\":{\"automargin\":true,\"gridcolor\":\"white\",\"linecolor\":\"white\",\"ticks\":\"\",\"title\":{\"standoff\":15},\"zerolinecolor\":\"white\",\"zerolinewidth\":2}}}},                        {\"responsive\": true}                    ).then(function(){\n",
              "                            \n",
              "var gd = document.getElementById('5c77e81a-a32a-4566-bec6-19a40f7fe028');\n",
              "var x = new MutationObserver(function (mutations, observer) {{\n",
              "        var display = window.getComputedStyle(gd).display;\n",
              "        if (!display || display === 'none') {{\n",
              "            console.log([gd, 'removed!']);\n",
              "            Plotly.purge(gd);\n",
              "            observer.disconnect();\n",
              "        }}\n",
              "}});\n",
              "\n",
              "// Listen for the removal of the full notebook cells\n",
              "var notebookContainer = gd.closest('#notebook-container');\n",
              "if (notebookContainer) {{\n",
              "    x.observe(notebookContainer, {childList: true});\n",
              "}}\n",
              "\n",
              "// Listen for the clearing of the current output cell\n",
              "var outputEl = gd.closest('.output');\n",
              "if (outputEl) {{\n",
              "    x.observe(outputEl, {childList: true});\n",
              "}}\n",
              "\n",
              "                        })                };                            </script>        </div>\n",
              "</body>\n",
              "</html>"
            ]
          },
          "metadata": {}
        }
      ]
    },
    {
      "cell_type": "markdown",
      "metadata": {
        "id": "5Hv_G_qvwDRC"
      },
      "source": [
        "**Número de exibição por ano.**"
      ]
    },
    {
      "cell_type": "code",
      "metadata": {
        "colab": {
          "base_uri": "https://localhost:8080/",
          "height": 542
        },
        "id": "XUVeQl7yckf1",
        "outputId": "36909b28-3a31-4771-924d-ebc5d8c8d8d3"
      },
      "source": [
        "grafico = px.scatter_matrix(data_filme, dimensions=['Ano de exibição', 'Público no ano de exibição'], color=\"Público no ano de exibição\") \n",
        "grafico.show()"
      ],
      "execution_count": null,
      "outputs": [
        {
          "output_type": "display_data",
          "data": {
            "text/html": [
              "<html>\n",
              "<head><meta charset=\"utf-8\" /></head>\n",
              "<body>\n",
              "    <div>            <script src=\"https://cdnjs.cloudflare.com/ajax/libs/mathjax/2.7.5/MathJax.js?config=TeX-AMS-MML_SVG\"></script><script type=\"text/javascript\">if (window.MathJax) {MathJax.Hub.Config({SVG: {font: \"STIX-Web\"}});}</script>                <script type=\"text/javascript\">window.PlotlyConfig = {MathJaxConfig: 'local'};</script>\n",
              "        <script src=\"https://cdn.plot.ly/plotly-2.4.2.min.js\"></script>                <div id=\"a1471129-14f1-463f-b5b2-f50ed3b390a4\" class=\"plotly-graph-div\" style=\"height:525px; width:100%;\"></div>            <script type=\"text/javascript\">                                    window.PLOTLYENV=window.PLOTLYENV || {};                                    if (document.getElementById(\"a1471129-14f1-463f-b5b2-f50ed3b390a4\")) {                    Plotly.newPlot(                        \"a1471129-14f1-463f-b5b2-f50ed3b390a4\",                        [{\"dimensions\":[{\"axis\":{\"matches\":true},\"label\":\"Ano de exibi\\u00e7\\u00e3o\",\"values\":[2019,2019,2019,2019,2019,2019,2019,2019,2019,2019,2019,2019,2019,2019,2019,2019,2019,2019,2019,2019,2019,2019,2019,2019,2019,2019,2019,2019,2019,2019,2019,2019,2019,2019,2019,2019,2019,2019,2019,2019,2019,2019,2019,2019,2019,2019,2019,2019,2019,2019,2019,2019,2019,2019,2019,2019,2019,2019,2019,2019,2019,2019,2019,2019,2019,2019,2019,2019,2019,2019,2019,2019,2019,2019,2019,2019,2019,2019,2019,2019,2019,2019,2019,2019,2019,2019,2019,2019,2019,2019,2019,2019,2019,2019,2019,2019,2019,2019,2019,2019,2019,2019,2019,2019,2019,2019,2019,2019,2019,2019,2019,2019,2019,2019,2019,2019,2019,2019,2019,2019,2019,2019,2019,2019,2019,2019,2019,2019,2019,2019,2019,2019,2019,2019,2019,2019,2019,2019,2019,2019,2019,2019,2019,2019,2019,2019,2019,2019,2019,2019,2019,2019,2019,2019,2019,2019,2019,2019,2019,2019,2019,2019,2019,2019,2019,2019,2019,2019,2019,2019,2019,2019,2019,2019,2019,2019,2019,2019,2019,2019,2019,2019,2019,2019,2019,2019,2019,2019,2019,2019,2019,2019,2019,2019,2019,2019,2019,2019,2019,2019,2019,2019,2019,2019,2019,2019,2019,2019,2019,2019,2019,2019,2019,2019,2019,2019,2019,2019,2019,2019,2019,2019,2019,2019,2019,2019,2019,2019,2019,2019,2019,2019,2019,2019,2019,2019,2019,2019,2019,2019,2019,2019,2019,2019,2019,2019,2019,2019,2019,2019,2019,2019,2019,2019,2019,2019,2019,2019,2019,2019,2019,2019,2019,2019,2019,2019,2019,2019,2019,2019,2019,2019,2019,2019,2019,2019,2019,2019,2019,2019,2019,2019,2019,2019,2019,2019,2019,2019,2019,2019,2019,2019,2019,2019,2019,2019,2019,2019,2019,2019,2019,2019,2019,2019,2019,2019,2019,2019,2019,2019,2019,2019,2019,2019,2019,2019,2019,2019,2019,2019,2019,2019,2019,2019,2019,2019,2019,2019,2019,2019,2019,2019,2019,2019,2019,2019,2019,2019,2019,2019,2019,2019,2019,2019,2019,2019,2019,2019,2019,2019,2019,2019,2019,2019,2019,2019,2019,2019,2019,2019,2019,2019,2019,2019,2019,2019,2019,2019,2019,2019,2019,2019,2019,2019,2019,2019,2019,2019,2019,2019,2019,2019,2019,2019,2019,2019,2019,2019,2019,2019,2019,2019,2019,2019,2019,2019,2019,2019,2019,2019,2019,2019,2019,2019,2019,2019,2019,2019,2019,2019,2019,2019,2019,2019,2019,2019,2019,2019,2019,2019,2019,2019,2019,2019,2019,2019,2019,2019,2019,2019,2019,2019,2019,2019,2019,2019,2019,2019,2019,2019,2019,2019,2019,2019,2019,2019,2019,2019,2019,2019,2019,2019,2019,2019,2019,2019,2019,2019,2019,2019,2019,2019,2019,2019,2019,2019,2019,2019,2019,2019,2019,2019,2019,2019,2019,2019,2019,2019,2019,2019,2019,2019,2019,2019,2019,2019,2019,2019,2019,2019,2019,2019,2019,2019,2019,2019,2019,2019,2019,2019,2019,2019,2019,2019,2019,2019,2019,2019,2019,2019,2019,2019,2019,2019,2019,2019,2019,2019,2019,2019,2019,2019,2019,2019,2019,2019,2019,2019,2019,2019,2019,2019,2019,2019,2019,2019,2019,2019,2019,2019,2019,2019,2019,2019,2019,2019,2019,2019,2019,2019,2019,2019,2019,2019,2019,2019,2019,2019,2019,2019,2019,2019,2019,2019,2019,2019,2019,2019,2019,2019,2019,2019,2019,2019,2019,2019,2019,2019,2019,2019,2019,2019,2019,2019,2019,2019,2019,2019,2019,2019,2019,2019,2019,2019,2019,2019,2019,2019,2019,2019,2019,2019,2019,2019,2019,2019,2019,2019,2019,2019,2019,2019,2019,2019,2019,2019,2019,2019,2019,2019,2019,2019,2019,2019,2019,2019,2019,2019,2019,2019,2019,2019,2019,2019,2019,2019,2019,2019,2019,2019,2019,2019,2019,2019,2019,2019,2019,2019,2019,2019,2019,2019,2019,2019,2019,2019,2019,2019,2019,2019,2019,2019,2019,2019,2019,2019,2019,2019,2019,2019,2019,2019,2019,2019,2019,2019,2019,2018,2018,2018,2018,2018,2018,2018,2018,2018,2018,2018,2018,2018,2018,2018,2018,2018,2018,2018,2018,2018,2018,2018,2018,2018,2018,2018,2018,2018,2018,2018,2018,2018,2018,2018,2018,2018,2018,2018,2018,2018,2018,2018,2018,2018,2018,2018,2018,2018,2018,2018,2018,2018,2018,2018,2018,2018,2018,2018,2018,2018,2018,2018,2018,2018,2018,2018,2018,2018,2018,2018,2018,2018,2018,2018,2018,2018,2018,2018,2018,2018,2018,2018,2018,2018,2018,2018,2018,2018,2018,2018,2018,2018,2018,2018,2018,2018,2018,2018,2018,2018,2018,2018,2018,2018,2018,2018,2018,2018,2018,2018,2018,2018,2018,2018,2018,2018,2018,2018,2018,2018,2018,2018,2018,2018,2018,2018,2018,2018,2018,2018,2018,2018,2018,2018,2018,2018,2018,2018,2018,2018,2018,2018,2018,2018,2018,2018,2018,2018,2018,2018,2018,2018,2018,2018,2018,2018,2018,2018,2018,2018,2018,2018,2018,2018,2018,2018,2018,2018,2018,2018,2018,2018,2018,2018,2018,2018,2018,2018,2018,2018,2018,2018,2018,2018,2018,2018,2018,2018,2018,2018,2018,2018,2018,2018,2018,2018,2018,2018,2018,2018,2018,2018,2018,2018,2018,2018,2018,2018,2018,2018,2018,2018,2018,2018,2018,2018,2018,2018,2018,2018,2018,2018,2018,2018,2018,2018,2018,2018,2018,2018,2018,2018,2018,2018,2018,2018,2018,2018,2018,2018,2018,2018,2018,2018,2018,2018,2018,2018,2018,2018,2018,2018,2018,2018,2018,2018,2018,2018,2018,2018,2018,2018,2018,2018,2018,2018,2018,2018,2018,2018,2018,2018,2018,2018,2018,2018,2018,2018,2018,2018,2018,2018,2018,2018,2018,2018,2018,2018,2018,2018,2018,2018,2018,2018,2018,2018,2018,2018,2018,2018,2018,2018,2018,2018,2018,2018,2018,2018,2018,2018,2018,2018,2018,2018,2018,2018,2018,2018,2018,2018,2018,2018,2018,2018,2018,2018,2018,2018,2018,2018,2018,2018,2018,2018,2018,2018,2018,2018,2018,2018,2018,2018,2018,2018,2018,2018,2018,2018,2018,2018,2018,2018,2018,2018,2018,2018,2018,2018,2018,2018,2018,2018,2018,2018,2018,2018,2018,2018,2018,2018,2018,2018,2018,2018,2018,2018,2018,2018,2018,2018,2018,2018,2018,2018,2018,2018,2018,2018,2018,2018,2018,2018,2018,2018,2018,2018,2018,2018,2018,2018,2018,2018,2018,2018,2018,2018,2018,2018,2018,2018,2018,2018,2018,2018,2018,2018,2018,2018,2018,2018,2018,2018,2018,2018,2018,2018,2018,2018,2018,2018,2018,2018,2018,2018,2018,2018,2018,2018,2018,2018,2018,2018,2018,2018,2018,2018,2018,2018,2018,2018,2018,2018,2018,2018,2018,2018,2018,2018,2018,2018,2018,2018,2018,2018,2018,2018,2018,2018,2018,2018,2018,2018,2018,2018,2018,2018,2018,2018,2018,2018,2018,2018,2018,2018,2018,2018,2018,2018,2018,2018,2018,2018,2018,2018,2018,2018,2018,2018,2018,2018,2018,2018,2018,2018,2018,2018,2018,2018,2018,2018,2018,2018,2018,2018,2018,2018,2018,2018,2018,2018,2018,2018,2018,2018,2018,2018,2018,2018,2018,2018,2018,2018,2018,2018,2018,2018,2018,2018,2018,2018,2018,2018,2018,2018,2018,2018,2018,2018,2018,2018,2018,2018,2018,2018,2018,2018,2018,2018,2018,2018,2018,2018,2018,2018,2018,2018,2018,2018,2018,2018,2018,2018,2018,2018,2018,2018,2018,2018,2018,2018,2018,2018,2018,2018,2018,2018,2018,2018,2018,2018,2018,2018,2018,2018,2018,2018,2018,2018,2018,2018,2018,2018,2018,2018,2018,2018,2018,2018,2018,2018,2018,2018,2018,2018,2018,2018,2018,2018,2018,2018,2018,2018,2018,2018,2018,2018,2018,2018,2018,2018,2018,2018,2018,2018,2018,2018,2018,2018,2018,2018,2018,2018,2018,2018,2018,2018,2018,2018,2018,2018,2018,2018,2018,2018,2018,2018,2018,2018,2018,2018,2018,2018,2018,2018,2018,2018,2018,2018,2018,2018,2018,2018,2018,2018,2018,2018,2018,2018,2018,2018,2018,2018,2018,2018,2018,2018,2018,2018,2018,2018,2018,2018,2018,2018,2018,2018,2018,2018,2018,2018,2018,2018,2018,2018,2018,2018,2017,2017,2017,2017,2017,2017,2017,2017,2017,2017,2017,2017,2017,2017,2017,2017,2017,2017,2017,2017,2017,2017,2017,2017,2017,2017,2017,2017,2017,2017,2017,2017,2017,2017,2017,2017,2017,2017,2017,2017,2017,2017,2017,2017,2017,2017,2017,2017,2017,2017,2017,2017,2017,2017,2017,2017,2017,2017,2017,2017,2017,2017,2017,2017,2017,2017,2017,2017,2017,2017,2017,2017,2017,2017,2017,2017,2017,2017,2017,2017,2017,2017,2017,2017,2017,2017,2017,2017,2017,2017,2017,2017,2017,2017,2017,2017,2017,2017,2017,2017,2017,2017,2017,2017,2017,2017,2017,2017,2017,2017,2017,2017,2017,2017,2017,2017,2017,2017,2017,2017,2017,2017,2017,2017,2017,2017,2017,2017,2017,2017,2017,2017,2017,2017,2017,2017,2017,2017,2017,2017,2017,2017,2017,2017,2017,2017,2017,2017,2017,2017,2017,2017,2017,2017,2017,2017,2017,2017,2017,2017,2017,2017,2017,2017,2017,2017,2017,2017,2017,2017,2017,2017,2017,2017,2017,2017,2017,2017,2017,2017,2017,2017,2017,2017,2017,2017,2017,2017,2017,2017,2017,2017,2017,2017,2017,2017,2017,2017,2017,2017,2017,2017,2017,2017,2017,2017,2017,2017,2017,2017,2017,2017,2017,2017,2017,2017,2017,2017,2017,2017,2017,2017,2017,2017,2017,2017,2017,2017,2017,2017,2017,2017,2017,2017,2017,2017,2017,2017,2017,2017,2017,2017,2017,2017,2017,2017,2017,2017,2017,2017,2017,2017,2017,2017,2017,2017,2017,2017,2017,2017,2017,2017,2017,2017,2017,2017,2017,2017,2017,2017,2017,2017,2017,2017,2017,2017,2017,2017,2017,2017,2017,2017,2017,2017,2017,2017,2017,2017,2017,2017,2017,2017,2017,2017,2017,2017,2017,2017,2017,2017,2017,2017,2017,2017,2017,2017,2017,2017,2017,2017,2017,2017,2017,2017,2017,2017,2017,2017,2017,2017,2017,2017,2017,2017,2017,2017,2017,2017,2017,2017,2017,2017,2017,2017,2017,2017,2017,2017,2017,2017,2017,2017,2017,2017,2017,2017,2017,2017,2017,2017,2017,2017,2017,2017,2017,2017,2017,2017,2017,2017,2017,2017,2017,2017,2017,2017,2017,2017,2017,2017,2017,2017,2017,2017,2017,2017,2017,2017,2017,2017,2017,2017,2017,2017,2017,2017,2017,2017,2017,2017,2017,2017,2017,2017,2017,2017,2017,2017,2017,2017,2017,2017,2017,2017,2017,2017,2017,2017,2017,2017,2017,2017,2017,2017,2017,2017,2017,2017,2017,2017,2017,2017,2017,2017,2017,2017,2017,2017,2017,2017,2017,2017,2017,2017,2017,2017,2017,2017,2017,2017,2017,2017,2017,2017,2017,2017,2017,2017,2017,2017,2017,2017,2017,2017,2017,2017,2017,2017,2017,2017,2017,2017,2017,2017,2017,2017,2017,2017,2017,2017,2017,2017,2017,2017,2017,2017,2017,2017,2017,2017,2017,2017,2017,2017,2017,2017,2017,2017,2017,2017,2017,2017,2017,2017,2017,2017,2017,2017,2017,2017,2017,2017,2017,2017,2017,2017,2017,2017,2017,2017,2017,2017,2017,2017,2017,2017,2017,2017,2017,2017,2017,2017,2017,2017,2017,2017,2017,2017,2017,2017,2017,2017,2017,2017,2017,2017,2017,2017,2017,2017,2017,2017,2017,2017,2017,2017,2017,2017,2017,2017,2017,2017,2017,2017,2017,2017,2017,2017,2017,2017,2017,2017,2017,2017,2017,2017,2017,2017,2017,2017,2017,2017,2017,2017,2017,2017,2017,2017,2017,2017,2017,2017,2017,2017,2017,2017,2017,2017,2017,2017,2017,2017,2017,2017,2017,2017,2017,2017,2017,2017,2017,2017,2017,2017,2017,2017,2017,2017,2017,2017,2017,2017,2017,2017,2017,2017,2017,2017,2017,2017,2017,2017,2017,2017,2017,2017,2017,2017,2017,2017,2017,2017,2017,2017,2017,2017,2017,2017,2017,2017,2017,2017,2017,2017,2017,2017,2017,2017,2017,2017,2017,2017,2017,2017,2017,2017,2017,2017,2017,2017,2017,2017,2017,2017,2017,2017,2017,2017,2017,2017,2017,2017,2017,2017,2017,2017,2017,2017,2017,2017,2017,2017,2017,2017,2017,2017,2017,2017,2017,2017,2017,2017,2017,2017,2017,2017,2017,2017,2017,2017,2017,2017,2017,2016,2016,2016,2016,2016,2016,2016,2016,2016,2016,2016,2016,2016,2016,2016,2016,2016,2016,2016,2016,2016,2016,2016,2016,2016,2016,2016,2016,2016,2016,2016,2016,2016,2016,2016,2016,2016,2016,2016,2016,2016,2016,2016,2016,2016,2016,2016,2016,2016,2016,2016,2016,2016,2016,2016,2016,2016,2016,2016,2016,2016,2016,2016,2016,2016,2016,2016,2016,2016,2016,2016,2016,2016,2016,2016,2016,2016,2016,2016,2016,2016,2016,2016,2016,2016,2016,2016,2016,2016,2016,2016,2016,2016,2016,2016,2016,2016,2016,2016,2016,2016,2016,2016,2016,2016,2016,2016,2016,2016,2016,2016,2016,2016,2016,2016,2016,2016,2016,2016,2016,2016,2016,2016,2016,2016,2016,2016,2016,2016,2016,2016,2016,2016,2016,2016,2016,2016,2016,2016,2016,2016,2016,2016,2016,2016,2016,2016,2016,2016,2016,2016,2016,2016,2016,2016,2016,2016,2016,2016,2016,2016,2016,2016,2016,2016,2016,2016,2016,2016,2016,2016,2016,2016,2016,2016,2016,2016,2016,2016,2016,2016,2016,2016,2016,2016,2016,2016,2016,2016,2016,2016,2016,2016,2016,2016,2016,2016,2016,2016,2016,2016,2016,2016,2016,2016,2016,2016,2016,2016,2016,2016,2016,2016,2016,2016,2016,2016,2016,2016,2016,2016,2016,2016,2016,2016,2016,2016,2016,2016,2016,2016,2016,2016,2016,2016,2016,2016,2016,2016,2016,2016,2016,2016,2016,2016,2016,2016,2016,2016,2016,2016,2016,2016,2016,2016,2016,2016,2016,2016,2016,2016,2016,2016,2016,2016,2016,2016,2016,2016,2016,2016,2016,2016,2016,2016,2016,2016,2016,2016,2016,2016,2016,2016,2016,2016,2016,2016,2016,2016,2016,2016,2016,2016,2016,2016,2016,2016,2016,2016,2016,2016,2016,2016,2016,2016,2016,2016,2016,2016,2016,2016,2016,2016,2016,2016,2016,2016,2016,2016,2016,2016,2016,2016,2016,2016,2016,2016,2016,2016,2016,2016,2016,2016,2016,2016,2016,2016,2016,2016,2016,2016,2016,2016,2016,2016,2016,2016,2016,2016,2016,2016,2016,2016,2016,2016,2016,2016,2016,2016,2016,2016,2016,2016,2016,2016,2016,2016,2016,2016,2016,2016,2016,2016,2016,2016,2016,2016,2016,2016,2016,2016,2016,2016,2016,2016,2016,2016,2016,2016,2016,2016,2016,2016,2016,2016,2016,2016,2016,2016,2016,2016,2016,2016,2016,2016,2016,2016,2016,2016,2016,2016,2016,2016,2016,2016,2016,2016,2016,2016,2016,2016,2016,2016,2016,2016,2016,2016,2016,2016,2016,2016,2016,2016,2016,2016,2016,2016,2016,2016,2016,2016,2016,2016,2016,2016,2016,2016,2016,2016,2016,2016,2016,2016,2016,2016,2016,2016,2016,2016,2016,2016,2016,2016,2016,2016,2016,2016,2016,2016,2016,2016,2016,2016,2016,2016,2016,2016,2016,2016,2016,2016,2016,2016,2016,2016,2016,2016,2016,2016,2016,2016,2016,2016,2016,2016,2016,2016,2016,2016,2016,2016,2016,2016,2016,2016,2016,2016,2016,2016,2016,2016,2016,2016,2016,2016,2016,2016,2016,2016,2016,2016,2016,2016,2016,2016,2016,2016,2016,2016,2016,2016,2016,2016,2016,2016,2016,2016,2016,2016,2016,2016,2016,2016,2016,2016,2016,2016,2016,2016,2016,2016,2016,2016,2016,2016,2016,2016,2016,2016,2016,2016,2016,2016,2016,2016,2016,2016,2016,2016,2016,2016,2016,2016,2016,2016,2016,2016,2016,2016,2016,2016,2016,2016,2016,2016,2016,2016,2016,2016,2016,2016,2016,2016,2016,2016,2016,2016,2016,2016,2016,2016,2016,2016,2016,2016,2016,2016,2016,2016,2016,2016,2016,2016,2016,2016,2016,2016,2016,2016,2016,2016,2016,2016,2016,2016,2016,2016,2016,2016,2016,2016,2016,2016,2016,2016,2016,2016,2016,2016,2016,2016,2016,2016,2016,2016,2016,2016,2016,2016,2016,2016,2016,2016,2016,2016,2016,2016,2016,2016,2016,2016,2016,2016,2016,2016,2016,2016,2016,2016,2016,2016,2016,2016,2016,2016,2016,2016,2016,2016,2016,2016,2016,2016,2016,2016,2016,2016,2016,2016,2016,2016,2016,2016,2016,2016,2016,2016,2016,2016,2016,2016,2016,2016,2016,2016,2016,2016,2016,2016,2016,2016,2016,2016,2016,2016,2016,2016,2016,2016,2016,2016,2016,2016,2016,2016,2016,2016,2016,2016,2016,2016,2016,2016,2016,2016,2016,2016,2016,2016,2016,2016,2016,2016,2016,2016,2016,2016,2016,2016,2016,2016,2016,2016,2016,2016,2016,2016,2016,2016,2016,2016,2016,2016,2016,2016,2016,2016,2015,2015,2015,2015,2015,2015,2015,2015,2015,2015,2015,2015,2015,2015,2015,2015,2015,2015,2015,2015,2015,2015,2015,2015,2015,2015,2015,2015,2015,2015,2015,2015,2015,2015,2015,2015,2015,2015,2015,2015,2015,2015,2015,2015,2015,2015,2015,2015,2015,2015,2015,2015,2015,2015,2015,2015,2015,2015,2015,2015,2015,2015,2015,2015,2015,2015,2015,2015,2015,2015,2015,2015,2015,2015,2015,2015,2015,2015,2015,2015,2015,2015,2015,2015,2015,2015,2015,2015,2015,2015,2015,2015,2015,2015,2015,2015,2015,2015,2015,2015,2015,2015,2015,2015,2015,2015,2015,2015,2015,2015,2015,2015,2015,2015,2015,2015,2015,2015,2015,2015,2015,2015,2015,2015,2015,2015,2015,2015,2015,2015,2015,2015,2015,2015,2015,2015,2015,2015,2015,2015,2015,2015,2015,2015,2015,2015,2015,2015,2015,2015,2015,2015,2015,2015,2015,2015,2015,2015,2015,2015,2015,2015,2015,2015,2015,2015,2015,2015,2015,2015,2015,2015,2015,2015,2015,2015,2015,2015,2015,2015,2015,2015,2015,2015,2015,2015,2015,2015,2015,2015,2015,2015,2015,2015,2015,2015,2015,2015,2015,2015,2015,2015,2015,2015,2015,2015,2015,2015,2015,2015,2015,2015,2015,2015,2015,2015,2015,2015,2015,2015,2015,2015,2015,2015,2015,2015,2015,2015,2015,2015,2015,2015,2015,2015,2015,2015,2015,2015,2015,2015,2015,2015,2015,2015,2015,2015,2015,2015,2015,2015,2015,2015,2015,2015,2015,2015,2015,2015,2015,2015,2015,2015,2015,2015,2015,2015,2015,2015,2015,2015,2015,2015,2015,2015,2015,2015,2015,2015,2015,2015,2015,2015,2015,2015,2015,2015,2015,2015,2015,2015,2015,2015,2015,2015,2015,2015,2015,2015,2015,2015,2015,2015,2015,2015,2015,2015,2015,2015,2015,2015,2015,2015,2015,2015,2015,2015,2015,2015,2015,2015,2015,2015,2015,2015,2015,2015,2015,2015,2015,2015,2015,2015,2015,2015,2015,2015,2015,2015,2015,2015,2015,2015,2015,2015,2015,2015,2015,2015,2015,2015,2015,2015,2015,2015,2015,2015,2015,2015,2015,2015,2015,2015,2015,2015,2015,2015,2015,2015,2015,2015,2015,2015,2015,2015,2015,2015,2015,2015,2015,2015,2015,2015,2015,2015,2015,2015,2015,2015,2015,2015,2015,2015,2015,2015,2015,2015,2015,2015,2015,2015,2015,2015,2015,2015,2015,2015,2015,2015,2015,2015,2015,2015,2015,2015,2015,2015,2015,2015,2015,2015,2015,2015,2015,2015,2015,2015,2015,2015,2015,2015,2015,2015,2015,2015,2015,2015,2015,2015,2015,2015,2015,2015,2015,2015,2015,2015,2015,2015,2015,2015,2015,2015,2015,2015,2015,2015,2015,2015,2015,2015,2015,2015,2015,2015,2015,2015,2015,2015,2015,2015,2015,2015,2015,2015,2015,2015,2015,2015,2015,2015,2015,2015,2015,2015,2015,2015,2015,2015,2015,2015,2015,2015,2015,2015,2015,2015,2015,2015,2015,2015,2015,2015,2015,2015,2015,2015,2015,2015,2015,2015,2015,2015,2015,2015,2015,2015,2015,2015,2015,2015,2015,2015,2015,2015,2015,2015,2015,2015,2015,2015,2015,2015,2015,2015,2015,2015,2015,2015,2015,2015,2015,2015,2015,2015,2015,2015,2015,2015,2015,2015,2015,2015,2015,2015,2015,2015,2015,2015,2015,2015,2015,2015,2015,2015,2015,2015,2015,2015,2015,2015,2015,2015,2015,2015,2015,2015,2015,2015,2015,2015,2015,2015,2015,2015,2015,2015,2015,2015,2015,2015,2015,2015,2015,2015,2015,2015,2015,2015,2015,2015,2015,2015,2015,2015,2015,2015,2015,2015,2015,2015,2015,2015,2015,2015,2015,2015,2015,2015,2015,2015,2015,2015,2015,2015,2015,2015,2015,2015,2015,2015,2015,2015,2015,2015,2015,2015,2015,2015,2015,2015,2015,2015,2015,2015,2015,2015,2015,2015,2015,2015,2015,2015,2015,2015,2015,2015,2015,2015,2015,2015,2015,2015,2015,2015,2015,2015,2015,2015,2015,2015,2015,2015,2015,2015,2015,2015,2015,2015,2015,2015,2015,2015,2015,2015,2015,2015,2015,2015,2015,2015,2015,2015,2015,2015,2015,2015,2015,2015,2015,2015,2015,2015,2015,2015,2015,2015,2015,2015,2015,2015,2015,2015,2015,2015,2015,2015,2015,2015,2015,2015,2015,2015,2015,2015,2015,2015,2015,2015,2015,2015,2015,2015,2015,2015,2015,2015,2015,2015,2015,2015,2015,2015,2015,2015,2015,2015,2015,2015,2015,2015,2015,2015,2015,2015,2015,2015,2015,2015,2015,2015,2015,2015,2015,2015,2015,2015,2015,2015,2015,2015,2015,2015,2015,2015,2015,2015,2015,2015,2015,2015,2015,2015,2015,2015,2015,2015,2015,2015,2015,2015,2015,2015,2015,2015,2014,2014,2014,2014,2014,2014,2014,2014,2014,2014,2014,2014,2014,2014,2014,2014,2014,2014,2014,2014,2014,2014,2014,2014,2014,2014,2014,2014,2014,2014,2014,2014,2014,2014,2014,2014,2014,2014,2014,2014,2014,2014,2014,2014,2014,2014,2014,2014,2014,2014,2014,2014,2014,2014,2014,2014,2014,2014,2014,2014,2014,2014,2014,2014,2014,2014,2014,2014,2014,2014,2014,2014,2014,2014,2014,2014,2014,2014,2014,2014,2014,2014,2014,2014,2014,2014,2014,2014,2014,2014,2014,2014,2014,2014,2014,2014,2014,2014,2014,2014,2014,2014,2014,2014,2014,2014,2014,2014,2014,2014,2014,2014,2014,2014,2014,2014,2014,2014,2014,2014,2014,2014,2014,2014,2014,2014,2014,2014,2014,2014,2014,2014,2014,2014,2014,2014,2014,2014,2014,2014,2014,2014,2014,2014,2014,2014,2014,2014,2014,2014,2014,2014,2014,2014,2014,2014,2014,2014,2014,2014,2014,2014,2014,2014,2014,2014,2014,2014,2014,2014,2014,2014,2014,2014,2014,2014,2014,2014,2014,2014,2014,2014,2014,2014,2014,2014,2014,2014,2014,2014,2014,2014,2014,2014,2014,2014,2014,2014,2014,2014,2014,2014,2014,2014,2014,2014,2014,2014,2014,2014,2014,2014,2014,2014,2014,2014,2014,2014,2014,2014,2014,2014,2014,2014,2014,2014,2014,2014,2014,2014,2014,2014,2014,2014,2014,2014,2014,2014,2014,2014,2014,2014,2014,2014,2014,2014,2014,2014,2014,2014,2014,2014,2014,2014,2014,2014,2014,2014,2014,2014,2014,2014,2014,2014,2014,2014,2014,2014,2014,2014,2014,2014,2014,2014,2014,2014,2014,2014,2014,2014,2014,2014,2014,2014,2014,2014,2014,2014,2014,2014,2014,2014,2014,2014,2014,2014,2014,2014,2014,2014,2014,2014,2014,2014,2014,2014,2014,2014,2014,2014,2014,2014,2014,2014,2014,2014,2014,2014,2014,2014,2014,2014,2014,2014,2014,2014,2014,2014,2014,2014,2014,2014,2014,2014,2014,2014,2014,2014,2014,2014,2014,2014,2014,2014,2014,2014,2014,2014,2014,2014,2014,2014,2014,2014,2014,2014,2014,2014,2014,2014,2014,2014,2014,2014,2014,2014,2014,2014,2014,2014,2014,2014,2014,2014,2014,2014,2014,2014,2014,2014,2014,2014,2014,2014,2014,2014,2014,2014,2014,2014,2014,2014,2014,2014,2014,2014,2014,2014,2014,2014,2014,2014,2014,2014,2014,2014,2014,2014,2014,2014,2014,2014,2014,2014,2014,2014,2014,2014,2014,2014,2014,2014,2014,2014,2014,2014,2014,2014,2014,2014,2014,2014,2014,2014,2014,2014,2014,2014,2014,2014,2014,2014,2014,2014,2014,2014,2014,2014,2014,2014,2014,2014,2014,2014,2014,2014,2014,2014,2014,2014,2014,2014,2014,2014,2014,2014,2014,2014,2014,2014,2014,2014,2014,2014,2014,2014,2014,2014,2014,2014,2014,2014,2014,2014,2014,2014,2014,2014,2014,2014,2014,2014,2014,2014,2014,2014,2014,2014,2014,2014,2014,2014,2014,2014,2014,2014,2014,2014,2014,2014,2014,2014,2014,2014,2014,2014,2014,2014,2014,2014,2014,2014,2014,2014,2014,2014,2014,2014,2014,2014,2014,2014,2014,2014,2014,2014,2014,2014,2014,2014,2014,2014,2014,2014,2014,2014,2014,2014,2014,2014,2014,2014,2014,2014,2014,2014,2014,2014,2014,2014,2014,2014,2014,2014,2014,2014,2014,2014,2014,2014,2014,2014,2014,2014,2014,2014,2014,2014,2014,2014,2014,2014,2014,2014,2014,2014,2014,2014,2014,2014,2014,2014,2014,2014,2014,2014,2014,2014,2014,2014,2014,2014,2014,2014,2014,2014,2014,2014,2014,2014,2014,2014,2014,2014,2014,2014,2014,2014,2014,2014,2014,2014,2014,2014,2014,2014,2014,2014,2014,2014,2014,2014,2014,2014,2014,2014,2014,2014,2014,2014,2014,2014,2014,2014,2014,2014,2014,2014,2014,2014,2014,2014,2014,2014,2014,2014,2014,2014,2014,2014,2014,2014,2014,2014,2014,2014,2014,2014,2014,2014,2014,2014,2014,2014,2014,2013,2013,2013,2013,2013,2013,2013,2013,2013,2013,2013,2013,2013,2013,2013,2013,2013,2013,2013,2013,2013,2013,2013,2013,2013,2013,2013,2013,2013,2013,2013,2013,2013,2013,2013,2013,2013,2013,2013,2013,2013,2013,2013,2013,2013,2013,2013,2013,2013,2013,2013,2013,2013,2013,2013,2013,2013,2013,2013,2013,2013,2013,2013,2013,2013,2013,2013,2013,2013,2013,2013,2013,2013,2013,2013,2013,2013,2013,2013,2013,2013,2013,2013,2013,2013,2013,2013,2013,2013,2013,2013,2013,2013,2013,2013,2013,2013,2013,2013,2013,2013,2013,2013,2013,2013,2013,2013,2013,2013,2013,2013,2013,2013,2013,2013,2013,2013,2013,2013,2013,2013,2013,2013,2013,2013,2013,2013,2013,2013,2013,2013,2013,2013,2013,2013,2013,2013,2013,2013,2013,2013,2013,2013,2013,2013,2013,2013,2013,2013,2013,2013,2013,2013,2013,2013,2013,2013,2013,2013,2013,2013,2013,2013,2013,2013,2013,2013,2013,2013,2013,2013,2013,2013,2013,2013,2013,2013,2013,2013,2013,2013,2013,2013,2013,2013,2013,2013,2013,2013,2013,2013,2013,2013,2013,2013,2013,2013,2013,2013,2013,2013,2013,2013,2013,2013,2013,2013,2013,2013,2013,2013,2013,2013,2013,2013,2013,2013,2013,2013,2013,2013,2013,2013,2013,2013,2013,2013,2013,2013,2013,2013,2013,2013,2013,2013,2013,2013,2013,2013,2013,2013,2013,2013,2013,2013,2013,2013,2013,2013,2013,2013,2013,2013,2013,2013,2013,2013,2013,2013,2013,2013,2013,2013,2013,2013,2013,2013,2013,2013,2013,2013,2013,2013,2013,2013,2013,2013,2013,2013,2013,2013,2013,2013,2013,2013,2013,2013,2013,2013,2013,2013,2013,2013,2013,2013,2013,2013,2013,2013,2013,2013,2013,2013,2013,2013,2013,2013,2013,2013,2013,2013,2013,2013,2013,2013,2013,2013,2013,2013,2013,2013,2013,2013,2013,2013,2013,2013,2013,2013,2013,2013,2013,2013,2013,2013,2013,2013,2013,2013,2013,2013,2013,2013,2013,2013,2013,2013,2013,2013,2013,2013,2013,2013,2013,2013,2013,2013,2013,2013,2013,2013,2013,2013,2013,2013,2013,2013,2013,2013,2013,2013,2013,2013,2013,2013,2013,2013,2013,2013,2013,2013,2013,2013,2013,2013,2013,2013,2013,2013,2013,2013,2013,2013,2013,2013,2013,2013,2013,2013,2013,2013,2013,2013,2013,2013,2013,2013,2013,2013,2013,2013,2013,2013,2013,2013,2013,2013,2013,2013,2013,2013,2013,2013,2013,2013,2013,2013,2013,2013,2013,2013,2013,2013,2013,2013,2013,2013,2013,2013,2013,2013,2013,2013,2013,2013,2013,2013,2013,2013,2013,2013,2013,2013,2013,2013,2013,2013,2013,2013,2013,2013,2013,2013,2013,2013,2013,2013,2013,2013,2013,2013,2013,2013,2013,2013,2013,2013,2013,2013,2013,2013,2013,2013,2013,2013,2013,2013,2013,2013,2013,2013,2013,2013,2013,2013,2013,2013,2013,2013,2013,2013,2013,2013,2013,2013,2013,2013,2013,2013,2013,2013,2013,2013,2013,2013,2013,2013,2013,2013,2013,2013,2013,2013,2013,2013,2013,2013,2013,2013,2013,2013,2013,2013,2013,2013,2013,2013,2013,2013,2013,2013,2013,2013,2013,2013,2013,2013,2013,2013,2013,2013,2013,2013,2013,2013,2013,2013,2013,2013,2013,2013,2013,2013,2013,2013,2013,2013,2013,2012,2012,2012,2012,2012,2012,2012,2012,2012,2012,2012,2012,2012,2012,2012,2012,2012,2012,2012,2012,2012,2012,2012,2012,2012,2012,2012,2012,2012,2012,2012,2012,2012,2012,2012,2012,2012,2012,2012,2012,2012,2012,2012,2012,2012,2012,2012,2012,2012,2012,2012,2012,2012,2012,2012,2012,2012,2012,2012,2012,2012,2012,2012,2012,2012,2012,2012,2012,2012,2012,2012,2012,2012,2012,2012,2012,2012,2012,2012,2012,2012,2012,2012,2012,2012,2012,2012,2012,2012,2012,2012,2012,2012,2012,2012,2012,2012,2012,2012,2012,2012,2012,2012,2012,2012,2012,2012,2012,2012,2012,2012,2012,2012,2012,2012,2012,2012,2012,2012,2012,2012,2012,2012,2012,2012,2012,2012,2012,2012,2012,2012,2012,2012,2012,2012,2012,2012,2012,2012,2012,2012,2012,2012,2012,2012,2012,2012,2012,2012,2012,2012,2012,2012,2012,2012,2012,2012,2012,2012,2012,2012,2012,2012,2012,2012,2012,2012,2012,2012,2012,2012,2012,2012,2012,2012,2012,2012,2012,2012,2012,2012,2012,2012,2012,2012,2012,2012,2012,2012,2012,2012,2012,2012,2012,2012,2012,2012,2012,2012,2012,2012,2012,2012,2012,2012,2012,2012,2012,2012,2012,2012,2012,2012,2012,2012,2012,2012,2012,2012,2012,2012,2012,2012,2012,2012,2012,2012,2012,2012,2012,2012,2012,2012,2012,2012,2012,2012,2012,2012,2012,2012,2012,2012,2012,2012,2012,2012,2012,2012,2012,2012,2012,2012,2012,2012,2012,2012,2012,2012,2012,2012,2012,2012,2012,2012,2012,2012,2012,2012,2012,2012,2012,2012,2012,2012,2012,2012,2012,2012,2012,2012,2012,2012,2012,2012,2012,2012,2012,2012,2012,2012,2012,2012,2012,2012,2012,2012,2012,2012,2012,2012,2012,2012,2012,2012,2012,2012,2012,2012,2012,2012,2012,2012,2012,2012,2012,2012,2012,2012,2012,2012,2012,2012,2012,2012,2012,2012,2012,2012,2012,2012,2012,2012,2012,2012,2012,2012,2012,2012,2012,2012,2012,2012,2012,2012,2012,2012,2012,2012,2012,2012,2012,2012,2012,2012,2012,2012,2012,2012,2012,2012,2012,2012,2012,2012,2012,2012,2012,2012,2012,2012,2012,2012,2012,2012,2012,2012,2012,2012,2012,2012,2012,2012,2012,2012,2012,2012,2012,2012,2012,2012,2012,2012,2012,2012,2012,2012,2012,2012,2012,2012,2012,2012,2012,2012,2012,2012,2012,2012,2012,2012,2012,2012,2012,2012,2012,2012,2012,2012,2012,2012,2012,2012,2012,2012,2012,2012,2012,2012,2012,2012,2012,2012,2012,2012,2012,2012,2012,2012,2012,2012,2012,2012,2012,2012,2012,2012,2012,2012,2012,2012,2012,2012,2012,2012,2012,2012,2012,2012,2012,2012,2012,2012,2012,2012,2012,2012,2012,2012,2012,2012,2012,2012,2012,2012,2012,2012,2012,2012,2012,2012,2012,2012,2012,2012,2012,2012,2012,2012,2012,2012,2012,2012,2012,2012,2012,2012,2012,2012,2012,2012,2012,2012,2012,2012,2012,2012,2012,2012,2012,2011,2011,2011,2011,2011,2011,2011,2011,2011,2011,2011,2011,2011,2011,2011,2011,2011,2011,2011,2011,2011,2011,2011,2011,2011,2011,2011,2011,2011,2011,2011,2011,2011,2011,2011,2011,2011,2011,2011,2011,2011,2011,2011,2011,2011,2011,2011,2011,2011,2011,2011,2011,2011,2011,2011,2011,2011,2011,2011,2011,2011,2011,2011,2011,2011,2011,2011,2011,2011,2011,2011,2011,2011,2011,2011,2011,2011,2011,2011,2011,2011,2011,2011,2011,2011,2011,2011,2011,2011,2011,2011,2011,2011,2011,2011,2011,2011,2011,2011,2011,2011,2011,2011,2011,2011,2011,2011,2011,2011,2011,2011,2011,2011,2011,2011,2011,2011,2011,2011,2011,2011,2011,2011,2011,2011,2011,2011,2011,2011,2011,2011,2011,2011,2011,2011,2011,2011,2011,2011,2011,2011,2011,2011,2011,2011,2011,2011,2011,2011,2011,2011,2011,2011,2011,2011,2011,2011,2011,2011,2011,2011,2011,2011,2011,2011,2011,2011,2011,2011,2011,2011,2011,2011,2011,2011,2011,2011,2011,2011,2011,2011,2011,2011,2011,2011,2011,2011,2011,2011,2011,2011,2011,2011,2011,2011,2011,2011,2011,2011,2011,2011,2011,2011,2011,2011,2011,2011,2011,2011,2011,2011,2011,2011,2011,2011,2011,2011,2011,2011,2011,2011,2011,2011,2011,2011,2011,2011,2011,2011,2011,2011,2011,2011,2011,2011,2011,2011,2011,2011,2011,2011,2011,2011,2011,2011,2011,2011,2011,2011,2011,2011,2011,2011,2011,2011,2011,2011,2011,2011,2011,2011,2011,2011,2011,2011,2011,2011,2011,2011,2011,2011,2011,2011,2011,2011,2011,2011,2011,2011,2011,2011,2011,2011,2011,2011,2011,2011,2011,2011,2011,2011,2011,2011,2011,2011,2011,2011,2011,2011,2011,2011,2011,2011,2011,2011,2011,2011,2011,2011,2011,2011,2011,2011,2011,2011,2011,2011,2011,2011,2011,2011,2011,2011,2011,2011,2011,2011,2011,2011,2011,2011,2011,2011,2011,2011,2011,2011,2011,2011,2011,2011,2011,2011,2011,2011,2011,2011,2011,2011,2011,2011,2011,2011,2011,2011,2011,2011,2011,2011,2011,2011,2011,2011,2011,2011,2011,2011,2011,2011,2011,2011,2011,2011,2011,2011,2011,2011,2011,2011,2011,2011,2011,2011,2011,2011,2011,2011,2011,2011,2011,2011,2011,2011,2011,2011,2011,2011,2011,2011,2011,2011,2011,2011,2011,2011,2011,2011,2011,2011,2011,2011,2011,2011,2011,2011,2011,2011,2011,2011,2011,2011,2011,2011,2011,2011,2011,2011,2011,2011,2011,2011,2011,2011,2011,2011,2011,2011,2011,2011,2011,2011,2011,2011,2011,2011,2011,2011,2011,2011,2011,2011,2011,2011,2011,2011,2011,2011,2011,2011,2011,2011,2011,2011,2011,2011,2011,2011,2011,2011,2011,2011,2011,2011,2011,2011,2011,2011,2011,2011,2011,2011,2011,2011,2011,2011,2011,2011,2011,2011,2011,2011,2011,2011,2011,2011,2011,2011,2011,2011,2011,2011,2011,2011,2011,2011,2011,2011,2011,2011,2011,2011,2011,2011,2011,2011,2011,2011,2011,2011,2011,2011,2011,2011,2011,2011,2011,2011,2011,2011,2011,2011,2011,2011,2011,2011,2011,2011,2011,2011,2011,2011,2011,2011,2011,2011,2011,2011,2011,2011,2011,2011,2011,2011,2011,2011,2011,2011,2011,2010,2010,2010,2010,2010,2010,2010,2010,2010,2010,2010,2010,2010,2010,2010,2010,2010,2010,2010,2010,2010,2010,2010,2010,2010,2010,2010,2010,2010,2010,2010,2010,2010,2010,2010,2010,2010,2010,2010,2010,2010,2010,2010,2010,2010,2010,2010,2010,2010,2010,2010,2010,2010,2010,2010,2010,2010,2010,2010,2010,2010,2010,2010,2010,2010,2010,2010,2010,2010,2010,2010,2010,2010,2010,2010,2010,2010,2010,2010,2010,2010,2010,2010,2010,2010,2010,2010,2010,2010,2010,2010,2010,2010,2010,2010,2010,2010,2010,2010,2010,2010,2010,2010,2010,2010,2010,2010,2010,2010,2010,2010,2010,2010,2010,2010,2010,2010,2010,2010,2010,2010,2010,2010,2010,2010,2010,2010,2010,2010,2010,2010,2010,2010,2010,2010,2010,2010,2010,2010,2010,2010,2010,2010,2010,2010,2010,2010,2010,2010,2010,2010,2010,2010,2010,2010,2010,2010,2010,2010,2010,2010,2010,2010,2010,2010,2010,2010,2010,2010,2010,2010,2010,2010,2010,2010,2010,2010,2010,2010,2010,2010,2010,2010,2010,2010,2010,2010,2010,2010,2010,2010,2010,2010,2010,2010,2010,2010,2010,2010,2010,2010,2010,2010,2010,2010,2010,2010,2010,2010,2010,2010,2010,2010,2010,2010,2010,2010,2010,2010,2010,2010,2010,2010,2010,2010,2010,2010,2010,2010,2010,2010,2010,2010,2010,2010,2010,2010,2010,2010,2010,2010,2010,2010,2010,2010,2010,2010,2010,2010,2010,2010,2010,2010,2010,2010,2010,2010,2010,2010,2010,2010,2010,2010,2010,2010,2010,2010,2010,2010,2010,2010,2010,2010,2010,2010,2010,2010,2010,2010,2010,2010,2010,2010,2010,2010,2010,2010,2010,2010,2010,2010,2010,2010,2010,2010,2010,2010,2010,2010,2010,2010,2010,2010,2010,2010,2010,2010,2010,2010,2010,2010,2010,2010,2010,2010,2010,2010,2010,2010,2010,2010,2010,2010,2010,2010,2010,2010,2010,2010,2010,2010,2010,2010,2010,2010,2010,2010,2010,2010,2010,2010,2010,2010,2010,2010,2010,2010,2010,2010,2010,2010,2010,2010,2010,2010,2010,2010,2010,2010,2010,2010,2010,2010,2010,2010,2010,2010,2010,2010,2010,2010,2010,2010,2010,2010,2010,2010,2010,2010,2010,2010,2010,2010,2010,2010,2010,2010,2010,2010,2010,2010,2010,2010,2010,2010,2010,2010,2010,2010,2010,2010,2010,2010,2010,2010,2010,2010,2010,2010,2010,2010,2010,2010,2010,2010,2010,2010,2010,2010,2010,2010,2010,2010,2010,2010,2010,2010,2010,2010,2010,2010,2010,2010,2010,2010,2010,2010,2010,2010,2010,2010,2010,2010,2010,2010,2010,2010,2010,2010,2010,2010,2010,2010,2010,2010,2010,2010,2010,2010,2010,2010,2010,2010,2010,2010,2010,2010,2010,2010,2010,2010,2010,2010,2010,2010,2010,2010,2010,2010,2010,2010,2010,2010,2010,2010,2010,2010,2010,2010,2010,2010,2010,2010,2010,2010,2010,2010,2010,2010,2010,2010,2010,2010,2010,2010,2010,2010,2010,2010,2009,2009,2009,2009,2009,2009,2009,2009,2009,2009,2009,2009,2009,2009,2009,2009,2009,2009,2009,2009,2009,2009,2009,2009,2009,2009,2009,2009,2009,2009,2009,2009,2009,2009,2009,2009,2009,2009,2009,2009,2009,2009,2009,2009,2009,2009,2009,2009,2009,2009,2009,2009,2009,2009,2009,2009,2009,2009,2009,2009,2009,2009,2009,2009,2009,2009,2009,2009,2009,2009,2009,2009,2009,2009,2009,2009,2009,2009,2009,2009,2009,2009,2009,2009,2009,2009,2009,2009,2009,2009,2009,2009,2009,2009,2009,2009,2009,2009,2009,2009,2009,2009,2009,2009,2009,2009,2009,2009,2009,2009,2009,2009,2009,2009,2009,2009,2009,2009,2009,2009,2009,2009,2009,2009,2009,2009,2009,2009,2009,2009,2009,2009,2009,2009,2009,2009,2009,2009,2009,2009,2009,2009,2009,2009,2009,2009,2009,2009,2009,2009,2009,2009,2009,2009,2009,2009,2009,2009,2009,2009,2009,2009,2009,2009,2009,2009,2009,2009,2009,2009,2009,2009,2009,2009,2009,2009,2009,2009,2009,2009,2009,2009,2009,2009,2009,2009,2009,2009,2009,2009,2009,2009,2009,2009,2009,2009,2009,2009,2009,2009,2009,2009,2009,2009,2009,2009,2009,2009,2009,2009,2009,2009,2009,2009,2009,2009,2009,2009,2009,2009,2009,2009,2009,2009,2009,2009,2009,2009,2009,2009,2009,2009,2009,2009,2009,2009,2009,2009,2009,2009,2009,2009,2009,2009,2009,2009,2009,2009,2009,2009,2009,2009,2009,2009,2009,2009,2009,2009,2009,2009,2009,2009,2009,2009,2009,2009,2009,2009,2009,2009,2009,2009,2009,2009,2009,2009,2009,2009,2009,2009,2009,2009,2009,2009,2009,2009,2009,2009,2009,2009,2009,2009,2009,2009,2009,2009,2009,2009,2009,2009,2009,2009,2009,2009,2009,2009,2009,2009,2009,2009,2009,2009,2009,2009,2009,2009,2009,2009,2009,2009,2009,2009,2009,2009,2009,2009,2009,2009,2009,2009,2009,2009,2009,2009,2009,2009,2009,2009,2009,2009,2009,2009,2009,2009,2009,2009,2009,2009,2009,2009,2009,2009,2009,2009,2009,2009,2009,2009,2009,2009,2009,2009,2009,2009,2009,2009,2009,2009,2009,2009,2009,2009,2009,2009,2009,2009,2009,2009,2009,2009,2009,2009,2009,2009,2009,2009,2009,2009,2009,2009,2009,2009,2009,2009,2009,2009,2009,2009,2009,2009,2009,2009,2009,2009,2009,2009,2009,2009,2009,2009,2009,2009,2009,2009,2009,2009,2009,2009,2009,2009,2009,2009,2009,2009,2009,2009,2009,2009,2009,2009,2009,2009,2009,2009,2009,2009,2009,2009,2009,2009,2009,2009,2009,2009,2009,2009,2009,2009,2009,2009,2009,2009,2009,2009,2009,2009,2009,2009,2009,2009,2009,2009,2009,2009,2009,2009,2009,2009,2009,2009,2009,2009,2009,2009,2009,2009,2009,2009,2009,2009,2009,2009,2009,2009,2009,2009,2009,2009,2009,2009,2009,2009,2009,2009,2009,2009,2009,2009,2009,2009,2009,2009,2009,2009,2009,2009,2009,2009,2009,2009,2009,2009,2009,2009,2009,2009,2009,2009,2009,2009,2009,2009,2009,2009,2009,2009,2009,2009,2009,2009,2009,2009,2009,2009,2009,2009,2009,2009,2009,2009,2009,2009,2009,2009,2009,2009,2009,2009,2009,2009,2009,2009,2009,2009,2009,2009,2009,2009,2009,2009,2009,2009,2009,2009,2009,2009,2009,2009,2009,2009,2009,2009,2009,2009,2009,2009,2009,2009,2009,2009,2009,2009,2009,2009]},{\"axis\":{\"matches\":true},\"label\":\"P\\u00fablico no ano de exibi\\u00e7\\u00e3o\",\"values\":[10,6289,3303,69,402,19579,14,195,652641,8001,530,2364,1346982,21464,72,35593,170609,39,1622344,2538,254709,3106,150,13,6,215,24992,39508,4910,684,6287,8077,25,7335,361053,148557,2380,34883,10,595463,177958,3018,17464,317,1798,1426,10020,6,124934,9,571,507,9298,322,10961,1455,22732,1078,704,64,235011,527,2908,58901,472,73,2028,117222,263,4705,45,23355,851,66775,1026553,130,29,360557,16212,12802,263616,4788803,2143,6387,358,1028151,3143,13131,23,1717,1483,3843,728,79,19084,8116,294,18505,73,891264,1071,100442,1782048,3854,4,484,742,2919358,158,64,31,26,6089,216825,15,1447,27,453400,13493,90457,271,1937,382,60226,1512,4145,786,735191,152,5864,1217,355,896,6591,253,6491,174442,29347,309,77584,310681,270135,10270,19,895771,10,2332,28825,56099,24033,92,55,8991777,193356,50,3898,22,129350,44063,70,550885,263,19150,164,82715,3815,2183,117,476714,169970,438,10244,12853,273,3940204,509,2178,4132,9746101,675952,231238,22378,86,143,35358,12334,35467,14,3244,1113,1838298,499,111,42,36710,584,1965,16500,442552,216,1630,157,1456,430704,1,35730,1952,1907,52,5277,17767,2666,219945,594019,301443,107645,1293065,81549,297,1849624,491,244984,866,2675,3012,774,8807,785,52,25535,16598,470691,5697,127,52,737582,10076,528354,2834,1284,8148,253,10561,24433,3996,2860,1512,126718,120,2018,261,4849,8748,281,72,18198,2456,16,345,1417,120,9695,289247,559,871,1715,47,30889,531661,7011,620789,7927,105,16,263,48652,3049,117058,172859,364,166,185207,780,70,1411,6555353,2057620,244,574,1211,78873,3291,273,4,6758,873,3765,75867,7901,157,4123,485206,3152655,1258,40,2548,13,1003691,44,966,26284,237,94,268,17,167212,3408,749256,348,2068,12,3,897,15993,32,1994,359,84,36,19735,10968,1947,4843,10049,14,488,1018,34,35384,4873,746264,2333,187777,5786301,190,66,1420,3986,40922,166,11,600,199,18260,3366,4442,153979,9800,198956,2529,244,121,1663,834,415,1429,7850,50,982092,66073,136422,1189,18,110857,490,1947,7597,2877,821,2419335,16888,4309790,297,172,129,2959,26574,12471,357,146,50,535,2388,331309,35,6189465,28396,530,14,14,430,64285,662,189,667,268,115,13037,14523,509920,5,125,22,1654,58666,30,31212,5,9505,3100,40,12876,333,80,1949,31,28778,1392,2213,327,1024351,1335,9,2250,168,2128,360,2466,69105,4568,7697,1038,22828,11561,108975,8815,4574,230528,12749,7613,12903,349,1516,166,13030,9,776716,19621,6578,277,219,40,191,419,9912,51,16242804,93991,1885,27322,109308,56,12,27,5850,13790,261,143,181,1521,39659,537,120,2634,3963,476,40014,51,514,2112,2327,49490,436,3067,81,230,1756,146,658,1305768,363,133,11,290,1746,669,267,182297,44,38,221,2287,483759,13,241,4221,1423,819,68,130,8,48,1734,1923826,211686,268,251,9334,126,1136105,3425,230120,31,821564,2630,7377,4029,116,6041,9,15,26,15276,15966,5970,7970,28148,2675,176846,400,4875,740,3013,5841,63,2760,733230,1055,469143,10,5558,3519,18960,811,1843,14406,229,107,48,479,2926706,65629,46,177,3284,26212,77,3079,2129669,76,164,188,32,1719931,43895,7965,4128,7459,6,130,75,17,33,22,19,16,95834,7439,7,168,40,9926,1740,15179,54,105095,6703,397,75,6424,252,7955544,914,14597,54,138,1782,2125813,1475,98098,674,5026,13161,92943,110,30206,71,141920,204,1305,2094,117,325,15,398,8697,402456,165,122105,514041,1075,67,464,53,803483,9247,2743585,50,479,6164,9819,219486,15666,26,1365681,871,19656467,195265,9604,1447,77,13296,8,6196,3528,24,4399733,90,3330607,2327,624607,2110,50,8,388,287152,21,49147,30930,16685,35623,16976,129932,235,30288,92344,38,100041,15666,7259,1541,166,68,4959,226346,24296,11786,23,53,13719,1355,32,3433,2476,19,47225,117,1718,863371,5293026,1732,3929,9,75815,671,87722,38135,2569,732481,16226,147,2,13193,37,2716,5113,77878,1415,198467,6145,5810,6253,3279,43625,3775,150746,3859,10480,2497,3651,1178,50,108,140,77,17070,83520,1413,2932,2069,3791,51,1641,22073,4540,3159,330,25,508192,5576,28530,2,143,158,2841,686,11284,52098,2456,72919,211,3550891,10085,1251,40,16232,1937,27870,37,5584309,131,30,947992,8237,11749,107,31358,1026,11394,102,62,22617,149020,1820,85129,6306,175,2940,6344,80,36726,5,39284,6138,11263,1017,224,11,0,117,546117,83,78,3749,103,7,708341,218013,85,444,5097,437566,1051,10523,1037,1572,2071,153,1692,1660,359,689,36195,2671,884,292386,10250,7710,130,88173,4331153,37716,1903,0,62,320226,49603,3130,5,345,12,167,5181,5910,2538,3498,0,30688,16,12571,113,607,2601,100159,57526,738,947,478114,10234,19985,55,847022,180,3665,53,203,7206,20267,328085,1244,4601084,4720,55014,268,178,132403,29,70944,884775,25,272797,2200,253,170,8,3131,164072,162,2122,187739,5370,8292,34,35042,3,1238,1128,11412,249,3593,1188,27731,67,2364,3951,314,239360,2947,23360,8263,192128,13,15210,70879,311,8381,133,332,183,208,11157,9596,152,253348,109,52413,1949,307908,9133,2499804,51,39,2028293,51505,125,27808,540,1837,1582,50,112174,220193,853,37679,8,75,23974,338533,24,12388,584,131,199,224,1122367,703668,12101,2493,19,2116,253611,3936,113,125,113,593,3892,3257029,78,23575,5375364,345,1420,2,23588,2701,129939,4017,122,1067,0,23,1157305,3332,16,122707,157,2862,1012555,9602,1,4515253,6180,5258742,2506,3639,103442,66,36251,40,105,2155,154448,12246,50,295,33,235,864,44685,3908,2191,1814,15051,0,41403,801037,242,900,117,1950,101,14985,201281,22,13566,873,1444963,778,172365,52716,3421,1882462,77,275,176557,119554,166,6677,52,155502,1233,1412,7114,105,475,9541,192578,36,41,2053,8063,925411,3493,1467,899,2550784,375,1939,41,183,147,494,10493,11975,6,268,92607,2582,1408,83,12265,2836,117,12184373,1398971,3467,198,3206,222792,9108,161,340,14,292740,28,28086,8517,117,126,10052,7902,31,28,984,580568,1207,191621,50,2845,6558,6,5121,408928,4869,276658,84880,13,596,68,3515,226,30,6044,51120,1505786,139041,11289,123,982,48107,202,31558,366,374926,2234,43,205,45766,1712,49505,35,520,40793,1465,649,199397,329794,1900,70,227,804644,299501,65918,843955,343770,76,12161,9033,852823,111,226512,114,6234,1434,278127,18099,13587,9077,794,5613,50,825,6410,3450295,4491,397,10749,1285839,59,1116,421,3854,3796,85,197331,340989,134,2,394,7,55630,181614,8812,2604658,198,789,9809291,4300,7125,223209,65,5526,274325,570,0,7438252,53155,10,1970,1670,21554,5893,18,1076,767307,937373,25,22144,5121,161,116568,2480,723,908,1282,41358,3690,1237,10370,309,13348,8208,233,290,25858,11499,1500086,674,4188,2350612,65,1646,2297,1337049,7850,15,50672,413,40,193,3,79,322,899166,54,93995,1419,1872,238,130,124,30269,489,2286,782,14759,12482,4688,13075,1789,13599,136779,489323,47201,0,2384,748,467611,1068464,32945,1299,12126,381,354621,3005,19833,3423,3939,228,3309,38,7,1687,37296,1077,24602,409,47,2739,14881,1107,471063,44489,650,476,6550,4162,27649,32,2305,573,114908,131414,2846,895812,82,9320,788,42,2404,112750,330,24656,1752,388425,30562,1187570,17966,221,58,35439,5737,16,6332,19811,102,40337,1507525,140860,38,20782,41907,30,153549,3394,3566,472,12216,644115,11187,16,7047,63,49,6165,1715,758,4187,310,4605459,496726,217,3334,220,1046,23,222765,1669,14501280,4322,1257,1301,18078,42,1968612,28367,2563,13384,7906,8855,100,1406,4475,714,7,262,620,771,30662,249452,29,65,214035,549229,3011,8308489,5117598,25241,9078,41,45875,39560,106245,186,417,14538,481199,3458,6793,823,461,2,10783,6745,17016,557,5403,1717008,16301,797,8466,108,42574,49,51,744,40,41967,5200,1007676,798,3052636,315730,52,44374,12,26223,52136,24,2864,1621,898802,4299,13842,51,1951,13932,726736,4626,1753,1838,1067,8687,40,3552,276,388644,60,664264,211,6694,12529,241170,25378,173302,87,14838,92873,1176,65,9296,65849,4333,3186,707,2957275,28,1665,189949,37710,3617,978,118,1605,10879,4017,181884,1461,312220,565500,2380,937,12962,14191,42,332,217,26,42,40,43,1018120,2058767,5224,13082,23,1735,271731,374459,14,32053,1504,2233,532,725,2604,498,648229,746,53,508380,91,5454,306126,34,249309,904780,2375,49,43,14501,45300,7494,845,57,699,112624,290,14426,72,342,104,8,31,96,56069,347,56,2524401,3364,46,29,32,63,336,65,16408,155063,35662,1082,142,193,4628437,4207,5063,1339,4016,8509,78448,602,3351,206893,506412,24633,202,3542,28,912,84,1431,8769,20015,382294,1019,3870,10,3532,7812,356,1222718,2237,3510,21643,46581,390,36,312,436368,1,1362,4963,131258,10076,40,174,33416,487457,76969,283,33,10414,29925,111,3204,142059,3,46640,244,83,292504,789883,239058,5398,22,884,235,10,775,4,23675,610,14495,2207,5602,8740,119109,582057,1683814,3964,58453,202,100,49,30161,18,224,6248,4436,62,3718,290,8,347,398251,559431,29474,62,472,105843,2388,6470,6280,4183535,7914,8575,883251,674,553421,3337,16,64383,120,2007,1011581,20340,10646,60,1638,41314,10148,569,17874,5374,169485,85063,1157,4207641,760,1468,26,26,6265,34806,84,14041,242,77,6686736,624,3841,94,22,7350,152,45,5237,7,25720,380166,236,634,4906,121450,9488,75,4414235,1921,85655,57,56,2180,19635,635145,446,552133,2524,2745,41,87517,4405,465225,17939,1016303,16,1902480,351,1398364,5219,28641,2049,23,43,1336388,335204,8442364,314242,209164,6400985,17443,9017,78,253,193,2473,145,7463,4133,784,76,115,215,114382,26,105201,15337,189,55,2074,913,3,32028,6396,6462,48,51289,1496,6461,408,164,2256,8989024,742137,405,5213465,2185,70119,2931,5147838,94923,340868,340507,521,7,67,1327,6396,6079,13195,7011338,5008,18,134406,185,519678,5811,33365,4328,39,3686,2159,1389,17580,14621,88155,36,976,195992,7295,229,15958,1,95,213,2589,55083,146,57,21,2827,7909,97,2154,114,76,45527,168344,627,25997,1535871,38,82130,23,760,469262,488,86,64504,2059,43875,38939,84,100570,6918,4017,7445,46,213,295753,20621,27,30,6284,191,2813,4618,275,19801,14840,5291,176,827,21793,5016,115,1786,4453,15170,319,810,17166,3228749,22,11726,81,110380,331,87070,21239,368161,2359,299,123738,61105,11,106,2759,659,59,160,31558,2643,40,594,709,12964,22,16908,77,2993,496,58127,43788,38,1362132,401960,4693,95129,1464327,161,446461,52676,7115,8,17,11,22,6296,119297,2625,1244060,48652,9031,451,2498,160,2794,7735,40,801,40,100,48811,38920,14788,1617414,3659613,4603,2694893,12716,43813,1360480,8602,1471,259,1240526,64,246,4284,3321,55,117,139,512313,89,959,259,897,46968,11615,952586,1431,1417,1214555,193,2031,107366,4097,63168,14915,252349,434,160,401,8423,345,33,283,2511,18619,3901,1749,70623,286,178,52,716894,778,1162,4657,9008,13142,6032,3155131,11288,15,26517,37839,158,49801,1649,12938,14,1373,908175,26,38697,13050,1712,6256,874,6359663,110,43539,9925,241184,706,10754,296,93,21574,14,7873,2858033,4590,4008,94,123824,530,424,134,4132,13401,19821,34731,83641,37,26889,559584,2055,94158,148635,27117,10676,33906,2844,10492,566,162,488270,3261,9420,8505215,7773,47324,8831,18,106701,310730,73,263,83,1605,93,271,160,1298025,37,162,36886,1506,22,234,618,40,571,17015,2113,38954,72230,14798,185,5944,1430,5649,8,3177,159,1729177,3498,14538,8394,59,2929,690836,31,556701,20134,18650,6978,38,63,1956,1641,127,8265,5260450,69074,31,361,47,1695,83,4335,387241,16896,685138,512151,682,9801,24682,60684,2288390,6273,10,5141,7319,116,54903,91775,248,207,162,339,12,9364,4149,8029,3676,1569,688,1507,8874,42967,73,2,2016949,789,1228,25,2134,18759,33013,208,86,1959,2812,74108,444534,390,10,46652,370,2226094,1096822,171,111,9730,31552,76,12975,18189,235,7570,222,2333,1833728,4335211,699,41937,329,1132529,635,23136,26445,19,355085,61,209473,7330,10,895,767,197,61,482,13407,59268,1356422,341917,11967,1280,777,14,6655,63,1577999,214,1316,82829,6777,71,1242,703,977,2226,1340,357,940,2723,2572,681,8565380,24934,837,4715,168,5589,2238,8389,532,1309875,15,11528,6,6363,306,18971,3210,34643,340932,1531,9541,229,58,5519,96,62,2432,698,90581,804023,56,341509,1874,169,275,6,4854,31898,2373,378,9617572,45213,143569,2525328,1592,2,103,6956,370117,66,420416,1310640,1331579,4130,2876,432,4811,28679,39960,884,21325,909,6816,813257,30,4272555,176089,481,150,2865,67469,51475,286,1492,171,740667,3197,61,2663,55478,1206,25,22176,7324,32763,772,6044324,23968,53801,2681,2564,1601,14075,38,11548,153234,337380,1246718,279,26812,3201,540,1357,217,7165,520,102340,723,1912,4797512,192,147,1658,66,536187,41103,6566,226978,171,1071,109698,64,135041,1507,329,51,24,18,20147,5892,7827788,3925,3834,2671,46,3187,9301,191,1208,368,234930,32,138036,95,15493,520,135194,5072,1193,44504,1592,27789,70,4864,12396,392,24832,70,6,82,478,17,241,122,169,1590,617090,54,393,754,2079,124,18,62435,46538,10716,62,708,392,11,119,392,93456,287652,2635,7958,229,1482,4907,1829856,15829,2193152,336,543034,120970,303374,563,3594171,3919,14376,29,76,687952,408,4188,25057,648312,51,365439,24637,112,1421,16,3046,328003,199484,271,580,11,174,141139,1757761,62284,5472,8840,114,22998,4905,7427,17464,20487,99,3078,381,2759,12173,4353,849,337,8940,565916,2297,734,194,668,7659,836,114,34979,15,1705,43560,346602,9825,95,51769,7102,57543,1197,24044,295835,515,25100,138,2127,456,9535,189728,240,4020898,100,60,561,148,226,38,2670252,225,29,6306,3902,69753,264,5228,19670,533,10681,33276,7387,18029,1997,1660,46916,36862,397297,127,145,10789,153995,149,15414,16461,157896,238,11550,45,15,53607,207,172,26509,170,11405,14748,57,1341,9194,814,125,28464,4457,4531,209,234,313400,3597713,640571,3717,11856,1954,1646209,970,105,44,1320,15363,35194,758131,11603,43,1055,34,37135,13983,82634,53098,21794,459,3961,553,390,36,58,85,770587,23479,2315,41256,20,497,2181772,8915,176083,26163,24737,728,1058,328,5531,20275,7331,7279,12916,3692,629,3911,343,266916,108763,10988,10783,85,2645471,1041,30209,48,610730,373,11130,2499,593,114620,116,2997,247,14082,12769,641684,165,6,4429,521,146,238,13561,126841,217,2355,1975,578,1141,964,122,69,32433,14356,46,1775,1611,105985,11305479,873,312,561784,592,5197,567,36,156,182,452275,889,627732,14542,5336,875,7132,844,13042,3146,60,65,63617,15324,132,1013,484,8105,279,126252,187015,1849,80781,695,4415952,53,77,243,59,1477,8247,47,454569,241,85,66251,8189410,2457,12147,823195,236,1101,5955,55,210426,166,546,2535,230,4805,2189,3147,500,378,1772,222875,377670,299,280,1217,4137,2607958,10526,2321,8992,324289,130,1240,5968,517,6608,78,8087,57,74,618236,14,200,82,3765,2236,1984930,2278477,107679,39237,57,60,424520,4000,833246,1167530,80212,1625,12,34,330379,21603,3368,5080,161,84051,8041,473,1297,888,7456,82,1844,26421,82757,55,827,91,1249,3023,2894,39,16132,1884196,142523,41673,1952009,502,848,2764,10373,755,3120,1121570,86,194,6098,5286,6738,1846,6888,2323,4,391146,12005,67328,4184,665999,594,1070434,811,19,4341,103351,3228,111,729977,3344,204,22,219,468,477,1274,2472,5857,36555,1342,37326,4015,5963,63,240232,92,24590,7,169,741,1386959,47,2914,5,312,4373939,1875,7,34715,14139,2824226,196,188,393105,7851,1722029,829,180,7577,969,2099237,6766,28,4090,1384,23779,33970,1141,1630,5145,121,236,44,5393,105,111,302468,265082,437,70,88,80,87490,1372,3939,569119,116670,756,123023,107590,415127,41,34358,386,73579,7633,54,8581,418,286661,733,255,1329,604,13061,2499,2604,133,429,185706,1645,2689,8786,887,332,5577,354679,100,1472,28643,3951,6,31085,1019,97758,89,1952,131,1295,2819817,763660,2113,140063,1001,462,1674,209271,612,45665,43,27274,348,303,216914,4396,115,1751,2318296,503,650,21,10877,45630,76,3274,522,5430,1729,20565,3108,719,1748,85447,1009,14606,464,2105,49,153,1769,1944,1607,43420,10100,43210,143,10175,1421,3577,365,64740,189,1387433,722,491,568,21,1347,3478,1757668,3816,42,1706,39730,166,2713,100,850,1919,2684,1268,7199,48800,294,6129,11038,26751,133,4680,545297,3727,2137,1349,423988,781,9389,6231,119,73,1327,3719487,18,75,59,78619,12512,19034,2311,1480960,1783816,33118,2735,11967,282,534,388533,2273,9882,29,202508,359,2248,3391,2536036,38073,1823,829,1999,7352,100,7125,348980,62250,97697,2,2749,1602111,4199697,1393,100,6685086,948,387,9349,89,3695,4251,79,394531,2049,523,8,437532,75470,182,18179,454,226,318,75133,161,1523,691,18301,3548,1,5699,6805,29139,54078,77,16220,21768,3049,11537,10330,389,777,3780325,164589,8755,380,55475,103,405,3352,31,44,337655,2015,2386,2149,6688,17066,5800,5849,2291,587,51,88,512,36,118,1925,23438,71859,1874,5103,131220,438782,550,70,295,27,750,352,427,3205,445,42,4148,128,423857,243809,76665,2475674,499,1064,157,5689,38,4408,158,147,13719,45693,108,27,3566,370,179,13072,25853,498362,300,1422,1609,22675,858,1284,613,1288436,47,522232,91809,1511,78307,238,906,273,307,6366,200,97,31,7680,4322,1649,11,310340,236,1658,194598,2927606,14182,36763,20,3272784,446,88889,40,197,5696,3517,150,58,770,34503,139,242045,4418,2364,713,6386,103,149377,6689,9808,108517,54,55,4393303,43436,27,2614,32,388,40,6356559,27764,211,893501,2738,57,12494,24749,7623,40,124,41192,1712,948542,268,90073,252,10332,264,3726547,40137,20251,7680,39400,539,529,2233234,107,302,202347,6831,12725,348,2346,40267,4297,35,629,2547,317,1986250,962,243,31,58176,116,5112,2639935,300,19961,22661,15505,1688,4825,594,50427,8912094,74745,13500,713,2711422,17836,8190,441,1966,152,33450,2836,2127,2576,2350,5213,2284,17592,4281,11688,1016137,229,24213,275966,2977,621,2227,10040,166,28055,164705,750,64851,386183,19431,188,2722,10016,866,49,2130,239,635,291,4598,10817,6164,3177,19702,87932,8172,30618,250,13411,4228,1233711,30141,8767,23597,14337,4710,166,3121,66487,114,228,590,19,129226,77108,1401,30290,500,101,511785,71,23464,3956,997,83550,545643,653,16905,449,90,1011,70,317,15,167,954,67662,543,257,920,59,2035935,1916,191,89021,5703,226,23682,70,3106,399132,189,138154,395,4297,3769,1574,42,499919,7595,301,80335,777,48,13201,638,13652,2657447,12107,1440,10026,4276,161,211333,32428,13,1596817,1792,348322,1479,2721,61569,347,77,671,1241637,814,8,155,1325,1715,2319,138,156989,12725,3133464,99,22,10123,4308,260,128851,3119,11,4519,43,2072,3797,8656,1245,400893,845,142,2769,6377,60,206,11965,3459,350362,101,861,16627,1800722,1461,11115,1872703,634,2355234,407,1235047,34566,423549,200,350,2873,28411,2619,9560,356,807827,42,6008,1771774,384735,613,493022,108787,1446,819,14327,1714,10559,11208,131,932,157873,446515,5482,5807,118665,868,950,76618,19566,3567,12,762,1318,21717,1637032,9476,869,131491,1292,10044,124,10,1646,102,8544,11145,33422,20109,12185,222,19868,15982,1510,113999,50502,489722,1162544,96,91945,33068,624245,42,37,39548,19458,130,137,195,163,5558321,189,22341,84302,439410,102,7967,524,341,1981,743118,19141,318,67950,244,2220028,5519,138,67437,1121,35,9,875,25273,351,64,610854,2565,308,676655,1947,3459,135,2802,2517,148,36,234,1313,316468,43,5525,1328,602,24968,627,10755,43678,2216,169,321,95,135,55,146,50913,1104,11619,8712,14827,7982,96570,598084,1476,3449,146,1057,339,119586,8150,126,2707296,32912,1093,410,296,1748,3307837,193449,385,133,9857946,1530,54,91,678287,2251,10129071,596,2777,19338,225,169,17951,306730,46634,43,20009,14,118255,8309,8294,169,27275,2612034,606,2983,173,14498,501962,1236,98259,88,9,182,20770,2839023,3077,11216,57266,2498,20,355,513381,8519,351,697,25,1300,33,6165705,39,362,563,48961,16550,942,2743,84,1320,93,548,234,31577,147384,4947,2896,26550,115,106,1390,6405,2702,538091,299484,41892,341,1376548,921,9927,319650,4774,4849,6158,7517,74,678,26247,255,86,120,300,278843,160,312,130,232,110570,24508,955841,265387,568,292,20,3669,128,228589,15283,36636,78667,220,266,2116,2870,12228,3092,3437,85,465905,3716207,7347,21845,2266,36,58,36873,3188,12,351583,1193599,17,20089,14307,12094,22,3366763,1034040,13594,28818,10865,2930693,195,2756,1111,624828,50622,955,798,875,19,279,4622,16240,1681,34164,20,45096,144563,8633,2111,5542,2561,86307,206,42,77,4911,662,614094,2342,4621101,35567,26892,3581,2322,83413,510541,729,366407,519277,112050,2549,3553,200,827,170,86,127460,4326,826,4610275,42811,798222,391,646224,96,25936,12,20,54,2745,63825,2382,486,1152,1139,7967,139500,313643,3042283,202,1274,27,200,291227,238,52,1205442,162,9274,181,10249,313,2707988,374,169913,38212,329,5410,27153,69,7563,200,49,130,120116,70751,3255,54400,4374,200,217,1514,564,6373,3597,20,167,52484,30,29,6548,1052762,807,10399,153,120,5666,13,2686,2547,108,6437,456,65,308,19,1037248,3931888,7456,52,141404,166,532949,3180,508901,2039,28643,1314631,2653,6875,81529,11429,2864628,1873,69,438,31,360,19,97,54,72,30,31,139,2352,653138,355,204436,279,77109,189,867,4078,2452143,7859,2320,5619,620,120,3931,296574,7059,28,23561,9344,2079,1182233,200739,81367,2733,880,20527,2120,1301,521,4755582,19238,6,1078,8151,222,179745,3706,1979624,541,83077,45084,2073,236077,527,479,17,1503,2227,208,25999,1505,56,38,3350,3014,243,905096,1459,3978,1332,1379,46,1784275,20729,32,381782,240026,2356,5755409,1284,12761,192,1564569,674,847,35,1974,39,200,120528,4652,7995,2976,1178,2293,44745,1313,37527,860,10747,13055,4292,793,1429862,512308,200,740,64,253762,281780,3330,29273,592431,262906,100039,772526,460167,35,100,76055,4887284,28823,94145,3963,105,53717,9771,632010,974,2237537,347,91611,6405,15395,3732,6202,12,17623,573704,27726,151639,4100615,10613,21,260,104069,95600,3811,40,98884,335085,118,8845,312823,3102309,466394,2735,11376,34915,37641,73,3691,55969,425887,17,26261,1069524,161,118073,40380,33978,22794,8680,13309,4754,107,18439,104,14955,18895,3426,14252,5694,706374,37,94812,242343,731,386,1110,4539,1719,674,604,520,642,80,10939,2563,258,31453,14929,7,5237,8998,1120786,329047,175,536918,76,5166,6064,308449,650700,6097,158,2746,1040,6121,30595,1793239,2108500,61425,4214,256,90,3939,390150,258,20552,3426,21,6208,301,18,930,5,14367,19768,26,207214,27,4103679,1769,779766,200,5873,19,133022,170,9539,155,11832,17804,283,7689,3549,11083,278,200,134,563260,34361,40325,20160,1599,305793,91,592,84,5212811,970,98990,3970,966,2816772,28951,115,668,1776579,30598,2420,23,4482,577153,150,129,903041,18015,7212,2192,701,79,47678,1249,342572,284,291,407,86010,71,37,19547,1071,2336,4056,366,1699,1689,1253,593,372,566,69,917,51807,1827,7783,651,14892,901617,14209,9843,656,128,10173,11803,1676,776824,6255,429787,1670,5977,202,29712,1783,625,300356,4587292,633395,259247,27602,21549,113,14119,39,43092,68971,718,1895,60851,28422,6551,2699,220,52195,8177,851,6012,2637,51587,7652,63076,1553,1035971,1687,3667,4810,9571,455,9342,4063,11318,4079,14239,190,33,7400,11617,2462,153,11726,4081,14603,4408,1926,1877,35,6579,538,7799,1258666,1980,20147,200,11969,10031,4157,106,23863,476610,28945,4491,46933,726,58030,185,4923664,44156,43,240174,4923,2746,1372,1539624,50819,2469,554,23262,24294,2430,1606,881,1646,916,10653,2285,96,12057,352914,58661,1379,7295,6297,87,9,28211,181,1007,49955,158197,20194,7231,525,46,99473,160989,24966,337,205909,482104,8831,6204,355605,316,365,69005,105997,24861,87,319,40,78,8770,142763,25,18540,24968,836123,3989,269,503118,23030,3836,101,1712,1847,18456,2819,24166,134,27,1781,77120,803146,4419,95,13320,10596,89261,67,38993,223831,13762,1146,55359,21870,91487,6307,307,9115,3,942,158855,5061,110211,6112,208632,123889,2318,1202734,601615,733824,799,98,931,3274,31585,8819,1294,12007,4042,1047498,28903,1204441,51,68416,36873,11006,64,541,2573,100954,338577,4032,12,13997,940046,13649,8600,29,518,497,18766,13792,20,577592,129,16908,576286,152596,27428,187072,2691,527,101358,7792,87,485259,572,98,66126,163624,2030,147930,20863,18749,4220,3887,631,1591,2356,533,701,496,1652949,750,826,13330,1165714,22109,3787852,268,6110,56397,1293122,7514,34294,3334365,854947,64121,6872,926,1143266,634,3222,444,195772,8097,377922,1538081,218,6175,15710,617,13004,4953,57773,713,1742617,88,79776,358052,32,1293,3752,4369,2746,1906,5939,7956,677,737,17170,511323,1469743,620,335,1871,22409,2939,3239,1102,186073,2591,70,681,275484,87979,686,2397,325,64012,5277,267,310216,149,173,1441120,1577212,8021,188436,28,2459,1103412,2587204,5681,5887,133617,150,200,769,42,62,67016,7525,4238,7633472,12,5,8003,371,924582,27,92808,42423,6514,14085,522444,1617133,2143,940169,479425,248830,3533536,9684,28223,3716154,2296,4224,6602,11961,36820,13212,747,2647,81,5079,10091,851,951,793939,131423,30781,1334,4685,740,500,18218,11817,199,199,634,183,677129,362,4751,553,1134563,69,55,18025,248,6989217,497544,3137795,68981,40,165,4600145,6199,125502,156,104043,2038,1461,5714,521,2402,445,207,669,3652,13929,391,60886,220,281,7178,1490,11478,189204,71464,121,191,718668,1676,27522,4326,174335,876634,1320102,246379,44,99,25085,14484,4824,4859,554,106,19490,1999,313055,20,2551127,464966,4896,2756522,14363,38,16548,256258,3708,1338791,38,67,22193,4616,17426,142249,74640,907,67383,2210,80,1699,71,1158,80062,1975,20120,150,141758,29017,212021,94280,14931,711435,7563,19110,551991,452276,6321,295326,1047781,24840,457523,1431,103,132509,127131,35621,2785598,79115,900121,1232,650555,794495,18,320123,21188,2946527,453512,37,158,1914246,4928,844,112922,1660,52928,95803,3,2585,4359,10865,258,95,2147926,4502,192,2487,15,1280,1808,14833,150,35633,153,4414,12413,113385,216065,867,2112,11535,479529,1368310,32939,1486,41,37,357220,69,458153,621,200681,971,120,1818,4307,280445,2557,54,3214071,360808,775,12547,11808,107,87259,60301,490,405609,797,45429,133,88664,524,80,3400,205,4550,367370,1971,5415,1715763,62,428,2842,705,20233,353690,4,2358,30428,128737,8141,80956,4823275,28094,340526,552,90,510,564998,540,1991,45181,220,1330632,1170,1429,6,2652,61,1051620,2479103,2834,71182,11088,80,3261,9379,1472,9974,23,32706,556,120318,5972,12824,4214,714444,27543,30456,166796,927,40619,9078,3290880,2729340,614,2479,4521808,7,152303,59,4501,9225,328,424455,1262,7,3955379,2209,351,200,5654,83732,19722,159657,646759,2550883,384,158642,4943,9110,36,56622,145004,4690,46,20630,6603,29537,140450,695,53788,2715,4074,1188,670107,68288,85829,423307,8728719,23771,21989,11006,24879,21101,13552,230676,68,1048419,174,598,252255,77,74901,108213,5147,2067221,42735,161460,36619,2793,138471,9453533,201611,172827,86410,16905,89449,4648,28289,3741,574,175,78,6721,178161,1017,546,1002726,5002,5958,47694,4581140,721,15904,1324,1537946,4010,451,2966,4986,1168,756,27177,96,1503,66741,933,196626,746474,1856,41638,90,33510,291899,447,12285,937980,1024662,1778,1547241,8742,4674,102187,53910,48036,41031,5345,2389,61,62463,229,681,883,1196236,20178,10802,3413468,5,1408,620,5146519,837283,3321,21112,6431,27476,257664,11947,1541,2518398,118,133,7916,316,617,938166,597,2128174,11436,2608,2536,7590,611,272482,6286,5,256713,1168,1884,2770,313007,128214,11273,472,909,970,784,279,42297,45366,19674,59363,701,1058421,3264,67,302314,86912,283,548,4329,203055,3232,74257,40,336460,53,93903,124062,370624,26788,61,2578599,103524,46559,25374,95,6060,87,94,226,18958,279,16387,1936376,322,1417,22,9,45,204,121,48,46689,104,62,1355,34841,13467,27674,587101,198,156,18774,55142,1585,258601,581,2480920,280,674304,859,5118,1457988,1183,1013544,101542,4739,246,11408,134,8747,6446,91798,99,18734,134780,8740,10866,2649531,572,2522216,4493,1068,816,1277544,26244,8058,1068763,88,236,128250,1242,1917085,1033305,15959,80,10570,1687,150755,4223,3143,3397,60,8900,571,138,434,49035,439902,9489,47,32422,5269118,106585,239,87,65626,2184,3162,5439,14441,262,1902,2142,1546,68,107,9305,681044,10251,7020,10464,914740,700,47160,25,2744,60,321,3944,670,288838,7036,14117,53,6142,2633,78,85,397,864,340594,2603,252044,760,54493,3835,621432,206991,5145603,139510,8578,129111,17,27171,14084,13058,108,1345,2364614,129743,94993,4009,412027,792,393408,15,460,837008,145,239371,3563,22105,2397189,93,3387,183347,21203,72,29809,967,28073,451672,15233,3477,250,40,25,4712,1149566,363,41998,53,1385,3546,6455,313,7698,37864,592235,1064,30741,107372,3166183,15538,6991,2228318,7118,480,495,366,248922,38,2456,654403,228295,2210,312752,402852,6368,7149,14,322825,99893,472500,199622,97862,207529,8122,710,512011,44857,253,157968,62839,168,67058,82231,1101176,727,311322,18,6071,53,2010,133420,151,82,24,7611,170471,521,179,192,128396,17434,1575438,298,54,585,78798,1387,38010,9910,24068,45155,499,691,101,862,37210,53,1281,100941,99273,2456934,190,8,2698,13609,65373,940393,4461,163776,334,2274,39,1784311,162,10911371,450350,226,679103,28993,523577,134,52,13801,70775,292796,12462,56655,2027,14,5,162838,21208,118,33551,27944,590803,836,141,202578,1093,208538,169,9535,2395,375,6769,4559,424,3458783,66,4343,874296,73,36447,980,154888,6870,10710,39805,7661,215,627,377887,665,290270,159109,11964,72,38739,622148,194046,1053,2137,1165,131,34,4783,266605,3108,5584,29732,400,56,275085,16611,36752,34467,3703,275,7509,95695,200,230,351,424204,18989,43,201515,14605,71208,111,2713,38,50991,9334,67956,2,686,126,417376,205350,103,7020756,481,103,1500,3440,170,4284,3632,93,172,90,14321,329560,26235,16096,22805,7822,3637,91,9,344,606110,15213,583149,19233,1353469,291732,315392,3659,49702,183,18983,6035,280948,462,5429,14,66,70962,256171,226,134725,13695,796834,3469,53,3426,517330,1567,1191,943,1330938,1966736,71317,83827,162,5318,1101483,164411,20081,6199,936,3372,74857,6169,11056,1282,725895,97731,6105,11687,141600,367659,25,32260,41,37119,2176999,73927,474,36112,225,168071,2841148,3408901,1904,4488,1498453,2906,232,65,7658,2959460,16511,1455823,193,4129,49085,71,10064,347,135903,449429,723209,15175,169,174765,21938,475820,16440,16200,1980,251,280,508852,478,316,1146,120954,2844,1620,3058730,11,60055,8690,9821,357,299248,331423,470620,95,16182,161595,3618,8557,44,28735,1081,682,232,23653,661,80,238,10356,3358,1617,40893,118,4062,166,3940518,7007,944449,30496,853,2113681,22032,33165,824,1038,11163,11,17339,188,2291,298186,606326,2907,112054,3313,1063,3861,19849,2839,42,15142,7622,13521,340192,38131,3297,3818061,949,163,1728680,106,35862,1127519,90,257,3846,194,1568,734959,432,416,462,180555,5577298,434,424,437,2059,435,63327,792,341194,231,10796,1172,962114,513925,56180,32,25552,129,769357,48601,136,150,182,998,15589,918,92966,2022,10595,159,842,447957,28,3033896,129,1427285,396906,42826,304,52334,10860,2029,32193,7367,265,239,481,711,2126,5179,791,19083,20344,17249,220480,237,4089,21883,28,69288,2617,327321,1164261,150126,703,2,39734,921,24326,70047,131571,1615337,208,457,142065,173,106457,4262,177,2897,297,11307,26380,8088,405460,50,13376,9,7540,141213,179787,108750,461,437,40588,17079,103,72,2048,2756,20344,3471,59391,3248,12577,1104322,200,96,94,320489,79159,13687,909,1218,3951,148,36882,1211083,68,47,7134,2415,5166,30209,14135,25665,324624,16,1221597,8795,2484531,79757,423913,38972,726,531,304367,438978,57264,720890,1846,91,7450,1112,1794210,173878,1146347,21035,99,1686,6413,181680,149,483458,22368,194031,106,366650,4,464,428,230159,21591,1686,2066408,469,5096750,1349998,1312,14500,2323,2941,634,635824,21842,1528,102,87,226808,1396,481,104,20,4445040,19408,193,1965,108689,877483,152,75,720598,78211,13787,1370,15,852856,135295,1194628,10214,14,24971,437731,86,1021074,4529,9688,51559,1330,349700,4128,11760,323,3800,6458,6065178,4303,34301,18363,452565,15,798,15,24661,670102,14525,4785,2841000,5132,296397,1175963,11,3749,1520,648,569655,745,17181,6066,172067,828,291,32,8769,4261,198829,8189,450824,2411,2070,205,180341,24357,806,2581538,20489,70673,18,112,120,870,1472,6687,17648,1303,2020,3134578,7128,465864,6,123248,1752,138302,11636,32172,8777,4268,230578,110082,1991,8461,9096,1649,511,61673,903,224,49499,6970,2285,36362,41452,1088,140476,63345,54,110,20086,3612670,3769,103,3079,593855,927,32011,38,602224,6873,108228,274477,2692328,60,1450055,212937,161,482,16852,223425,633,928,23,170,127416,25992,155744,180485,457,453,132,5737,106659,26343,334,19901,1600,62058,387,471,88210,877,3659,336080,46324,575,86,97576,1049006,26498,55,431,8,1779720,3159,30,314472,3461,702699,119878,10469,6179590,217972,44375,1144,1046,5006,4813,143,4500,6453,12,937,22924,74051,16814,15338,431,19796,1353,3708,4344557,24,16686,1056,5080809,572,593,10850,48700,44863,829184,286017,11537,1727,26868,1188,5781,59,172374,23182,1712,227,562,7431,1926136,296739,53318,899,131870,78149,787020,138617,135270,270,6172959,60749,679,24720,76,26234,12761,2,270,1661,517,11278,2710,26,22603,49,12806,84205,33,16,11145,16,101896,55,200,3770,7801,344521,2303,205927,282,627092,29924,24,41639,3413166,433,3453,848,88,1,7,35837,55801,353109,1848473,564960,32475,595,2044487,6608,208200,5127,64065,841,21241,8898,3432,2081,447822,6041,120060,85,252,4094,24051,96104,59187,517,50,21146,394,17179,2115,875,43,35672,258715,23687,60451,886,492,889,1036,38706,47413,2470,459681,1683065,35714,1512,75,43230,65225,125,34341,423206,98006,12727,466,375,113420,51,512,6181,45,38585,300,335,2502709,3,359151,116,4834,1524940,681,4961,24,18,379,158161,26488,66537,4401163,296,299023,10153,54408,22223,61,5,860,863445,893212,2395,20065,357980,7,66932,1588,842,593234,3852,29033,46191,475608,286,2104835,60,53176,46,5,428999,7334,11287,597,278380,848494,2812,1496,11690,36386,3036,294,255182,32285,7188,7460,1634469,2425161,618,1348,6836,68172,149247,1205,7724,12878,1343433,197753,2394,2822,96043,140,37945,2500,1190,1328,1559,4060304,56170,357,11557,929,234380,47536,4273,2528,1014740,8,953345,2002,245,12,6191,12074,196,511,5,537,119720,6358,4509,1197161,4748,452734,34,24862,5631,196274,8527,1805,293,961,3227105,19247,1916,891788,856171,4996,247,19089,73,20560,29625,630,6921,148041,109,115208,39,31353,16015,7090,782,328128,2777,4882,63566,229,16,402742,1568702,8774,15499,2500,85785,6589,54,8997,7747,7991,43103,8198,1066176,55787,474469,861,4257,113,42958,442635,3995,4038,76,73,11824,24525,530,54,2005439,146620,32043,660838,464,37036,2129,183470,406029,785259,18048,2346,1989213,39,47985,34642,2610,97,48588,46,272945,77177,125,710288,24149,1430628,2891,1543953,565,71,1433573,1075,32,10157,400,117,3058,148,37410,466339,11491,212758,3236,13,559993,2472825,7368374,1,844439,197243,35212,986,133365,28562,34247,383,874,737,547,132484,5919,20,669,4060,3429,1692,100,875,24126,4068,8903,1437,11,3235,879,162034,4352090,96973,252,900234,11023475,265044,8664,268,9362,102,21310,21318,4703,51558,1809,8601,1221,9474,327363,586187,2041,7,24146,529601,14013,82258,714193,4038,348,8929,9572,16,44233,10,26623,3469,20230,384,85288,4589,234,223884,178,10,9,136455,387320,33,7,1056966,85928,89062,12865,83226,15015,1981,8672,2313,75,5056558,1718,13255,335,518,219914,121648,33,1876,16926,449,24,1,3685,6091,804,182,9279602,3546,650,136,15743,185391,79,3406,14843,8708,2177,318,19549,2080,239,18,281068,182,23545,2353136,501,512,47756,685,586245,86040,71915,84,172,694188,20905,1460499,138,1605,9036,37975,272932,15972,1474299,93,229,14367,10307,184058,775,3488,184543,19497,2107,1120,6693,22677,1311,21883,219519,42923,75162,25958,129253,257,138,766,842,909,81,34,380302,222,3059245,286,72277,159,24693,12117,10768,176,1464,384212,2604,48,310,6822,125,1008639,70,5611,312944,2938669,64017,1839,9,85235,873767,221,17643,9358,30983,20150,481381,42827,25,4,1087623,14502,89,141,1338,3789,150,226628,97542,99,150,27672,481,5,3922,1974,54159,23748,88,2632,273,14870,232,67,1092,359,160588,25871,215,4305,2978,22564,6,5738,530,61,126252,1264,701,35,15855,116,110,2045,674,32,304478,184443,19494,108,941,1157,803285,36,392561,2002,33255,32294,422,158923,60598,135,4434,67,2,329512,251429,721,514912,1866353,13977,69413,1711,98,3927,57243,482895,576,152205,164467,140196,834552,5574,1403,28,243,53,35629,262,259248,15872,12242,341,4191,624,127178,496,8178,433,711,16285,533,256,260,185663,113905,3554,377765,365,14255,171690,207,622,39152,6529,1659,7505,53929,5199,46,21603,232098,268,886773,125586,1060,23965,2596,61294,378,772320,139723,4698,91158,3758,9241,15184,732,33719,8130,348840,2881,17,173418,8118,632018,4530291,27112,30,39947,35480,16366,4931,1995,49903,6516,538,55890,28,3561,14,14800,572428,172736,3466,17,13864,292471,120272,170,264062,387379,3796,105544,171643,12429,94,50330,12085,736,27275,970,1292,255,259,992,5020,7149,207,152,2290,7451,15588,64,5686210,1047,1696,1625864,773,1428,1414,227564,108,1223913,271,125093,1199,184,4781,10407,800,76,108,104,143,490,911,18,712518,1508,5649,212719,405762,155,1418995,918,7993,113,125,188,1031,221,5407,97,241,36526,4119,225,443250,19,442,34849,206078,1571,10,140,265,11,62921,713,30,76120,2548,2873,151731,249227,140,2083246,77732,1458321,529,8757,57,1385608,9810,907,178,67811,361030,16796,7337,29379,406619,111787,666625,33751,6026,448,404,27,6577,196,215,22,706,2231,860582,50,4165,142,46477,35,649,26070,116,1340,282,185,1144728,21192,5026,249,2750,54665,581,446866,553,2202640,2699,25,525,74876,206277,32464,1613,220,59145,7568,125,120241,2650,8968,65,152073,160984,288,29,904,85,526420,2217,39348,3196,943863,67,41,446,71,2143,1902,8405,111691,702,652,64539,1334,1379657,5,230,26503,959,108933,23187,5884,13184,137,11803,15,77000,21854,316077,44,1764821,5786844,12681,14084,248,267744,19,760304,44548,267339,2342,1376092,71055,59647,106,23516,1734,579,591,218,100,396586,15013,350853,182,257960,72,2547,282709,91732,23807,613,3238,35812,83853,17,102321,159870,15211,4114,160,609,117937,2149681,21,70,1421492,97311,5035,556,64481,1033,21638,9258,1005573,27692,6784,510608,625,160,16560,786,8521,97,1257,9316,687,2602771,267916,2941,2047897,26973,42,54,2308197,24,103905,41562,2037,84725,35314,299,269,5465,429,846,6885,282,12741,3591,286,539796,3199434,250109,8914,1671,546,94588,33291,2107]}],\"hovertemplate\":\"%{xaxis.title.text}=%{x}<br>%{yaxis.title.text}=%{y}<br>P\\u00fablico no ano de exibi\\u00e7\\u00e3o=%{marker.color}<extra></extra>\",\"legendgroup\":\"\",\"marker\":{\"color\":[10,6289,3303,69,402,19579,14,195,652641,8001,530,2364,1346982,21464,72,35593,170609,39,1622344,2538,254709,3106,150,13,6,215,24992,39508,4910,684,6287,8077,25,7335,361053,148557,2380,34883,10,595463,177958,3018,17464,317,1798,1426,10020,6,124934,9,571,507,9298,322,10961,1455,22732,1078,704,64,235011,527,2908,58901,472,73,2028,117222,263,4705,45,23355,851,66775,1026553,130,29,360557,16212,12802,263616,4788803,2143,6387,358,1028151,3143,13131,23,1717,1483,3843,728,79,19084,8116,294,18505,73,891264,1071,100442,1782048,3854,4,484,742,2919358,158,64,31,26,6089,216825,15,1447,27,453400,13493,90457,271,1937,382,60226,1512,4145,786,735191,152,5864,1217,355,896,6591,253,6491,174442,29347,309,77584,310681,270135,10270,19,895771,10,2332,28825,56099,24033,92,55,8991777,193356,50,3898,22,129350,44063,70,550885,263,19150,164,82715,3815,2183,117,476714,169970,438,10244,12853,273,3940204,509,2178,4132,9746101,675952,231238,22378,86,143,35358,12334,35467,14,3244,1113,1838298,499,111,42,36710,584,1965,16500,442552,216,1630,157,1456,430704,1,35730,1952,1907,52,5277,17767,2666,219945,594019,301443,107645,1293065,81549,297,1849624,491,244984,866,2675,3012,774,8807,785,52,25535,16598,470691,5697,127,52,737582,10076,528354,2834,1284,8148,253,10561,24433,3996,2860,1512,126718,120,2018,261,4849,8748,281,72,18198,2456,16,345,1417,120,9695,289247,559,871,1715,47,30889,531661,7011,620789,7927,105,16,263,48652,3049,117058,172859,364,166,185207,780,70,1411,6555353,2057620,244,574,1211,78873,3291,273,4,6758,873,3765,75867,7901,157,4123,485206,3152655,1258,40,2548,13,1003691,44,966,26284,237,94,268,17,167212,3408,749256,348,2068,12,3,897,15993,32,1994,359,84,36,19735,10968,1947,4843,10049,14,488,1018,34,35384,4873,746264,2333,187777,5786301,190,66,1420,3986,40922,166,11,600,199,18260,3366,4442,153979,9800,198956,2529,244,121,1663,834,415,1429,7850,50,982092,66073,136422,1189,18,110857,490,1947,7597,2877,821,2419335,16888,4309790,297,172,129,2959,26574,12471,357,146,50,535,2388,331309,35,6189465,28396,530,14,14,430,64285,662,189,667,268,115,13037,14523,509920,5,125,22,1654,58666,30,31212,5,9505,3100,40,12876,333,80,1949,31,28778,1392,2213,327,1024351,1335,9,2250,168,2128,360,2466,69105,4568,7697,1038,22828,11561,108975,8815,4574,230528,12749,7613,12903,349,1516,166,13030,9,776716,19621,6578,277,219,40,191,419,9912,51,16242804,93991,1885,27322,109308,56,12,27,5850,13790,261,143,181,1521,39659,537,120,2634,3963,476,40014,51,514,2112,2327,49490,436,3067,81,230,1756,146,658,1305768,363,133,11,290,1746,669,267,182297,44,38,221,2287,483759,13,241,4221,1423,819,68,130,8,48,1734,1923826,211686,268,251,9334,126,1136105,3425,230120,31,821564,2630,7377,4029,116,6041,9,15,26,15276,15966,5970,7970,28148,2675,176846,400,4875,740,3013,5841,63,2760,733230,1055,469143,10,5558,3519,18960,811,1843,14406,229,107,48,479,2926706,65629,46,177,3284,26212,77,3079,2129669,76,164,188,32,1719931,43895,7965,4128,7459,6,130,75,17,33,22,19,16,95834,7439,7,168,40,9926,1740,15179,54,105095,6703,397,75,6424,252,7955544,914,14597,54,138,1782,2125813,1475,98098,674,5026,13161,92943,110,30206,71,141920,204,1305,2094,117,325,15,398,8697,402456,165,122105,514041,1075,67,464,53,803483,9247,2743585,50,479,6164,9819,219486,15666,26,1365681,871,19656467,195265,9604,1447,77,13296,8,6196,3528,24,4399733,90,3330607,2327,624607,2110,50,8,388,287152,21,49147,30930,16685,35623,16976,129932,235,30288,92344,38,100041,15666,7259,1541,166,68,4959,226346,24296,11786,23,53,13719,1355,32,3433,2476,19,47225,117,1718,863371,5293026,1732,3929,9,75815,671,87722,38135,2569,732481,16226,147,2,13193,37,2716,5113,77878,1415,198467,6145,5810,6253,3279,43625,3775,150746,3859,10480,2497,3651,1178,50,108,140,77,17070,83520,1413,2932,2069,3791,51,1641,22073,4540,3159,330,25,508192,5576,28530,2,143,158,2841,686,11284,52098,2456,72919,211,3550891,10085,1251,40,16232,1937,27870,37,5584309,131,30,947992,8237,11749,107,31358,1026,11394,102,62,22617,149020,1820,85129,6306,175,2940,6344,80,36726,5,39284,6138,11263,1017,224,11,0,117,546117,83,78,3749,103,7,708341,218013,85,444,5097,437566,1051,10523,1037,1572,2071,153,1692,1660,359,689,36195,2671,884,292386,10250,7710,130,88173,4331153,37716,1903,0,62,320226,49603,3130,5,345,12,167,5181,5910,2538,3498,0,30688,16,12571,113,607,2601,100159,57526,738,947,478114,10234,19985,55,847022,180,3665,53,203,7206,20267,328085,1244,4601084,4720,55014,268,178,132403,29,70944,884775,25,272797,2200,253,170,8,3131,164072,162,2122,187739,5370,8292,34,35042,3,1238,1128,11412,249,3593,1188,27731,67,2364,3951,314,239360,2947,23360,8263,192128,13,15210,70879,311,8381,133,332,183,208,11157,9596,152,253348,109,52413,1949,307908,9133,2499804,51,39,2028293,51505,125,27808,540,1837,1582,50,112174,220193,853,37679,8,75,23974,338533,24,12388,584,131,199,224,1122367,703668,12101,2493,19,2116,253611,3936,113,125,113,593,3892,3257029,78,23575,5375364,345,1420,2,23588,2701,129939,4017,122,1067,0,23,1157305,3332,16,122707,157,2862,1012555,9602,1,4515253,6180,5258742,2506,3639,103442,66,36251,40,105,2155,154448,12246,50,295,33,235,864,44685,3908,2191,1814,15051,0,41403,801037,242,900,117,1950,101,14985,201281,22,13566,873,1444963,778,172365,52716,3421,1882462,77,275,176557,119554,166,6677,52,155502,1233,1412,7114,105,475,9541,192578,36,41,2053,8063,925411,3493,1467,899,2550784,375,1939,41,183,147,494,10493,11975,6,268,92607,2582,1408,83,12265,2836,117,12184373,1398971,3467,198,3206,222792,9108,161,340,14,292740,28,28086,8517,117,126,10052,7902,31,28,984,580568,1207,191621,50,2845,6558,6,5121,408928,4869,276658,84880,13,596,68,3515,226,30,6044,51120,1505786,139041,11289,123,982,48107,202,31558,366,374926,2234,43,205,45766,1712,49505,35,520,40793,1465,649,199397,329794,1900,70,227,804644,299501,65918,843955,343770,76,12161,9033,852823,111,226512,114,6234,1434,278127,18099,13587,9077,794,5613,50,825,6410,3450295,4491,397,10749,1285839,59,1116,421,3854,3796,85,197331,340989,134,2,394,7,55630,181614,8812,2604658,198,789,9809291,4300,7125,223209,65,5526,274325,570,0,7438252,53155,10,1970,1670,21554,5893,18,1076,767307,937373,25,22144,5121,161,116568,2480,723,908,1282,41358,3690,1237,10370,309,13348,8208,233,290,25858,11499,1500086,674,4188,2350612,65,1646,2297,1337049,7850,15,50672,413,40,193,3,79,322,899166,54,93995,1419,1872,238,130,124,30269,489,2286,782,14759,12482,4688,13075,1789,13599,136779,489323,47201,0,2384,748,467611,1068464,32945,1299,12126,381,354621,3005,19833,3423,3939,228,3309,38,7,1687,37296,1077,24602,409,47,2739,14881,1107,471063,44489,650,476,6550,4162,27649,32,2305,573,114908,131414,2846,895812,82,9320,788,42,2404,112750,330,24656,1752,388425,30562,1187570,17966,221,58,35439,5737,16,6332,19811,102,40337,1507525,140860,38,20782,41907,30,153549,3394,3566,472,12216,644115,11187,16,7047,63,49,6165,1715,758,4187,310,4605459,496726,217,3334,220,1046,23,222765,1669,14501280,4322,1257,1301,18078,42,1968612,28367,2563,13384,7906,8855,100,1406,4475,714,7,262,620,771,30662,249452,29,65,214035,549229,3011,8308489,5117598,25241,9078,41,45875,39560,106245,186,417,14538,481199,3458,6793,823,461,2,10783,6745,17016,557,5403,1717008,16301,797,8466,108,42574,49,51,744,40,41967,5200,1007676,798,3052636,315730,52,44374,12,26223,52136,24,2864,1621,898802,4299,13842,51,1951,13932,726736,4626,1753,1838,1067,8687,40,3552,276,388644,60,664264,211,6694,12529,241170,25378,173302,87,14838,92873,1176,65,9296,65849,4333,3186,707,2957275,28,1665,189949,37710,3617,978,118,1605,10879,4017,181884,1461,312220,565500,2380,937,12962,14191,42,332,217,26,42,40,43,1018120,2058767,5224,13082,23,1735,271731,374459,14,32053,1504,2233,532,725,2604,498,648229,746,53,508380,91,5454,306126,34,249309,904780,2375,49,43,14501,45300,7494,845,57,699,112624,290,14426,72,342,104,8,31,96,56069,347,56,2524401,3364,46,29,32,63,336,65,16408,155063,35662,1082,142,193,4628437,4207,5063,1339,4016,8509,78448,602,3351,206893,506412,24633,202,3542,28,912,84,1431,8769,20015,382294,1019,3870,10,3532,7812,356,1222718,2237,3510,21643,46581,390,36,312,436368,1,1362,4963,131258,10076,40,174,33416,487457,76969,283,33,10414,29925,111,3204,142059,3,46640,244,83,292504,789883,239058,5398,22,884,235,10,775,4,23675,610,14495,2207,5602,8740,119109,582057,1683814,3964,58453,202,100,49,30161,18,224,6248,4436,62,3718,290,8,347,398251,559431,29474,62,472,105843,2388,6470,6280,4183535,7914,8575,883251,674,553421,3337,16,64383,120,2007,1011581,20340,10646,60,1638,41314,10148,569,17874,5374,169485,85063,1157,4207641,760,1468,26,26,6265,34806,84,14041,242,77,6686736,624,3841,94,22,7350,152,45,5237,7,25720,380166,236,634,4906,121450,9488,75,4414235,1921,85655,57,56,2180,19635,635145,446,552133,2524,2745,41,87517,4405,465225,17939,1016303,16,1902480,351,1398364,5219,28641,2049,23,43,1336388,335204,8442364,314242,209164,6400985,17443,9017,78,253,193,2473,145,7463,4133,784,76,115,215,114382,26,105201,15337,189,55,2074,913,3,32028,6396,6462,48,51289,1496,6461,408,164,2256,8989024,742137,405,5213465,2185,70119,2931,5147838,94923,340868,340507,521,7,67,1327,6396,6079,13195,7011338,5008,18,134406,185,519678,5811,33365,4328,39,3686,2159,1389,17580,14621,88155,36,976,195992,7295,229,15958,1,95,213,2589,55083,146,57,21,2827,7909,97,2154,114,76,45527,168344,627,25997,1535871,38,82130,23,760,469262,488,86,64504,2059,43875,38939,84,100570,6918,4017,7445,46,213,295753,20621,27,30,6284,191,2813,4618,275,19801,14840,5291,176,827,21793,5016,115,1786,4453,15170,319,810,17166,3228749,22,11726,81,110380,331,87070,21239,368161,2359,299,123738,61105,11,106,2759,659,59,160,31558,2643,40,594,709,12964,22,16908,77,2993,496,58127,43788,38,1362132,401960,4693,95129,1464327,161,446461,52676,7115,8,17,11,22,6296,119297,2625,1244060,48652,9031,451,2498,160,2794,7735,40,801,40,100,48811,38920,14788,1617414,3659613,4603,2694893,12716,43813,1360480,8602,1471,259,1240526,64,246,4284,3321,55,117,139,512313,89,959,259,897,46968,11615,952586,1431,1417,1214555,193,2031,107366,4097,63168,14915,252349,434,160,401,8423,345,33,283,2511,18619,3901,1749,70623,286,178,52,716894,778,1162,4657,9008,13142,6032,3155131,11288,15,26517,37839,158,49801,1649,12938,14,1373,908175,26,38697,13050,1712,6256,874,6359663,110,43539,9925,241184,706,10754,296,93,21574,14,7873,2858033,4590,4008,94,123824,530,424,134,4132,13401,19821,34731,83641,37,26889,559584,2055,94158,148635,27117,10676,33906,2844,10492,566,162,488270,3261,9420,8505215,7773,47324,8831,18,106701,310730,73,263,83,1605,93,271,160,1298025,37,162,36886,1506,22,234,618,40,571,17015,2113,38954,72230,14798,185,5944,1430,5649,8,3177,159,1729177,3498,14538,8394,59,2929,690836,31,556701,20134,18650,6978,38,63,1956,1641,127,8265,5260450,69074,31,361,47,1695,83,4335,387241,16896,685138,512151,682,9801,24682,60684,2288390,6273,10,5141,7319,116,54903,91775,248,207,162,339,12,9364,4149,8029,3676,1569,688,1507,8874,42967,73,2,2016949,789,1228,25,2134,18759,33013,208,86,1959,2812,74108,444534,390,10,46652,370,2226094,1096822,171,111,9730,31552,76,12975,18189,235,7570,222,2333,1833728,4335211,699,41937,329,1132529,635,23136,26445,19,355085,61,209473,7330,10,895,767,197,61,482,13407,59268,1356422,341917,11967,1280,777,14,6655,63,1577999,214,1316,82829,6777,71,1242,703,977,2226,1340,357,940,2723,2572,681,8565380,24934,837,4715,168,5589,2238,8389,532,1309875,15,11528,6,6363,306,18971,3210,34643,340932,1531,9541,229,58,5519,96,62,2432,698,90581,804023,56,341509,1874,169,275,6,4854,31898,2373,378,9617572,45213,143569,2525328,1592,2,103,6956,370117,66,420416,1310640,1331579,4130,2876,432,4811,28679,39960,884,21325,909,6816,813257,30,4272555,176089,481,150,2865,67469,51475,286,1492,171,740667,3197,61,2663,55478,1206,25,22176,7324,32763,772,6044324,23968,53801,2681,2564,1601,14075,38,11548,153234,337380,1246718,279,26812,3201,540,1357,217,7165,520,102340,723,1912,4797512,192,147,1658,66,536187,41103,6566,226978,171,1071,109698,64,135041,1507,329,51,24,18,20147,5892,7827788,3925,3834,2671,46,3187,9301,191,1208,368,234930,32,138036,95,15493,520,135194,5072,1193,44504,1592,27789,70,4864,12396,392,24832,70,6,82,478,17,241,122,169,1590,617090,54,393,754,2079,124,18,62435,46538,10716,62,708,392,11,119,392,93456,287652,2635,7958,229,1482,4907,1829856,15829,2193152,336,543034,120970,303374,563,3594171,3919,14376,29,76,687952,408,4188,25057,648312,51,365439,24637,112,1421,16,3046,328003,199484,271,580,11,174,141139,1757761,62284,5472,8840,114,22998,4905,7427,17464,20487,99,3078,381,2759,12173,4353,849,337,8940,565916,2297,734,194,668,7659,836,114,34979,15,1705,43560,346602,9825,95,51769,7102,57543,1197,24044,295835,515,25100,138,2127,456,9535,189728,240,4020898,100,60,561,148,226,38,2670252,225,29,6306,3902,69753,264,5228,19670,533,10681,33276,7387,18029,1997,1660,46916,36862,397297,127,145,10789,153995,149,15414,16461,157896,238,11550,45,15,53607,207,172,26509,170,11405,14748,57,1341,9194,814,125,28464,4457,4531,209,234,313400,3597713,640571,3717,11856,1954,1646209,970,105,44,1320,15363,35194,758131,11603,43,1055,34,37135,13983,82634,53098,21794,459,3961,553,390,36,58,85,770587,23479,2315,41256,20,497,2181772,8915,176083,26163,24737,728,1058,328,5531,20275,7331,7279,12916,3692,629,3911,343,266916,108763,10988,10783,85,2645471,1041,30209,48,610730,373,11130,2499,593,114620,116,2997,247,14082,12769,641684,165,6,4429,521,146,238,13561,126841,217,2355,1975,578,1141,964,122,69,32433,14356,46,1775,1611,105985,11305479,873,312,561784,592,5197,567,36,156,182,452275,889,627732,14542,5336,875,7132,844,13042,3146,60,65,63617,15324,132,1013,484,8105,279,126252,187015,1849,80781,695,4415952,53,77,243,59,1477,8247,47,454569,241,85,66251,8189410,2457,12147,823195,236,1101,5955,55,210426,166,546,2535,230,4805,2189,3147,500,378,1772,222875,377670,299,280,1217,4137,2607958,10526,2321,8992,324289,130,1240,5968,517,6608,78,8087,57,74,618236,14,200,82,3765,2236,1984930,2278477,107679,39237,57,60,424520,4000,833246,1167530,80212,1625,12,34,330379,21603,3368,5080,161,84051,8041,473,1297,888,7456,82,1844,26421,82757,55,827,91,1249,3023,2894,39,16132,1884196,142523,41673,1952009,502,848,2764,10373,755,3120,1121570,86,194,6098,5286,6738,1846,6888,2323,4,391146,12005,67328,4184,665999,594,1070434,811,19,4341,103351,3228,111,729977,3344,204,22,219,468,477,1274,2472,5857,36555,1342,37326,4015,5963,63,240232,92,24590,7,169,741,1386959,47,2914,5,312,4373939,1875,7,34715,14139,2824226,196,188,393105,7851,1722029,829,180,7577,969,2099237,6766,28,4090,1384,23779,33970,1141,1630,5145,121,236,44,5393,105,111,302468,265082,437,70,88,80,87490,1372,3939,569119,116670,756,123023,107590,415127,41,34358,386,73579,7633,54,8581,418,286661,733,255,1329,604,13061,2499,2604,133,429,185706,1645,2689,8786,887,332,5577,354679,100,1472,28643,3951,6,31085,1019,97758,89,1952,131,1295,2819817,763660,2113,140063,1001,462,1674,209271,612,45665,43,27274,348,303,216914,4396,115,1751,2318296,503,650,21,10877,45630,76,3274,522,5430,1729,20565,3108,719,1748,85447,1009,14606,464,2105,49,153,1769,1944,1607,43420,10100,43210,143,10175,1421,3577,365,64740,189,1387433,722,491,568,21,1347,3478,1757668,3816,42,1706,39730,166,2713,100,850,1919,2684,1268,7199,48800,294,6129,11038,26751,133,4680,545297,3727,2137,1349,423988,781,9389,6231,119,73,1327,3719487,18,75,59,78619,12512,19034,2311,1480960,1783816,33118,2735,11967,282,534,388533,2273,9882,29,202508,359,2248,3391,2536036,38073,1823,829,1999,7352,100,7125,348980,62250,97697,2,2749,1602111,4199697,1393,100,6685086,948,387,9349,89,3695,4251,79,394531,2049,523,8,437532,75470,182,18179,454,226,318,75133,161,1523,691,18301,3548,1,5699,6805,29139,54078,77,16220,21768,3049,11537,10330,389,777,3780325,164589,8755,380,55475,103,405,3352,31,44,337655,2015,2386,2149,6688,17066,5800,5849,2291,587,51,88,512,36,118,1925,23438,71859,1874,5103,131220,438782,550,70,295,27,750,352,427,3205,445,42,4148,128,423857,243809,76665,2475674,499,1064,157,5689,38,4408,158,147,13719,45693,108,27,3566,370,179,13072,25853,498362,300,1422,1609,22675,858,1284,613,1288436,47,522232,91809,1511,78307,238,906,273,307,6366,200,97,31,7680,4322,1649,11,310340,236,1658,194598,2927606,14182,36763,20,3272784,446,88889,40,197,5696,3517,150,58,770,34503,139,242045,4418,2364,713,6386,103,149377,6689,9808,108517,54,55,4393303,43436,27,2614,32,388,40,6356559,27764,211,893501,2738,57,12494,24749,7623,40,124,41192,1712,948542,268,90073,252,10332,264,3726547,40137,20251,7680,39400,539,529,2233234,107,302,202347,6831,12725,348,2346,40267,4297,35,629,2547,317,1986250,962,243,31,58176,116,5112,2639935,300,19961,22661,15505,1688,4825,594,50427,8912094,74745,13500,713,2711422,17836,8190,441,1966,152,33450,2836,2127,2576,2350,5213,2284,17592,4281,11688,1016137,229,24213,275966,2977,621,2227,10040,166,28055,164705,750,64851,386183,19431,188,2722,10016,866,49,2130,239,635,291,4598,10817,6164,3177,19702,87932,8172,30618,250,13411,4228,1233711,30141,8767,23597,14337,4710,166,3121,66487,114,228,590,19,129226,77108,1401,30290,500,101,511785,71,23464,3956,997,83550,545643,653,16905,449,90,1011,70,317,15,167,954,67662,543,257,920,59,2035935,1916,191,89021,5703,226,23682,70,3106,399132,189,138154,395,4297,3769,1574,42,499919,7595,301,80335,777,48,13201,638,13652,2657447,12107,1440,10026,4276,161,211333,32428,13,1596817,1792,348322,1479,2721,61569,347,77,671,1241637,814,8,155,1325,1715,2319,138,156989,12725,3133464,99,22,10123,4308,260,128851,3119,11,4519,43,2072,3797,8656,1245,400893,845,142,2769,6377,60,206,11965,3459,350362,101,861,16627,1800722,1461,11115,1872703,634,2355234,407,1235047,34566,423549,200,350,2873,28411,2619,9560,356,807827,42,6008,1771774,384735,613,493022,108787,1446,819,14327,1714,10559,11208,131,932,157873,446515,5482,5807,118665,868,950,76618,19566,3567,12,762,1318,21717,1637032,9476,869,131491,1292,10044,124,10,1646,102,8544,11145,33422,20109,12185,222,19868,15982,1510,113999,50502,489722,1162544,96,91945,33068,624245,42,37,39548,19458,130,137,195,163,5558321,189,22341,84302,439410,102,7967,524,341,1981,743118,19141,318,67950,244,2220028,5519,138,67437,1121,35,9,875,25273,351,64,610854,2565,308,676655,1947,3459,135,2802,2517,148,36,234,1313,316468,43,5525,1328,602,24968,627,10755,43678,2216,169,321,95,135,55,146,50913,1104,11619,8712,14827,7982,96570,598084,1476,3449,146,1057,339,119586,8150,126,2707296,32912,1093,410,296,1748,3307837,193449,385,133,9857946,1530,54,91,678287,2251,10129071,596,2777,19338,225,169,17951,306730,46634,43,20009,14,118255,8309,8294,169,27275,2612034,606,2983,173,14498,501962,1236,98259,88,9,182,20770,2839023,3077,11216,57266,2498,20,355,513381,8519,351,697,25,1300,33,6165705,39,362,563,48961,16550,942,2743,84,1320,93,548,234,31577,147384,4947,2896,26550,115,106,1390,6405,2702,538091,299484,41892,341,1376548,921,9927,319650,4774,4849,6158,7517,74,678,26247,255,86,120,300,278843,160,312,130,232,110570,24508,955841,265387,568,292,20,3669,128,228589,15283,36636,78667,220,266,2116,2870,12228,3092,3437,85,465905,3716207,7347,21845,2266,36,58,36873,3188,12,351583,1193599,17,20089,14307,12094,22,3366763,1034040,13594,28818,10865,2930693,195,2756,1111,624828,50622,955,798,875,19,279,4622,16240,1681,34164,20,45096,144563,8633,2111,5542,2561,86307,206,42,77,4911,662,614094,2342,4621101,35567,26892,3581,2322,83413,510541,729,366407,519277,112050,2549,3553,200,827,170,86,127460,4326,826,4610275,42811,798222,391,646224,96,25936,12,20,54,2745,63825,2382,486,1152,1139,7967,139500,313643,3042283,202,1274,27,200,291227,238,52,1205442,162,9274,181,10249,313,2707988,374,169913,38212,329,5410,27153,69,7563,200,49,130,120116,70751,3255,54400,4374,200,217,1514,564,6373,3597,20,167,52484,30,29,6548,1052762,807,10399,153,120,5666,13,2686,2547,108,6437,456,65,308,19,1037248,3931888,7456,52,141404,166,532949,3180,508901,2039,28643,1314631,2653,6875,81529,11429,2864628,1873,69,438,31,360,19,97,54,72,30,31,139,2352,653138,355,204436,279,77109,189,867,4078,2452143,7859,2320,5619,620,120,3931,296574,7059,28,23561,9344,2079,1182233,200739,81367,2733,880,20527,2120,1301,521,4755582,19238,6,1078,8151,222,179745,3706,1979624,541,83077,45084,2073,236077,527,479,17,1503,2227,208,25999,1505,56,38,3350,3014,243,905096,1459,3978,1332,1379,46,1784275,20729,32,381782,240026,2356,5755409,1284,12761,192,1564569,674,847,35,1974,39,200,120528,4652,7995,2976,1178,2293,44745,1313,37527,860,10747,13055,4292,793,1429862,512308,200,740,64,253762,281780,3330,29273,592431,262906,100039,772526,460167,35,100,76055,4887284,28823,94145,3963,105,53717,9771,632010,974,2237537,347,91611,6405,15395,3732,6202,12,17623,573704,27726,151639,4100615,10613,21,260,104069,95600,3811,40,98884,335085,118,8845,312823,3102309,466394,2735,11376,34915,37641,73,3691,55969,425887,17,26261,1069524,161,118073,40380,33978,22794,8680,13309,4754,107,18439,104,14955,18895,3426,14252,5694,706374,37,94812,242343,731,386,1110,4539,1719,674,604,520,642,80,10939,2563,258,31453,14929,7,5237,8998,1120786,329047,175,536918,76,5166,6064,308449,650700,6097,158,2746,1040,6121,30595,1793239,2108500,61425,4214,256,90,3939,390150,258,20552,3426,21,6208,301,18,930,5,14367,19768,26,207214,27,4103679,1769,779766,200,5873,19,133022,170,9539,155,11832,17804,283,7689,3549,11083,278,200,134,563260,34361,40325,20160,1599,305793,91,592,84,5212811,970,98990,3970,966,2816772,28951,115,668,1776579,30598,2420,23,4482,577153,150,129,903041,18015,7212,2192,701,79,47678,1249,342572,284,291,407,86010,71,37,19547,1071,2336,4056,366,1699,1689,1253,593,372,566,69,917,51807,1827,7783,651,14892,901617,14209,9843,656,128,10173,11803,1676,776824,6255,429787,1670,5977,202,29712,1783,625,300356,4587292,633395,259247,27602,21549,113,14119,39,43092,68971,718,1895,60851,28422,6551,2699,220,52195,8177,851,6012,2637,51587,7652,63076,1553,1035971,1687,3667,4810,9571,455,9342,4063,11318,4079,14239,190,33,7400,11617,2462,153,11726,4081,14603,4408,1926,1877,35,6579,538,7799,1258666,1980,20147,200,11969,10031,4157,106,23863,476610,28945,4491,46933,726,58030,185,4923664,44156,43,240174,4923,2746,1372,1539624,50819,2469,554,23262,24294,2430,1606,881,1646,916,10653,2285,96,12057,352914,58661,1379,7295,6297,87,9,28211,181,1007,49955,158197,20194,7231,525,46,99473,160989,24966,337,205909,482104,8831,6204,355605,316,365,69005,105997,24861,87,319,40,78,8770,142763,25,18540,24968,836123,3989,269,503118,23030,3836,101,1712,1847,18456,2819,24166,134,27,1781,77120,803146,4419,95,13320,10596,89261,67,38993,223831,13762,1146,55359,21870,91487,6307,307,9115,3,942,158855,5061,110211,6112,208632,123889,2318,1202734,601615,733824,799,98,931,3274,31585,8819,1294,12007,4042,1047498,28903,1204441,51,68416,36873,11006,64,541,2573,100954,338577,4032,12,13997,940046,13649,8600,29,518,497,18766,13792,20,577592,129,16908,576286,152596,27428,187072,2691,527,101358,7792,87,485259,572,98,66126,163624,2030,147930,20863,18749,4220,3887,631,1591,2356,533,701,496,1652949,750,826,13330,1165714,22109,3787852,268,6110,56397,1293122,7514,34294,3334365,854947,64121,6872,926,1143266,634,3222,444,195772,8097,377922,1538081,218,6175,15710,617,13004,4953,57773,713,1742617,88,79776,358052,32,1293,3752,4369,2746,1906,5939,7956,677,737,17170,511323,1469743,620,335,1871,22409,2939,3239,1102,186073,2591,70,681,275484,87979,686,2397,325,64012,5277,267,310216,149,173,1441120,1577212,8021,188436,28,2459,1103412,2587204,5681,5887,133617,150,200,769,42,62,67016,7525,4238,7633472,12,5,8003,371,924582,27,92808,42423,6514,14085,522444,1617133,2143,940169,479425,248830,3533536,9684,28223,3716154,2296,4224,6602,11961,36820,13212,747,2647,81,5079,10091,851,951,793939,131423,30781,1334,4685,740,500,18218,11817,199,199,634,183,677129,362,4751,553,1134563,69,55,18025,248,6989217,497544,3137795,68981,40,165,4600145,6199,125502,156,104043,2038,1461,5714,521,2402,445,207,669,3652,13929,391,60886,220,281,7178,1490,11478,189204,71464,121,191,718668,1676,27522,4326,174335,876634,1320102,246379,44,99,25085,14484,4824,4859,554,106,19490,1999,313055,20,2551127,464966,4896,2756522,14363,38,16548,256258,3708,1338791,38,67,22193,4616,17426,142249,74640,907,67383,2210,80,1699,71,1158,80062,1975,20120,150,141758,29017,212021,94280,14931,711435,7563,19110,551991,452276,6321,295326,1047781,24840,457523,1431,103,132509,127131,35621,2785598,79115,900121,1232,650555,794495,18,320123,21188,2946527,453512,37,158,1914246,4928,844,112922,1660,52928,95803,3,2585,4359,10865,258,95,2147926,4502,192,2487,15,1280,1808,14833,150,35633,153,4414,12413,113385,216065,867,2112,11535,479529,1368310,32939,1486,41,37,357220,69,458153,621,200681,971,120,1818,4307,280445,2557,54,3214071,360808,775,12547,11808,107,87259,60301,490,405609,797,45429,133,88664,524,80,3400,205,4550,367370,1971,5415,1715763,62,428,2842,705,20233,353690,4,2358,30428,128737,8141,80956,4823275,28094,340526,552,90,510,564998,540,1991,45181,220,1330632,1170,1429,6,2652,61,1051620,2479103,2834,71182,11088,80,3261,9379,1472,9974,23,32706,556,120318,5972,12824,4214,714444,27543,30456,166796,927,40619,9078,3290880,2729340,614,2479,4521808,7,152303,59,4501,9225,328,424455,1262,7,3955379,2209,351,200,5654,83732,19722,159657,646759,2550883,384,158642,4943,9110,36,56622,145004,4690,46,20630,6603,29537,140450,695,53788,2715,4074,1188,670107,68288,85829,423307,8728719,23771,21989,11006,24879,21101,13552,230676,68,1048419,174,598,252255,77,74901,108213,5147,2067221,42735,161460,36619,2793,138471,9453533,201611,172827,86410,16905,89449,4648,28289,3741,574,175,78,6721,178161,1017,546,1002726,5002,5958,47694,4581140,721,15904,1324,1537946,4010,451,2966,4986,1168,756,27177,96,1503,66741,933,196626,746474,1856,41638,90,33510,291899,447,12285,937980,1024662,1778,1547241,8742,4674,102187,53910,48036,41031,5345,2389,61,62463,229,681,883,1196236,20178,10802,3413468,5,1408,620,5146519,837283,3321,21112,6431,27476,257664,11947,1541,2518398,118,133,7916,316,617,938166,597,2128174,11436,2608,2536,7590,611,272482,6286,5,256713,1168,1884,2770,313007,128214,11273,472,909,970,784,279,42297,45366,19674,59363,701,1058421,3264,67,302314,86912,283,548,4329,203055,3232,74257,40,336460,53,93903,124062,370624,26788,61,2578599,103524,46559,25374,95,6060,87,94,226,18958,279,16387,1936376,322,1417,22,9,45,204,121,48,46689,104,62,1355,34841,13467,27674,587101,198,156,18774,55142,1585,258601,581,2480920,280,674304,859,5118,1457988,1183,1013544,101542,4739,246,11408,134,8747,6446,91798,99,18734,134780,8740,10866,2649531,572,2522216,4493,1068,816,1277544,26244,8058,1068763,88,236,128250,1242,1917085,1033305,15959,80,10570,1687,150755,4223,3143,3397,60,8900,571,138,434,49035,439902,9489,47,32422,5269118,106585,239,87,65626,2184,3162,5439,14441,262,1902,2142,1546,68,107,9305,681044,10251,7020,10464,914740,700,47160,25,2744,60,321,3944,670,288838,7036,14117,53,6142,2633,78,85,397,864,340594,2603,252044,760,54493,3835,621432,206991,5145603,139510,8578,129111,17,27171,14084,13058,108,1345,2364614,129743,94993,4009,412027,792,393408,15,460,837008,145,239371,3563,22105,2397189,93,3387,183347,21203,72,29809,967,28073,451672,15233,3477,250,40,25,4712,1149566,363,41998,53,1385,3546,6455,313,7698,37864,592235,1064,30741,107372,3166183,15538,6991,2228318,7118,480,495,366,248922,38,2456,654403,228295,2210,312752,402852,6368,7149,14,322825,99893,472500,199622,97862,207529,8122,710,512011,44857,253,157968,62839,168,67058,82231,1101176,727,311322,18,6071,53,2010,133420,151,82,24,7611,170471,521,179,192,128396,17434,1575438,298,54,585,78798,1387,38010,9910,24068,45155,499,691,101,862,37210,53,1281,100941,99273,2456934,190,8,2698,13609,65373,940393,4461,163776,334,2274,39,1784311,162,10911371,450350,226,679103,28993,523577,134,52,13801,70775,292796,12462,56655,2027,14,5,162838,21208,118,33551,27944,590803,836,141,202578,1093,208538,169,9535,2395,375,6769,4559,424,3458783,66,4343,874296,73,36447,980,154888,6870,10710,39805,7661,215,627,377887,665,290270,159109,11964,72,38739,622148,194046,1053,2137,1165,131,34,4783,266605,3108,5584,29732,400,56,275085,16611,36752,34467,3703,275,7509,95695,200,230,351,424204,18989,43,201515,14605,71208,111,2713,38,50991,9334,67956,2,686,126,417376,205350,103,7020756,481,103,1500,3440,170,4284,3632,93,172,90,14321,329560,26235,16096,22805,7822,3637,91,9,344,606110,15213,583149,19233,1353469,291732,315392,3659,49702,183,18983,6035,280948,462,5429,14,66,70962,256171,226,134725,13695,796834,3469,53,3426,517330,1567,1191,943,1330938,1966736,71317,83827,162,5318,1101483,164411,20081,6199,936,3372,74857,6169,11056,1282,725895,97731,6105,11687,141600,367659,25,32260,41,37119,2176999,73927,474,36112,225,168071,2841148,3408901,1904,4488,1498453,2906,232,65,7658,2959460,16511,1455823,193,4129,49085,71,10064,347,135903,449429,723209,15175,169,174765,21938,475820,16440,16200,1980,251,280,508852,478,316,1146,120954,2844,1620,3058730,11,60055,8690,9821,357,299248,331423,470620,95,16182,161595,3618,8557,44,28735,1081,682,232,23653,661,80,238,10356,3358,1617,40893,118,4062,166,3940518,7007,944449,30496,853,2113681,22032,33165,824,1038,11163,11,17339,188,2291,298186,606326,2907,112054,3313,1063,3861,19849,2839,42,15142,7622,13521,340192,38131,3297,3818061,949,163,1728680,106,35862,1127519,90,257,3846,194,1568,734959,432,416,462,180555,5577298,434,424,437,2059,435,63327,792,341194,231,10796,1172,962114,513925,56180,32,25552,129,769357,48601,136,150,182,998,15589,918,92966,2022,10595,159,842,447957,28,3033896,129,1427285,396906,42826,304,52334,10860,2029,32193,7367,265,239,481,711,2126,5179,791,19083,20344,17249,220480,237,4089,21883,28,69288,2617,327321,1164261,150126,703,2,39734,921,24326,70047,131571,1615337,208,457,142065,173,106457,4262,177,2897,297,11307,26380,8088,405460,50,13376,9,7540,141213,179787,108750,461,437,40588,17079,103,72,2048,2756,20344,3471,59391,3248,12577,1104322,200,96,94,320489,79159,13687,909,1218,3951,148,36882,1211083,68,47,7134,2415,5166,30209,14135,25665,324624,16,1221597,8795,2484531,79757,423913,38972,726,531,304367,438978,57264,720890,1846,91,7450,1112,1794210,173878,1146347,21035,99,1686,6413,181680,149,483458,22368,194031,106,366650,4,464,428,230159,21591,1686,2066408,469,5096750,1349998,1312,14500,2323,2941,634,635824,21842,1528,102,87,226808,1396,481,104,20,4445040,19408,193,1965,108689,877483,152,75,720598,78211,13787,1370,15,852856,135295,1194628,10214,14,24971,437731,86,1021074,4529,9688,51559,1330,349700,4128,11760,323,3800,6458,6065178,4303,34301,18363,452565,15,798,15,24661,670102,14525,4785,2841000,5132,296397,1175963,11,3749,1520,648,569655,745,17181,6066,172067,828,291,32,8769,4261,198829,8189,450824,2411,2070,205,180341,24357,806,2581538,20489,70673,18,112,120,870,1472,6687,17648,1303,2020,3134578,7128,465864,6,123248,1752,138302,11636,32172,8777,4268,230578,110082,1991,8461,9096,1649,511,61673,903,224,49499,6970,2285,36362,41452,1088,140476,63345,54,110,20086,3612670,3769,103,3079,593855,927,32011,38,602224,6873,108228,274477,2692328,60,1450055,212937,161,482,16852,223425,633,928,23,170,127416,25992,155744,180485,457,453,132,5737,106659,26343,334,19901,1600,62058,387,471,88210,877,3659,336080,46324,575,86,97576,1049006,26498,55,431,8,1779720,3159,30,314472,3461,702699,119878,10469,6179590,217972,44375,1144,1046,5006,4813,143,4500,6453,12,937,22924,74051,16814,15338,431,19796,1353,3708,4344557,24,16686,1056,5080809,572,593,10850,48700,44863,829184,286017,11537,1727,26868,1188,5781,59,172374,23182,1712,227,562,7431,1926136,296739,53318,899,131870,78149,787020,138617,135270,270,6172959,60749,679,24720,76,26234,12761,2,270,1661,517,11278,2710,26,22603,49,12806,84205,33,16,11145,16,101896,55,200,3770,7801,344521,2303,205927,282,627092,29924,24,41639,3413166,433,3453,848,88,1,7,35837,55801,353109,1848473,564960,32475,595,2044487,6608,208200,5127,64065,841,21241,8898,3432,2081,447822,6041,120060,85,252,4094,24051,96104,59187,517,50,21146,394,17179,2115,875,43,35672,258715,23687,60451,886,492,889,1036,38706,47413,2470,459681,1683065,35714,1512,75,43230,65225,125,34341,423206,98006,12727,466,375,113420,51,512,6181,45,38585,300,335,2502709,3,359151,116,4834,1524940,681,4961,24,18,379,158161,26488,66537,4401163,296,299023,10153,54408,22223,61,5,860,863445,893212,2395,20065,357980,7,66932,1588,842,593234,3852,29033,46191,475608,286,2104835,60,53176,46,5,428999,7334,11287,597,278380,848494,2812,1496,11690,36386,3036,294,255182,32285,7188,7460,1634469,2425161,618,1348,6836,68172,149247,1205,7724,12878,1343433,197753,2394,2822,96043,140,37945,2500,1190,1328,1559,4060304,56170,357,11557,929,234380,47536,4273,2528,1014740,8,953345,2002,245,12,6191,12074,196,511,5,537,119720,6358,4509,1197161,4748,452734,34,24862,5631,196274,8527,1805,293,961,3227105,19247,1916,891788,856171,4996,247,19089,73,20560,29625,630,6921,148041,109,115208,39,31353,16015,7090,782,328128,2777,4882,63566,229,16,402742,1568702,8774,15499,2500,85785,6589,54,8997,7747,7991,43103,8198,1066176,55787,474469,861,4257,113,42958,442635,3995,4038,76,73,11824,24525,530,54,2005439,146620,32043,660838,464,37036,2129,183470,406029,785259,18048,2346,1989213,39,47985,34642,2610,97,48588,46,272945,77177,125,710288,24149,1430628,2891,1543953,565,71,1433573,1075,32,10157,400,117,3058,148,37410,466339,11491,212758,3236,13,559993,2472825,7368374,1,844439,197243,35212,986,133365,28562,34247,383,874,737,547,132484,5919,20,669,4060,3429,1692,100,875,24126,4068,8903,1437,11,3235,879,162034,4352090,96973,252,900234,11023475,265044,8664,268,9362,102,21310,21318,4703,51558,1809,8601,1221,9474,327363,586187,2041,7,24146,529601,14013,82258,714193,4038,348,8929,9572,16,44233,10,26623,3469,20230,384,85288,4589,234,223884,178,10,9,136455,387320,33,7,1056966,85928,89062,12865,83226,15015,1981,8672,2313,75,5056558,1718,13255,335,518,219914,121648,33,1876,16926,449,24,1,3685,6091,804,182,9279602,3546,650,136,15743,185391,79,3406,14843,8708,2177,318,19549,2080,239,18,281068,182,23545,2353136,501,512,47756,685,586245,86040,71915,84,172,694188,20905,1460499,138,1605,9036,37975,272932,15972,1474299,93,229,14367,10307,184058,775,3488,184543,19497,2107,1120,6693,22677,1311,21883,219519,42923,75162,25958,129253,257,138,766,842,909,81,34,380302,222,3059245,286,72277,159,24693,12117,10768,176,1464,384212,2604,48,310,6822,125,1008639,70,5611,312944,2938669,64017,1839,9,85235,873767,221,17643,9358,30983,20150,481381,42827,25,4,1087623,14502,89,141,1338,3789,150,226628,97542,99,150,27672,481,5,3922,1974,54159,23748,88,2632,273,14870,232,67,1092,359,160588,25871,215,4305,2978,22564,6,5738,530,61,126252,1264,701,35,15855,116,110,2045,674,32,304478,184443,19494,108,941,1157,803285,36,392561,2002,33255,32294,422,158923,60598,135,4434,67,2,329512,251429,721,514912,1866353,13977,69413,1711,98,3927,57243,482895,576,152205,164467,140196,834552,5574,1403,28,243,53,35629,262,259248,15872,12242,341,4191,624,127178,496,8178,433,711,16285,533,256,260,185663,113905,3554,377765,365,14255,171690,207,622,39152,6529,1659,7505,53929,5199,46,21603,232098,268,886773,125586,1060,23965,2596,61294,378,772320,139723,4698,91158,3758,9241,15184,732,33719,8130,348840,2881,17,173418,8118,632018,4530291,27112,30,39947,35480,16366,4931,1995,49903,6516,538,55890,28,3561,14,14800,572428,172736,3466,17,13864,292471,120272,170,264062,387379,3796,105544,171643,12429,94,50330,12085,736,27275,970,1292,255,259,992,5020,7149,207,152,2290,7451,15588,64,5686210,1047,1696,1625864,773,1428,1414,227564,108,1223913,271,125093,1199,184,4781,10407,800,76,108,104,143,490,911,18,712518,1508,5649,212719,405762,155,1418995,918,7993,113,125,188,1031,221,5407,97,241,36526,4119,225,443250,19,442,34849,206078,1571,10,140,265,11,62921,713,30,76120,2548,2873,151731,249227,140,2083246,77732,1458321,529,8757,57,1385608,9810,907,178,67811,361030,16796,7337,29379,406619,111787,666625,33751,6026,448,404,27,6577,196,215,22,706,2231,860582,50,4165,142,46477,35,649,26070,116,1340,282,185,1144728,21192,5026,249,2750,54665,581,446866,553,2202640,2699,25,525,74876,206277,32464,1613,220,59145,7568,125,120241,2650,8968,65,152073,160984,288,29,904,85,526420,2217,39348,3196,943863,67,41,446,71,2143,1902,8405,111691,702,652,64539,1334,1379657,5,230,26503,959,108933,23187,5884,13184,137,11803,15,77000,21854,316077,44,1764821,5786844,12681,14084,248,267744,19,760304,44548,267339,2342,1376092,71055,59647,106,23516,1734,579,591,218,100,396586,15013,350853,182,257960,72,2547,282709,91732,23807,613,3238,35812,83853,17,102321,159870,15211,4114,160,609,117937,2149681,21,70,1421492,97311,5035,556,64481,1033,21638,9258,1005573,27692,6784,510608,625,160,16560,786,8521,97,1257,9316,687,2602771,267916,2941,2047897,26973,42,54,2308197,24,103905,41562,2037,84725,35314,299,269,5465,429,846,6885,282,12741,3591,286,539796,3199434,250109,8914,1671,546,94588,33291,2107],\"coloraxis\":\"coloraxis\",\"symbol\":\"circle\"},\"name\":\"\",\"showlegend\":false,\"type\":\"splom\"}],                        {\"coloraxis\":{\"colorbar\":{\"title\":{\"text\":\"P\\u00fablico no ano de exibi\\u00e7\\u00e3o\"}},\"colorscale\":[[0.0,\"#0d0887\"],[0.1111111111111111,\"#46039f\"],[0.2222222222222222,\"#7201a8\"],[0.3333333333333333,\"#9c179e\"],[0.4444444444444444,\"#bd3786\"],[0.5555555555555556,\"#d8576b\"],[0.6666666666666666,\"#ed7953\"],[0.7777777777777778,\"#fb9f3a\"],[0.8888888888888888,\"#fdca26\"],[1.0,\"#f0f921\"]]},\"dragmode\":\"select\",\"legend\":{\"tracegroupgap\":0},\"margin\":{\"t\":60},\"template\":{\"data\":{\"bar\":[{\"error_x\":{\"color\":\"#2a3f5f\"},\"error_y\":{\"color\":\"#2a3f5f\"},\"marker\":{\"line\":{\"color\":\"#E5ECF6\",\"width\":0.5},\"pattern\":{\"fillmode\":\"overlay\",\"size\":10,\"solidity\":0.2}},\"type\":\"bar\"}],\"barpolar\":[{\"marker\":{\"line\":{\"color\":\"#E5ECF6\",\"width\":0.5},\"pattern\":{\"fillmode\":\"overlay\",\"size\":10,\"solidity\":0.2}},\"type\":\"barpolar\"}],\"carpet\":[{\"aaxis\":{\"endlinecolor\":\"#2a3f5f\",\"gridcolor\":\"white\",\"linecolor\":\"white\",\"minorgridcolor\":\"white\",\"startlinecolor\":\"#2a3f5f\"},\"baxis\":{\"endlinecolor\":\"#2a3f5f\",\"gridcolor\":\"white\",\"linecolor\":\"white\",\"minorgridcolor\":\"white\",\"startlinecolor\":\"#2a3f5f\"},\"type\":\"carpet\"}],\"choropleth\":[{\"colorbar\":{\"outlinewidth\":0,\"ticks\":\"\"},\"type\":\"choropleth\"}],\"contour\":[{\"colorbar\":{\"outlinewidth\":0,\"ticks\":\"\"},\"colorscale\":[[0.0,\"#0d0887\"],[0.1111111111111111,\"#46039f\"],[0.2222222222222222,\"#7201a8\"],[0.3333333333333333,\"#9c179e\"],[0.4444444444444444,\"#bd3786\"],[0.5555555555555556,\"#d8576b\"],[0.6666666666666666,\"#ed7953\"],[0.7777777777777778,\"#fb9f3a\"],[0.8888888888888888,\"#fdca26\"],[1.0,\"#f0f921\"]],\"type\":\"contour\"}],\"contourcarpet\":[{\"colorbar\":{\"outlinewidth\":0,\"ticks\":\"\"},\"type\":\"contourcarpet\"}],\"heatmap\":[{\"colorbar\":{\"outlinewidth\":0,\"ticks\":\"\"},\"colorscale\":[[0.0,\"#0d0887\"],[0.1111111111111111,\"#46039f\"],[0.2222222222222222,\"#7201a8\"],[0.3333333333333333,\"#9c179e\"],[0.4444444444444444,\"#bd3786\"],[0.5555555555555556,\"#d8576b\"],[0.6666666666666666,\"#ed7953\"],[0.7777777777777778,\"#fb9f3a\"],[0.8888888888888888,\"#fdca26\"],[1.0,\"#f0f921\"]],\"type\":\"heatmap\"}],\"heatmapgl\":[{\"colorbar\":{\"outlinewidth\":0,\"ticks\":\"\"},\"colorscale\":[[0.0,\"#0d0887\"],[0.1111111111111111,\"#46039f\"],[0.2222222222222222,\"#7201a8\"],[0.3333333333333333,\"#9c179e\"],[0.4444444444444444,\"#bd3786\"],[0.5555555555555556,\"#d8576b\"],[0.6666666666666666,\"#ed7953\"],[0.7777777777777778,\"#fb9f3a\"],[0.8888888888888888,\"#fdca26\"],[1.0,\"#f0f921\"]],\"type\":\"heatmapgl\"}],\"histogram\":[{\"marker\":{\"pattern\":{\"fillmode\":\"overlay\",\"size\":10,\"solidity\":0.2}},\"type\":\"histogram\"}],\"histogram2d\":[{\"colorbar\":{\"outlinewidth\":0,\"ticks\":\"\"},\"colorscale\":[[0.0,\"#0d0887\"],[0.1111111111111111,\"#46039f\"],[0.2222222222222222,\"#7201a8\"],[0.3333333333333333,\"#9c179e\"],[0.4444444444444444,\"#bd3786\"],[0.5555555555555556,\"#d8576b\"],[0.6666666666666666,\"#ed7953\"],[0.7777777777777778,\"#fb9f3a\"],[0.8888888888888888,\"#fdca26\"],[1.0,\"#f0f921\"]],\"type\":\"histogram2d\"}],\"histogram2dcontour\":[{\"colorbar\":{\"outlinewidth\":0,\"ticks\":\"\"},\"colorscale\":[[0.0,\"#0d0887\"],[0.1111111111111111,\"#46039f\"],[0.2222222222222222,\"#7201a8\"],[0.3333333333333333,\"#9c179e\"],[0.4444444444444444,\"#bd3786\"],[0.5555555555555556,\"#d8576b\"],[0.6666666666666666,\"#ed7953\"],[0.7777777777777778,\"#fb9f3a\"],[0.8888888888888888,\"#fdca26\"],[1.0,\"#f0f921\"]],\"type\":\"histogram2dcontour\"}],\"mesh3d\":[{\"colorbar\":{\"outlinewidth\":0,\"ticks\":\"\"},\"type\":\"mesh3d\"}],\"parcoords\":[{\"line\":{\"colorbar\":{\"outlinewidth\":0,\"ticks\":\"\"}},\"type\":\"parcoords\"}],\"pie\":[{\"automargin\":true,\"type\":\"pie\"}],\"scatter\":[{\"marker\":{\"colorbar\":{\"outlinewidth\":0,\"ticks\":\"\"}},\"type\":\"scatter\"}],\"scatter3d\":[{\"line\":{\"colorbar\":{\"outlinewidth\":0,\"ticks\":\"\"}},\"marker\":{\"colorbar\":{\"outlinewidth\":0,\"ticks\":\"\"}},\"type\":\"scatter3d\"}],\"scattercarpet\":[{\"marker\":{\"colorbar\":{\"outlinewidth\":0,\"ticks\":\"\"}},\"type\":\"scattercarpet\"}],\"scattergeo\":[{\"marker\":{\"colorbar\":{\"outlinewidth\":0,\"ticks\":\"\"}},\"type\":\"scattergeo\"}],\"scattergl\":[{\"marker\":{\"colorbar\":{\"outlinewidth\":0,\"ticks\":\"\"}},\"type\":\"scattergl\"}],\"scattermapbox\":[{\"marker\":{\"colorbar\":{\"outlinewidth\":0,\"ticks\":\"\"}},\"type\":\"scattermapbox\"}],\"scatterpolar\":[{\"marker\":{\"colorbar\":{\"outlinewidth\":0,\"ticks\":\"\"}},\"type\":\"scatterpolar\"}],\"scatterpolargl\":[{\"marker\":{\"colorbar\":{\"outlinewidth\":0,\"ticks\":\"\"}},\"type\":\"scatterpolargl\"}],\"scatterternary\":[{\"marker\":{\"colorbar\":{\"outlinewidth\":0,\"ticks\":\"\"}},\"type\":\"scatterternary\"}],\"surface\":[{\"colorbar\":{\"outlinewidth\":0,\"ticks\":\"\"},\"colorscale\":[[0.0,\"#0d0887\"],[0.1111111111111111,\"#46039f\"],[0.2222222222222222,\"#7201a8\"],[0.3333333333333333,\"#9c179e\"],[0.4444444444444444,\"#bd3786\"],[0.5555555555555556,\"#d8576b\"],[0.6666666666666666,\"#ed7953\"],[0.7777777777777778,\"#fb9f3a\"],[0.8888888888888888,\"#fdca26\"],[1.0,\"#f0f921\"]],\"type\":\"surface\"}],\"table\":[{\"cells\":{\"fill\":{\"color\":\"#EBF0F8\"},\"line\":{\"color\":\"white\"}},\"header\":{\"fill\":{\"color\":\"#C8D4E3\"},\"line\":{\"color\":\"white\"}},\"type\":\"table\"}]},\"layout\":{\"annotationdefaults\":{\"arrowcolor\":\"#2a3f5f\",\"arrowhead\":0,\"arrowwidth\":1},\"autotypenumbers\":\"strict\",\"coloraxis\":{\"colorbar\":{\"outlinewidth\":0,\"ticks\":\"\"}},\"colorscale\":{\"diverging\":[[0,\"#8e0152\"],[0.1,\"#c51b7d\"],[0.2,\"#de77ae\"],[0.3,\"#f1b6da\"],[0.4,\"#fde0ef\"],[0.5,\"#f7f7f7\"],[0.6,\"#e6f5d0\"],[0.7,\"#b8e186\"],[0.8,\"#7fbc41\"],[0.9,\"#4d9221\"],[1,\"#276419\"]],\"sequential\":[[0.0,\"#0d0887\"],[0.1111111111111111,\"#46039f\"],[0.2222222222222222,\"#7201a8\"],[0.3333333333333333,\"#9c179e\"],[0.4444444444444444,\"#bd3786\"],[0.5555555555555556,\"#d8576b\"],[0.6666666666666666,\"#ed7953\"],[0.7777777777777778,\"#fb9f3a\"],[0.8888888888888888,\"#fdca26\"],[1.0,\"#f0f921\"]],\"sequentialminus\":[[0.0,\"#0d0887\"],[0.1111111111111111,\"#46039f\"],[0.2222222222222222,\"#7201a8\"],[0.3333333333333333,\"#9c179e\"],[0.4444444444444444,\"#bd3786\"],[0.5555555555555556,\"#d8576b\"],[0.6666666666666666,\"#ed7953\"],[0.7777777777777778,\"#fb9f3a\"],[0.8888888888888888,\"#fdca26\"],[1.0,\"#f0f921\"]]},\"colorway\":[\"#636efa\",\"#EF553B\",\"#00cc96\",\"#ab63fa\",\"#FFA15A\",\"#19d3f3\",\"#FF6692\",\"#B6E880\",\"#FF97FF\",\"#FECB52\"],\"font\":{\"color\":\"#2a3f5f\"},\"geo\":{\"bgcolor\":\"white\",\"lakecolor\":\"white\",\"landcolor\":\"#E5ECF6\",\"showlakes\":true,\"showland\":true,\"subunitcolor\":\"white\"},\"hoverlabel\":{\"align\":\"left\"},\"hovermode\":\"closest\",\"mapbox\":{\"style\":\"light\"},\"paper_bgcolor\":\"white\",\"plot_bgcolor\":\"#E5ECF6\",\"polar\":{\"angularaxis\":{\"gridcolor\":\"white\",\"linecolor\":\"white\",\"ticks\":\"\"},\"bgcolor\":\"#E5ECF6\",\"radialaxis\":{\"gridcolor\":\"white\",\"linecolor\":\"white\",\"ticks\":\"\"}},\"scene\":{\"xaxis\":{\"backgroundcolor\":\"#E5ECF6\",\"gridcolor\":\"white\",\"gridwidth\":2,\"linecolor\":\"white\",\"showbackground\":true,\"ticks\":\"\",\"zerolinecolor\":\"white\"},\"yaxis\":{\"backgroundcolor\":\"#E5ECF6\",\"gridcolor\":\"white\",\"gridwidth\":2,\"linecolor\":\"white\",\"showbackground\":true,\"ticks\":\"\",\"zerolinecolor\":\"white\"},\"zaxis\":{\"backgroundcolor\":\"#E5ECF6\",\"gridcolor\":\"white\",\"gridwidth\":2,\"linecolor\":\"white\",\"showbackground\":true,\"ticks\":\"\",\"zerolinecolor\":\"white\"}},\"shapedefaults\":{\"line\":{\"color\":\"#2a3f5f\"}},\"ternary\":{\"aaxis\":{\"gridcolor\":\"white\",\"linecolor\":\"white\",\"ticks\":\"\"},\"baxis\":{\"gridcolor\":\"white\",\"linecolor\":\"white\",\"ticks\":\"\"},\"bgcolor\":\"#E5ECF6\",\"caxis\":{\"gridcolor\":\"white\",\"linecolor\":\"white\",\"ticks\":\"\"}},\"title\":{\"x\":0.05},\"xaxis\":{\"automargin\":true,\"gridcolor\":\"white\",\"linecolor\":\"white\",\"ticks\":\"\",\"title\":{\"standoff\":15},\"zerolinecolor\":\"white\",\"zerolinewidth\":2},\"yaxis\":{\"automargin\":true,\"gridcolor\":\"white\",\"linecolor\":\"white\",\"ticks\":\"\",\"title\":{\"standoff\":15},\"zerolinecolor\":\"white\",\"zerolinewidth\":2}}}},                        {\"responsive\": true}                    ).then(function(){\n",
              "                            \n",
              "var gd = document.getElementById('a1471129-14f1-463f-b5b2-f50ed3b390a4');\n",
              "var x = new MutationObserver(function (mutations, observer) {{\n",
              "        var display = window.getComputedStyle(gd).display;\n",
              "        if (!display || display === 'none') {{\n",
              "            console.log([gd, 'removed!']);\n",
              "            Plotly.purge(gd);\n",
              "            observer.disconnect();\n",
              "        }}\n",
              "}});\n",
              "\n",
              "// Listen for the removal of the full notebook cells\n",
              "var notebookContainer = gd.closest('#notebook-container');\n",
              "if (notebookContainer) {{\n",
              "    x.observe(notebookContainer, {childList: true});\n",
              "}}\n",
              "\n",
              "// Listen for the clearing of the current output cell\n",
              "var outputEl = gd.closest('.output');\n",
              "if (outputEl) {{\n",
              "    x.observe(outputEl, {childList: true});\n",
              "}}\n",
              "\n",
              "                        })                };                            </script>        </div>\n",
              "</body>\n",
              "</html>"
            ]
          },
          "metadata": {}
        }
      ]
    },
    {
      "cell_type": "code",
      "metadata": {
        "colab": {
          "base_uri": "https://localhost:8080/",
          "height": 542
        },
        "id": "3LCjRRSykcPU",
        "outputId": "dc712630-4735-49af-87be-031d7e61e59a"
      },
      "source": [
        "fig = px.line(data_filme, x='Ano de exibição', y=\"Público no ano de exibição\", color=\"Ano de exibição\")\n",
        "fig.show()"
      ],
      "execution_count": null,
      "outputs": [
        {
          "output_type": "display_data",
          "data": {
            "text/html": [
              "<html>\n",
              "<head><meta charset=\"utf-8\" /></head>\n",
              "<body>\n",
              "    <div>            <script src=\"https://cdnjs.cloudflare.com/ajax/libs/mathjax/2.7.5/MathJax.js?config=TeX-AMS-MML_SVG\"></script><script type=\"text/javascript\">if (window.MathJax) {MathJax.Hub.Config({SVG: {font: \"STIX-Web\"}});}</script>                <script type=\"text/javascript\">window.PlotlyConfig = {MathJaxConfig: 'local'};</script>\n",
              "        <script src=\"https://cdn.plot.ly/plotly-2.4.2.min.js\"></script>                <div id=\"020b58d3-c78e-4155-9435-3558c1820bf4\" class=\"plotly-graph-div\" style=\"height:525px; width:100%;\"></div>            <script type=\"text/javascript\">                                    window.PLOTLYENV=window.PLOTLYENV || {};                                    if (document.getElementById(\"020b58d3-c78e-4155-9435-3558c1820bf4\")) {                    Plotly.newPlot(                        \"020b58d3-c78e-4155-9435-3558c1820bf4\",                        [{\"hovertemplate\":\"Ano de exibi\\u00e7\\u00e3o=%{x}<br>P\\u00fablico no ano de exibi\\u00e7\\u00e3o=%{y}<extra></extra>\",\"legendgroup\":\"2019\",\"line\":{\"color\":\"#636efa\",\"dash\":\"solid\"},\"marker\":{\"symbol\":\"circle\"},\"mode\":\"lines\",\"name\":\"2019\",\"showlegend\":true,\"type\":\"scattergl\",\"x\":[2019,2019,2019,2019,2019,2019,2019,2019,2019,2019,2019,2019,2019,2019,2019,2019,2019,2019,2019,2019,2019,2019,2019,2019,2019,2019,2019,2019,2019,2019,2019,2019,2019,2019,2019,2019,2019,2019,2019,2019,2019,2019,2019,2019,2019,2019,2019,2019,2019,2019,2019,2019,2019,2019,2019,2019,2019,2019,2019,2019,2019,2019,2019,2019,2019,2019,2019,2019,2019,2019,2019,2019,2019,2019,2019,2019,2019,2019,2019,2019,2019,2019,2019,2019,2019,2019,2019,2019,2019,2019,2019,2019,2019,2019,2019,2019,2019,2019,2019,2019,2019,2019,2019,2019,2019,2019,2019,2019,2019,2019,2019,2019,2019,2019,2019,2019,2019,2019,2019,2019,2019,2019,2019,2019,2019,2019,2019,2019,2019,2019,2019,2019,2019,2019,2019,2019,2019,2019,2019,2019,2019,2019,2019,2019,2019,2019,2019,2019,2019,2019,2019,2019,2019,2019,2019,2019,2019,2019,2019,2019,2019,2019,2019,2019,2019,2019,2019,2019,2019,2019,2019,2019,2019,2019,2019,2019,2019,2019,2019,2019,2019,2019,2019,2019,2019,2019,2019,2019,2019,2019,2019,2019,2019,2019,2019,2019,2019,2019,2019,2019,2019,2019,2019,2019,2019,2019,2019,2019,2019,2019,2019,2019,2019,2019,2019,2019,2019,2019,2019,2019,2019,2019,2019,2019,2019,2019,2019,2019,2019,2019,2019,2019,2019,2019,2019,2019,2019,2019,2019,2019,2019,2019,2019,2019,2019,2019,2019,2019,2019,2019,2019,2019,2019,2019,2019,2019,2019,2019,2019,2019,2019,2019,2019,2019,2019,2019,2019,2019,2019,2019,2019,2019,2019,2019,2019,2019,2019,2019,2019,2019,2019,2019,2019,2019,2019,2019,2019,2019,2019,2019,2019,2019,2019,2019,2019,2019,2019,2019,2019,2019,2019,2019,2019,2019,2019,2019,2019,2019,2019,2019,2019,2019,2019,2019,2019,2019,2019,2019,2019,2019,2019,2019,2019,2019,2019,2019,2019,2019,2019,2019,2019,2019,2019,2019,2019,2019,2019,2019,2019,2019,2019,2019,2019,2019,2019,2019,2019,2019,2019,2019,2019,2019,2019,2019,2019,2019,2019,2019,2019,2019,2019,2019,2019,2019,2019,2019,2019,2019,2019,2019,2019,2019,2019,2019,2019,2019,2019,2019,2019,2019,2019,2019,2019,2019,2019,2019,2019,2019,2019,2019,2019,2019,2019,2019,2019,2019,2019,2019,2019,2019,2019,2019,2019,2019,2019,2019,2019,2019,2019,2019,2019,2019,2019,2019,2019,2019,2019,2019,2019,2019,2019,2019,2019,2019,2019,2019,2019,2019,2019,2019,2019,2019,2019,2019,2019,2019,2019,2019,2019,2019,2019,2019,2019,2019,2019,2019,2019,2019,2019,2019,2019,2019,2019,2019,2019,2019,2019,2019,2019,2019,2019,2019,2019,2019,2019,2019,2019,2019,2019,2019,2019,2019,2019,2019,2019,2019,2019,2019,2019,2019,2019,2019,2019,2019,2019,2019,2019,2019,2019,2019,2019,2019,2019,2019,2019,2019,2019,2019,2019,2019,2019,2019,2019,2019,2019,2019,2019,2019,2019,2019,2019,2019,2019,2019,2019,2019,2019,2019,2019,2019,2019,2019,2019,2019,2019,2019,2019,2019,2019,2019,2019,2019,2019,2019,2019,2019,2019,2019,2019,2019,2019,2019,2019,2019,2019,2019,2019,2019,2019,2019,2019,2019,2019,2019,2019,2019,2019,2019,2019,2019,2019,2019,2019,2019,2019,2019,2019,2019,2019,2019,2019,2019,2019,2019,2019,2019,2019,2019,2019,2019,2019,2019,2019,2019,2019,2019,2019,2019,2019,2019,2019,2019,2019,2019,2019,2019,2019,2019,2019,2019,2019,2019,2019,2019,2019,2019,2019,2019,2019,2019,2019,2019,2019,2019,2019,2019,2019,2019,2019,2019,2019,2019,2019,2019,2019,2019,2019,2019,2019,2019,2019,2019,2019,2019,2019,2019,2019,2019,2019,2019,2019,2019,2019,2019,2019,2019,2019,2019,2019,2019,2019,2019,2019,2019,2019,2019,2019,2019,2019,2019,2019,2019,2019,2019,2019,2019,2019,2019,2019,2019,2019,2019,2019,2019,2019,2019,2019],\"xaxis\":\"x\",\"y\":[10,6289,3303,69,402,19579,14,195,652641,8001,530,2364,1346982,21464,72,35593,170609,39,1622344,2538,254709,3106,150,13,6,215,24992,39508,4910,684,6287,8077,25,7335,361053,148557,2380,34883,10,595463,177958,3018,17464,317,1798,1426,10020,6,124934,9,571,507,9298,322,10961,1455,22732,1078,704,64,235011,527,2908,58901,472,73,2028,117222,263,4705,45,23355,851,66775,1026553,130,29,360557,16212,12802,263616,4788803,2143,6387,358,1028151,3143,13131,23,1717,1483,3843,728,79,19084,8116,294,18505,73,891264,1071,100442,1782048,3854,4,484,742,2919358,158,64,31,26,6089,216825,15,1447,27,453400,13493,90457,271,1937,382,60226,1512,4145,786,735191,152,5864,1217,355,896,6591,253,6491,174442,29347,309,77584,310681,270135,10270,19,895771,10,2332,28825,56099,24033,92,55,8991777,193356,50,3898,22,129350,44063,70,550885,263,19150,164,82715,3815,2183,117,476714,169970,438,10244,12853,273,3940204,509,2178,4132,9746101,675952,231238,22378,86,143,35358,12334,35467,14,3244,1113,1838298,499,111,42,36710,584,1965,16500,442552,216,1630,157,1456,430704,1,35730,1952,1907,52,5277,17767,2666,219945,594019,301443,107645,1293065,81549,297,1849624,491,244984,866,2675,3012,774,8807,785,52,25535,16598,470691,5697,127,52,737582,10076,528354,2834,1284,8148,253,10561,24433,3996,2860,1512,126718,120,2018,261,4849,8748,281,72,18198,2456,16,345,1417,120,9695,289247,559,871,1715,47,30889,531661,7011,620789,7927,105,16,263,48652,3049,117058,172859,364,166,185207,780,70,1411,6555353,2057620,244,574,1211,78873,3291,273,4,6758,873,3765,75867,7901,157,4123,485206,3152655,1258,40,2548,13,1003691,44,966,26284,237,94,268,17,167212,3408,749256,348,2068,12,3,897,15993,32,1994,359,84,36,19735,10968,1947,4843,10049,14,488,1018,34,35384,4873,746264,2333,187777,5786301,190,66,1420,3986,40922,166,11,600,199,18260,3366,4442,153979,9800,198956,2529,244,121,1663,834,415,1429,7850,50,982092,66073,136422,1189,18,110857,490,1947,7597,2877,821,2419335,16888,4309790,297,172,129,2959,26574,12471,357,146,50,535,2388,331309,35,6189465,28396,530,14,14,430,64285,662,189,667,268,115,13037,14523,509920,5,125,22,1654,58666,30,31212,5,9505,3100,40,12876,333,80,1949,31,28778,1392,2213,327,1024351,1335,9,2250,168,2128,360,2466,69105,4568,7697,1038,22828,11561,108975,8815,4574,230528,12749,7613,12903,349,1516,166,13030,9,776716,19621,6578,277,219,40,191,419,9912,51,16242804,93991,1885,27322,109308,56,12,27,5850,13790,261,143,181,1521,39659,537,120,2634,3963,476,40014,51,514,2112,2327,49490,436,3067,81,230,1756,146,658,1305768,363,133,11,290,1746,669,267,182297,44,38,221,2287,483759,13,241,4221,1423,819,68,130,8,48,1734,1923826,211686,268,251,9334,126,1136105,3425,230120,31,821564,2630,7377,4029,116,6041,9,15,26,15276,15966,5970,7970,28148,2675,176846,400,4875,740,3013,5841,63,2760,733230,1055,469143,10,5558,3519,18960,811,1843,14406,229,107,48,479,2926706,65629,46,177,3284,26212,77,3079,2129669,76,164,188,32,1719931,43895,7965,4128,7459,6,130,75,17,33,22,19,16,95834,7439,7,168,40,9926,1740,15179,54,105095,6703,397,75,6424,252,7955544,914,14597,54,138,1782,2125813,1475,98098,674,5026,13161,92943,110,30206,71,141920,204,1305,2094,117,325,15,398,8697,402456,165,122105,514041,1075,67,464,53,803483,9247,2743585,50,479,6164,9819,219486,15666,26,1365681,871,19656467,195265,9604,1447,77,13296,8,6196,3528,24,4399733,90,3330607,2327,624607,2110,50,8,388,287152,21],\"yaxis\":\"y\"},{\"hovertemplate\":\"Ano de exibi\\u00e7\\u00e3o=%{x}<br>P\\u00fablico no ano de exibi\\u00e7\\u00e3o=%{y}<extra></extra>\",\"legendgroup\":\"2018\",\"line\":{\"color\":\"#EF553B\",\"dash\":\"solid\"},\"marker\":{\"symbol\":\"circle\"},\"mode\":\"lines\",\"name\":\"2018\",\"showlegend\":true,\"type\":\"scattergl\",\"x\":[2018,2018,2018,2018,2018,2018,2018,2018,2018,2018,2018,2018,2018,2018,2018,2018,2018,2018,2018,2018,2018,2018,2018,2018,2018,2018,2018,2018,2018,2018,2018,2018,2018,2018,2018,2018,2018,2018,2018,2018,2018,2018,2018,2018,2018,2018,2018,2018,2018,2018,2018,2018,2018,2018,2018,2018,2018,2018,2018,2018,2018,2018,2018,2018,2018,2018,2018,2018,2018,2018,2018,2018,2018,2018,2018,2018,2018,2018,2018,2018,2018,2018,2018,2018,2018,2018,2018,2018,2018,2018,2018,2018,2018,2018,2018,2018,2018,2018,2018,2018,2018,2018,2018,2018,2018,2018,2018,2018,2018,2018,2018,2018,2018,2018,2018,2018,2018,2018,2018,2018,2018,2018,2018,2018,2018,2018,2018,2018,2018,2018,2018,2018,2018,2018,2018,2018,2018,2018,2018,2018,2018,2018,2018,2018,2018,2018,2018,2018,2018,2018,2018,2018,2018,2018,2018,2018,2018,2018,2018,2018,2018,2018,2018,2018,2018,2018,2018,2018,2018,2018,2018,2018,2018,2018,2018,2018,2018,2018,2018,2018,2018,2018,2018,2018,2018,2018,2018,2018,2018,2018,2018,2018,2018,2018,2018,2018,2018,2018,2018,2018,2018,2018,2018,2018,2018,2018,2018,2018,2018,2018,2018,2018,2018,2018,2018,2018,2018,2018,2018,2018,2018,2018,2018,2018,2018,2018,2018,2018,2018,2018,2018,2018,2018,2018,2018,2018,2018,2018,2018,2018,2018,2018,2018,2018,2018,2018,2018,2018,2018,2018,2018,2018,2018,2018,2018,2018,2018,2018,2018,2018,2018,2018,2018,2018,2018,2018,2018,2018,2018,2018,2018,2018,2018,2018,2018,2018,2018,2018,2018,2018,2018,2018,2018,2018,2018,2018,2018,2018,2018,2018,2018,2018,2018,2018,2018,2018,2018,2018,2018,2018,2018,2018,2018,2018,2018,2018,2018,2018,2018,2018,2018,2018,2018,2018,2018,2018,2018,2018,2018,2018,2018,2018,2018,2018,2018,2018,2018,2018,2018,2018,2018,2018,2018,2018,2018,2018,2018,2018,2018,2018,2018,2018,2018,2018,2018,2018,2018,2018,2018,2018,2018,2018,2018,2018,2018,2018,2018,2018,2018,2018,2018,2018,2018,2018,2018,2018,2018,2018,2018,2018,2018,2018,2018,2018,2018,2018,2018,2018,2018,2018,2018,2018,2018,2018,2018,2018,2018,2018,2018,2018,2018,2018,2018,2018,2018,2018,2018,2018,2018,2018,2018,2018,2018,2018,2018,2018,2018,2018,2018,2018,2018,2018,2018,2018,2018,2018,2018,2018,2018,2018,2018,2018,2018,2018,2018,2018,2018,2018,2018,2018,2018,2018,2018,2018,2018,2018,2018,2018,2018,2018,2018,2018,2018,2018,2018,2018,2018,2018,2018,2018,2018,2018,2018,2018,2018,2018,2018,2018,2018,2018,2018,2018,2018,2018,2018,2018,2018,2018,2018,2018,2018,2018,2018,2018,2018,2018,2018,2018,2018,2018,2018,2018,2018,2018,2018,2018,2018,2018,2018,2018,2018,2018,2018,2018,2018,2018,2018,2018,2018,2018,2018,2018,2018,2018,2018,2018,2018,2018,2018,2018,2018,2018,2018,2018,2018,2018,2018,2018,2018,2018,2018,2018,2018,2018,2018,2018,2018,2018,2018,2018,2018,2018,2018,2018,2018,2018,2018,2018,2018,2018,2018,2018,2018,2018,2018,2018,2018,2018,2018,2018,2018,2018,2018,2018,2018,2018,2018,2018,2018,2018,2018,2018,2018,2018,2018,2018,2018,2018,2018,2018,2018,2018,2018,2018,2018,2018,2018,2018,2018,2018,2018,2018,2018,2018,2018,2018,2018,2018,2018,2018,2018,2018,2018,2018,2018,2018,2018,2018,2018,2018,2018,2018,2018,2018,2018,2018,2018,2018,2018,2018,2018,2018,2018,2018,2018,2018,2018,2018,2018,2018,2018,2018,2018,2018,2018,2018,2018,2018,2018,2018,2018,2018,2018,2018,2018,2018,2018,2018,2018,2018,2018,2018,2018,2018,2018,2018,2018,2018,2018,2018,2018,2018,2018,2018,2018,2018,2018,2018,2018,2018,2018,2018,2018,2018,2018,2018,2018,2018,2018,2018,2018,2018,2018,2018,2018,2018,2018,2018,2018,2018,2018,2018,2018,2018,2018,2018,2018,2018,2018,2018,2018,2018,2018,2018,2018,2018,2018,2018,2018,2018,2018,2018,2018,2018,2018,2018,2018],\"xaxis\":\"x\",\"y\":[49147,30930,16685,35623,16976,129932,235,30288,92344,38,100041,15666,7259,1541,166,68,4959,226346,24296,11786,23,53,13719,1355,32,3433,2476,19,47225,117,1718,863371,5293026,1732,3929,9,75815,671,87722,38135,2569,732481,16226,147,2,13193,37,2716,5113,77878,1415,198467,6145,5810,6253,3279,43625,3775,150746,3859,10480,2497,3651,1178,50,108,140,77,17070,83520,1413,2932,2069,3791,51,1641,22073,4540,3159,330,25,508192,5576,28530,2,143,158,2841,686,11284,52098,2456,72919,211,3550891,10085,1251,40,16232,1937,27870,37,5584309,131,30,947992,8237,11749,107,31358,1026,11394,102,62,22617,149020,1820,85129,6306,175,2940,6344,80,36726,5,39284,6138,11263,1017,224,11,0,117,546117,83,78,3749,103,7,708341,218013,85,444,5097,437566,1051,10523,1037,1572,2071,153,1692,1660,359,689,36195,2671,884,292386,10250,7710,130,88173,4331153,37716,1903,0,62,320226,49603,3130,5,345,12,167,5181,5910,2538,3498,0,30688,16,12571,113,607,2601,100159,57526,738,947,478114,10234,19985,55,847022,180,3665,53,203,7206,20267,328085,1244,4601084,4720,55014,268,178,132403,29,70944,884775,25,272797,2200,253,170,8,3131,164072,162,2122,187739,5370,8292,34,35042,3,1238,1128,11412,249,3593,1188,27731,67,2364,3951,314,239360,2947,23360,8263,192128,13,15210,70879,311,8381,133,332,183,208,11157,9596,152,253348,109,52413,1949,307908,9133,2499804,51,39,2028293,51505,125,27808,540,1837,1582,50,112174,220193,853,37679,8,75,23974,338533,24,12388,584,131,199,224,1122367,703668,12101,2493,19,2116,253611,3936,113,125,113,593,3892,3257029,78,23575,5375364,345,1420,2,23588,2701,129939,4017,122,1067,0,23,1157305,3332,16,122707,157,2862,1012555,9602,1,4515253,6180,5258742,2506,3639,103442,66,36251,40,105,2155,154448,12246,50,295,33,235,864,44685,3908,2191,1814,15051,0,41403,801037,242,900,117,1950,101,14985,201281,22,13566,873,1444963,778,172365,52716,3421,1882462,77,275,176557,119554,166,6677,52,155502,1233,1412,7114,105,475,9541,192578,36,41,2053,8063,925411,3493,1467,899,2550784,375,1939,41,183,147,494,10493,11975,6,268,92607,2582,1408,83,12265,2836,117,12184373,1398971,3467,198,3206,222792,9108,161,340,14,292740,28,28086,8517,117,126,10052,7902,31,28,984,580568,1207,191621,50,2845,6558,6,5121,408928,4869,276658,84880,13,596,68,3515,226,30,6044,51120,1505786,139041,11289,123,982,48107,202,31558,366,374926,2234,43,205,45766,1712,49505,35,520,40793,1465,649,199397,329794,1900,70,227,804644,299501,65918,843955,343770,76,12161,9033,852823,111,226512,114,6234,1434,278127,18099,13587,9077,794,5613,50,825,6410,3450295,4491,397,10749,1285839,59,1116,421,3854,3796,85,197331,340989,134,2,394,7,55630,181614,8812,2604658,198,789,9809291,4300,7125,223209,65,5526,274325,570,0,7438252,53155,10,1970,1670,21554,5893,18,1076,767307,937373,25,22144,5121,161,116568,2480,723,908,1282,41358,3690,1237,10370,309,13348,8208,233,290,25858,11499,1500086,674,4188,2350612,65,1646,2297,1337049,7850,15,50672,413,40,193,3,79,322,899166,54,93995,1419,1872,238,130,124,30269,489,2286,782,14759,12482,4688,13075,1789,13599,136779,489323,47201,0,2384,748,467611,1068464,32945,1299,12126,381,354621,3005,19833,3423,3939,228,3309,38,7,1687,37296,1077,24602,409,47,2739,14881,1107,471063,44489,650,476,6550,4162,27649,32,2305,573,114908,131414,2846,895812,82,9320,788,42,2404,112750,330,24656,1752,388425,30562,1187570,17966,221,58,35439,5737,16,6332,19811,102,40337,1507525,140860,38,20782,41907,30,153549,3394,3566,472,12216,644115,11187,16,7047,63,49,6165,1715,758,4187,310,4605459,496726,217,3334,220,1046,23,222765,1669,14501280,4322,1257,1301,18078,42,1968612,28367,2563,13384,7906,8855,100,1406,4475],\"yaxis\":\"y\"},{\"hovertemplate\":\"Ano de exibi\\u00e7\\u00e3o=%{x}<br>P\\u00fablico no ano de exibi\\u00e7\\u00e3o=%{y}<extra></extra>\",\"legendgroup\":\"2017\",\"line\":{\"color\":\"#00cc96\",\"dash\":\"solid\"},\"marker\":{\"symbol\":\"circle\"},\"mode\":\"lines\",\"name\":\"2017\",\"showlegend\":true,\"type\":\"scattergl\",\"x\":[2017,2017,2017,2017,2017,2017,2017,2017,2017,2017,2017,2017,2017,2017,2017,2017,2017,2017,2017,2017,2017,2017,2017,2017,2017,2017,2017,2017,2017,2017,2017,2017,2017,2017,2017,2017,2017,2017,2017,2017,2017,2017,2017,2017,2017,2017,2017,2017,2017,2017,2017,2017,2017,2017,2017,2017,2017,2017,2017,2017,2017,2017,2017,2017,2017,2017,2017,2017,2017,2017,2017,2017,2017,2017,2017,2017,2017,2017,2017,2017,2017,2017,2017,2017,2017,2017,2017,2017,2017,2017,2017,2017,2017,2017,2017,2017,2017,2017,2017,2017,2017,2017,2017,2017,2017,2017,2017,2017,2017,2017,2017,2017,2017,2017,2017,2017,2017,2017,2017,2017,2017,2017,2017,2017,2017,2017,2017,2017,2017,2017,2017,2017,2017,2017,2017,2017,2017,2017,2017,2017,2017,2017,2017,2017,2017,2017,2017,2017,2017,2017,2017,2017,2017,2017,2017,2017,2017,2017,2017,2017,2017,2017,2017,2017,2017,2017,2017,2017,2017,2017,2017,2017,2017,2017,2017,2017,2017,2017,2017,2017,2017,2017,2017,2017,2017,2017,2017,2017,2017,2017,2017,2017,2017,2017,2017,2017,2017,2017,2017,2017,2017,2017,2017,2017,2017,2017,2017,2017,2017,2017,2017,2017,2017,2017,2017,2017,2017,2017,2017,2017,2017,2017,2017,2017,2017,2017,2017,2017,2017,2017,2017,2017,2017,2017,2017,2017,2017,2017,2017,2017,2017,2017,2017,2017,2017,2017,2017,2017,2017,2017,2017,2017,2017,2017,2017,2017,2017,2017,2017,2017,2017,2017,2017,2017,2017,2017,2017,2017,2017,2017,2017,2017,2017,2017,2017,2017,2017,2017,2017,2017,2017,2017,2017,2017,2017,2017,2017,2017,2017,2017,2017,2017,2017,2017,2017,2017,2017,2017,2017,2017,2017,2017,2017,2017,2017,2017,2017,2017,2017,2017,2017,2017,2017,2017,2017,2017,2017,2017,2017,2017,2017,2017,2017,2017,2017,2017,2017,2017,2017,2017,2017,2017,2017,2017,2017,2017,2017,2017,2017,2017,2017,2017,2017,2017,2017,2017,2017,2017,2017,2017,2017,2017,2017,2017,2017,2017,2017,2017,2017,2017,2017,2017,2017,2017,2017,2017,2017,2017,2017,2017,2017,2017,2017,2017,2017,2017,2017,2017,2017,2017,2017,2017,2017,2017,2017,2017,2017,2017,2017,2017,2017,2017,2017,2017,2017,2017,2017,2017,2017,2017,2017,2017,2017,2017,2017,2017,2017,2017,2017,2017,2017,2017,2017,2017,2017,2017,2017,2017,2017,2017,2017,2017,2017,2017,2017,2017,2017,2017,2017,2017,2017,2017,2017,2017,2017,2017,2017,2017,2017,2017,2017,2017,2017,2017,2017,2017,2017,2017,2017,2017,2017,2017,2017,2017,2017,2017,2017,2017,2017,2017,2017,2017,2017,2017,2017,2017,2017,2017,2017,2017,2017,2017,2017,2017,2017,2017,2017,2017,2017,2017,2017,2017,2017,2017,2017,2017,2017,2017,2017,2017,2017,2017,2017,2017,2017,2017,2017,2017,2017,2017,2017,2017,2017,2017,2017,2017,2017,2017,2017,2017,2017,2017,2017,2017,2017,2017,2017,2017,2017,2017,2017,2017,2017,2017,2017,2017,2017,2017,2017,2017,2017,2017,2017,2017,2017,2017,2017,2017,2017,2017,2017,2017,2017,2017,2017,2017,2017,2017,2017,2017,2017,2017,2017,2017,2017,2017,2017,2017,2017,2017,2017,2017,2017,2017,2017,2017,2017,2017,2017,2017,2017,2017,2017,2017,2017,2017,2017,2017,2017,2017,2017,2017,2017,2017,2017,2017,2017,2017,2017,2017,2017,2017,2017,2017,2017,2017,2017,2017,2017,2017,2017,2017,2017,2017,2017,2017,2017,2017,2017,2017,2017,2017,2017,2017,2017,2017,2017,2017,2017,2017,2017,2017,2017,2017,2017,2017,2017,2017,2017,2017,2017,2017,2017,2017,2017,2017,2017,2017,2017,2017,2017,2017,2017,2017,2017,2017,2017,2017,2017,2017,2017,2017,2017,2017,2017,2017,2017,2017,2017,2017,2017,2017,2017,2017,2017,2017,2017,2017,2017,2017,2017,2017,2017,2017,2017,2017,2017,2017,2017,2017,2017,2017,2017,2017,2017,2017,2017,2017,2017,2017,2017,2017,2017,2017,2017,2017,2017,2017,2017,2017,2017,2017,2017],\"xaxis\":\"x\",\"y\":[714,7,262,620,771,30662,249452,29,65,214035,549229,3011,8308489,5117598,25241,9078,41,45875,39560,106245,186,417,14538,481199,3458,6793,823,461,2,10783,6745,17016,557,5403,1717008,16301,797,8466,108,42574,49,51,744,40,41967,5200,1007676,798,3052636,315730,52,44374,12,26223,52136,24,2864,1621,898802,4299,13842,51,1951,13932,726736,4626,1753,1838,1067,8687,40,3552,276,388644,60,664264,211,6694,12529,241170,25378,173302,87,14838,92873,1176,65,9296,65849,4333,3186,707,2957275,28,1665,189949,37710,3617,978,118,1605,10879,4017,181884,1461,312220,565500,2380,937,12962,14191,42,332,217,26,42,40,43,1018120,2058767,5224,13082,23,1735,271731,374459,14,32053,1504,2233,532,725,2604,498,648229,746,53,508380,91,5454,306126,34,249309,904780,2375,49,43,14501,45300,7494,845,57,699,112624,290,14426,72,342,104,8,31,96,56069,347,56,2524401,3364,46,29,32,63,336,65,16408,155063,35662,1082,142,193,4628437,4207,5063,1339,4016,8509,78448,602,3351,206893,506412,24633,202,3542,28,912,84,1431,8769,20015,382294,1019,3870,10,3532,7812,356,1222718,2237,3510,21643,46581,390,36,312,436368,1,1362,4963,131258,10076,40,174,33416,487457,76969,283,33,10414,29925,111,3204,142059,3,46640,244,83,292504,789883,239058,5398,22,884,235,10,775,4,23675,610,14495,2207,5602,8740,119109,582057,1683814,3964,58453,202,100,49,30161,18,224,6248,4436,62,3718,290,8,347,398251,559431,29474,62,472,105843,2388,6470,6280,4183535,7914,8575,883251,674,553421,3337,16,64383,120,2007,1011581,20340,10646,60,1638,41314,10148,569,17874,5374,169485,85063,1157,4207641,760,1468,26,26,6265,34806,84,14041,242,77,6686736,624,3841,94,22,7350,152,45,5237,7,25720,380166,236,634,4906,121450,9488,75,4414235,1921,85655,57,56,2180,19635,635145,446,552133,2524,2745,41,87517,4405,465225,17939,1016303,16,1902480,351,1398364,5219,28641,2049,23,43,1336388,335204,8442364,314242,209164,6400985,17443,9017,78,253,193,2473,145,7463,4133,784,76,115,215,114382,26,105201,15337,189,55,2074,913,3,32028,6396,6462,48,51289,1496,6461,408,164,2256,8989024,742137,405,5213465,2185,70119,2931,5147838,94923,340868,340507,521,7,67,1327,6396,6079,13195,7011338,5008,18,134406,185,519678,5811,33365,4328,39,3686,2159,1389,17580,14621,88155,36,976,195992,7295,229,15958,1,95,213,2589,55083,146,57,21,2827,7909,97,2154,114,76,45527,168344,627,25997,1535871,38,82130,23,760,469262,488,86,64504,2059,43875,38939,84,100570,6918,4017,7445,46,213,295753,20621,27,30,6284,191,2813,4618,275,19801,14840,5291,176,827,21793,5016,115,1786,4453,15170,319,810,17166,3228749,22,11726,81,110380,331,87070,21239,368161,2359,299,123738,61105,11,106,2759,659,59,160,31558,2643,40,594,709,12964,22,16908,77,2993,496,58127,43788,38,1362132,401960,4693,95129,1464327,161,446461,52676,7115,8,17,11,22,6296,119297,2625,1244060,48652,9031,451,2498,160,2794,7735,40,801,40,100,48811,38920,14788,1617414,3659613,4603,2694893,12716,43813,1360480,8602,1471,259,1240526,64,246,4284,3321,55,117,139,512313,89,959,259,897,46968,11615,952586,1431,1417,1214555,193,2031,107366,4097,63168,14915,252349,434,160,401,8423,345,33,283,2511,18619,3901,1749,70623,286,178,52,716894,778,1162,4657,9008,13142,6032,3155131,11288,15,26517,37839,158,49801,1649,12938,14,1373,908175,26,38697,13050,1712,6256,874,6359663,110,43539,9925,241184,706,10754,296,93,21574,14,7873,2858033,4590,4008,94,123824,530,424,134,4132,13401,19821,34731,83641,37,26889,559584,2055,94158,148635,27117,10676,33906,2844,10492,566,162,488270,3261,9420,8505215,7773,47324,8831,18,106701,310730,73,263,83,1605,93,271,160,1298025,37,162,36886,1506,22,234,618,40,571,17015],\"yaxis\":\"y\"},{\"hovertemplate\":\"Ano de exibi\\u00e7\\u00e3o=%{x}<br>P\\u00fablico no ano de exibi\\u00e7\\u00e3o=%{y}<extra></extra>\",\"legendgroup\":\"2016\",\"line\":{\"color\":\"#ab63fa\",\"dash\":\"solid\"},\"marker\":{\"symbol\":\"circle\"},\"mode\":\"lines\",\"name\":\"2016\",\"showlegend\":true,\"type\":\"scattergl\",\"x\":[2016,2016,2016,2016,2016,2016,2016,2016,2016,2016,2016,2016,2016,2016,2016,2016,2016,2016,2016,2016,2016,2016,2016,2016,2016,2016,2016,2016,2016,2016,2016,2016,2016,2016,2016,2016,2016,2016,2016,2016,2016,2016,2016,2016,2016,2016,2016,2016,2016,2016,2016,2016,2016,2016,2016,2016,2016,2016,2016,2016,2016,2016,2016,2016,2016,2016,2016,2016,2016,2016,2016,2016,2016,2016,2016,2016,2016,2016,2016,2016,2016,2016,2016,2016,2016,2016,2016,2016,2016,2016,2016,2016,2016,2016,2016,2016,2016,2016,2016,2016,2016,2016,2016,2016,2016,2016,2016,2016,2016,2016,2016,2016,2016,2016,2016,2016,2016,2016,2016,2016,2016,2016,2016,2016,2016,2016,2016,2016,2016,2016,2016,2016,2016,2016,2016,2016,2016,2016,2016,2016,2016,2016,2016,2016,2016,2016,2016,2016,2016,2016,2016,2016,2016,2016,2016,2016,2016,2016,2016,2016,2016,2016,2016,2016,2016,2016,2016,2016,2016,2016,2016,2016,2016,2016,2016,2016,2016,2016,2016,2016,2016,2016,2016,2016,2016,2016,2016,2016,2016,2016,2016,2016,2016,2016,2016,2016,2016,2016,2016,2016,2016,2016,2016,2016,2016,2016,2016,2016,2016,2016,2016,2016,2016,2016,2016,2016,2016,2016,2016,2016,2016,2016,2016,2016,2016,2016,2016,2016,2016,2016,2016,2016,2016,2016,2016,2016,2016,2016,2016,2016,2016,2016,2016,2016,2016,2016,2016,2016,2016,2016,2016,2016,2016,2016,2016,2016,2016,2016,2016,2016,2016,2016,2016,2016,2016,2016,2016,2016,2016,2016,2016,2016,2016,2016,2016,2016,2016,2016,2016,2016,2016,2016,2016,2016,2016,2016,2016,2016,2016,2016,2016,2016,2016,2016,2016,2016,2016,2016,2016,2016,2016,2016,2016,2016,2016,2016,2016,2016,2016,2016,2016,2016,2016,2016,2016,2016,2016,2016,2016,2016,2016,2016,2016,2016,2016,2016,2016,2016,2016,2016,2016,2016,2016,2016,2016,2016,2016,2016,2016,2016,2016,2016,2016,2016,2016,2016,2016,2016,2016,2016,2016,2016,2016,2016,2016,2016,2016,2016,2016,2016,2016,2016,2016,2016,2016,2016,2016,2016,2016,2016,2016,2016,2016,2016,2016,2016,2016,2016,2016,2016,2016,2016,2016,2016,2016,2016,2016,2016,2016,2016,2016,2016,2016,2016,2016,2016,2016,2016,2016,2016,2016,2016,2016,2016,2016,2016,2016,2016,2016,2016,2016,2016,2016,2016,2016,2016,2016,2016,2016,2016,2016,2016,2016,2016,2016,2016,2016,2016,2016,2016,2016,2016,2016,2016,2016,2016,2016,2016,2016,2016,2016,2016,2016,2016,2016,2016,2016,2016,2016,2016,2016,2016,2016,2016,2016,2016,2016,2016,2016,2016,2016,2016,2016,2016,2016,2016,2016,2016,2016,2016,2016,2016,2016,2016,2016,2016,2016,2016,2016,2016,2016,2016,2016,2016,2016,2016,2016,2016,2016,2016,2016,2016,2016,2016,2016,2016,2016,2016,2016,2016,2016,2016,2016,2016,2016,2016,2016,2016,2016,2016,2016,2016,2016,2016,2016,2016,2016,2016,2016,2016,2016,2016,2016,2016,2016,2016,2016,2016,2016,2016,2016,2016,2016,2016,2016,2016,2016,2016,2016,2016,2016,2016,2016,2016,2016,2016,2016,2016,2016,2016,2016,2016,2016,2016,2016,2016,2016,2016,2016,2016,2016,2016,2016,2016,2016,2016,2016,2016,2016,2016,2016,2016,2016,2016,2016,2016,2016,2016,2016,2016,2016,2016,2016,2016,2016,2016,2016,2016,2016,2016,2016,2016,2016,2016,2016,2016,2016,2016,2016,2016,2016,2016,2016,2016,2016,2016,2016,2016,2016,2016,2016,2016,2016,2016,2016,2016,2016,2016,2016,2016,2016,2016,2016,2016,2016,2016,2016,2016,2016,2016,2016,2016,2016,2016,2016,2016,2016,2016,2016,2016,2016,2016,2016,2016,2016,2016,2016,2016,2016,2016,2016,2016,2016,2016,2016,2016,2016,2016,2016,2016,2016,2016,2016,2016,2016,2016,2016,2016,2016,2016,2016,2016,2016,2016,2016,2016,2016,2016,2016,2016,2016,2016,2016,2016,2016,2016,2016,2016,2016,2016,2016,2016,2016,2016,2016,2016,2016,2016,2016,2016,2016,2016,2016,2016,2016,2016,2016,2016,2016,2016,2016,2016,2016,2016,2016,2016,2016,2016,2016,2016,2016,2016,2016,2016,2016,2016,2016,2016,2016,2016,2016,2016,2016,2016,2016,2016,2016,2016,2016,2016,2016,2016,2016,2016,2016,2016,2016,2016,2016,2016,2016,2016,2016,2016,2016,2016,2016,2016,2016,2016,2016,2016,2016,2016,2016,2016,2016],\"xaxis\":\"x\",\"y\":[2113,38954,72230,14798,185,5944,1430,5649,8,3177,159,1729177,3498,14538,8394,59,2929,690836,31,556701,20134,18650,6978,38,63,1956,1641,127,8265,5260450,69074,31,361,47,1695,83,4335,387241,16896,685138,512151,682,9801,24682,60684,2288390,6273,10,5141,7319,116,54903,91775,248,207,162,339,12,9364,4149,8029,3676,1569,688,1507,8874,42967,73,2,2016949,789,1228,25,2134,18759,33013,208,86,1959,2812,74108,444534,390,10,46652,370,2226094,1096822,171,111,9730,31552,76,12975,18189,235,7570,222,2333,1833728,4335211,699,41937,329,1132529,635,23136,26445,19,355085,61,209473,7330,10,895,767,197,61,482,13407,59268,1356422,341917,11967,1280,777,14,6655,63,1577999,214,1316,82829,6777,71,1242,703,977,2226,1340,357,940,2723,2572,681,8565380,24934,837,4715,168,5589,2238,8389,532,1309875,15,11528,6,6363,306,18971,3210,34643,340932,1531,9541,229,58,5519,96,62,2432,698,90581,804023,56,341509,1874,169,275,6,4854,31898,2373,378,9617572,45213,143569,2525328,1592,2,103,6956,370117,66,420416,1310640,1331579,4130,2876,432,4811,28679,39960,884,21325,909,6816,813257,30,4272555,176089,481,150,2865,67469,51475,286,1492,171,740667,3197,61,2663,55478,1206,25,22176,7324,32763,772,6044324,23968,53801,2681,2564,1601,14075,38,11548,153234,337380,1246718,279,26812,3201,540,1357,217,7165,520,102340,723,1912,4797512,192,147,1658,66,536187,41103,6566,226978,171,1071,109698,64,135041,1507,329,51,24,18,20147,5892,7827788,3925,3834,2671,46,3187,9301,191,1208,368,234930,32,138036,95,15493,520,135194,5072,1193,44504,1592,27789,70,4864,12396,392,24832,70,6,82,478,17,241,122,169,1590,617090,54,393,754,2079,124,18,62435,46538,10716,62,708,392,11,119,392,93456,287652,2635,7958,229,1482,4907,1829856,15829,2193152,336,543034,120970,303374,563,3594171,3919,14376,29,76,687952,408,4188,25057,648312,51,365439,24637,112,1421,16,3046,328003,199484,271,580,11,174,141139,1757761,62284,5472,8840,114,22998,4905,7427,17464,20487,99,3078,381,2759,12173,4353,849,337,8940,565916,2297,734,194,668,7659,836,114,34979,15,1705,43560,346602,9825,95,51769,7102,57543,1197,24044,295835,515,25100,138,2127,456,9535,189728,240,4020898,100,60,561,148,226,38,2670252,225,29,6306,3902,69753,264,5228,19670,533,10681,33276,7387,18029,1997,1660,46916,36862,397297,127,145,10789,153995,149,15414,16461,157896,238,11550,45,15,53607,207,172,26509,170,11405,14748,57,1341,9194,814,125,28464,4457,4531,209,234,313400,3597713,640571,3717,11856,1954,1646209,970,105,44,1320,15363,35194,758131,11603,43,1055,34,37135,13983,82634,53098,21794,459,3961,553,390,36,58,85,770587,23479,2315,41256,20,497,2181772,8915,176083,26163,24737,728,1058,328,5531,20275,7331,7279,12916,3692,629,3911,343,266916,108763,10988,10783,85,2645471,1041,30209,48,610730,373,11130,2499,593,114620,116,2997,247,14082,12769,641684,165,6,4429,521,146,238,13561,126841,217,2355,1975,578,1141,964,122,69,32433,14356,46,1775,1611,105985,11305479,873,312,561784,592,5197,567,36,156,182,452275,889,627732,14542,5336,875,7132,844,13042,3146,60,65,63617,15324,132,1013,484,8105,279,126252,187015,1849,80781,695,4415952,53,77,243,59,1477,8247,47,454569,241,85,66251,8189410,2457,12147,823195,236,1101,5955,55,210426,166,546,2535,230,4805,2189,3147,500,378,1772,222875,377670,299,280,1217,4137,2607958,10526,2321,8992,324289,130,1240,5968,517,6608,78,8087,57,74,618236,14,200,82,3765,2236,1984930,2278477,107679,39237,57,60,424520,4000,833246,1167530,80212,1625,12,34,330379,21603,3368,5080,161,84051,8041,473,1297,888,7456,82,1844,26421,82757,55,827,91,1249,3023,2894,39,16132,1884196,142523,41673,1952009,502,848,2764,10373,755,3120,1121570,86,194,6098,5286,6738,1846,6888,2323,4,391146,12005,67328,4184,665999,594,1070434,811,19,4341,103351,3228,111,729977,3344,204,22,219,468,477,1274,2472,5857,36555,1342,37326,4015,5963,63,240232,92,24590,7,169,741,1386959,47,2914,5,312,4373939,1875,7,34715,14139,2824226,196,188,393105,7851,1722029,829,180,7577],\"yaxis\":\"y\"},{\"hovertemplate\":\"Ano de exibi\\u00e7\\u00e3o=%{x}<br>P\\u00fablico no ano de exibi\\u00e7\\u00e3o=%{y}<extra></extra>\",\"legendgroup\":\"2015\",\"line\":{\"color\":\"#FFA15A\",\"dash\":\"solid\"},\"marker\":{\"symbol\":\"circle\"},\"mode\":\"lines\",\"name\":\"2015\",\"showlegend\":true,\"type\":\"scattergl\",\"x\":[2015,2015,2015,2015,2015,2015,2015,2015,2015,2015,2015,2015,2015,2015,2015,2015,2015,2015,2015,2015,2015,2015,2015,2015,2015,2015,2015,2015,2015,2015,2015,2015,2015,2015,2015,2015,2015,2015,2015,2015,2015,2015,2015,2015,2015,2015,2015,2015,2015,2015,2015,2015,2015,2015,2015,2015,2015,2015,2015,2015,2015,2015,2015,2015,2015,2015,2015,2015,2015,2015,2015,2015,2015,2015,2015,2015,2015,2015,2015,2015,2015,2015,2015,2015,2015,2015,2015,2015,2015,2015,2015,2015,2015,2015,2015,2015,2015,2015,2015,2015,2015,2015,2015,2015,2015,2015,2015,2015,2015,2015,2015,2015,2015,2015,2015,2015,2015,2015,2015,2015,2015,2015,2015,2015,2015,2015,2015,2015,2015,2015,2015,2015,2015,2015,2015,2015,2015,2015,2015,2015,2015,2015,2015,2015,2015,2015,2015,2015,2015,2015,2015,2015,2015,2015,2015,2015,2015,2015,2015,2015,2015,2015,2015,2015,2015,2015,2015,2015,2015,2015,2015,2015,2015,2015,2015,2015,2015,2015,2015,2015,2015,2015,2015,2015,2015,2015,2015,2015,2015,2015,2015,2015,2015,2015,2015,2015,2015,2015,2015,2015,2015,2015,2015,2015,2015,2015,2015,2015,2015,2015,2015,2015,2015,2015,2015,2015,2015,2015,2015,2015,2015,2015,2015,2015,2015,2015,2015,2015,2015,2015,2015,2015,2015,2015,2015,2015,2015,2015,2015,2015,2015,2015,2015,2015,2015,2015,2015,2015,2015,2015,2015,2015,2015,2015,2015,2015,2015,2015,2015,2015,2015,2015,2015,2015,2015,2015,2015,2015,2015,2015,2015,2015,2015,2015,2015,2015,2015,2015,2015,2015,2015,2015,2015,2015,2015,2015,2015,2015,2015,2015,2015,2015,2015,2015,2015,2015,2015,2015,2015,2015,2015,2015,2015,2015,2015,2015,2015,2015,2015,2015,2015,2015,2015,2015,2015,2015,2015,2015,2015,2015,2015,2015,2015,2015,2015,2015,2015,2015,2015,2015,2015,2015,2015,2015,2015,2015,2015,2015,2015,2015,2015,2015,2015,2015,2015,2015,2015,2015,2015,2015,2015,2015,2015,2015,2015,2015,2015,2015,2015,2015,2015,2015,2015,2015,2015,2015,2015,2015,2015,2015,2015,2015,2015,2015,2015,2015,2015,2015,2015,2015,2015,2015,2015,2015,2015,2015,2015,2015,2015,2015,2015,2015,2015,2015,2015,2015,2015,2015,2015,2015,2015,2015,2015,2015,2015,2015,2015,2015,2015,2015,2015,2015,2015,2015,2015,2015,2015,2015,2015,2015,2015,2015,2015,2015,2015,2015,2015,2015,2015,2015,2015,2015,2015,2015,2015,2015,2015,2015,2015,2015,2015,2015,2015,2015,2015,2015,2015,2015,2015,2015,2015,2015,2015,2015,2015,2015,2015,2015,2015,2015,2015,2015,2015,2015,2015,2015,2015,2015,2015,2015,2015,2015,2015,2015,2015,2015,2015,2015,2015,2015,2015,2015,2015,2015,2015,2015,2015,2015,2015,2015,2015,2015,2015,2015,2015,2015,2015,2015,2015,2015,2015,2015,2015,2015,2015,2015,2015,2015,2015,2015,2015,2015,2015,2015,2015,2015,2015,2015,2015,2015,2015,2015,2015,2015,2015,2015,2015,2015,2015,2015,2015,2015,2015,2015,2015,2015,2015,2015,2015,2015,2015,2015,2015,2015,2015,2015,2015,2015,2015,2015,2015,2015,2015,2015,2015,2015,2015,2015,2015,2015,2015,2015,2015,2015,2015,2015,2015,2015,2015,2015,2015,2015,2015,2015,2015,2015,2015,2015,2015,2015,2015,2015,2015,2015,2015,2015,2015,2015,2015,2015,2015,2015,2015,2015,2015,2015,2015,2015,2015,2015,2015,2015,2015,2015,2015,2015,2015,2015,2015,2015,2015,2015,2015,2015,2015,2015,2015,2015,2015,2015,2015,2015,2015,2015,2015,2015,2015,2015,2015,2015,2015,2015,2015,2015,2015,2015,2015,2015,2015,2015,2015,2015,2015,2015,2015,2015,2015,2015,2015,2015,2015,2015,2015,2015,2015,2015,2015,2015,2015,2015,2015,2015,2015,2015,2015,2015,2015,2015,2015,2015,2015,2015,2015,2015,2015,2015,2015,2015,2015,2015,2015,2015,2015,2015,2015,2015,2015,2015,2015,2015,2015,2015,2015,2015,2015,2015,2015,2015,2015,2015,2015,2015,2015,2015,2015,2015,2015,2015,2015,2015,2015,2015,2015,2015,2015,2015,2015,2015,2015,2015,2015,2015,2015,2015,2015,2015,2015,2015,2015,2015,2015,2015,2015,2015,2015,2015,2015,2015,2015,2015,2015,2015,2015,2015,2015,2015,2015,2015,2015,2015,2015,2015,2015,2015,2015,2015,2015,2015,2015,2015,2015,2015,2015,2015,2015,2015,2015,2015,2015,2015,2015,2015,2015,2015,2015,2015,2015,2015,2015,2015,2015,2015,2015,2015,2015,2015,2015,2015,2015,2015,2015,2015,2015,2015],\"xaxis\":\"x\",\"y\":[969,2099237,6766,28,4090,1384,23779,33970,1141,1630,5145,121,236,44,5393,105,111,302468,265082,437,70,88,80,87490,1372,3939,569119,116670,756,123023,107590,415127,41,34358,386,73579,7633,54,8581,418,286661,733,255,1329,604,13061,2499,2604,133,429,185706,1645,2689,8786,887,332,5577,354679,100,1472,28643,3951,6,31085,1019,97758,89,1952,131,1295,2819817,763660,2113,140063,1001,462,1674,209271,612,45665,43,27274,348,303,216914,4396,115,1751,2318296,503,650,21,10877,45630,76,3274,522,5430,1729,20565,3108,719,1748,85447,1009,14606,464,2105,49,153,1769,1944,1607,43420,10100,43210,143,10175,1421,3577,365,64740,189,1387433,722,491,568,21,1347,3478,1757668,3816,42,1706,39730,166,2713,100,850,1919,2684,1268,7199,48800,294,6129,11038,26751,133,4680,545297,3727,2137,1349,423988,781,9389,6231,119,73,1327,3719487,18,75,59,78619,12512,19034,2311,1480960,1783816,33118,2735,11967,282,534,388533,2273,9882,29,202508,359,2248,3391,2536036,38073,1823,829,1999,7352,100,7125,348980,62250,97697,2,2749,1602111,4199697,1393,100,6685086,948,387,9349,89,3695,4251,79,394531,2049,523,8,437532,75470,182,18179,454,226,318,75133,161,1523,691,18301,3548,1,5699,6805,29139,54078,77,16220,21768,3049,11537,10330,389,777,3780325,164589,8755,380,55475,103,405,3352,31,44,337655,2015,2386,2149,6688,17066,5800,5849,2291,587,51,88,512,36,118,1925,23438,71859,1874,5103,131220,438782,550,70,295,27,750,352,427,3205,445,42,4148,128,423857,243809,76665,2475674,499,1064,157,5689,38,4408,158,147,13719,45693,108,27,3566,370,179,13072,25853,498362,300,1422,1609,22675,858,1284,613,1288436,47,522232,91809,1511,78307,238,906,273,307,6366,200,97,31,7680,4322,1649,11,310340,236,1658,194598,2927606,14182,36763,20,3272784,446,88889,40,197,5696,3517,150,58,770,34503,139,242045,4418,2364,713,6386,103,149377,6689,9808,108517,54,55,4393303,43436,27,2614,32,388,40,6356559,27764,211,893501,2738,57,12494,24749,7623,40,124,41192,1712,948542,268,90073,252,10332,264,3726547,40137,20251,7680,39400,539,529,2233234,107,302,202347,6831,12725,348,2346,40267,4297,35,629,2547,317,1986250,962,243,31,58176,116,5112,2639935,300,19961,22661,15505,1688,4825,594,50427,8912094,74745,13500,713,2711422,17836,8190,441,1966,152,33450,2836,2127,2576,2350,5213,2284,17592,4281,11688,1016137,229,24213,275966,2977,621,2227,10040,166,28055,164705,750,64851,386183,19431,188,2722,10016,866,49,2130,239,635,291,4598,10817,6164,3177,19702,87932,8172,30618,250,13411,4228,1233711,30141,8767,23597,14337,4710,166,3121,66487,114,228,590,19,129226,77108,1401,30290,500,101,511785,71,23464,3956,997,83550,545643,653,16905,449,90,1011,70,317,15,167,954,67662,543,257,920,59,2035935,1916,191,89021,5703,226,23682,70,3106,399132,189,138154,395,4297,3769,1574,42,499919,7595,301,80335,777,48,13201,638,13652,2657447,12107,1440,10026,4276,161,211333,32428,13,1596817,1792,348322,1479,2721,61569,347,77,671,1241637,814,8,155,1325,1715,2319,138,156989,12725,3133464,99,22,10123,4308,260,128851,3119,11,4519,43,2072,3797,8656,1245,400893,845,142,2769,6377,60,206,11965,3459,350362,101,861,16627,1800722,1461,11115,1872703,634,2355234,407,1235047,34566,423549,200,350,2873,28411,2619,9560,356,807827,42,6008,1771774,384735,613,493022,108787,1446,819,14327,1714,10559,11208,131,932,157873,446515,5482,5807,118665,868,950,76618,19566,3567,12,762,1318,21717,1637032,9476,869,131491,1292,10044,124,10,1646,102,8544,11145,33422,20109,12185,222,19868,15982,1510,113999,50502,489722,1162544,96,91945,33068,624245,42,37,39548,19458,130,137,195,163,5558321,189,22341,84302,439410,102,7967,524,341,1981,743118,19141,318,67950,244,2220028,5519,138,67437,1121,35,9,875,25273,351,64,610854,2565,308,676655,1947,3459,135,2802,2517,148,36,234,1313,316468,43,5525,1328,602,24968,627,10755,43678,2216,169,321,95,135,55,146,50913,1104,11619,8712,14827,7982,96570,598084,1476,3449,146,1057,339,119586,8150,126,2707296,32912,1093,410,296,1748,3307837,193449,385,133,9857946,1530,54,91,678287,2251,10129071,596,2777,19338,225,169,17951,306730,46634,43,20009,14,118255,8309,8294,169,27275,2612034,606,2983,173,14498],\"yaxis\":\"y\"},{\"hovertemplate\":\"Ano de exibi\\u00e7\\u00e3o=%{x}<br>P\\u00fablico no ano de exibi\\u00e7\\u00e3o=%{y}<extra></extra>\",\"legendgroup\":\"2014\",\"line\":{\"color\":\"#19d3f3\",\"dash\":\"solid\"},\"marker\":{\"symbol\":\"circle\"},\"mode\":\"lines\",\"name\":\"2014\",\"showlegend\":true,\"type\":\"scattergl\",\"x\":[2014,2014,2014,2014,2014,2014,2014,2014,2014,2014,2014,2014,2014,2014,2014,2014,2014,2014,2014,2014,2014,2014,2014,2014,2014,2014,2014,2014,2014,2014,2014,2014,2014,2014,2014,2014,2014,2014,2014,2014,2014,2014,2014,2014,2014,2014,2014,2014,2014,2014,2014,2014,2014,2014,2014,2014,2014,2014,2014,2014,2014,2014,2014,2014,2014,2014,2014,2014,2014,2014,2014,2014,2014,2014,2014,2014,2014,2014,2014,2014,2014,2014,2014,2014,2014,2014,2014,2014,2014,2014,2014,2014,2014,2014,2014,2014,2014,2014,2014,2014,2014,2014,2014,2014,2014,2014,2014,2014,2014,2014,2014,2014,2014,2014,2014,2014,2014,2014,2014,2014,2014,2014,2014,2014,2014,2014,2014,2014,2014,2014,2014,2014,2014,2014,2014,2014,2014,2014,2014,2014,2014,2014,2014,2014,2014,2014,2014,2014,2014,2014,2014,2014,2014,2014,2014,2014,2014,2014,2014,2014,2014,2014,2014,2014,2014,2014,2014,2014,2014,2014,2014,2014,2014,2014,2014,2014,2014,2014,2014,2014,2014,2014,2014,2014,2014,2014,2014,2014,2014,2014,2014,2014,2014,2014,2014,2014,2014,2014,2014,2014,2014,2014,2014,2014,2014,2014,2014,2014,2014,2014,2014,2014,2014,2014,2014,2014,2014,2014,2014,2014,2014,2014,2014,2014,2014,2014,2014,2014,2014,2014,2014,2014,2014,2014,2014,2014,2014,2014,2014,2014,2014,2014,2014,2014,2014,2014,2014,2014,2014,2014,2014,2014,2014,2014,2014,2014,2014,2014,2014,2014,2014,2014,2014,2014,2014,2014,2014,2014,2014,2014,2014,2014,2014,2014,2014,2014,2014,2014,2014,2014,2014,2014,2014,2014,2014,2014,2014,2014,2014,2014,2014,2014,2014,2014,2014,2014,2014,2014,2014,2014,2014,2014,2014,2014,2014,2014,2014,2014,2014,2014,2014,2014,2014,2014,2014,2014,2014,2014,2014,2014,2014,2014,2014,2014,2014,2014,2014,2014,2014,2014,2014,2014,2014,2014,2014,2014,2014,2014,2014,2014,2014,2014,2014,2014,2014,2014,2014,2014,2014,2014,2014,2014,2014,2014,2014,2014,2014,2014,2014,2014,2014,2014,2014,2014,2014,2014,2014,2014,2014,2014,2014,2014,2014,2014,2014,2014,2014,2014,2014,2014,2014,2014,2014,2014,2014,2014,2014,2014,2014,2014,2014,2014,2014,2014,2014,2014,2014,2014,2014,2014,2014,2014,2014,2014,2014,2014,2014,2014,2014,2014,2014,2014,2014,2014,2014,2014,2014,2014,2014,2014,2014,2014,2014,2014,2014,2014,2014,2014,2014,2014,2014,2014,2014,2014,2014,2014,2014,2014,2014,2014,2014,2014,2014,2014,2014,2014,2014,2014,2014,2014,2014,2014,2014,2014,2014,2014,2014,2014,2014,2014,2014,2014,2014,2014,2014,2014,2014,2014,2014,2014,2014,2014,2014,2014,2014,2014,2014,2014,2014,2014,2014,2014,2014,2014,2014,2014,2014,2014,2014,2014,2014,2014,2014,2014,2014,2014,2014,2014,2014,2014,2014,2014,2014,2014,2014,2014,2014,2014,2014,2014,2014,2014,2014,2014,2014,2014,2014,2014,2014,2014,2014,2014,2014,2014,2014,2014,2014,2014,2014,2014,2014,2014,2014,2014,2014,2014,2014,2014,2014,2014,2014,2014,2014,2014,2014,2014,2014,2014,2014,2014,2014,2014,2014,2014,2014,2014,2014,2014,2014,2014,2014,2014,2014,2014,2014,2014,2014,2014,2014,2014,2014,2014,2014,2014,2014,2014,2014,2014,2014,2014,2014,2014,2014,2014,2014,2014,2014,2014,2014,2014,2014,2014,2014,2014,2014,2014,2014,2014,2014,2014,2014,2014,2014,2014,2014,2014,2014,2014,2014,2014,2014,2014,2014,2014,2014,2014,2014,2014,2014,2014,2014,2014,2014,2014,2014,2014,2014,2014,2014,2014,2014,2014,2014,2014,2014,2014,2014,2014,2014,2014,2014,2014,2014,2014,2014,2014,2014,2014,2014,2014,2014,2014,2014,2014,2014,2014,2014,2014,2014,2014,2014,2014,2014,2014,2014,2014,2014,2014,2014,2014,2014,2014,2014,2014,2014],\"xaxis\":\"x\",\"y\":[501962,1236,98259,88,9,182,20770,2839023,3077,11216,57266,2498,20,355,513381,8519,351,697,25,1300,33,6165705,39,362,563,48961,16550,942,2743,84,1320,93,548,234,31577,147384,4947,2896,26550,115,106,1390,6405,2702,538091,299484,41892,341,1376548,921,9927,319650,4774,4849,6158,7517,74,678,26247,255,86,120,300,278843,160,312,130,232,110570,24508,955841,265387,568,292,20,3669,128,228589,15283,36636,78667,220,266,2116,2870,12228,3092,3437,85,465905,3716207,7347,21845,2266,36,58,36873,3188,12,351583,1193599,17,20089,14307,12094,22,3366763,1034040,13594,28818,10865,2930693,195,2756,1111,624828,50622,955,798,875,19,279,4622,16240,1681,34164,20,45096,144563,8633,2111,5542,2561,86307,206,42,77,4911,662,614094,2342,4621101,35567,26892,3581,2322,83413,510541,729,366407,519277,112050,2549,3553,200,827,170,86,127460,4326,826,4610275,42811,798222,391,646224,96,25936,12,20,54,2745,63825,2382,486,1152,1139,7967,139500,313643,3042283,202,1274,27,200,291227,238,52,1205442,162,9274,181,10249,313,2707988,374,169913,38212,329,5410,27153,69,7563,200,49,130,120116,70751,3255,54400,4374,200,217,1514,564,6373,3597,20,167,52484,30,29,6548,1052762,807,10399,153,120,5666,13,2686,2547,108,6437,456,65,308,19,1037248,3931888,7456,52,141404,166,532949,3180,508901,2039,28643,1314631,2653,6875,81529,11429,2864628,1873,69,438,31,360,19,97,54,72,30,31,139,2352,653138,355,204436,279,77109,189,867,4078,2452143,7859,2320,5619,620,120,3931,296574,7059,28,23561,9344,2079,1182233,200739,81367,2733,880,20527,2120,1301,521,4755582,19238,6,1078,8151,222,179745,3706,1979624,541,83077,45084,2073,236077,527,479,17,1503,2227,208,25999,1505,56,38,3350,3014,243,905096,1459,3978,1332,1379,46,1784275,20729,32,381782,240026,2356,5755409,1284,12761,192,1564569,674,847,35,1974,39,200,120528,4652,7995,2976,1178,2293,44745,1313,37527,860,10747,13055,4292,793,1429862,512308,200,740,64,253762,281780,3330,29273,592431,262906,100039,772526,460167,35,100,76055,4887284,28823,94145,3963,105,53717,9771,632010,974,2237537,347,91611,6405,15395,3732,6202,12,17623,573704,27726,151639,4100615,10613,21,260,104069,95600,3811,40,98884,335085,118,8845,312823,3102309,466394,2735,11376,34915,37641,73,3691,55969,425887,17,26261,1069524,161,118073,40380,33978,22794,8680,13309,4754,107,18439,104,14955,18895,3426,14252,5694,706374,37,94812,242343,731,386,1110,4539,1719,674,604,520,642,80,10939,2563,258,31453,14929,7,5237,8998,1120786,329047,175,536918,76,5166,6064,308449,650700,6097,158,2746,1040,6121,30595,1793239,2108500,61425,4214,256,90,3939,390150,258,20552,3426,21,6208,301,18,930,5,14367,19768,26,207214,27,4103679,1769,779766,200,5873,19,133022,170,9539,155,11832,17804,283,7689,3549,11083,278,200,134,563260,34361,40325,20160,1599,305793,91,592,84,5212811,970,98990,3970,966,2816772,28951,115,668,1776579,30598,2420,23,4482,577153,150,129,903041,18015,7212,2192,701,79,47678,1249,342572,284,291,407,86010,71,37,19547,1071,2336,4056,366,1699,1689,1253,593,372,566,69,917,51807,1827,7783,651,14892,901617,14209,9843,656,128,10173,11803,1676,776824,6255,429787,1670,5977,202,29712,1783,625,300356,4587292,633395,259247,27602,21549,113,14119,39,43092,68971,718,1895,60851,28422,6551,2699,220,52195,8177,851,6012,2637,51587,7652,63076,1553,1035971,1687,3667,4810,9571,455,9342,4063,11318,4079,14239,190,33,7400,11617,2462,153,11726,4081,14603,4408,1926,1877,35,6579,538,7799,1258666,1980,20147,200,11969,10031,4157,106,23863,476610,28945,4491,46933,726,58030,185,4923664,44156,43,240174,4923,2746,1372,1539624,50819],\"yaxis\":\"y\"},{\"hovertemplate\":\"Ano de exibi\\u00e7\\u00e3o=%{x}<br>P\\u00fablico no ano de exibi\\u00e7\\u00e3o=%{y}<extra></extra>\",\"legendgroup\":\"2013\",\"line\":{\"color\":\"#FF6692\",\"dash\":\"solid\"},\"marker\":{\"symbol\":\"circle\"},\"mode\":\"lines\",\"name\":\"2013\",\"showlegend\":true,\"type\":\"scattergl\",\"x\":[2013,2013,2013,2013,2013,2013,2013,2013,2013,2013,2013,2013,2013,2013,2013,2013,2013,2013,2013,2013,2013,2013,2013,2013,2013,2013,2013,2013,2013,2013,2013,2013,2013,2013,2013,2013,2013,2013,2013,2013,2013,2013,2013,2013,2013,2013,2013,2013,2013,2013,2013,2013,2013,2013,2013,2013,2013,2013,2013,2013,2013,2013,2013,2013,2013,2013,2013,2013,2013,2013,2013,2013,2013,2013,2013,2013,2013,2013,2013,2013,2013,2013,2013,2013,2013,2013,2013,2013,2013,2013,2013,2013,2013,2013,2013,2013,2013,2013,2013,2013,2013,2013,2013,2013,2013,2013,2013,2013,2013,2013,2013,2013,2013,2013,2013,2013,2013,2013,2013,2013,2013,2013,2013,2013,2013,2013,2013,2013,2013,2013,2013,2013,2013,2013,2013,2013,2013,2013,2013,2013,2013,2013,2013,2013,2013,2013,2013,2013,2013,2013,2013,2013,2013,2013,2013,2013,2013,2013,2013,2013,2013,2013,2013,2013,2013,2013,2013,2013,2013,2013,2013,2013,2013,2013,2013,2013,2013,2013,2013,2013,2013,2013,2013,2013,2013,2013,2013,2013,2013,2013,2013,2013,2013,2013,2013,2013,2013,2013,2013,2013,2013,2013,2013,2013,2013,2013,2013,2013,2013,2013,2013,2013,2013,2013,2013,2013,2013,2013,2013,2013,2013,2013,2013,2013,2013,2013,2013,2013,2013,2013,2013,2013,2013,2013,2013,2013,2013,2013,2013,2013,2013,2013,2013,2013,2013,2013,2013,2013,2013,2013,2013,2013,2013,2013,2013,2013,2013,2013,2013,2013,2013,2013,2013,2013,2013,2013,2013,2013,2013,2013,2013,2013,2013,2013,2013,2013,2013,2013,2013,2013,2013,2013,2013,2013,2013,2013,2013,2013,2013,2013,2013,2013,2013,2013,2013,2013,2013,2013,2013,2013,2013,2013,2013,2013,2013,2013,2013,2013,2013,2013,2013,2013,2013,2013,2013,2013,2013,2013,2013,2013,2013,2013,2013,2013,2013,2013,2013,2013,2013,2013,2013,2013,2013,2013,2013,2013,2013,2013,2013,2013,2013,2013,2013,2013,2013,2013,2013,2013,2013,2013,2013,2013,2013,2013,2013,2013,2013,2013,2013,2013,2013,2013,2013,2013,2013,2013,2013,2013,2013,2013,2013,2013,2013,2013,2013,2013,2013,2013,2013,2013,2013,2013,2013,2013,2013,2013,2013,2013,2013,2013,2013,2013,2013,2013,2013,2013,2013,2013,2013,2013,2013,2013,2013,2013,2013,2013,2013,2013,2013,2013,2013,2013,2013,2013,2013,2013,2013,2013,2013,2013,2013,2013,2013,2013,2013,2013,2013,2013,2013,2013,2013,2013,2013,2013,2013,2013,2013,2013,2013,2013,2013,2013,2013,2013,2013,2013,2013,2013,2013,2013,2013,2013,2013,2013,2013,2013,2013,2013,2013,2013,2013,2013,2013,2013,2013,2013,2013,2013,2013,2013,2013,2013,2013,2013,2013,2013,2013,2013,2013,2013,2013,2013,2013,2013,2013,2013,2013,2013,2013,2013,2013,2013,2013,2013,2013,2013,2013,2013,2013,2013,2013,2013,2013,2013,2013,2013,2013,2013,2013,2013,2013,2013,2013,2013,2013,2013,2013,2013,2013,2013,2013,2013,2013,2013,2013,2013,2013,2013,2013,2013,2013,2013,2013,2013,2013,2013,2013,2013,2013,2013,2013,2013,2013,2013,2013,2013,2013,2013,2013,2013,2013,2013,2013,2013,2013,2013,2013,2013,2013,2013,2013,2013,2013,2013,2013,2013,2013,2013],\"xaxis\":\"x\",\"y\":[2469,554,23262,24294,2430,1606,881,1646,916,10653,2285,96,12057,352914,58661,1379,7295,6297,87,9,28211,181,1007,49955,158197,20194,7231,525,46,99473,160989,24966,337,205909,482104,8831,6204,355605,316,365,69005,105997,24861,87,319,40,78,8770,142763,25,18540,24968,836123,3989,269,503118,23030,3836,101,1712,1847,18456,2819,24166,134,27,1781,77120,803146,4419,95,13320,10596,89261,67,38993,223831,13762,1146,55359,21870,91487,6307,307,9115,3,942,158855,5061,110211,6112,208632,123889,2318,1202734,601615,733824,799,98,931,3274,31585,8819,1294,12007,4042,1047498,28903,1204441,51,68416,36873,11006,64,541,2573,100954,338577,4032,12,13997,940046,13649,8600,29,518,497,18766,13792,20,577592,129,16908,576286,152596,27428,187072,2691,527,101358,7792,87,485259,572,98,66126,163624,2030,147930,20863,18749,4220,3887,631,1591,2356,533,701,496,1652949,750,826,13330,1165714,22109,3787852,268,6110,56397,1293122,7514,34294,3334365,854947,64121,6872,926,1143266,634,3222,444,195772,8097,377922,1538081,218,6175,15710,617,13004,4953,57773,713,1742617,88,79776,358052,32,1293,3752,4369,2746,1906,5939,7956,677,737,17170,511323,1469743,620,335,1871,22409,2939,3239,1102,186073,2591,70,681,275484,87979,686,2397,325,64012,5277,267,310216,149,173,1441120,1577212,8021,188436,28,2459,1103412,2587204,5681,5887,133617,150,200,769,42,62,67016,7525,4238,7633472,12,5,8003,371,924582,27,92808,42423,6514,14085,522444,1617133,2143,940169,479425,248830,3533536,9684,28223,3716154,2296,4224,6602,11961,36820,13212,747,2647,81,5079,10091,851,951,793939,131423,30781,1334,4685,740,500,18218,11817,199,199,634,183,677129,362,4751,553,1134563,69,55,18025,248,6989217,497544,3137795,68981,40,165,4600145,6199,125502,156,104043,2038,1461,5714,521,2402,445,207,669,3652,13929,391,60886,220,281,7178,1490,11478,189204,71464,121,191,718668,1676,27522,4326,174335,876634,1320102,246379,44,99,25085,14484,4824,4859,554,106,19490,1999,313055,20,2551127,464966,4896,2756522,14363,38,16548,256258,3708,1338791,38,67,22193,4616,17426,142249,74640,907,67383,2210,80,1699,71,1158,80062,1975,20120,150,141758,29017,212021,94280,14931,711435,7563,19110,551991,452276,6321,295326,1047781,24840,457523,1431,103,132509,127131,35621,2785598,79115,900121,1232,650555,794495,18,320123,21188,2946527,453512,37,158,1914246,4928,844,112922,1660,52928,95803,3,2585,4359,10865,258,95,2147926,4502,192,2487,15,1280,1808,14833,150,35633,153,4414,12413,113385,216065,867,2112,11535,479529,1368310,32939,1486,41,37,357220,69,458153,621,200681,971,120,1818,4307,280445,2557,54,3214071,360808,775,12547,11808,107,87259,60301,490,405609,797,45429,133,88664,524,80,3400,205,4550,367370,1971,5415,1715763,62,428,2842,705,20233,353690,4,2358,30428,128737,8141,80956,4823275,28094,340526,552,90,510,564998,540,1991,45181,220,1330632,1170,1429,6,2652,61,1051620,2479103,2834,71182,11088,80,3261,9379,1472,9974,23,32706,556,120318,5972,12824,4214,714444,27543,30456,166796,927,40619,9078,3290880,2729340,614,2479,4521808,7,152303,59,4501,9225,328,424455,1262,7,3955379,2209,351,200,5654,83732,19722,159657,646759],\"yaxis\":\"y\"},{\"hovertemplate\":\"Ano de exibi\\u00e7\\u00e3o=%{x}<br>P\\u00fablico no ano de exibi\\u00e7\\u00e3o=%{y}<extra></extra>\",\"legendgroup\":\"2012\",\"line\":{\"color\":\"#B6E880\",\"dash\":\"solid\"},\"marker\":{\"symbol\":\"circle\"},\"mode\":\"lines\",\"name\":\"2012\",\"showlegend\":true,\"type\":\"scattergl\",\"x\":[2012,2012,2012,2012,2012,2012,2012,2012,2012,2012,2012,2012,2012,2012,2012,2012,2012,2012,2012,2012,2012,2012,2012,2012,2012,2012,2012,2012,2012,2012,2012,2012,2012,2012,2012,2012,2012,2012,2012,2012,2012,2012,2012,2012,2012,2012,2012,2012,2012,2012,2012,2012,2012,2012,2012,2012,2012,2012,2012,2012,2012,2012,2012,2012,2012,2012,2012,2012,2012,2012,2012,2012,2012,2012,2012,2012,2012,2012,2012,2012,2012,2012,2012,2012,2012,2012,2012,2012,2012,2012,2012,2012,2012,2012,2012,2012,2012,2012,2012,2012,2012,2012,2012,2012,2012,2012,2012,2012,2012,2012,2012,2012,2012,2012,2012,2012,2012,2012,2012,2012,2012,2012,2012,2012,2012,2012,2012,2012,2012,2012,2012,2012,2012,2012,2012,2012,2012,2012,2012,2012,2012,2012,2012,2012,2012,2012,2012,2012,2012,2012,2012,2012,2012,2012,2012,2012,2012,2012,2012,2012,2012,2012,2012,2012,2012,2012,2012,2012,2012,2012,2012,2012,2012,2012,2012,2012,2012,2012,2012,2012,2012,2012,2012,2012,2012,2012,2012,2012,2012,2012,2012,2012,2012,2012,2012,2012,2012,2012,2012,2012,2012,2012,2012,2012,2012,2012,2012,2012,2012,2012,2012,2012,2012,2012,2012,2012,2012,2012,2012,2012,2012,2012,2012,2012,2012,2012,2012,2012,2012,2012,2012,2012,2012,2012,2012,2012,2012,2012,2012,2012,2012,2012,2012,2012,2012,2012,2012,2012,2012,2012,2012,2012,2012,2012,2012,2012,2012,2012,2012,2012,2012,2012,2012,2012,2012,2012,2012,2012,2012,2012,2012,2012,2012,2012,2012,2012,2012,2012,2012,2012,2012,2012,2012,2012,2012,2012,2012,2012,2012,2012,2012,2012,2012,2012,2012,2012,2012,2012,2012,2012,2012,2012,2012,2012,2012,2012,2012,2012,2012,2012,2012,2012,2012,2012,2012,2012,2012,2012,2012,2012,2012,2012,2012,2012,2012,2012,2012,2012,2012,2012,2012,2012,2012,2012,2012,2012,2012,2012,2012,2012,2012,2012,2012,2012,2012,2012,2012,2012,2012,2012,2012,2012,2012,2012,2012,2012,2012,2012,2012,2012,2012,2012,2012,2012,2012,2012,2012,2012,2012,2012,2012,2012,2012,2012,2012,2012,2012,2012,2012,2012,2012,2012,2012,2012,2012,2012,2012,2012,2012,2012,2012,2012,2012,2012,2012,2012,2012,2012,2012,2012,2012,2012,2012,2012,2012,2012,2012,2012,2012,2012,2012,2012,2012,2012,2012,2012,2012,2012,2012,2012,2012,2012,2012,2012,2012,2012,2012,2012,2012,2012,2012,2012,2012,2012,2012,2012,2012,2012,2012,2012,2012,2012,2012,2012,2012,2012,2012,2012,2012,2012,2012,2012,2012,2012,2012,2012,2012,2012,2012,2012,2012,2012,2012,2012,2012,2012,2012,2012,2012,2012,2012,2012,2012,2012,2012,2012,2012,2012,2012,2012,2012,2012,2012,2012,2012,2012,2012,2012,2012,2012,2012,2012,2012,2012,2012,2012,2012,2012,2012,2012,2012,2012,2012,2012,2012,2012,2012,2012,2012,2012],\"xaxis\":\"x\",\"y\":[2550883,384,158642,4943,9110,36,56622,145004,4690,46,20630,6603,29537,140450,695,53788,2715,4074,1188,670107,68288,85829,423307,8728719,23771,21989,11006,24879,21101,13552,230676,68,1048419,174,598,252255,77,74901,108213,5147,2067221,42735,161460,36619,2793,138471,9453533,201611,172827,86410,16905,89449,4648,28289,3741,574,175,78,6721,178161,1017,546,1002726,5002,5958,47694,4581140,721,15904,1324,1537946,4010,451,2966,4986,1168,756,27177,96,1503,66741,933,196626,746474,1856,41638,90,33510,291899,447,12285,937980,1024662,1778,1547241,8742,4674,102187,53910,48036,41031,5345,2389,61,62463,229,681,883,1196236,20178,10802,3413468,5,1408,620,5146519,837283,3321,21112,6431,27476,257664,11947,1541,2518398,118,133,7916,316,617,938166,597,2128174,11436,2608,2536,7590,611,272482,6286,5,256713,1168,1884,2770,313007,128214,11273,472,909,970,784,279,42297,45366,19674,59363,701,1058421,3264,67,302314,86912,283,548,4329,203055,3232,74257,40,336460,53,93903,124062,370624,26788,61,2578599,103524,46559,25374,95,6060,87,94,226,18958,279,16387,1936376,322,1417,22,9,45,204,121,48,46689,104,62,1355,34841,13467,27674,587101,198,156,18774,55142,1585,258601,581,2480920,280,674304,859,5118,1457988,1183,1013544,101542,4739,246,11408,134,8747,6446,91798,99,18734,134780,8740,10866,2649531,572,2522216,4493,1068,816,1277544,26244,8058,1068763,88,236,128250,1242,1917085,1033305,15959,80,10570,1687,150755,4223,3143,3397,60,8900,571,138,434,49035,439902,9489,47,32422,5269118,106585,239,87,65626,2184,3162,5439,14441,262,1902,2142,1546,68,107,9305,681044,10251,7020,10464,914740,700,47160,25,2744,60,321,3944,670,288838,7036,14117,53,6142,2633,78,85,397,864,340594,2603,252044,760,54493,3835,621432,206991,5145603,139510,8578,129111,17,27171,14084,13058,108,1345,2364614,129743,94993,4009,412027,792,393408,15,460,837008,145,239371,3563,22105,2397189,93,3387,183347,21203,72,29809,967,28073,451672,15233,3477,250,40,25,4712,1149566,363,41998,53,1385,3546,6455,313,7698,37864,592235,1064,30741,107372,3166183,15538,6991,2228318,7118,480,495,366,248922,38,2456,654403,228295,2210,312752,402852,6368,7149,14,322825,99893,472500,199622,97862,207529,8122,710,512011,44857,253,157968,62839,168,67058,82231,1101176,727,311322,18,6071,53,2010,133420,151,82,24,7611,170471,521,179,192,128396,17434,1575438,298,54,585,78798,1387,38010,9910,24068,45155,499,691,101,862,37210,53,1281,100941,99273,2456934,190,8,2698,13609,65373,940393,4461,163776,334,2274,39,1784311,162,10911371,450350,226,679103,28993,523577,134,52,13801,70775,292796,12462,56655,2027,14,5,162838,21208,118,33551,27944,590803,836,141,202578,1093,208538,169,9535,2395,375,6769,4559,424,3458783,66,4343,874296,73,36447,980,154888,6870,10710,39805,7661,215,627,377887,665,290270,159109,11964,72,38739],\"yaxis\":\"y\"},{\"hovertemplate\":\"Ano de exibi\\u00e7\\u00e3o=%{x}<br>P\\u00fablico no ano de exibi\\u00e7\\u00e3o=%{y}<extra></extra>\",\"legendgroup\":\"2011\",\"line\":{\"color\":\"#FF97FF\",\"dash\":\"solid\"},\"marker\":{\"symbol\":\"circle\"},\"mode\":\"lines\",\"name\":\"2011\",\"showlegend\":true,\"type\":\"scattergl\",\"x\":[2011,2011,2011,2011,2011,2011,2011,2011,2011,2011,2011,2011,2011,2011,2011,2011,2011,2011,2011,2011,2011,2011,2011,2011,2011,2011,2011,2011,2011,2011,2011,2011,2011,2011,2011,2011,2011,2011,2011,2011,2011,2011,2011,2011,2011,2011,2011,2011,2011,2011,2011,2011,2011,2011,2011,2011,2011,2011,2011,2011,2011,2011,2011,2011,2011,2011,2011,2011,2011,2011,2011,2011,2011,2011,2011,2011,2011,2011,2011,2011,2011,2011,2011,2011,2011,2011,2011,2011,2011,2011,2011,2011,2011,2011,2011,2011,2011,2011,2011,2011,2011,2011,2011,2011,2011,2011,2011,2011,2011,2011,2011,2011,2011,2011,2011,2011,2011,2011,2011,2011,2011,2011,2011,2011,2011,2011,2011,2011,2011,2011,2011,2011,2011,2011,2011,2011,2011,2011,2011,2011,2011,2011,2011,2011,2011,2011,2011,2011,2011,2011,2011,2011,2011,2011,2011,2011,2011,2011,2011,2011,2011,2011,2011,2011,2011,2011,2011,2011,2011,2011,2011,2011,2011,2011,2011,2011,2011,2011,2011,2011,2011,2011,2011,2011,2011,2011,2011,2011,2011,2011,2011,2011,2011,2011,2011,2011,2011,2011,2011,2011,2011,2011,2011,2011,2011,2011,2011,2011,2011,2011,2011,2011,2011,2011,2011,2011,2011,2011,2011,2011,2011,2011,2011,2011,2011,2011,2011,2011,2011,2011,2011,2011,2011,2011,2011,2011,2011,2011,2011,2011,2011,2011,2011,2011,2011,2011,2011,2011,2011,2011,2011,2011,2011,2011,2011,2011,2011,2011,2011,2011,2011,2011,2011,2011,2011,2011,2011,2011,2011,2011,2011,2011,2011,2011,2011,2011,2011,2011,2011,2011,2011,2011,2011,2011,2011,2011,2011,2011,2011,2011,2011,2011,2011,2011,2011,2011,2011,2011,2011,2011,2011,2011,2011,2011,2011,2011,2011,2011,2011,2011,2011,2011,2011,2011,2011,2011,2011,2011,2011,2011,2011,2011,2011,2011,2011,2011,2011,2011,2011,2011,2011,2011,2011,2011,2011,2011,2011,2011,2011,2011,2011,2011,2011,2011,2011,2011,2011,2011,2011,2011,2011,2011,2011,2011,2011,2011,2011,2011,2011,2011,2011,2011,2011,2011,2011,2011,2011,2011,2011,2011,2011,2011,2011,2011,2011,2011,2011,2011,2011,2011,2011,2011,2011,2011,2011,2011,2011,2011,2011,2011,2011,2011,2011,2011,2011,2011,2011,2011,2011,2011,2011,2011,2011,2011,2011,2011,2011,2011,2011,2011,2011,2011,2011,2011,2011,2011,2011,2011,2011,2011,2011,2011,2011,2011,2011,2011,2011,2011,2011,2011,2011,2011,2011,2011,2011,2011,2011,2011,2011,2011,2011,2011,2011,2011,2011,2011,2011,2011,2011,2011,2011,2011,2011,2011,2011,2011,2011,2011,2011,2011,2011,2011,2011,2011,2011,2011,2011,2011,2011,2011,2011,2011,2011,2011,2011,2011,2011,2011,2011,2011,2011,2011,2011,2011,2011,2011,2011,2011,2011,2011,2011,2011,2011,2011,2011,2011,2011,2011,2011,2011,2011,2011,2011,2011,2011,2011,2011,2011,2011,2011,2011,2011,2011,2011,2011,2011,2011,2011,2011,2011,2011,2011,2011,2011,2011,2011,2011,2011,2011,2011,2011,2011,2011,2011,2011,2011,2011,2011,2011,2011,2011,2011,2011,2011,2011,2011,2011,2011,2011,2011,2011,2011,2011,2011,2011,2011,2011,2011],\"xaxis\":\"x\",\"y\":[622148,194046,1053,2137,1165,131,34,4783,266605,3108,5584,29732,400,56,275085,16611,36752,34467,3703,275,7509,95695,200,230,351,424204,18989,43,201515,14605,71208,111,2713,38,50991,9334,67956,2,686,126,417376,205350,103,7020756,481,103,1500,3440,170,4284,3632,93,172,90,14321,329560,26235,16096,22805,7822,3637,91,9,344,606110,15213,583149,19233,1353469,291732,315392,3659,49702,183,18983,6035,280948,462,5429,14,66,70962,256171,226,134725,13695,796834,3469,53,3426,517330,1567,1191,943,1330938,1966736,71317,83827,162,5318,1101483,164411,20081,6199,936,3372,74857,6169,11056,1282,725895,97731,6105,11687,141600,367659,25,32260,41,37119,2176999,73927,474,36112,225,168071,2841148,3408901,1904,4488,1498453,2906,232,65,7658,2959460,16511,1455823,193,4129,49085,71,10064,347,135903,449429,723209,15175,169,174765,21938,475820,16440,16200,1980,251,280,508852,478,316,1146,120954,2844,1620,3058730,11,60055,8690,9821,357,299248,331423,470620,95,16182,161595,3618,8557,44,28735,1081,682,232,23653,661,80,238,10356,3358,1617,40893,118,4062,166,3940518,7007,944449,30496,853,2113681,22032,33165,824,1038,11163,11,17339,188,2291,298186,606326,2907,112054,3313,1063,3861,19849,2839,42,15142,7622,13521,340192,38131,3297,3818061,949,163,1728680,106,35862,1127519,90,257,3846,194,1568,734959,432,416,462,180555,5577298,434,424,437,2059,435,63327,792,341194,231,10796,1172,962114,513925,56180,32,25552,129,769357,48601,136,150,182,998,15589,918,92966,2022,10595,159,842,447957,28,3033896,129,1427285,396906,42826,304,52334,10860,2029,32193,7367,265,239,481,711,2126,5179,791,19083,20344,17249,220480,237,4089,21883,28,69288,2617,327321,1164261,150126,703,2,39734,921,24326,70047,131571,1615337,208,457,142065,173,106457,4262,177,2897,297,11307,26380,8088,405460,50,13376,9,7540,141213,179787,108750,461,437,40588,17079,103,72,2048,2756,20344,3471,59391,3248,12577,1104322,200,96,94,320489,79159,13687,909,1218,3951,148,36882,1211083,68,47,7134,2415,5166,30209,14135,25665,324624,16,1221597,8795,2484531,79757,423913,38972,726,531,304367,438978,57264,720890,1846,91,7450,1112,1794210,173878,1146347,21035,99,1686,6413,181680,149,483458,22368,194031,106,366650,4,464,428,230159,21591,1686,2066408,469,5096750,1349998,1312,14500,2323,2941,634,635824,21842,1528,102,87,226808,1396,481,104,20,4445040,19408,193,1965,108689,877483,152,75,720598,78211,13787,1370,15,852856,135295,1194628,10214,14,24971,437731,86,1021074,4529,9688,51559,1330,349700,4128,11760,323,3800,6458,6065178,4303,34301,18363,452565,15,798,15,24661,670102,14525,4785,2841000,5132,296397,1175963,11,3749,1520,648,569655,745,17181,6066,172067,828,291,32,8769,4261,198829,8189,450824,2411,2070,205,180341,24357,806,2581538,20489,70673,18,112,120,870,1472,6687,17648,1303,2020,3134578,7128,465864,6,123248,1752,138302,11636,32172,8777,4268,230578,110082,1991,8461,9096,1649,511,61673,903,224,49499,6970,2285,36362,41452,1088,140476,63345,54,110,20086,3612670,3769,103,3079,593855,927,32011,38,602224,6873,108228,274477,2692328,60,1450055,212937,161,482],\"yaxis\":\"y\"},{\"hovertemplate\":\"Ano de exibi\\u00e7\\u00e3o=%{x}<br>P\\u00fablico no ano de exibi\\u00e7\\u00e3o=%{y}<extra></extra>\",\"legendgroup\":\"2010\",\"line\":{\"color\":\"#FECB52\",\"dash\":\"solid\"},\"marker\":{\"symbol\":\"circle\"},\"mode\":\"lines\",\"name\":\"2010\",\"showlegend\":true,\"type\":\"scattergl\",\"x\":[2010,2010,2010,2010,2010,2010,2010,2010,2010,2010,2010,2010,2010,2010,2010,2010,2010,2010,2010,2010,2010,2010,2010,2010,2010,2010,2010,2010,2010,2010,2010,2010,2010,2010,2010,2010,2010,2010,2010,2010,2010,2010,2010,2010,2010,2010,2010,2010,2010,2010,2010,2010,2010,2010,2010,2010,2010,2010,2010,2010,2010,2010,2010,2010,2010,2010,2010,2010,2010,2010,2010,2010,2010,2010,2010,2010,2010,2010,2010,2010,2010,2010,2010,2010,2010,2010,2010,2010,2010,2010,2010,2010,2010,2010,2010,2010,2010,2010,2010,2010,2010,2010,2010,2010,2010,2010,2010,2010,2010,2010,2010,2010,2010,2010,2010,2010,2010,2010,2010,2010,2010,2010,2010,2010,2010,2010,2010,2010,2010,2010,2010,2010,2010,2010,2010,2010,2010,2010,2010,2010,2010,2010,2010,2010,2010,2010,2010,2010,2010,2010,2010,2010,2010,2010,2010,2010,2010,2010,2010,2010,2010,2010,2010,2010,2010,2010,2010,2010,2010,2010,2010,2010,2010,2010,2010,2010,2010,2010,2010,2010,2010,2010,2010,2010,2010,2010,2010,2010,2010,2010,2010,2010,2010,2010,2010,2010,2010,2010,2010,2010,2010,2010,2010,2010,2010,2010,2010,2010,2010,2010,2010,2010,2010,2010,2010,2010,2010,2010,2010,2010,2010,2010,2010,2010,2010,2010,2010,2010,2010,2010,2010,2010,2010,2010,2010,2010,2010,2010,2010,2010,2010,2010,2010,2010,2010,2010,2010,2010,2010,2010,2010,2010,2010,2010,2010,2010,2010,2010,2010,2010,2010,2010,2010,2010,2010,2010,2010,2010,2010,2010,2010,2010,2010,2010,2010,2010,2010,2010,2010,2010,2010,2010,2010,2010,2010,2010,2010,2010,2010,2010,2010,2010,2010,2010,2010,2010,2010,2010,2010,2010,2010,2010,2010,2010,2010,2010,2010,2010,2010,2010,2010,2010,2010,2010,2010,2010,2010,2010,2010,2010,2010,2010,2010,2010,2010,2010,2010,2010,2010,2010,2010,2010,2010,2010,2010,2010,2010,2010,2010,2010,2010,2010,2010,2010,2010,2010,2010,2010,2010,2010,2010,2010,2010,2010,2010,2010,2010,2010,2010,2010,2010,2010,2010,2010,2010,2010,2010,2010,2010,2010,2010,2010,2010,2010,2010,2010,2010,2010,2010,2010,2010,2010,2010,2010,2010,2010,2010,2010,2010,2010,2010,2010,2010,2010,2010,2010,2010,2010,2010,2010,2010,2010,2010,2010,2010,2010,2010,2010,2010,2010,2010,2010,2010,2010,2010,2010,2010,2010,2010,2010,2010,2010,2010,2010,2010,2010,2010,2010,2010,2010,2010,2010,2010,2010,2010,2010,2010,2010,2010,2010,2010,2010,2010,2010,2010,2010,2010,2010,2010,2010,2010,2010,2010,2010,2010,2010,2010,2010,2010,2010,2010,2010,2010,2010,2010,2010,2010,2010,2010,2010,2010,2010,2010,2010,2010,2010,2010,2010,2010,2010,2010,2010,2010,2010,2010,2010,2010,2010,2010,2010,2010,2010,2010,2010,2010,2010,2010,2010,2010,2010,2010,2010,2010,2010,2010,2010,2010,2010,2010],\"xaxis\":\"x\",\"y\":[16852,223425,633,928,23,170,127416,25992,155744,180485,457,453,132,5737,106659,26343,334,19901,1600,62058,387,471,88210,877,3659,336080,46324,575,86,97576,1049006,26498,55,431,8,1779720,3159,30,314472,3461,702699,119878,10469,6179590,217972,44375,1144,1046,5006,4813,143,4500,6453,12,937,22924,74051,16814,15338,431,19796,1353,3708,4344557,24,16686,1056,5080809,572,593,10850,48700,44863,829184,286017,11537,1727,26868,1188,5781,59,172374,23182,1712,227,562,7431,1926136,296739,53318,899,131870,78149,787020,138617,135270,270,6172959,60749,679,24720,76,26234,12761,2,270,1661,517,11278,2710,26,22603,49,12806,84205,33,16,11145,16,101896,55,200,3770,7801,344521,2303,205927,282,627092,29924,24,41639,3413166,433,3453,848,88,1,7,35837,55801,353109,1848473,564960,32475,595,2044487,6608,208200,5127,64065,841,21241,8898,3432,2081,447822,6041,120060,85,252,4094,24051,96104,59187,517,50,21146,394,17179,2115,875,43,35672,258715,23687,60451,886,492,889,1036,38706,47413,2470,459681,1683065,35714,1512,75,43230,65225,125,34341,423206,98006,12727,466,375,113420,51,512,6181,45,38585,300,335,2502709,3,359151,116,4834,1524940,681,4961,24,18,379,158161,26488,66537,4401163,296,299023,10153,54408,22223,61,5,860,863445,893212,2395,20065,357980,7,66932,1588,842,593234,3852,29033,46191,475608,286,2104835,60,53176,46,5,428999,7334,11287,597,278380,848494,2812,1496,11690,36386,3036,294,255182,32285,7188,7460,1634469,2425161,618,1348,6836,68172,149247,1205,7724,12878,1343433,197753,2394,2822,96043,140,37945,2500,1190,1328,1559,4060304,56170,357,11557,929,234380,47536,4273,2528,1014740,8,953345,2002,245,12,6191,12074,196,511,5,537,119720,6358,4509,1197161,4748,452734,34,24862,5631,196274,8527,1805,293,961,3227105,19247,1916,891788,856171,4996,247,19089,73,20560,29625,630,6921,148041,109,115208,39,31353,16015,7090,782,328128,2777,4882,63566,229,16,402742,1568702,8774,15499,2500,85785,6589,54,8997,7747,7991,43103,8198,1066176,55787,474469,861,4257,113,42958,442635,3995,4038,76,73,11824,24525,530,54,2005439,146620,32043,660838,464,37036,2129,183470,406029,785259,18048,2346,1989213,39,47985,34642,2610,97,48588,46,272945,77177,125,710288,24149,1430628,2891,1543953,565,71,1433573,1075,32,10157,400,117,3058,148,37410,466339,11491,212758,3236,13,559993,2472825,7368374,1,844439,197243,35212,986,133365,28562,34247,383,874,737,547,132484,5919,20,669,4060,3429,1692,100,875,24126,4068,8903,1437,11,3235,879,162034,4352090,96973,252,900234,11023475,265044,8664,268,9362,102,21310,21318,4703,51558,1809,8601,1221,9474,327363,586187,2041,7,24146,529601,14013,82258,714193,4038,348,8929,9572,16,44233,10,26623,3469,20230,384,85288,4589,234,223884,178,10,9,136455,387320,33,7,1056966,85928,89062,12865,83226,15015,1981],\"yaxis\":\"y\"},{\"hovertemplate\":\"Ano de exibi\\u00e7\\u00e3o=%{x}<br>P\\u00fablico no ano de exibi\\u00e7\\u00e3o=%{y}<extra></extra>\",\"legendgroup\":\"2009\",\"line\":{\"color\":\"#636efa\",\"dash\":\"solid\"},\"marker\":{\"symbol\":\"circle\"},\"mode\":\"lines\",\"name\":\"2009\",\"showlegend\":true,\"type\":\"scattergl\",\"x\":[2009,2009,2009,2009,2009,2009,2009,2009,2009,2009,2009,2009,2009,2009,2009,2009,2009,2009,2009,2009,2009,2009,2009,2009,2009,2009,2009,2009,2009,2009,2009,2009,2009,2009,2009,2009,2009,2009,2009,2009,2009,2009,2009,2009,2009,2009,2009,2009,2009,2009,2009,2009,2009,2009,2009,2009,2009,2009,2009,2009,2009,2009,2009,2009,2009,2009,2009,2009,2009,2009,2009,2009,2009,2009,2009,2009,2009,2009,2009,2009,2009,2009,2009,2009,2009,2009,2009,2009,2009,2009,2009,2009,2009,2009,2009,2009,2009,2009,2009,2009,2009,2009,2009,2009,2009,2009,2009,2009,2009,2009,2009,2009,2009,2009,2009,2009,2009,2009,2009,2009,2009,2009,2009,2009,2009,2009,2009,2009,2009,2009,2009,2009,2009,2009,2009,2009,2009,2009,2009,2009,2009,2009,2009,2009,2009,2009,2009,2009,2009,2009,2009,2009,2009,2009,2009,2009,2009,2009,2009,2009,2009,2009,2009,2009,2009,2009,2009,2009,2009,2009,2009,2009,2009,2009,2009,2009,2009,2009,2009,2009,2009,2009,2009,2009,2009,2009,2009,2009,2009,2009,2009,2009,2009,2009,2009,2009,2009,2009,2009,2009,2009,2009,2009,2009,2009,2009,2009,2009,2009,2009,2009,2009,2009,2009,2009,2009,2009,2009,2009,2009,2009,2009,2009,2009,2009,2009,2009,2009,2009,2009,2009,2009,2009,2009,2009,2009,2009,2009,2009,2009,2009,2009,2009,2009,2009,2009,2009,2009,2009,2009,2009,2009,2009,2009,2009,2009,2009,2009,2009,2009,2009,2009,2009,2009,2009,2009,2009,2009,2009,2009,2009,2009,2009,2009,2009,2009,2009,2009,2009,2009,2009,2009,2009,2009,2009,2009,2009,2009,2009,2009,2009,2009,2009,2009,2009,2009,2009,2009,2009,2009,2009,2009,2009,2009,2009,2009,2009,2009,2009,2009,2009,2009,2009,2009,2009,2009,2009,2009,2009,2009,2009,2009,2009,2009,2009,2009,2009,2009,2009,2009,2009,2009,2009,2009,2009,2009,2009,2009,2009,2009,2009,2009,2009,2009,2009,2009,2009,2009,2009,2009,2009,2009,2009,2009,2009,2009,2009,2009,2009,2009,2009,2009,2009,2009,2009,2009,2009,2009,2009,2009,2009,2009,2009,2009,2009,2009,2009,2009,2009,2009,2009,2009,2009,2009,2009,2009,2009,2009,2009,2009,2009,2009,2009,2009,2009,2009,2009,2009,2009,2009,2009,2009,2009,2009,2009,2009,2009,2009,2009,2009,2009,2009,2009,2009,2009,2009,2009,2009,2009,2009,2009,2009,2009,2009,2009,2009,2009,2009,2009,2009,2009,2009,2009,2009,2009,2009,2009,2009,2009,2009,2009,2009,2009,2009,2009,2009,2009,2009,2009,2009,2009,2009,2009,2009,2009,2009,2009,2009,2009,2009,2009,2009,2009,2009,2009,2009,2009,2009,2009,2009,2009,2009,2009,2009,2009,2009,2009,2009,2009,2009,2009,2009,2009,2009,2009,2009,2009,2009,2009,2009,2009,2009,2009,2009,2009,2009,2009,2009,2009,2009,2009,2009,2009,2009,2009,2009,2009,2009,2009,2009,2009,2009,2009,2009,2009,2009,2009,2009,2009,2009,2009,2009,2009,2009,2009,2009,2009,2009,2009,2009,2009,2009,2009,2009,2009,2009,2009,2009,2009,2009,2009,2009,2009,2009,2009,2009,2009,2009,2009,2009,2009,2009,2009,2009,2009,2009,2009,2009,2009,2009,2009,2009,2009,2009,2009,2009,2009,2009,2009,2009,2009,2009,2009,2009,2009,2009,2009,2009,2009,2009,2009,2009,2009,2009],\"xaxis\":\"x\",\"y\":[8672,2313,75,5056558,1718,13255,335,518,219914,121648,33,1876,16926,449,24,1,3685,6091,804,182,9279602,3546,650,136,15743,185391,79,3406,14843,8708,2177,318,19549,2080,239,18,281068,182,23545,2353136,501,512,47756,685,586245,86040,71915,84,172,694188,20905,1460499,138,1605,9036,37975,272932,15972,1474299,93,229,14367,10307,184058,775,3488,184543,19497,2107,1120,6693,22677,1311,21883,219519,42923,75162,25958,129253,257,138,766,842,909,81,34,380302,222,3059245,286,72277,159,24693,12117,10768,176,1464,384212,2604,48,310,6822,125,1008639,70,5611,312944,2938669,64017,1839,9,85235,873767,221,17643,9358,30983,20150,481381,42827,25,4,1087623,14502,89,141,1338,3789,150,226628,97542,99,150,27672,481,5,3922,1974,54159,23748,88,2632,273,14870,232,67,1092,359,160588,25871,215,4305,2978,22564,6,5738,530,61,126252,1264,701,35,15855,116,110,2045,674,32,304478,184443,19494,108,941,1157,803285,36,392561,2002,33255,32294,422,158923,60598,135,4434,67,2,329512,251429,721,514912,1866353,13977,69413,1711,98,3927,57243,482895,576,152205,164467,140196,834552,5574,1403,28,243,53,35629,262,259248,15872,12242,341,4191,624,127178,496,8178,433,711,16285,533,256,260,185663,113905,3554,377765,365,14255,171690,207,622,39152,6529,1659,7505,53929,5199,46,21603,232098,268,886773,125586,1060,23965,2596,61294,378,772320,139723,4698,91158,3758,9241,15184,732,33719,8130,348840,2881,17,173418,8118,632018,4530291,27112,30,39947,35480,16366,4931,1995,49903,6516,538,55890,28,3561,14,14800,572428,172736,3466,17,13864,292471,120272,170,264062,387379,3796,105544,171643,12429,94,50330,12085,736,27275,970,1292,255,259,992,5020,7149,207,152,2290,7451,15588,64,5686210,1047,1696,1625864,773,1428,1414,227564,108,1223913,271,125093,1199,184,4781,10407,800,76,108,104,143,490,911,18,712518,1508,5649,212719,405762,155,1418995,918,7993,113,125,188,1031,221,5407,97,241,36526,4119,225,443250,19,442,34849,206078,1571,10,140,265,11,62921,713,30,76120,2548,2873,151731,249227,140,2083246,77732,1458321,529,8757,57,1385608,9810,907,178,67811,361030,16796,7337,29379,406619,111787,666625,33751,6026,448,404,27,6577,196,215,22,706,2231,860582,50,4165,142,46477,35,649,26070,116,1340,282,185,1144728,21192,5026,249,2750,54665,581,446866,553,2202640,2699,25,525,74876,206277,32464,1613,220,59145,7568,125,120241,2650,8968,65,152073,160984,288,29,904,85,526420,2217,39348,3196,943863,67,41,446,71,2143,1902,8405,111691,702,652,64539,1334,1379657,5,230,26503,959,108933,23187,5884,13184,137,11803,15,77000,21854,316077,44,1764821,5786844,12681,14084,248,267744,19,760304,44548,267339,2342,1376092,71055,59647,106,23516,1734,579,591,218,100,396586,15013,350853,182,257960,72,2547,282709,91732,23807,613,3238,35812,83853,17,102321,159870,15211,4114,160,609,117937,2149681,21,70,1421492,97311,5035,556,64481,1033,21638,9258,1005573,27692,6784,510608,625,160,16560,786,8521,97,1257,9316,687,2602771,267916,2941,2047897,26973,42,54,2308197,24,103905,41562,2037,84725,35314,299,269,5465,429,846,6885,282,12741,3591,286,539796,3199434,250109,8914,1671,546,94588,33291,2107],\"yaxis\":\"y\"}],                        {\"legend\":{\"title\":{\"text\":\"Ano de exibi\\u00e7\\u00e3o\"},\"tracegroupgap\":0},\"margin\":{\"t\":60},\"template\":{\"data\":{\"bar\":[{\"error_x\":{\"color\":\"#2a3f5f\"},\"error_y\":{\"color\":\"#2a3f5f\"},\"marker\":{\"line\":{\"color\":\"#E5ECF6\",\"width\":0.5},\"pattern\":{\"fillmode\":\"overlay\",\"size\":10,\"solidity\":0.2}},\"type\":\"bar\"}],\"barpolar\":[{\"marker\":{\"line\":{\"color\":\"#E5ECF6\",\"width\":0.5},\"pattern\":{\"fillmode\":\"overlay\",\"size\":10,\"solidity\":0.2}},\"type\":\"barpolar\"}],\"carpet\":[{\"aaxis\":{\"endlinecolor\":\"#2a3f5f\",\"gridcolor\":\"white\",\"linecolor\":\"white\",\"minorgridcolor\":\"white\",\"startlinecolor\":\"#2a3f5f\"},\"baxis\":{\"endlinecolor\":\"#2a3f5f\",\"gridcolor\":\"white\",\"linecolor\":\"white\",\"minorgridcolor\":\"white\",\"startlinecolor\":\"#2a3f5f\"},\"type\":\"carpet\"}],\"choropleth\":[{\"colorbar\":{\"outlinewidth\":0,\"ticks\":\"\"},\"type\":\"choropleth\"}],\"contour\":[{\"colorbar\":{\"outlinewidth\":0,\"ticks\":\"\"},\"colorscale\":[[0.0,\"#0d0887\"],[0.1111111111111111,\"#46039f\"],[0.2222222222222222,\"#7201a8\"],[0.3333333333333333,\"#9c179e\"],[0.4444444444444444,\"#bd3786\"],[0.5555555555555556,\"#d8576b\"],[0.6666666666666666,\"#ed7953\"],[0.7777777777777778,\"#fb9f3a\"],[0.8888888888888888,\"#fdca26\"],[1.0,\"#f0f921\"]],\"type\":\"contour\"}],\"contourcarpet\":[{\"colorbar\":{\"outlinewidth\":0,\"ticks\":\"\"},\"type\":\"contourcarpet\"}],\"heatmap\":[{\"colorbar\":{\"outlinewidth\":0,\"ticks\":\"\"},\"colorscale\":[[0.0,\"#0d0887\"],[0.1111111111111111,\"#46039f\"],[0.2222222222222222,\"#7201a8\"],[0.3333333333333333,\"#9c179e\"],[0.4444444444444444,\"#bd3786\"],[0.5555555555555556,\"#d8576b\"],[0.6666666666666666,\"#ed7953\"],[0.7777777777777778,\"#fb9f3a\"],[0.8888888888888888,\"#fdca26\"],[1.0,\"#f0f921\"]],\"type\":\"heatmap\"}],\"heatmapgl\":[{\"colorbar\":{\"outlinewidth\":0,\"ticks\":\"\"},\"colorscale\":[[0.0,\"#0d0887\"],[0.1111111111111111,\"#46039f\"],[0.2222222222222222,\"#7201a8\"],[0.3333333333333333,\"#9c179e\"],[0.4444444444444444,\"#bd3786\"],[0.5555555555555556,\"#d8576b\"],[0.6666666666666666,\"#ed7953\"],[0.7777777777777778,\"#fb9f3a\"],[0.8888888888888888,\"#fdca26\"],[1.0,\"#f0f921\"]],\"type\":\"heatmapgl\"}],\"histogram\":[{\"marker\":{\"pattern\":{\"fillmode\":\"overlay\",\"size\":10,\"solidity\":0.2}},\"type\":\"histogram\"}],\"histogram2d\":[{\"colorbar\":{\"outlinewidth\":0,\"ticks\":\"\"},\"colorscale\":[[0.0,\"#0d0887\"],[0.1111111111111111,\"#46039f\"],[0.2222222222222222,\"#7201a8\"],[0.3333333333333333,\"#9c179e\"],[0.4444444444444444,\"#bd3786\"],[0.5555555555555556,\"#d8576b\"],[0.6666666666666666,\"#ed7953\"],[0.7777777777777778,\"#fb9f3a\"],[0.8888888888888888,\"#fdca26\"],[1.0,\"#f0f921\"]],\"type\":\"histogram2d\"}],\"histogram2dcontour\":[{\"colorbar\":{\"outlinewidth\":0,\"ticks\":\"\"},\"colorscale\":[[0.0,\"#0d0887\"],[0.1111111111111111,\"#46039f\"],[0.2222222222222222,\"#7201a8\"],[0.3333333333333333,\"#9c179e\"],[0.4444444444444444,\"#bd3786\"],[0.5555555555555556,\"#d8576b\"],[0.6666666666666666,\"#ed7953\"],[0.7777777777777778,\"#fb9f3a\"],[0.8888888888888888,\"#fdca26\"],[1.0,\"#f0f921\"]],\"type\":\"histogram2dcontour\"}],\"mesh3d\":[{\"colorbar\":{\"outlinewidth\":0,\"ticks\":\"\"},\"type\":\"mesh3d\"}],\"parcoords\":[{\"line\":{\"colorbar\":{\"outlinewidth\":0,\"ticks\":\"\"}},\"type\":\"parcoords\"}],\"pie\":[{\"automargin\":true,\"type\":\"pie\"}],\"scatter\":[{\"marker\":{\"colorbar\":{\"outlinewidth\":0,\"ticks\":\"\"}},\"type\":\"scatter\"}],\"scatter3d\":[{\"line\":{\"colorbar\":{\"outlinewidth\":0,\"ticks\":\"\"}},\"marker\":{\"colorbar\":{\"outlinewidth\":0,\"ticks\":\"\"}},\"type\":\"scatter3d\"}],\"scattercarpet\":[{\"marker\":{\"colorbar\":{\"outlinewidth\":0,\"ticks\":\"\"}},\"type\":\"scattercarpet\"}],\"scattergeo\":[{\"marker\":{\"colorbar\":{\"outlinewidth\":0,\"ticks\":\"\"}},\"type\":\"scattergeo\"}],\"scattergl\":[{\"marker\":{\"colorbar\":{\"outlinewidth\":0,\"ticks\":\"\"}},\"type\":\"scattergl\"}],\"scattermapbox\":[{\"marker\":{\"colorbar\":{\"outlinewidth\":0,\"ticks\":\"\"}},\"type\":\"scattermapbox\"}],\"scatterpolar\":[{\"marker\":{\"colorbar\":{\"outlinewidth\":0,\"ticks\":\"\"}},\"type\":\"scatterpolar\"}],\"scatterpolargl\":[{\"marker\":{\"colorbar\":{\"outlinewidth\":0,\"ticks\":\"\"}},\"type\":\"scatterpolargl\"}],\"scatterternary\":[{\"marker\":{\"colorbar\":{\"outlinewidth\":0,\"ticks\":\"\"}},\"type\":\"scatterternary\"}],\"surface\":[{\"colorbar\":{\"outlinewidth\":0,\"ticks\":\"\"},\"colorscale\":[[0.0,\"#0d0887\"],[0.1111111111111111,\"#46039f\"],[0.2222222222222222,\"#7201a8\"],[0.3333333333333333,\"#9c179e\"],[0.4444444444444444,\"#bd3786\"],[0.5555555555555556,\"#d8576b\"],[0.6666666666666666,\"#ed7953\"],[0.7777777777777778,\"#fb9f3a\"],[0.8888888888888888,\"#fdca26\"],[1.0,\"#f0f921\"]],\"type\":\"surface\"}],\"table\":[{\"cells\":{\"fill\":{\"color\":\"#EBF0F8\"},\"line\":{\"color\":\"white\"}},\"header\":{\"fill\":{\"color\":\"#C8D4E3\"},\"line\":{\"color\":\"white\"}},\"type\":\"table\"}]},\"layout\":{\"annotationdefaults\":{\"arrowcolor\":\"#2a3f5f\",\"arrowhead\":0,\"arrowwidth\":1},\"autotypenumbers\":\"strict\",\"coloraxis\":{\"colorbar\":{\"outlinewidth\":0,\"ticks\":\"\"}},\"colorscale\":{\"diverging\":[[0,\"#8e0152\"],[0.1,\"#c51b7d\"],[0.2,\"#de77ae\"],[0.3,\"#f1b6da\"],[0.4,\"#fde0ef\"],[0.5,\"#f7f7f7\"],[0.6,\"#e6f5d0\"],[0.7,\"#b8e186\"],[0.8,\"#7fbc41\"],[0.9,\"#4d9221\"],[1,\"#276419\"]],\"sequential\":[[0.0,\"#0d0887\"],[0.1111111111111111,\"#46039f\"],[0.2222222222222222,\"#7201a8\"],[0.3333333333333333,\"#9c179e\"],[0.4444444444444444,\"#bd3786\"],[0.5555555555555556,\"#d8576b\"],[0.6666666666666666,\"#ed7953\"],[0.7777777777777778,\"#fb9f3a\"],[0.8888888888888888,\"#fdca26\"],[1.0,\"#f0f921\"]],\"sequentialminus\":[[0.0,\"#0d0887\"],[0.1111111111111111,\"#46039f\"],[0.2222222222222222,\"#7201a8\"],[0.3333333333333333,\"#9c179e\"],[0.4444444444444444,\"#bd3786\"],[0.5555555555555556,\"#d8576b\"],[0.6666666666666666,\"#ed7953\"],[0.7777777777777778,\"#fb9f3a\"],[0.8888888888888888,\"#fdca26\"],[1.0,\"#f0f921\"]]},\"colorway\":[\"#636efa\",\"#EF553B\",\"#00cc96\",\"#ab63fa\",\"#FFA15A\",\"#19d3f3\",\"#FF6692\",\"#B6E880\",\"#FF97FF\",\"#FECB52\"],\"font\":{\"color\":\"#2a3f5f\"},\"geo\":{\"bgcolor\":\"white\",\"lakecolor\":\"white\",\"landcolor\":\"#E5ECF6\",\"showlakes\":true,\"showland\":true,\"subunitcolor\":\"white\"},\"hoverlabel\":{\"align\":\"left\"},\"hovermode\":\"closest\",\"mapbox\":{\"style\":\"light\"},\"paper_bgcolor\":\"white\",\"plot_bgcolor\":\"#E5ECF6\",\"polar\":{\"angularaxis\":{\"gridcolor\":\"white\",\"linecolor\":\"white\",\"ticks\":\"\"},\"bgcolor\":\"#E5ECF6\",\"radialaxis\":{\"gridcolor\":\"white\",\"linecolor\":\"white\",\"ticks\":\"\"}},\"scene\":{\"xaxis\":{\"backgroundcolor\":\"#E5ECF6\",\"gridcolor\":\"white\",\"gridwidth\":2,\"linecolor\":\"white\",\"showbackground\":true,\"ticks\":\"\",\"zerolinecolor\":\"white\"},\"yaxis\":{\"backgroundcolor\":\"#E5ECF6\",\"gridcolor\":\"white\",\"gridwidth\":2,\"linecolor\":\"white\",\"showbackground\":true,\"ticks\":\"\",\"zerolinecolor\":\"white\"},\"zaxis\":{\"backgroundcolor\":\"#E5ECF6\",\"gridcolor\":\"white\",\"gridwidth\":2,\"linecolor\":\"white\",\"showbackground\":true,\"ticks\":\"\",\"zerolinecolor\":\"white\"}},\"shapedefaults\":{\"line\":{\"color\":\"#2a3f5f\"}},\"ternary\":{\"aaxis\":{\"gridcolor\":\"white\",\"linecolor\":\"white\",\"ticks\":\"\"},\"baxis\":{\"gridcolor\":\"white\",\"linecolor\":\"white\",\"ticks\":\"\"},\"bgcolor\":\"#E5ECF6\",\"caxis\":{\"gridcolor\":\"white\",\"linecolor\":\"white\",\"ticks\":\"\"}},\"title\":{\"x\":0.05},\"xaxis\":{\"automargin\":true,\"gridcolor\":\"white\",\"linecolor\":\"white\",\"ticks\":\"\",\"title\":{\"standoff\":15},\"zerolinecolor\":\"white\",\"zerolinewidth\":2},\"yaxis\":{\"automargin\":true,\"gridcolor\":\"white\",\"linecolor\":\"white\",\"ticks\":\"\",\"title\":{\"standoff\":15},\"zerolinecolor\":\"white\",\"zerolinewidth\":2}}},\"xaxis\":{\"anchor\":\"y\",\"categoryarray\":[2019,2018,2017,2016,2015,2014,2013,2012,2011,2010,2009],\"categoryorder\":\"array\",\"domain\":[0.0,1.0],\"title\":{\"text\":\"Ano de exibi\\u00e7\\u00e3o\"}},\"yaxis\":{\"anchor\":\"x\",\"domain\":[0.0,1.0],\"title\":{\"text\":\"P\\u00fablico no ano de exibi\\u00e7\\u00e3o\"}}},                        {\"responsive\": true}                    ).then(function(){\n",
              "                            \n",
              "var gd = document.getElementById('020b58d3-c78e-4155-9435-3558c1820bf4');\n",
              "var x = new MutationObserver(function (mutations, observer) {{\n",
              "        var display = window.getComputedStyle(gd).display;\n",
              "        if (!display || display === 'none') {{\n",
              "            console.log([gd, 'removed!']);\n",
              "            Plotly.purge(gd);\n",
              "            observer.disconnect();\n",
              "        }}\n",
              "}});\n",
              "\n",
              "// Listen for the removal of the full notebook cells\n",
              "var notebookContainer = gd.closest('#notebook-container');\n",
              "if (notebookContainer) {{\n",
              "    x.observe(notebookContainer, {childList: true});\n",
              "}}\n",
              "\n",
              "// Listen for the clearing of the current output cell\n",
              "var outputEl = gd.closest('.output');\n",
              "if (outputEl) {{\n",
              "    x.observe(outputEl, {childList: true});\n",
              "}}\n",
              "\n",
              "                        })                };                            </script>        </div>\n",
              "</body>\n",
              "</html>"
            ]
          },
          "metadata": {}
        }
      ]
    },
    {
      "cell_type": "markdown",
      "metadata": {
        "id": "wmlxtVUTtvns"
      },
      "source": [
        "Quantidade de lançamentos por ano."
      ]
    },
    {
      "cell_type": "code",
      "metadata": {
        "colab": {
          "base_uri": "https://localhost:8080/"
        },
        "id": "OR37q4MgHPM_",
        "outputId": "f733eb6e-9625-4c26-9c71-bedaeac2c9d4"
      },
      "source": [
        "ano_lanc = data_filme['Ano de exibição']\n",
        "ano_lanc.value_counts()"
      ],
      "execution_count": null,
      "outputs": [
        {
          "output_type": "execute_result",
          "data": {
            "text/plain": [
              "2015    794\n",
              "2016    767\n",
              "2018    707\n",
              "2017    703\n",
              "2019    677\n",
              "2014    675\n",
              "2009    584\n",
              "2013    568\n",
              "2011    558\n",
              "2012    510\n",
              "2010    509\n",
              "Name: Ano de exibição, dtype: int64"
            ]
          },
          "metadata": {},
          "execution_count": 53
        }
      ]
    },
    {
      "cell_type": "markdown",
      "metadata": {
        "id": "xnXeQbcTuBFl"
      },
      "source": [
        "Densidade de lançamentos por ano"
      ]
    },
    {
      "cell_type": "code",
      "metadata": {
        "colab": {
          "base_uri": "https://localhost:8080/",
          "height": 265
        },
        "id": "9S482qsuuWkI",
        "outputId": "87846388-05a2-49b2-f149-fc7f7d4774e8"
      },
      "source": [
        "data_filme[\"Ano de exibição\"].plot(kind=\"density\")  \n",
        "plt.show()\n"
      ],
      "execution_count": null,
      "outputs": [
        {
          "output_type": "display_data",
          "data": {
            "image/png": "[encoded data removed]",
            "text/plain": [
              "<Figure size 432x288 with 1 Axes>"
            ]
          },
          "metadata": {
            "needs_background": "light"
          }
        }
      ]
    },
    {
      "cell_type": "markdown",
      "metadata": {
        "id": "RgmVSiOFRWKZ"
      },
      "source": [
        "**Número de laçamento de filmes por empresas.**"
      ]
    },
    {
      "cell_type": "code",
      "metadata": {
        "colab": {
          "base_uri": "https://localhost:8080/"
        },
        "id": "yqOhGwuc7bws",
        "outputId": "1e591701-0d67-4cc6-8771-b9f25de2242b"
      },
      "source": [
        "empresa_dist = data_filme['Empresa distribuidora']\n",
        "empresa_dist.value_counts().head(60)"
      ],
      "execution_count": null,
      "outputs": [
        {
          "output_type": "execute_result",
          "data": {
            "text/plain": [
              "Imovision                                687\n",
              "Paris                                    428\n",
              "Imagem                                   380\n",
              "Sony                                     378\n",
              "Vitrine Filmes                           327\n",
              "Fox                                      321\n",
              "Warner                                   308\n",
              "Pandora Filmes                           286\n",
              "Califórnia                               266\n",
              "Universal                                243\n",
              "Disney                                   228\n",
              "Playarte                                 193\n",
              "Diamond Films                            151\n",
              "Paramount                                149\n",
              "Esfera Produções                         138\n",
              "Europa                                   133\n",
              "Alphaville Filmes                        131\n",
              "Zeta Filmes                              121\n",
              "Downtown/Paris                           120\n",
              "Espaço Filmes                            119\n",
              "Filmes da Mostra                          91\n",
              "Elo Company                               75\n",
              "Cinemark Brasil                           70\n",
              "Supo Mungam Films                         64\n",
              "Tucumán                                   61\n",
              "H2O Films                                 50\n",
              "Lume Produções Cinematográficas           50\n",
              "Polifilmes                                49\n",
              "Raiz Distribuidora                        47\n",
              "Filmes do Estação                         46\n",
              "F. J. Cines                               44\n",
              "Vinny Filmes                              41\n",
              "Downtown                                  36\n",
              "O2 Play                                   36\n",
              "Fênix Filmes                              33\n",
              "Panda Filmes                              31\n",
              "Videofilmes                               31\n",
              "Cineart Filmes                            30\n",
              "Lança Filmes                              29\n",
              "Pipa Produções                            28\n",
              "UCI                                       28\n",
              "Serendip                                  28\n",
              "Moviemobz                                 27\n",
              "Bretz Filmes                              26\n",
              "Pagu Pictures                             24\n",
              "Alpha Filmes                              21\n",
              "Bonfilm                                   19\n",
              "Livres Filmes                             19\n",
              "Boulevard Filmes                          16\n",
              "Olhar Distribuição                        16\n",
              "Elite Filmes                              16\n",
              "ArtHouse                                  15\n",
              "A2 Filmes                                 15\n",
              "Ab Filmes                                 15\n",
              "Arthouse                                  14\n",
              "Espaço Itaú de Cinema                     12\n",
              "Downtown/Paris/RioFilme                   12\n",
              "Inquieta Cinema Cultura e Comunicação     11\n",
              "Downtown/RioFilme                         10\n",
              "RioFilme                                  10\n",
              "Name: Empresa distribuidora, dtype: int64"
            ]
          },
          "metadata": {},
          "execution_count": 55
        }
      ]
    },
    {
      "cell_type": "markdown",
      "metadata": {
        "id": "qDbYVA3ClGUZ"
      },
      "source": [
        "## **Explorando variáveis:**"
      ]
    },
    {
      "cell_type": "markdown",
      "metadata": {
        "id": "XMv1VewMTgo5"
      },
      "source": [
        "**5 - Quebrar os dados em conjunto de treino e conjunto de teste**"
      ]
    },
    {
      "cell_type": "code",
      "metadata": {
        "id": "YISxYXjfHnwS",
        "colab": {
          "base_uri": "https://localhost:8080/"
        },
        "outputId": "ee200f4a-85ff-41fd-9f3e-65252d45e306"
      },
      "source": [
        "col_mac = ['Ano de exibição','Público no ano de exibição','Renda (R$) no ano de exibição']\n",
        "data_filme.dropna(subset=col_mac, inplace=True) \n",
        "\n",
        "\n",
        "X = data_filme[col_mac].to_numpy()\n",
        "y = data_filme['Ano de exibição'].to_numpy()\n",
        "print(X.shape, y.shape)\n"
      ],
      "execution_count": null,
      "outputs": [
        {
          "output_type": "stream",
          "name": "stdout",
          "text": [
            "(7052, 3) (7052,)\n"
          ]
        }
      ]
    },
    {
      "cell_type": "code",
      "metadata": {
        "colab": {
          "base_uri": "https://localhost:8080/"
        },
        "id": "MYyCGzg4mGNx",
        "outputId": "e6563624-aa78-42f1-b8f7-f74aa9f97d39"
      },
      "source": [
        "X # Numpy Array apenas com números"
      ],
      "execution_count": null,
      "outputs": [
        {
          "output_type": "execute_result",
          "data": {
            "text/plain": [
              "array([[2.0190000e+03, 1.0000000e+01, 7.0000000e+01],\n",
              "       [2.0190000e+03, 6.2890000e+03, 1.0380500e+05],\n",
              "       [2.0190000e+03, 3.3030000e+03, 3.1295000e+04],\n",
              "       ...,\n",
              "       [2.0090000e+03, 9.4588000e+04, 8.7017100e+05],\n",
              "       [2.0090000e+03, 3.3291000e+04, 3.0327638e+05],\n",
              "       [2.0090000e+03, 2.1070000e+03, 8.9540000e+03]])"
            ]
          },
          "metadata": {},
          "execution_count": 25
        }
      ]
    },
    {
      "cell_type": "code",
      "metadata": {
        "colab": {
          "base_uri": "https://localhost:8080/"
        },
        "id": "B9_UGu0fmHgQ",
        "outputId": "0d06e722-dbd3-4e8a-fb81-8dabb2a4b7d9"
      },
      "source": [
        "y # Numpy Array 2019 a 2009"
      ],
      "execution_count": null,
      "outputs": [
        {
          "output_type": "execute_result",
          "data": {
            "text/plain": [
              "array([2019, 2019, 2019, ..., 2009, 2009, 2009])"
            ]
          },
          "metadata": {},
          "execution_count": 26
        }
      ]
    },
    {
      "cell_type": "code",
      "metadata": {
        "colab": {
          "base_uri": "https://localhost:8080/"
        },
        "id": "wl6fLczumQ_i",
        "outputId": "82b16cc8-fcf9-4c34-d3b6-7315a8847cc2"
      },
      "source": [
        "print('Nomes dos Atributos: ', col_mac, '\\n')\n",
        "print('Tamanho de X: ', X.shape, '\\n')\n",
        "print('Tamanho de y: ', y.shape, '\\n')"
      ],
      "execution_count": null,
      "outputs": [
        {
          "output_type": "stream",
          "name": "stdout",
          "text": [
            "Nomes dos Atributos:  ['Ano de exibição', 'Público no ano de exibição', 'Renda (R$) no ano de exibição'] \n",
            "\n",
            "Tamanho de X:  (7052, 3) \n",
            "\n",
            "Tamanho de y:  (7052,) \n",
            "\n"
          ]
        }
      ]
    },
    {
      "cell_type": "code",
      "metadata": {
        "id": "MiUipJpJmX6v"
      },
      "source": [
        "X_train, X_test, y_train, y_test = train_test_split(X, y, test_size=0.25, random_state=130)\n"
      ],
      "execution_count": null,
      "outputs": []
    },
    {
      "cell_type": "code",
      "metadata": {
        "colab": {
          "base_uri": "https://localhost:8080/"
        },
        "id": "WX_VVEp3ItQ5",
        "outputId": "20123572-c238-48e9-891b-71323774e35a"
      },
      "source": [
        "print(f\"Tamanho de treino X_train: {X_train.shape}\")\n",
        "print(f\"Tamanho de teste X_test: {X_test.shape}\")\n",
        "print(f\"Tamanho de treino y_train: {y_train.shape}\")\n",
        "print(f\"Tamanho de teste y_test: {y_test.shape}\")"
      ],
      "execution_count": null,
      "outputs": [
        {
          "output_type": "stream",
          "name": "stdout",
          "text": [
            "Tamanho de treino X_train: (5289, 3)\n",
            "Tamanho de teste X_test: (1763, 3)\n",
            "Tamanho de treino y_train: (5289,)\n",
            "Tamanho de teste y_test: (1763,)\n"
          ]
        }
      ]
    },
    {
      "cell_type": "markdown",
      "metadata": {
        "id": "De2ATYzJmeXw"
      },
      "source": [
        "### **REGRESSÃO LOGÍSTICA**"
      ]
    },
    {
      "cell_type": "markdown",
      "metadata": {
        "id": "L_9WQv2qTuDl"
      },
      "source": [
        "**6 - Treinar um estimador do scikit-learn de aprendizagem supervisionada (regressor ou classificador)**"
      ]
    },
    {
      "cell_type": "code",
      "metadata": {
        "id": "OS7yhj_NmoMk"
      },
      "source": [
        "from sklearn.linear_model import SGDClassifier\n",
        "\n",
        "clf = SGDClassifier(loss='log', learning_rate='constant', max_iter=10,\n",
        "                   eta0=0.0001, verbose=1, tol=None, random_state=130)"
      ],
      "execution_count": null,
      "outputs": []
    },
    {
      "cell_type": "code",
      "metadata": {
        "colab": {
          "base_uri": "https://localhost:8080/"
        },
        "id": "3pEMKKzdI0Wi",
        "outputId": "c3cb3155-c341-4ff3-b4ae-057581ee14bc"
      },
      "source": [
        "clf.fit(X_train, y_train)"
      ],
      "execution_count": null,
      "outputs": [
        {
          "output_type": "stream",
          "name": "stdout",
          "text": [
            "-- Epoch 1\n",
            "Norm: 3118.28, NNZs: 3, Bias: -0.005850, T: 5289, Avg. loss: 403048095.886257\n",
            "Total training time: 0.00 seconds.\n",
            "-- Epoch 2\n",
            "Norm: 5096.50, NNZs: 3, Bias: -0.006150, T: 10578, Avg. loss: 354108355.334804\n",
            "Total training time: 0.01 seconds.\n",
            "-- Epoch 3\n",
            "Norm: 5689.30, NNZs: 3, Bias: -0.022550, T: 15867, Avg. loss: 219068707.044837\n",
            "Total training time: 0.01 seconds.\n",
            "-- Epoch 4\n",
            "Norm: 7118.83, NNZs: 3, Bias: -0.021650, T: 21156, Avg. loss: 296999012.413173\n",
            "Total training time: 0.01 seconds.\n",
            "-- Epoch 5\n",
            "Norm: 15358.50, NNZs: 3, Bias: -0.052950, T: 26445, Avg. loss: 281934848.579271\n",
            "Total training time: 0.01 seconds.\n",
            "-- Epoch 6\n",
            "Norm: 10289.29, NNZs: 3, Bias: -0.052850, T: 31734, Avg. loss: 374809412.712630\n",
            "Total training time: 0.01 seconds.\n",
            "-- Epoch 7\n",
            "Norm: 11378.76, NNZs: 3, Bias: -0.077950, T: 37023, Avg. loss: 175901938.123184\n",
            "Total training time: 0.01 seconds.\n",
            "-- Epoch 8\n",
            "Norm: 12278.65, NNZs: 3, Bias: -0.094050, T: 42312, Avg. loss: 188389981.661358\n",
            "Total training time: 0.01 seconds.\n",
            "-- Epoch 9\n",
            "Norm: 13892.07, NNZs: 3, Bias: -0.113350, T: 47601, Avg. loss: 203459897.310586\n",
            "Total training time: 0.01 seconds.\n",
            "-- Epoch 10\n",
            "Norm: 14707.60, NNZs: 3, Bias: -0.125150, T: 52890, Avg. loss: 232445422.154799\n",
            "Total training time: 0.02 seconds.\n",
            "-- Epoch 1\n",
            "Norm: 2309.69, NNZs: 3, Bias: -0.017050, T: 5289, Avg. loss: 561827222.184482\n",
            "Total training time: 0.00 seconds.\n",
            "-- Epoch 2\n",
            "Norm: 4140.42, NNZs: 3, Bias: -0.031150, T: 10578, Avg. loss: 753375354.038235\n",
            "Total training time: 0.00 seconds.\n",
            "-- Epoch 3\n",
            "Norm: 6402.38, NNZs: 3, Bias: -0.042750, T: 15867, Avg. loss: 873010587.304501\n",
            "Total training time: 0.00 seconds.\n",
            "-- Epoch 4\n",
            "Norm: 9817.59, NNZs: 3, Bias: -0.061250, T: 21156, Avg. loss: 709208053.003673\n",
            "Total training time: 0.00 seconds.\n",
            "-- Epoch 5\n",
            "Norm: 10436.69, NNZs: 3, Bias: -0.109150, T: 26445, Avg. loss: 569634590.335005\n",
            "Total training time: 0.00 seconds.\n",
            "-- Epoch 6\n",
            "Norm: 12069.65, NNZs: 3, Bias: -0.115350, T: 31734, Avg. loss: 612967788.537340\n",
            "Total training time: 0.01 seconds.\n",
            "-- Epoch 7\n",
            "Norm: 14083.64, NNZs: 3, Bias: -0.148950, T: 37023, Avg. loss: 858305062.186770\n",
            "Total training time: 0.01 seconds.\n",
            "-- Epoch 8\n",
            "Norm: 16940.34, NNZs: 3, Bias: -0.170250, T: 42312, Avg. loss: 1090499379.482000\n",
            "Total training time: 0.01 seconds.\n",
            "-- Epoch 9\n",
            "Norm: 18651.15, NNZs: 3, Bias: -0.207850, T: 47601, Avg. loss: 482882556.911395\n",
            "Total training time: 0.01 seconds.\n",
            "-- Epoch 10\n",
            "Norm: 20461.49, NNZs: 3, Bias: -0.231750, T: 52890, Avg. loss: 749762251.835388\n",
            "Total training time: 0.01 seconds.\n",
            "-- Epoch 1\n",
            "Norm: 2304.28, NNZs: 3, Bias: 0.000850, T: 5289, Avg. loss: 474877098.188297\n",
            "Total training time: 0.00 seconds.\n",
            "-- Epoch 2\n",
            "Norm: 8952.13, NNZs: 3, Bias: -0.016450, T: 10578, Avg. loss: 580732421.199881\n",
            "Total training time: 0.00 seconds.\n",
            "-- Epoch 3\n",
            "Norm: 5383.61, NNZs: 3, Bias: -0.015950, T: 15867, Avg. loss: 778580461.864761\n",
            "Total training time: 0.01 seconds.\n",
            "-- Epoch 4\n",
            "Norm: 8231.95, NNZs: 3, Bias: -0.018550, T: 21156, Avg. loss: 723905491.927405\n",
            "Total training time: 0.01 seconds.\n",
            "-- Epoch 5\n",
            "Norm: 9644.81, NNZs: 3, Bias: -0.043750, T: 26445, Avg. loss: 653029797.504975\n",
            "Total training time: 0.01 seconds.\n",
            "-- Epoch 6\n",
            "Norm: 11509.60, NNZs: 3, Bias: -0.066250, T: 31734, Avg. loss: 636861105.539117\n",
            "Total training time: 0.01 seconds.\n",
            "-- Epoch 7\n",
            "Norm: 11881.05, NNZs: 3, Bias: -0.083550, T: 37023, Avg. loss: 583700378.597701\n",
            "Total training time: 0.01 seconds.\n",
            "-- Epoch 8\n",
            "Norm: 18546.13, NNZs: 3, Bias: -0.107050, T: 42312, Avg. loss: 1329688144.739249\n",
            "Total training time: 0.01 seconds.\n",
            "-- Epoch 9\n",
            "Norm: 15528.55, NNZs: 3, Bias: -0.129250, T: 47601, Avg. loss: 684417840.573280\n",
            "Total training time: 0.01 seconds.\n",
            "-- Epoch 10\n",
            "Norm: 15385.72, NNZs: 3, Bias: -0.170550, T: 52890, Avg. loss: 337301454.906964\n",
            "Total training time: 0.02 seconds.\n",
            "-- Epoch 1\n",
            "Norm: 1519.19, NNZs: 3, Bias: -0.004450, T: 5289, Avg. loss: 901611487.514019\n",
            "Total training time: 0.00 seconds.\n",
            "-- Epoch 2\n",
            "Norm: 2271.08, NNZs: 3, Bias: -0.012150, T: 10578, Avg. loss: 998454550.832418\n",
            "Total training time: 0.00 seconds.\n",
            "-- Epoch 3\n",
            "Norm: 3457.74, NNZs: 3, Bias: -0.028250, T: 15867, Avg. loss: 865356458.509904\n",
            "Total training time: 0.00 seconds.\n",
            "-- Epoch 4\n",
            "Norm: 4931.50, NNZs: 3, Bias: -0.038450, T: 21156, Avg. loss: 874794972.065787\n",
            "Total training time: 0.00 seconds.\n",
            "-- Epoch 5\n",
            "Norm: 7994.52, NNZs: 3, Bias: -0.067550, T: 26445, Avg. loss: 741791706.110662\n",
            "Total training time: 0.01 seconds.\n",
            "-- Epoch 6\n",
            "Norm: 6764.46, NNZs: 3, Bias: -0.066050, T: 31734, Avg. loss: 1395710852.082729\n",
            "Total training time: 0.01 seconds.\n",
            "-- Epoch 7\n",
            "Norm: 6920.36, NNZs: 3, Bias: -0.071450, T: 37023, Avg. loss: 1083513928.770046\n",
            "Total training time: 0.01 seconds.\n",
            "-- Epoch 8\n",
            "Norm: 8927.14, NNZs: 3, Bias: -0.085350, T: 42312, Avg. loss: 1133741209.688980\n",
            "Total training time: 0.01 seconds.\n",
            "-- Epoch 9\n",
            "Norm: 13031.56, NNZs: 3, Bias: -0.075750, T: 47601, Avg. loss: 1242332309.581686\n",
            "Total training time: 0.01 seconds.\n",
            "-- Epoch 10\n",
            "Norm: 9337.22, NNZs: 3, Bias: -0.104550, T: 52890, Avg. loss: 776337480.899043\n",
            "Total training time: 0.01 seconds.\n",
            "-- Epoch 1\n",
            "Norm: 690.64, NNZs: 3, Bias: 0.010550, T: 5289, Avg. loss: 758173770.991246\n",
            "Total training time: 0.00 seconds.\n",
            "-- Epoch 2\n",
            "Norm: 1871.34, NNZs: 3, Bias: -0.007850, T: 10578, Avg. loss: 650401525.641541\n",
            "Total training time: 0.00 seconds.\n",
            "-- Epoch 3\n",
            "Norm: 3415.36, NNZs: 3, Bias: -0.024050, T: 15867, Avg. loss: 676713671.001949\n",
            "Total training time: 0.00 seconds.\n",
            "-- Epoch 4\n",
            "Norm: 4573.61, NNZs: 3, Bias: -0.024550, T: 21156, Avg. loss: 668731397.855013\n",
            "Total training time: 0.00 seconds.\n",
            "-- Epoch 5\n",
            "Norm: 2964.44, NNZs: 3, Bias: -0.016550, T: 26445, Avg. loss: 977200641.878690\n",
            "Total training time: 0.01 seconds.\n",
            "-- Epoch 6\n",
            "Norm: 4712.15, NNZs: 3, Bias: -0.025250, T: 31734, Avg. loss: 877696874.058406\n",
            "Total training time: 0.01 seconds.\n",
            "-- Epoch 7\n",
            "Norm: 3490.98, NNZs: 3, Bias: -0.046050, T: 37023, Avg. loss: 592588641.828610\n",
            "Total training time: 0.01 seconds.\n",
            "-- Epoch 8\n",
            "Norm: 3747.88, NNZs: 3, Bias: -0.039650, T: 42312, Avg. loss: 745381863.872065\n",
            "Total training time: 0.01 seconds.\n",
            "-- Epoch 9\n",
            "Norm: 3755.46, NNZs: 3, Bias: -0.051150, T: 47601, Avg. loss: 629700761.769495\n",
            "Total training time: 0.01 seconds.\n",
            "-- Epoch 10\n",
            "Norm: 4210.38, NNZs: 3, Bias: -0.048050, T: 52890, Avg. loss: 568952790.256556\n",
            "Total training time: 0.01 seconds.\n",
            "-- Epoch 1\n",
            "Norm: 502.93, NNZs: 3, Bias: 0.000150, T: 5289, Avg. loss: 983846884.905337\n",
            "Total training time: 0.00 seconds.\n",
            "-- Epoch 2\n",
            "Norm: 9683.92, NNZs: 3, Bias: -0.011550, T: 10578, Avg. loss: 856220729.043120\n",
            "Total training time: 0.00 seconds.\n",
            "-- Epoch 3\n",
            "Norm: 3525.74, NNZs: 3, Bias: 0.000750, T: 15867, Avg. loss: 1153007626.937494\n",
            "Total training time: 0.00 seconds.\n",
            "-- Epoch 4\n",
            "Norm: 3403.45, NNZs: 3, Bias: 0.008850, T: 21156, Avg. loss: 1348722530.759371\n",
            "Total training time: 0.00 seconds.\n",
            "-- Epoch 5\n",
            "Norm: 1017.47, NNZs: 3, Bias: -0.006050, T: 26445, Avg. loss: 1067216073.010876\n",
            "Total training time: 0.00 seconds.\n",
            "-- Epoch 6\n",
            "Norm: 1220.56, NNZs: 3, Bias: -0.000850, T: 31734, Avg. loss: 1512196799.512715\n",
            "Total training time: 0.01 seconds.\n",
            "-- Epoch 7\n",
            "Norm: 1493.65, NNZs: 3, Bias: -0.006250, T: 37023, Avg. loss: 973254526.443624\n",
            "Total training time: 0.01 seconds.\n",
            "-- Epoch 8\n",
            "Norm: 1416.18, NNZs: 3, Bias: -0.018050, T: 42312, Avg. loss: 922634454.522754\n",
            "Total training time: 0.01 seconds.\n",
            "-- Epoch 9\n",
            "Norm: 1346.88, NNZs: 3, Bias: -0.023350, T: 47601, Avg. loss: 1327594957.146035\n",
            "Total training time: 0.01 seconds.\n",
            "-- Epoch 10\n",
            "Norm: 1696.33, NNZs: 3, Bias: -0.036750, T: 52890, Avg. loss: 1123752637.796546\n",
            "Total training time: 0.01 seconds.\n",
            "-- Epoch 1\n",
            "Norm: 6540.63, NNZs: 3, Bias: 0.002350, T: 5289, Avg. loss: 1900381002.331058\n",
            "Total training time: 0.00 seconds.\n",
            "-- Epoch 2\n",
            "Norm: 2121.89, NNZs: 3, Bias: -0.004050, T: 10578, Avg. loss: 1430899197.882842\n",
            "Total training time: 0.00 seconds.\n",
            "-- Epoch 3\n",
            "Norm: 2964.65, NNZs: 3, Bias: 0.010150, T: 15867, Avg. loss: 1451139276.621859\n",
            "Total training time: 0.00 seconds.\n",
            "-- Epoch 4\n",
            "Norm: 4035.66, NNZs: 3, Bias: 0.005750, T: 21156, Avg. loss: 1462898752.632669\n",
            "Total training time: 0.00 seconds.\n",
            "-- Epoch 5\n",
            "Norm: 4770.53, NNZs: 3, Bias: 0.004150, T: 26445, Avg. loss: 2271651937.343127\n",
            "Total training time: 0.01 seconds.\n",
            "-- Epoch 6\n",
            "Norm: 6601.51, NNZs: 3, Bias: -0.000150, T: 31734, Avg. loss: 1477319275.932396\n",
            "Total training time: 0.01 seconds.\n",
            "-- Epoch 7\n",
            "Norm: 7002.81, NNZs: 3, Bias: -0.001850, T: 37023, Avg. loss: 1338991351.715483\n",
            "Total training time: 0.01 seconds.\n",
            "-- Epoch 8\n",
            "Norm: 7903.94, NNZs: 3, Bias: -0.009650, T: 42312, Avg. loss: 789268752.480093\n",
            "Total training time: 0.01 seconds.\n",
            "-- Epoch 9\n",
            "Norm: 8544.15, NNZs: 3, Bias: 0.000450, T: 47601, Avg. loss: 2150032724.142105\n",
            "Total training time: 0.01 seconds.\n",
            "-- Epoch 10\n",
            "Norm: 8889.97, NNZs: 3, Bias: 0.012550, T: 52890, Avg. loss: 1384191537.529910\n",
            "Total training time: 0.01 seconds.\n",
            "-- Epoch 1\n",
            "Norm: 2427.60, NNZs: 3, Bias: 0.003650, T: 5289, Avg. loss: 1890513481.221314\n",
            "Total training time: 0.00 seconds.\n",
            "-- Epoch 2\n",
            "Norm: 785.23, NNZs: 3, Bias: -0.002050, T: 10578, Avg. loss: 1970675079.862107\n",
            "Total training time: 0.00 seconds.\n",
            "-- Epoch 3\n",
            "Norm: 3915.93, NNZs: 3, Bias: -0.012150, T: 15867, Avg. loss: 1472471883.690935\n",
            "Total training time: 0.00 seconds.\n",
            "-- Epoch 4\n",
            "Norm: 3966.04, NNZs: 3, Bias: -0.000850, T: 21156, Avg. loss: 1899102554.676918\n",
            "Total training time: 0.00 seconds.\n",
            "-- Epoch 5\n",
            "Norm: 4608.46, NNZs: 3, Bias: -0.003850, T: 26445, Avg. loss: 1394634741.258517\n",
            "Total training time: 0.01 seconds.\n",
            "-- Epoch 6\n",
            "Norm: 5830.77, NNZs: 3, Bias: -0.015850, T: 31734, Avg. loss: 1048037592.249739\n",
            "Total training time: 0.01 seconds.\n",
            "-- Epoch 7\n",
            "Norm: 7094.40, NNZs: 3, Bias: -0.020650, T: 37023, Avg. loss: 1421048136.578829\n",
            "Total training time: 0.01 seconds.\n",
            "-- Epoch 8\n",
            "Norm: 7829.64, NNZs: 3, Bias: -0.021450, T: 42312, Avg. loss: 1341399344.002362\n",
            "Total training time: 0.01 seconds.\n",
            "-- Epoch 9\n",
            "Norm: 8456.83, NNZs: 3, Bias: -0.011650, T: 47601, Avg. loss: 1597328656.289326\n",
            "Total training time: 0.01 seconds.\n",
            "-- Epoch 10\n",
            "Norm: 9589.94, NNZs: 3, Bias: -0.008650, T: 52890, Avg. loss: 1511637392.927047\n",
            "Total training time: 0.01 seconds.\n",
            "-- Epoch 1\n",
            "Norm: 1728.09, NNZs: 3, Bias: 0.006750, T: 5289, Avg. loss: 2429425892.414555\n",
            "Total training time: 0.00 seconds.\n",
            "-- Epoch 2\n",
            "Norm: 4103.35, NNZs: 3, Bias: -0.012350, T: 10578, Avg. loss: 1604081628.337866\n",
            "Total training time: 0.00 seconds.\n",
            "-- Epoch 3\n",
            "Norm: 5902.50, NNZs: 3, Bias: -0.005150, T: 15867, Avg. loss: 1469121894.750122\n",
            "Total training time: 0.00 seconds.\n",
            "-- Epoch 4\n",
            "Norm: 7156.86, NNZs: 3, Bias: -0.008850, T: 21156, Avg. loss: 1628265707.133400\n",
            "Total training time: 0.01 seconds.\n",
            "-- Epoch 5\n",
            "Norm: 8928.90, NNZs: 3, Bias: -0.017550, T: 26445, Avg. loss: 1389423443.696742\n",
            "Total training time: 0.01 seconds.\n",
            "-- Epoch 6\n",
            "Norm: 10972.22, NNZs: 3, Bias: -0.020950, T: 31734, Avg. loss: 2140889858.934507\n",
            "Total training time: 0.01 seconds.\n",
            "-- Epoch 7\n",
            "Norm: 11832.13, NNZs: 3, Bias: -0.011250, T: 37023, Avg. loss: 2142544416.451185\n",
            "Total training time: 0.01 seconds.\n",
            "-- Epoch 8\n",
            "Norm: 13217.82, NNZs: 3, Bias: -0.007150, T: 42312, Avg. loss: 1546550179.693214\n",
            "Total training time: 0.01 seconds.\n",
            "-- Epoch 9\n",
            "Norm: 14701.67, NNZs: 3, Bias: -0.022350, T: 47601, Avg. loss: 1790391087.918740\n",
            "Total training time: 0.01 seconds.\n",
            "-- Epoch 10\n",
            "Norm: 16995.58, NNZs: 3, Bias: -0.021050, T: 52890, Avg. loss: 1879976019.194909\n",
            "Total training time: 0.01 seconds.\n",
            "-- Epoch 1\n",
            "Norm: 3419.61, NNZs: 3, Bias: -0.015850, T: 5289, Avg. loss: 1900762067.094677\n",
            "Total training time: 0.00 seconds.\n",
            "-- Epoch 2\n",
            "Norm: 5867.91, NNZs: 3, Bias: -0.019850, T: 10578, Avg. loss: 1960539049.832468\n",
            "Total training time: 0.00 seconds.\n",
            "-- Epoch 3\n",
            "Norm: 8728.49, NNZs: 3, Bias: -0.018150, T: 15867, Avg. loss: 1797498358.021712\n",
            "Total training time: 0.00 seconds.\n",
            "-- Epoch 4\n",
            "Norm: 11064.31, NNZs: 3, Bias: -0.034950, T: 21156, Avg. loss: 1802208026.805325\n",
            "Total training time: 0.00 seconds.\n",
            "-- Epoch 5\n",
            "Norm: 13803.04, NNZs: 3, Bias: -0.039350, T: 26445, Avg. loss: 2531250458.822781\n",
            "Total training time: 0.00 seconds.\n",
            "-- Epoch 6\n",
            "Norm: 15450.50, NNZs: 3, Bias: -0.032550, T: 31734, Avg. loss: 1971355204.430650\n",
            "Total training time: 0.01 seconds.\n",
            "-- Epoch 7\n",
            "Norm: 16823.99, NNZs: 3, Bias: -0.034650, T: 37023, Avg. loss: 1988926403.660006\n",
            "Total training time: 0.01 seconds.\n",
            "-- Epoch 8\n",
            "Norm: 19497.59, NNZs: 3, Bias: -0.038750, T: 42312, Avg. loss: 1643426724.658001\n",
            "Total training time: 0.01 seconds.\n",
            "-- Epoch 9\n",
            "Norm: 20478.65, NNZs: 3, Bias: -0.053950, T: 47601, Avg. loss: 1834384229.831541\n",
            "Total training time: 0.01 seconds.\n",
            "-- Epoch 10\n",
            "Norm: 24053.05, NNZs: 3, Bias: -0.066350, T: 52890, Avg. loss: 1674415699.445218\n",
            "Total training time: 0.01 seconds.\n",
            "-- Epoch 1\n",
            "Norm: 2614.31, NNZs: 3, Bias: -0.001850, T: 5289, Avg. loss: 2138601907.904285\n",
            "Total training time: 0.01 seconds.\n",
            "-- Epoch 2\n",
            "Norm: 9834.40, NNZs: 3, Bias: -0.002050, T: 10578, Avg. loss: 2021467028.106399\n",
            "Total training time: 0.01 seconds.\n",
            "-- Epoch 3\n",
            "Norm: 7153.93, NNZs: 3, Bias: -0.003750, T: 15867, Avg. loss: 2674119257.463456\n",
            "Total training time: 0.01 seconds.\n",
            "-- Epoch 4\n",
            "Norm: 8816.90, NNZs: 3, Bias: -0.014450, T: 21156, Avg. loss: 1937048818.167851\n",
            "Total training time: 0.01 seconds.\n",
            "-- Epoch 5\n",
            "Norm: 11491.77, NNZs: 3, Bias: -0.020650, T: 26445, Avg. loss: 2131151391.591481\n",
            "Total training time: 0.01 seconds.\n",
            "-- Epoch 6\n",
            "Norm: 13425.32, NNZs: 3, Bias: -0.029950, T: 31734, Avg. loss: 1953332009.090416\n",
            "Total training time: 0.01 seconds.\n",
            "-- Epoch 7\n",
            "Norm: 15394.38, NNZs: 3, Bias: -0.032450, T: 37023, Avg. loss: 2277344551.933611\n",
            "Total training time: 0.02 seconds.\n",
            "-- Epoch 8\n",
            "Norm: 17784.08, NNZs: 3, Bias: -0.035850, T: 42312, Avg. loss: 1251694047.414620\n",
            "Total training time: 0.02 seconds.\n",
            "-- Epoch 9\n",
            "Norm: 18641.03, NNZs: 3, Bias: -0.038450, T: 47601, Avg. loss: 1897719728.907007\n",
            "Total training time: 0.02 seconds.\n",
            "-- Epoch 10\n",
            "Norm: 20266.92, NNZs: 3, Bias: -0.040250, T: 52890, Avg. loss: 1928380838.515760\n",
            "Total training time: 0.02 seconds.\n"
          ]
        },
        {
          "output_type": "stream",
          "name": "stderr",
          "text": [
            "[Parallel(n_jobs=1)]: Using backend SequentialBackend with 1 concurrent workers.\n",
            "[Parallel(n_jobs=1)]: Done  11 out of  11 | elapsed:    0.2s finished\n"
          ]
        },
        {
          "output_type": "execute_result",
          "data": {
            "text/plain": [
              "SGDClassifier(eta0=0.0001, learning_rate='constant', loss='log', max_iter=10,\n",
              "              random_state=130, tol=None, verbose=1)"
            ]
          },
          "metadata": {},
          "execution_count": 31
        }
      ]
    },
    {
      "cell_type": "markdown",
      "metadata": {
        "id": "xnbGu4g4mvnq"
      },
      "source": [
        "### **Coeficientes do modelo**"
      ]
    },
    {
      "cell_type": "code",
      "metadata": {
        "colab": {
          "base_uri": "https://localhost:8080/"
        },
        "id": "MR301tDlm1NP",
        "outputId": "3e330e3a-7f0c-42a5-edbc-53fd299bd5da"
      },
      "source": [
        "for col_mac, coef in zip(col_mac, clf.coef_[0].tolist()):\n",
        "    print(f\"{col_mac}: {round(coef,3)}\")\n",
        "    # Constante do modelo\n",
        "    print(f\"Constante: {clf.intercept_}\")"
      ],
      "execution_count": null,
      "outputs": [
        {
          "output_type": "stream",
          "name": "stdout",
          "text": [
            "Ano de exibição: -253.403\n",
            "Constante: [-0.12515 -0.23175 -0.17055 -0.10455 -0.04805 -0.03675  0.01255 -0.00865\n",
            " -0.02105 -0.06635 -0.04025]\n",
            "Público no ano de exibição: 14123.78\n",
            "Constante: [-0.12515 -0.23175 -0.17055 -0.10455 -0.04805 -0.03675  0.01255 -0.00865\n",
            " -0.02105 -0.06635 -0.04025]\n",
            "Renda (R$) no ano de exibição: -4094.874\n",
            "Constante: [-0.12515 -0.23175 -0.17055 -0.10455 -0.04805 -0.03675  0.01255 -0.00865\n",
            " -0.02105 -0.06635 -0.04025]\n"
          ]
        }
      ]
    },
    {
      "cell_type": "markdown",
      "metadata": {
        "id": "YYnsgZSTm5S3"
      },
      "source": [
        "### **ACURÁCIA DO MODELO**"
      ]
    },
    {
      "cell_type": "markdown",
      "metadata": {
        "id": "l20WieH1TxnK"
      },
      "source": [
        "**7 - Verifica o desempenho**"
      ]
    },
    {
      "cell_type": "code",
      "metadata": {
        "colab": {
          "base_uri": "https://localhost:8080/"
        },
        "id": "vXONtpENJHoy",
        "outputId": "291fb55c-5608-417c-e79e-11ddcdc2669f"
      },
      "source": [
        "y_pred = clf.predict(X_test)\n",
        "print(f\"Acurácia de Teste: ±{mean_absolute_error(y_test, y_pred):1.0f}\")"
      ],
      "execution_count": null,
      "outputs": [
        {
          "output_type": "stream",
          "name": "stdout",
          "text": [
            "Acurácia de Teste: ±4\n"
          ]
        }
      ]
    },
    {
      "cell_type": "markdown",
      "metadata": {
        "id": "RLBqSMZE9ocs"
      },
      "source": [
        "**Segundo Tratamento**"
      ]
    },
    {
      "cell_type": "code",
      "metadata": {
        "id": "vBepOfJtFfqC"
      },
      "source": [
        "from sklearn.metrics import accuracy_score\n",
        "\n",
        "y_train_true = y_train\n",
        "y_train_pred = clf.predict(X_train)\n",
        "y_test_true = y_test\n",
        "y_test_pred = clf.predict(X_test)"
      ],
      "execution_count": null,
      "outputs": []
    },
    {
      "cell_type": "code",
      "metadata": {
        "colab": {
          "base_uri": "https://localhost:8080/"
        },
        "id": "dQuexzdInFmL",
        "outputId": "12a05edc-504d-4cbc-809e-b9c32c433de1"
      },
      "source": [
        "print(f\"Acurácia de Treino: {round(accuracy_score(y_train_true, y_train_pred), 2)}\")\n",
        "print('\\n ---------------------------\\n')\n",
        "print(f\"Acurácia de Treino: {round(accuracy_score(y_test_true, y_test_pred), 2)}\")\n"
      ],
      "execution_count": null,
      "outputs": [
        {
          "output_type": "stream",
          "name": "stdout",
          "text": [
            "Acurácia de Treino: 0.08\n",
            "\n",
            " ---------------------------\n",
            "\n",
            "Acurácia de Treino: 0.08\n"
          ]
        }
      ]
    }
  ]
}